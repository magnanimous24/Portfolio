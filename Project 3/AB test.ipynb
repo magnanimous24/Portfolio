{
 "cells": [
  {
   "cell_type": "markdown",
   "metadata": {},
   "source": [
    "# Проверка гипотез по увеличению выручки в интернет-магазине. Оценка результатов A/B теста"
   ]
  },
  {
   "cell_type": "markdown",
   "metadata": {},
   "source": [
    "# Введение"
   ]
  },
  {
   "cell_type": "markdown",
   "metadata": {},
   "source": [
    "## Описание проекта"
   ]
  },
  {
   "cell_type": "markdown",
   "metadata": {},
   "source": [
    "**Я являюсь аналитиком крупного интернет-магазина. Вместе с отделом маркетинга был подготовлен список гипотез для увеличения выручки. Приоритизируем гипотезы, запустим A/B-тест и проанализируем результаты.**\n",
    "\n",
    "\n",
    "**Задачи:**\n",
    "1. Приоритезировать гипотезы\n",
    "2. Проанализировать А/В тест\n",
    "3. Написать выводы по А/В тесту"
   ]
  },
  {
   "cell_type": "markdown",
   "metadata": {},
   "source": [
    "## Описание данных"
   ]
  },
  {
   "cell_type": "markdown",
   "metadata": {},
   "source": [
    "**Данные для первой части:** \n",
    "1. Файл hypothesis.csv: \n",
    "\n",
    "- Hypothesis — краткое описание гипотезы;\n",
    "- Reach — охват пользователей по 10-балльной шкале;\n",
    "- Impact — влияние на пользователей по 10-балльной шкале;\n",
    "- Confidence — уверенность в гипотезе по 10-балльной шкале;\n",
    "- Efforts — затраты ресурсов на проверку гипотезы по 10-балльной шкале. \n",
    "\n",
    "**Данные для второй части:** \n",
    "1. Файл orders.csv:\n",
    "\n",
    "- transactionId — идентификатор заказа;\n",
    "- visitorId — идентификатор пользователя, совершившего заказ;\n",
    "- date — дата, когда был совершён заказ;\n",
    "- revenue — выручка заказа;\n",
    "- group — группа A/B-теста, в которую попал заказ.\n",
    "\n",
    "2. Файл visitors.csv:\n",
    "\n",
    "- date — дата;\n",
    "- group — группа A/B-теста;\n",
    "- visitors — количество пользователей в указанную дату в указанной группе A/B-теста"
   ]
  },
  {
   "cell_type": "markdown",
   "metadata": {},
   "source": [
    "## Приоритизация гипотез"
   ]
  },
  {
   "cell_type": "code",
   "execution_count": 1,
   "metadata": {},
   "outputs": [],
   "source": [
    "#импорт библиотек\n",
    "import pandas as pd\n",
    "import scipy.stats as stats\n",
    "import datetime as dt\n",
    "import numpy as np\n",
    "import matplotlib.pyplot as plt\n",
    "import seaborn as sns"
   ]
  },
  {
   "cell_type": "code",
   "execution_count": 2,
   "metadata": {},
   "outputs": [],
   "source": [
    "data = pd.read_csv('/datasets/hypothesis.csv', sep=',')"
   ]
  },
  {
   "cell_type": "code",
   "execution_count": 3,
   "metadata": {},
   "outputs": [
    {
     "data": {
      "text/html": [
       "<div>\n",
       "<style scoped>\n",
       "    .dataframe tbody tr th:only-of-type {\n",
       "        vertical-align: middle;\n",
       "    }\n",
       "\n",
       "    .dataframe tbody tr th {\n",
       "        vertical-align: top;\n",
       "    }\n",
       "\n",
       "    .dataframe thead th {\n",
       "        text-align: right;\n",
       "    }\n",
       "</style>\n",
       "<table border=\"1\" class=\"dataframe\">\n",
       "  <thead>\n",
       "    <tr style=\"text-align: right;\">\n",
       "      <th></th>\n",
       "      <th>Hypothesis</th>\n",
       "      <th>Reach</th>\n",
       "      <th>Impact</th>\n",
       "      <th>Confidence</th>\n",
       "      <th>Efforts</th>\n",
       "    </tr>\n",
       "  </thead>\n",
       "  <tbody>\n",
       "    <tr>\n",
       "      <th>0</th>\n",
       "      <td>Добавить два новых канала привлечения трафика,...</td>\n",
       "      <td>3</td>\n",
       "      <td>10</td>\n",
       "      <td>8</td>\n",
       "      <td>6</td>\n",
       "    </tr>\n",
       "    <tr>\n",
       "      <th>1</th>\n",
       "      <td>Запустить собственную службу доставки, что сок...</td>\n",
       "      <td>2</td>\n",
       "      <td>5</td>\n",
       "      <td>4</td>\n",
       "      <td>10</td>\n",
       "    </tr>\n",
       "    <tr>\n",
       "      <th>2</th>\n",
       "      <td>Добавить блоки рекомендаций товаров на сайт ин...</td>\n",
       "      <td>8</td>\n",
       "      <td>3</td>\n",
       "      <td>7</td>\n",
       "      <td>3</td>\n",
       "    </tr>\n",
       "    <tr>\n",
       "      <th>3</th>\n",
       "      <td>Изменить структура категорий, что увеличит кон...</td>\n",
       "      <td>8</td>\n",
       "      <td>3</td>\n",
       "      <td>3</td>\n",
       "      <td>8</td>\n",
       "    </tr>\n",
       "    <tr>\n",
       "      <th>4</th>\n",
       "      <td>Изменить цвет фона главной страницы, чтобы уве...</td>\n",
       "      <td>3</td>\n",
       "      <td>1</td>\n",
       "      <td>1</td>\n",
       "      <td>1</td>\n",
       "    </tr>\n",
       "  </tbody>\n",
       "</table>\n",
       "</div>"
      ],
      "text/plain": [
       "                                          Hypothesis  Reach  Impact  \\\n",
       "0  Добавить два новых канала привлечения трафика,...      3      10   \n",
       "1  Запустить собственную службу доставки, что сок...      2       5   \n",
       "2  Добавить блоки рекомендаций товаров на сайт ин...      8       3   \n",
       "3  Изменить структура категорий, что увеличит кон...      8       3   \n",
       "4  Изменить цвет фона главной страницы, чтобы уве...      3       1   \n",
       "\n",
       "   Confidence  Efforts  \n",
       "0           8        6  \n",
       "1           4       10  \n",
       "2           7        3  \n",
       "3           3        8  \n",
       "4           1        1  "
      ]
     },
     "metadata": {},
     "output_type": "display_data"
    },
    {
     "name": "stdout",
     "output_type": "stream",
     "text": [
      "<class 'pandas.core.frame.DataFrame'>\n",
      "RangeIndex: 9 entries, 0 to 8\n",
      "Data columns (total 5 columns):\n",
      " #   Column      Non-Null Count  Dtype \n",
      "---  ------      --------------  ----- \n",
      " 0   Hypothesis  9 non-null      object\n",
      " 1   Reach       9 non-null      int64 \n",
      " 2   Impact      9 non-null      int64 \n",
      " 3   Confidence  9 non-null      int64 \n",
      " 4   Efforts     9 non-null      int64 \n",
      "dtypes: int64(4), object(1)\n",
      "memory usage: 488.0+ bytes\n",
      "Дубликаты в данных: 0\n",
      "******************************\n",
      "Пропуски в данных: Hypothesis    0\n",
      "Reach         0\n",
      "Impact        0\n",
      "Confidence    0\n",
      "Efforts       0\n",
      "dtype: int64\n"
     ]
    }
   ],
   "source": [
    "#изучим данные\n",
    "display(data.head())\n",
    "data.info()\n",
    "print(f\"Дубликаты в данных: {data.duplicated().sum()}\")\n",
    "print('*'*30)\n",
    "print(f\"Пропуски в данных: {data.isna().sum()}\")"
   ]
  },
  {
   "cell_type": "code",
   "execution_count": 4,
   "metadata": {},
   "outputs": [
    {
     "name": "stdout",
     "output_type": "stream",
     "text": [
      "<class 'pandas.core.frame.DataFrame'>\n",
      "RangeIndex: 9 entries, 0 to 8\n",
      "Data columns (total 5 columns):\n",
      " #   Column      Non-Null Count  Dtype \n",
      "---  ------      --------------  ----- \n",
      " 0   hypothesis  9 non-null      object\n",
      " 1   reach       9 non-null      int64 \n",
      " 2   impact      9 non-null      int64 \n",
      " 3   confidence  9 non-null      int64 \n",
      " 4   efforts     9 non-null      int64 \n",
      "dtypes: int64(4), object(1)\n",
      "memory usage: 488.0+ bytes\n"
     ]
    }
   ],
   "source": [
    "#приведем названия к нижнему регистру\n",
    "data.columns = data.columns.str.lower()\n",
    "data.info()"
   ]
  },
  {
   "cell_type": "markdown",
   "metadata": {},
   "source": [
    "### Применим фреймворк ICE для приоритизации гипотез (по убыванию приоритета)"
   ]
  },
  {
   "cell_type": "code",
   "execution_count": 5,
   "metadata": {},
   "outputs": [
    {
     "data": {
      "text/html": [
       "<div>\n",
       "<style scoped>\n",
       "    .dataframe tbody tr th:only-of-type {\n",
       "        vertical-align: middle;\n",
       "    }\n",
       "\n",
       "    .dataframe tbody tr th {\n",
       "        vertical-align: top;\n",
       "    }\n",
       "\n",
       "    .dataframe thead th {\n",
       "        text-align: right;\n",
       "    }\n",
       "</style>\n",
       "<table border=\"1\" class=\"dataframe\">\n",
       "  <thead>\n",
       "    <tr style=\"text-align: right;\">\n",
       "      <th></th>\n",
       "      <th>hypothesis</th>\n",
       "      <th>ICE</th>\n",
       "    </tr>\n",
       "  </thead>\n",
       "  <tbody>\n",
       "    <tr>\n",
       "      <th>8</th>\n",
       "      <td>Запустить акцию, дающую скидку на товар в день рождения</td>\n",
       "      <td>16.200</td>\n",
       "    </tr>\n",
       "    <tr>\n",
       "      <th>0</th>\n",
       "      <td>Добавить два новых канала привлечения трафика, что позволит привлекать на 30% больше пользователей</td>\n",
       "      <td>13.333</td>\n",
       "    </tr>\n",
       "    <tr>\n",
       "      <th>7</th>\n",
       "      <td>Добавить форму подписки на все основные страницы, чтобы собрать базу клиентов для email-рассылок</td>\n",
       "      <td>11.200</td>\n",
       "    </tr>\n",
       "    <tr>\n",
       "      <th>6</th>\n",
       "      <td>Показать на главной странице баннеры с актуальными акциями и распродажами, чтобы увеличить конверсию</td>\n",
       "      <td>8.000</td>\n",
       "    </tr>\n",
       "    <tr>\n",
       "      <th>2</th>\n",
       "      <td>Добавить блоки рекомендаций товаров на сайт интернет магазина, чтобы повысить конверсию и средний чек заказа</td>\n",
       "      <td>7.000</td>\n",
       "    </tr>\n",
       "    <tr>\n",
       "      <th>1</th>\n",
       "      <td>Запустить собственную службу доставки, что сократит срок доставки заказов</td>\n",
       "      <td>2.000</td>\n",
       "    </tr>\n",
       "    <tr>\n",
       "      <th>5</th>\n",
       "      <td>Добавить страницу отзывов клиентов о магазине, что позволит увеличить количество заказов</td>\n",
       "      <td>1.333</td>\n",
       "    </tr>\n",
       "    <tr>\n",
       "      <th>3</th>\n",
       "      <td>Изменить структура категорий, что увеличит конверсию, т.к. пользователи быстрее найдут нужный товар</td>\n",
       "      <td>1.125</td>\n",
       "    </tr>\n",
       "    <tr>\n",
       "      <th>4</th>\n",
       "      <td>Изменить цвет фона главной страницы, чтобы увеличить вовлеченность пользователей</td>\n",
       "      <td>1.000</td>\n",
       "    </tr>\n",
       "  </tbody>\n",
       "</table>\n",
       "</div>"
      ],
      "text/plain": [
       "                                                                                                     hypothesis  \\\n",
       "8                                                       Запустить акцию, дающую скидку на товар в день рождения   \n",
       "0            Добавить два новых канала привлечения трафика, что позволит привлекать на 30% больше пользователей   \n",
       "7              Добавить форму подписки на все основные страницы, чтобы собрать базу клиентов для email-рассылок   \n",
       "6          Показать на главной странице баннеры с актуальными акциями и распродажами, чтобы увеличить конверсию   \n",
       "2  Добавить блоки рекомендаций товаров на сайт интернет магазина, чтобы повысить конверсию и средний чек заказа   \n",
       "1                                     Запустить собственную службу доставки, что сократит срок доставки заказов   \n",
       "5                      Добавить страницу отзывов клиентов о магазине, что позволит увеличить количество заказов   \n",
       "3           Изменить структура категорий, что увеличит конверсию, т.к. пользователи быстрее найдут нужный товар   \n",
       "4                              Изменить цвет фона главной страницы, чтобы увеличить вовлеченность пользователей   \n",
       "\n",
       "      ICE  \n",
       "8  16.200  \n",
       "0  13.333  \n",
       "7  11.200  \n",
       "6   8.000  \n",
       "2   7.000  \n",
       "1   2.000  \n",
       "5   1.333  \n",
       "3   1.125  \n",
       "4   1.000  "
      ]
     },
     "execution_count": 5,
     "metadata": {},
     "output_type": "execute_result"
    }
   ],
   "source": [
    "pd.set_option('max_colwidth', 200)\n",
    "#расчет ICE\n",
    "data['ICE'] = round ((data['impact']*data['confidence'])/data['efforts'], 3) \n",
    "#сортируем по убыванию приоритета\n",
    "data[['hypothesis','ICE']].sort_values(by='ICE', ascending=False) "
   ]
  },
  {
   "cell_type": "markdown",
   "metadata": {},
   "source": [
    "### Применим фреймворк RICE для приоритизации гипотез(по убыванию приоритета)"
   ]
  },
  {
   "cell_type": "code",
   "execution_count": 6,
   "metadata": {},
   "outputs": [
    {
     "data": {
      "text/html": [
       "<div>\n",
       "<style scoped>\n",
       "    .dataframe tbody tr th:only-of-type {\n",
       "        vertical-align: middle;\n",
       "    }\n",
       "\n",
       "    .dataframe tbody tr th {\n",
       "        vertical-align: top;\n",
       "    }\n",
       "\n",
       "    .dataframe thead th {\n",
       "        text-align: right;\n",
       "    }\n",
       "</style>\n",
       "<table border=\"1\" class=\"dataframe\">\n",
       "  <thead>\n",
       "    <tr style=\"text-align: right;\">\n",
       "      <th></th>\n",
       "      <th>hypothesis</th>\n",
       "      <th>RICE</th>\n",
       "    </tr>\n",
       "  </thead>\n",
       "  <tbody>\n",
       "    <tr>\n",
       "      <th>7</th>\n",
       "      <td>Добавить форму подписки на все основные страницы, чтобы собрать базу клиентов для email-рассылок</td>\n",
       "      <td>112.0</td>\n",
       "    </tr>\n",
       "    <tr>\n",
       "      <th>2</th>\n",
       "      <td>Добавить блоки рекомендаций товаров на сайт интернет магазина, чтобы повысить конверсию и средний чек заказа</td>\n",
       "      <td>56.0</td>\n",
       "    </tr>\n",
       "    <tr>\n",
       "      <th>0</th>\n",
       "      <td>Добавить два новых канала привлечения трафика, что позволит привлекать на 30% больше пользователей</td>\n",
       "      <td>40.0</td>\n",
       "    </tr>\n",
       "    <tr>\n",
       "      <th>6</th>\n",
       "      <td>Показать на главной странице баннеры с актуальными акциями и распродажами, чтобы увеличить конверсию</td>\n",
       "      <td>40.0</td>\n",
       "    </tr>\n",
       "    <tr>\n",
       "      <th>8</th>\n",
       "      <td>Запустить акцию, дающую скидку на товар в день рождения</td>\n",
       "      <td>16.2</td>\n",
       "    </tr>\n",
       "    <tr>\n",
       "      <th>3</th>\n",
       "      <td>Изменить структура категорий, что увеличит конверсию, т.к. пользователи быстрее найдут нужный товар</td>\n",
       "      <td>9.0</td>\n",
       "    </tr>\n",
       "    <tr>\n",
       "      <th>1</th>\n",
       "      <td>Запустить собственную службу доставки, что сократит срок доставки заказов</td>\n",
       "      <td>4.0</td>\n",
       "    </tr>\n",
       "    <tr>\n",
       "      <th>5</th>\n",
       "      <td>Добавить страницу отзывов клиентов о магазине, что позволит увеличить количество заказов</td>\n",
       "      <td>4.0</td>\n",
       "    </tr>\n",
       "    <tr>\n",
       "      <th>4</th>\n",
       "      <td>Изменить цвет фона главной страницы, чтобы увеличить вовлеченность пользователей</td>\n",
       "      <td>3.0</td>\n",
       "    </tr>\n",
       "  </tbody>\n",
       "</table>\n",
       "</div>"
      ],
      "text/plain": [
       "                                                                                                     hypothesis  \\\n",
       "7              Добавить форму подписки на все основные страницы, чтобы собрать базу клиентов для email-рассылок   \n",
       "2  Добавить блоки рекомендаций товаров на сайт интернет магазина, чтобы повысить конверсию и средний чек заказа   \n",
       "0            Добавить два новых канала привлечения трафика, что позволит привлекать на 30% больше пользователей   \n",
       "6          Показать на главной странице баннеры с актуальными акциями и распродажами, чтобы увеличить конверсию   \n",
       "8                                                       Запустить акцию, дающую скидку на товар в день рождения   \n",
       "3           Изменить структура категорий, что увеличит конверсию, т.к. пользователи быстрее найдут нужный товар   \n",
       "1                                     Запустить собственную службу доставки, что сократит срок доставки заказов   \n",
       "5                      Добавить страницу отзывов клиентов о магазине, что позволит увеличить количество заказов   \n",
       "4                              Изменить цвет фона главной страницы, чтобы увеличить вовлеченность пользователей   \n",
       "\n",
       "    RICE  \n",
       "7  112.0  \n",
       "2   56.0  \n",
       "0   40.0  \n",
       "6   40.0  \n",
       "8   16.2  \n",
       "3    9.0  \n",
       "1    4.0  \n",
       "5    4.0  \n",
       "4    3.0  "
      ]
     },
     "execution_count": 6,
     "metadata": {},
     "output_type": "execute_result"
    }
   ],
   "source": [
    "#расчет RICE\n",
    "data['RICE'] = round (data['reach']*data['impact']*data['confidence']/data['efforts'], 3) \n",
    "#сортируем по убыванию приоритета\n",
    "data[['hypothesis','RICE']].sort_values(by='RICE', ascending=False) "
   ]
  },
  {
   "cell_type": "markdown",
   "metadata": {},
   "source": [
    "### Итоги приоритизации"
   ]
  },
  {
   "cell_type": "markdown",
   "metadata": {},
   "source": [
    "ПО ICE:\n",
    "Гипотезы 8, 0, 7\n",
    "ПО RICE:\n",
    "Гипотезы 7, 2, 0\n",
    "\n",
    "Из-за добавления показателя \"Reach\" приоритизация по RICE изменилась. Получается, что у перспективных гипотез по RICE (7,2,0) охват пользователей высок, что и позволило данным гипотезам выбиться на первые места по рейтингу.\n",
    "\n",
    "**По итогу выбираем гипотезы:0, 7, 6.** По поводу 8 и 2 гипотез все неоднозначно, в одном фреймворке они перспективны, однако в другом - нет. Поэтому третей гипотезой возьмем №6, ведь в обоих фреймворках она на 4 месте."
   ]
  },
  {
   "cell_type": "markdown",
   "metadata": {},
   "source": [
    "## Анализ A/B-теста"
   ]
  },
  {
   "cell_type": "markdown",
   "metadata": {},
   "source": [
    "### Предобработка данных"
   ]
  },
  {
   "cell_type": "code",
   "execution_count": 7,
   "metadata": {
    "scrolled": false
   },
   "outputs": [],
   "source": [
    "orders = pd.read_csv('/datasets/orders.csv', sep=',')\n",
    "visitors = pd.read_csv('/datasets/visitors.csv', sep=',')"
   ]
  },
  {
   "cell_type": "code",
   "execution_count": 8,
   "metadata": {},
   "outputs": [
    {
     "data": {
      "text/html": [
       "<div>\n",
       "<style scoped>\n",
       "    .dataframe tbody tr th:only-of-type {\n",
       "        vertical-align: middle;\n",
       "    }\n",
       "\n",
       "    .dataframe tbody tr th {\n",
       "        vertical-align: top;\n",
       "    }\n",
       "\n",
       "    .dataframe thead th {\n",
       "        text-align: right;\n",
       "    }\n",
       "</style>\n",
       "<table border=\"1\" class=\"dataframe\">\n",
       "  <thead>\n",
       "    <tr style=\"text-align: right;\">\n",
       "      <th></th>\n",
       "      <th>transactionId</th>\n",
       "      <th>visitorId</th>\n",
       "      <th>date</th>\n",
       "      <th>revenue</th>\n",
       "      <th>group</th>\n",
       "    </tr>\n",
       "  </thead>\n",
       "  <tbody>\n",
       "    <tr>\n",
       "      <th>0</th>\n",
       "      <td>3667963787</td>\n",
       "      <td>3312258926</td>\n",
       "      <td>2019-08-15</td>\n",
       "      <td>1650</td>\n",
       "      <td>B</td>\n",
       "    </tr>\n",
       "    <tr>\n",
       "      <th>1</th>\n",
       "      <td>2804400009</td>\n",
       "      <td>3642806036</td>\n",
       "      <td>2019-08-15</td>\n",
       "      <td>730</td>\n",
       "      <td>B</td>\n",
       "    </tr>\n",
       "    <tr>\n",
       "      <th>2</th>\n",
       "      <td>2961555356</td>\n",
       "      <td>4069496402</td>\n",
       "      <td>2019-08-15</td>\n",
       "      <td>400</td>\n",
       "      <td>A</td>\n",
       "    </tr>\n",
       "    <tr>\n",
       "      <th>3</th>\n",
       "      <td>3797467345</td>\n",
       "      <td>1196621759</td>\n",
       "      <td>2019-08-15</td>\n",
       "      <td>9759</td>\n",
       "      <td>B</td>\n",
       "    </tr>\n",
       "    <tr>\n",
       "      <th>4</th>\n",
       "      <td>2282983706</td>\n",
       "      <td>2322279887</td>\n",
       "      <td>2019-08-15</td>\n",
       "      <td>2308</td>\n",
       "      <td>B</td>\n",
       "    </tr>\n",
       "  </tbody>\n",
       "</table>\n",
       "</div>"
      ],
      "text/plain": [
       "   transactionId   visitorId        date  revenue group\n",
       "0     3667963787  3312258926  2019-08-15     1650     B\n",
       "1     2804400009  3642806036  2019-08-15      730     B\n",
       "2     2961555356  4069496402  2019-08-15      400     A\n",
       "3     3797467345  1196621759  2019-08-15     9759     B\n",
       "4     2282983706  2322279887  2019-08-15     2308     B"
      ]
     },
     "metadata": {},
     "output_type": "display_data"
    },
    {
     "name": "stdout",
     "output_type": "stream",
     "text": [
      "<class 'pandas.core.frame.DataFrame'>\n",
      "RangeIndex: 1197 entries, 0 to 1196\n",
      "Data columns (total 5 columns):\n",
      " #   Column         Non-Null Count  Dtype \n",
      "---  ------         --------------  ----- \n",
      " 0   transactionId  1197 non-null   int64 \n",
      " 1   visitorId      1197 non-null   int64 \n",
      " 2   date           1197 non-null   object\n",
      " 3   revenue        1197 non-null   int64 \n",
      " 4   group          1197 non-null   object\n",
      "dtypes: int64(3), object(2)\n",
      "memory usage: 46.9+ KB\n",
      "Дубликаты в данных: 0\n",
      "******************************\n",
      "Пропуски в данных: transactionId    0\n",
      "visitorId        0\n",
      "date             0\n",
      "revenue          0\n",
      "group            0\n",
      "dtype: int64\n"
     ]
    }
   ],
   "source": [
    "display(orders.head())\n",
    "orders.info()\n",
    "print(f\"Дубликаты в данных: {orders.duplicated().sum()}\")\n",
    "print('*'*30)\n",
    "print(f\"Пропуски в данных: {orders.isna().sum()}\")"
   ]
  },
  {
   "cell_type": "code",
   "execution_count": 9,
   "metadata": {},
   "outputs": [
    {
     "data": {
      "text/html": [
       "<div>\n",
       "<style scoped>\n",
       "    .dataframe tbody tr th:only-of-type {\n",
       "        vertical-align: middle;\n",
       "    }\n",
       "\n",
       "    .dataframe tbody tr th {\n",
       "        vertical-align: top;\n",
       "    }\n",
       "\n",
       "    .dataframe thead th {\n",
       "        text-align: right;\n",
       "    }\n",
       "</style>\n",
       "<table border=\"1\" class=\"dataframe\">\n",
       "  <thead>\n",
       "    <tr style=\"text-align: right;\">\n",
       "      <th></th>\n",
       "      <th>date</th>\n",
       "      <th>group</th>\n",
       "      <th>visitors</th>\n",
       "    </tr>\n",
       "  </thead>\n",
       "  <tbody>\n",
       "    <tr>\n",
       "      <th>0</th>\n",
       "      <td>2019-08-01</td>\n",
       "      <td>A</td>\n",
       "      <td>719</td>\n",
       "    </tr>\n",
       "    <tr>\n",
       "      <th>1</th>\n",
       "      <td>2019-08-02</td>\n",
       "      <td>A</td>\n",
       "      <td>619</td>\n",
       "    </tr>\n",
       "    <tr>\n",
       "      <th>2</th>\n",
       "      <td>2019-08-03</td>\n",
       "      <td>A</td>\n",
       "      <td>507</td>\n",
       "    </tr>\n",
       "    <tr>\n",
       "      <th>3</th>\n",
       "      <td>2019-08-04</td>\n",
       "      <td>A</td>\n",
       "      <td>717</td>\n",
       "    </tr>\n",
       "    <tr>\n",
       "      <th>4</th>\n",
       "      <td>2019-08-05</td>\n",
       "      <td>A</td>\n",
       "      <td>756</td>\n",
       "    </tr>\n",
       "  </tbody>\n",
       "</table>\n",
       "</div>"
      ],
      "text/plain": [
       "         date group  visitors\n",
       "0  2019-08-01     A       719\n",
       "1  2019-08-02     A       619\n",
       "2  2019-08-03     A       507\n",
       "3  2019-08-04     A       717\n",
       "4  2019-08-05     A       756"
      ]
     },
     "metadata": {},
     "output_type": "display_data"
    },
    {
     "name": "stdout",
     "output_type": "stream",
     "text": [
      "<class 'pandas.core.frame.DataFrame'>\n",
      "RangeIndex: 62 entries, 0 to 61\n",
      "Data columns (total 3 columns):\n",
      " #   Column    Non-Null Count  Dtype \n",
      "---  ------    --------------  ----- \n",
      " 0   date      62 non-null     object\n",
      " 1   group     62 non-null     object\n",
      " 2   visitors  62 non-null     int64 \n",
      "dtypes: int64(1), object(2)\n",
      "memory usage: 1.6+ KB\n",
      "Дубликаты в данных: 0\n",
      "******************************\n",
      "Пропуски в данных:       date        0\n",
      "group       0\n",
      "visitors    0\n",
      "dtype: int64\n"
     ]
    }
   ],
   "source": [
    "display(visitors.head())\n",
    "visitors.info()\n",
    "print(f\"Дубликаты в данных: {visitors.duplicated().sum()}\")\n",
    "print('*'*30)\n",
    "print(f\"Пропуски в данных:       {visitors.isna().sum()}\")"
   ]
  },
  {
   "cell_type": "code",
   "execution_count": 10,
   "metadata": {},
   "outputs": [],
   "source": [
    "#приводим необходимые столбцы к формату даты\n",
    "orders['date'] = orders['date'].map(\n",
    "    lambda x: dt.datetime.strptime(x, '%Y-%m-%d'))\n",
    "visitors['date'] = visitors['date'].map(\n",
    "    lambda x: dt.datetime.strptime(x, '%Y-%m-%d'))"
   ]
  },
  {
   "cell_type": "code",
   "execution_count": 11,
   "metadata": {},
   "outputs": [
    {
     "name": "stdout",
     "output_type": "stream",
     "text": [
      "Пользователи, попавшие в две группы: 58\n",
      "Сумма их заказов 1558935\n",
      "Количество их заказов 181\n"
     ]
    }
   ],
   "source": [
    "#проверим дублирующихся людей\n",
    "both_group = orders.groupby(['visitorId']).agg({'group' : 'nunique', 'transactionId' : 'count', 'revenue' : 'sum'}).reset_index()\n",
    "print(f'Пользователи, попавшие в две группы: {both_group[both_group.group != 1][\"visitorId\"].count()}')\n",
    "print(f\"Сумма их заказов {both_group[both_group.group != 1]['revenue'].sum()}\")\n",
    "print(f\"Количество их заказов {both_group[both_group.group != 1]['transactionId'].sum()}\")"
   ]
  },
  {
   "cell_type": "markdown",
   "metadata": {},
   "source": [
    "Следует исключить пользователей, которые попали в обе группы одновременно, поскольку это исказит результаты исследования. \n",
    "У нас имеется 58 таких человек, с суммой заказов - 1558935 и количеством заказов - 181."
   ]
  },
  {
   "cell_type": "code",
   "execution_count": 12,
   "metadata": {},
   "outputs": [],
   "source": [
    "#убираем людей, которые в двух группах одновременно\n",
    "both_list = list(both_group[both_group.group != 1]['visitorId'])\n",
    "orders_new = orders.query('visitorId not in @both_list')"
   ]
  },
  {
   "cell_type": "markdown",
   "metadata": {},
   "source": [
    "### График кумулятивной выручки по группам"
   ]
  },
  {
   "cell_type": "code",
   "execution_count": 13,
   "metadata": {},
   "outputs": [
    {
     "name": "stdout",
     "output_type": "stream",
     "text": [
      "        date group  orders  buyers  revenue  visitors\n",
      "0 2019-08-01     A      24      20   148579       719\n",
      "1 2019-08-01     A      24      20   148579       719\n",
      "2 2019-08-01     A      24      20   148579       719\n",
      "3 2019-08-01     A      24      20   148579       719\n",
      "4 2019-08-01     A      24      20   148579       719\n"
     ]
    }
   ],
   "source": [
    "#агрегированные кумулятивные данные\n",
    "ordersAggregated = orders_new.apply(lambda x: orders[np.logical_and(orders['date'] <= x['date'], orders['group'] == x['group'])]\\\n",
    ".agg({'date' : 'max', 'group' : 'max', 'transactionId' : 'nunique', 'visitorId' : 'nunique', 'revenue' : 'sum'}), axis=1).sort_values(by=['date','group'])\n",
    "visitorsAggregated = orders_new.apply(lambda x: visitors[np.logical_and(visitors['date'] <= x['date'], visitors['group'] == x['group'])].agg({'date' : 'max', 'group' : 'max', 'visitors' : 'sum'}), axis=1).sort_values(by=['date','group'])\n",
    "#объединяем \n",
    "cumulativeData = ordersAggregated.merge(visitorsAggregated, left_on=['date', 'group'], right_on=['date', 'group'])\n",
    "cumulativeData.columns = ['date', 'group', 'orders', 'buyers', 'revenue', 'visitors']\n",
    "print(cumulativeData.head(5))"
   ]
  },
  {
   "cell_type": "code",
   "execution_count": 14,
   "metadata": {},
   "outputs": [
    {
     "name": "stdout",
     "output_type": "stream",
     "text": [
      "Минимальная дата в cumulativeData: 2019-08-01 00:00:00\n",
      "Максимальная дата в cumulativeData: 2019-08-31 00:00:00\n",
      "**************************************************\n",
      "Минимальная дата в исходных данных: 2019-08-01 00:00:00\n",
      "Максимальная дата в исходных данных: 2019-08-31 00:00:00\n",
      "**************************************************\n",
      "Минимальная дата в агрегированных данных: 2019-08-01 00:00:00\n",
      "Максимальная дата в агрегированных данных: 2019-08-31 00:00:00\n"
     ]
    }
   ],
   "source": [
    "# Проверка минимальной и максимальной дат в cumulativeData\n",
    "min_date_cumulative = cumulativeData['date'].min()\n",
    "max_date_cumulative = cumulativeData['date'].max()\n",
    "\n",
    "\n",
    "min_date_agg = ordersAggregated['date'].min()\n",
    "max_date_agg = ordersAggregated['date'].max()\n",
    "\n",
    "min_date_original = orders['date'].min()\n",
    "max_date_original = orders['date'].max()\n",
    "print(f\"Минимальная дата в cumulativeData: {min_date_cumulative}\")\n",
    "print(f\"Максимальная дата в cumulativeData: {max_date_cumulative}\")\n",
    "print('*'*50)\n",
    "print(f\"Минимальная дата в исходных данных: {min_date_original}\")\n",
    "print(f\"Максимальная дата в исходных данных: {max_date_original}\")\n",
    "print('*'*50)\n",
    "print(f\"Минимальная дата в агрегированных данных: {min_date_agg}\")\n",
    "print(f\"Максимальная дата в агрегированных данных: {max_date_agg}\")"
   ]
  },
  {
   "cell_type": "markdown",
   "metadata": {},
   "source": [
    "Минимальная и максимальная даты везде совпадают, а значит, агрегирование и объединение прошло успешно"
   ]
  },
  {
   "cell_type": "code",
   "execution_count": 15,
   "metadata": {},
   "outputs": [],
   "source": [
    "# датафрейм по группе А\n",
    "cumulativeRevenueA = cumulativeData[cumulativeData['group']=='A'][['date','revenue', 'orders']]\n",
    "\n",
    "# датафрейм по группе B\n",
    "cumulativeRevenueB = cumulativeData[cumulativeData['group']=='B'][['date','revenue', 'orders']]"
   ]
  },
  {
   "cell_type": "code",
   "execution_count": 49,
   "metadata": {},
   "outputs": [
    {
     "data": {
      "image/png": "[encoded data removed]",
      "text/plain": [
       "<Figure size 1440x360 with 1 Axes>"
      ]
     },
     "metadata": {
      "needs_background": "light"
     },
     "output_type": "display_data"
    }
   ],
   "source": [
    "cumulativeRevenueA = cumulativeData[cumulativeData['group'] == 'A'][['date', 'revenue', 'orders']]\n",
    "cumulativeRevenueB = cumulativeData[cumulativeData['group'] == 'B'][['date', 'revenue', 'orders']]\n",
    "\n",
    "plt.figure(figsize=(20,5))\n",
    "\n",
    "plt.plot(cumulativeRevenueA['date'], cumulativeRevenueA['revenue'], label='A', color='red', linestyle='-', linewidth=2, marker='o')\n",
    "plt.plot(cumulativeRevenueB['date'], cumulativeRevenueB['revenue'], label='B', color='green', linestyle='-', linewidth=2, marker='o')\n",
    "\n",
    "plt.title('Кумулятивная выручка групп A и B', fontsize=16)\n",
    "plt.xlabel('Дата', fontsize=14)\n",
    "plt.ylabel('Выручка', fontsize=14)\n",
    "plt.legend(loc='upper left', fontsize=12)\n",
    "\n",
    "plt.xticks(rotation=45, fontsize=12)\n",
    "plt.yticks(fontsize=12)\n",
    "plt.grid(alpha=0.7)\n",
    "\n",
    "plt.legend()\n",
    "\n",
    "plt.show()"
   ]
  },
  {
   "cell_type": "markdown",
   "metadata": {},
   "source": [
    "Исходя из графика, видно, что примерно до 18.08 числа выручка в обоих группах была приблизительно одинаковой (с небольшим отрывом группы B). Однако после этой даты произошел резкий скачок выручки группы B, что может быть свзяано с очень большим количеством заказов, либо огромной суммой таких заказов. Но невозможно утверждать, что группа B превосходит группу A, поскольку после данного единичного всплеска наблюдается приблизительно одинаковый тренд роста.\n",
    "\n",
    "Полагаю, что следует исследовать и другие кумулятивные показатели."
   ]
  },
  {
   "cell_type": "markdown",
   "metadata": {},
   "source": [
    "### График кумулятивного среднего чека по группам"
   ]
  },
  {
   "cell_type": "code",
   "execution_count": 39,
   "metadata": {},
   "outputs": [
    {
     "data": {
      "image/png": "[encoded data removed]",
      "text/plain": [
       "<Figure size 1440x360 with 1 Axes>"
      ]
     },
     "metadata": {
      "needs_background": "light"
     },
     "output_type": "display_data"
    }
   ],
   "source": [
    "plt.figure(figsize=(20, 5))\n",
    "\n",
    "# Группа A\n",
    "plt.plot(cumulativeRevenueA['date'], cumulativeRevenueA['revenue']/cumulativeRevenueA['orders'], label='A', color='red', linewidth=2, marker='o')\n",
    "\n",
    "# Группа B\n",
    "plt.plot(cumulativeRevenueB['date'], cumulativeRevenueB['revenue']/cumulativeRevenueB['orders'], label='B', color='green', linewidth=2, marker='o')\n",
    "\n",
    "# Первый график (кумулятивный средний чек)\n",
    "plt.title('График кумулятивного среднего чека по группам', fontsize=20)\n",
    "plt.xlabel('Дата', fontsize=20)\n",
    "plt.ylabel('Кумулятивный средний чек', fontsize=20)\n",
    "plt.grid(True)\n",
    "plt.legend(loc='upper left', fontsize=20)\n",
    "plt.xticks(fontsize=20)\n",
    "plt.yticks(fontsize=20)\n",
    "\n",
    "plt.show()"
   ]
  },
  {
   "cell_type": "markdown",
   "metadata": {},
   "source": [
    "Исходя из графика, видно, что линии группы B имеет резкий всплеск примерно 18.08, как мы уже увидели в прошлом графике. Линии группы А более равномерна, ее макисмум составляет примерно 7300-7400 по кумулятивному среднему чеку. Несколько раз группа А превосходит группу В, но не на долго. \n",
    "\n",
    "Полагаю, что данные по группе B имеют некие аномалии, возможно стоит исследовать больше данных, либо разобраться, откуда взялся резкий скачок в 18-19 числах."
   ]
  },
  {
   "cell_type": "markdown",
   "metadata": {},
   "source": [
    "### График относительного изменения кумулятивного среднего чека группы В к группе А"
   ]
  },
  {
   "cell_type": "code",
   "execution_count": 41,
   "metadata": {},
   "outputs": [
    {
     "data": {
      "image/png": "[encoded data removed]",
      "text/plain": [
       "<Figure size 1440x360 with 1 Axes>"
      ]
     },
     "metadata": {
      "needs_background": "light"
     },
     "output_type": "display_data"
    }
   ],
   "source": [
    "# Готовим данные\n",
    "mergedCumulativeRevenue = cumulativeRevenueA.merge(cumulativeRevenueB, on='date', how='left', suffixes=['A', 'B'])\n",
    "\n",
    "plt.figure(figsize=(20, 5))\n",
    "\n",
    "# Рассчитываем относительное изменение кумулятивного среднего чека группы B к группе A\n",
    "plt.plot(mergedCumulativeRevenue['date'], \n",
    "         (mergedCumulativeRevenue['revenueB'] / mergedCumulativeRevenue['ordersB']) / \n",
    "         (mergedCumulativeRevenue['revenueA'] / mergedCumulativeRevenue['ordersA']) - 1, \n",
    "         label='Отношение B/A', \n",
    "         color='purple',\n",
    "         linestyle='-', \n",
    "         linewidth=2, \n",
    "         marker='o')\n",
    "\n",
    "# Добавляем горизонтальную линию для отметки в 0\n",
    "plt.axhline(y=0, color='black', linestyle='--')\n",
    "\n",
    "plt.title('График относительного изменения кумулятивного среднего чека группы B к группе A', fontsize=20)\n",
    "plt.xlabel('Дата', fontsize=20)\n",
    "plt.ylabel('Отношение (доля)', fontsize=20)\n",
    "plt.grid(True)\n",
    "plt.legend(loc='upper left', fontsize=20)\n",
    "plt.xticks(fontsize=14)\n",
    "plt.yticks(fontsize=14)\n",
    "\n",
    "plt.show()"
   ]
  },
  {
   "cell_type": "markdown",
   "metadata": {},
   "source": [
    "Исходя из графика, могу предположить, что выбросы все же имеются. Особенно эт о заметно по скачкам 5-9 и 18-19 чисел. Лучшие показатели наблюдаются 01.08 и 13.08."
   ]
  },
  {
   "cell_type": "markdown",
   "metadata": {},
   "source": [
    "### График кумулятивного среднего количества заказов на посетителя по группам"
   ]
  },
  {
   "cell_type": "code",
   "execution_count": 43,
   "metadata": {},
   "outputs": [
    {
     "data": {
      "image/png": "[encoded data removed]",
      "text/plain": [
       "<Figure size 1440x360 with 1 Axes>"
      ]
     },
     "metadata": {
      "needs_background": "light"
     },
     "output_type": "display_data"
    }
   ],
   "source": [
    "# находим кумулятивную среднего количества заказов на посетителя по группам\n",
    "cumulativeData['conversion'] = cumulativeData['orders']/cumulativeData['visitors']\n",
    "# группа A\n",
    "cumulativeDataA = cumulativeData[cumulativeData['group']=='A']\n",
    "# группа B\n",
    "cumulativeDataB = cumulativeData[cumulativeData['group']=='B']\n",
    "\n",
    "# строим графики\n",
    "plt.figure(figsize=(20, 5))\n",
    "plt.plot(cumulativeDataA['date'], cumulativeDataA['conversion'], label='A', color='red', linewidth=2, marker='o')\n",
    "plt.plot(cumulativeDataB['date'], cumulativeDataB['conversion'], label='B', color='green', linewidth=2, marker='o')\n",
    "plt.title('График кумулятивного среднего количества заказов на посетителя по группам', fontsize=20)\n",
    "plt.xlabel('Дата', fontsize=20)\n",
    "plt.ylabel('Кумулятивное среднее \\n количество заказов', fontsize=20)\n",
    "plt.grid(True)\n",
    "plt.legend(loc='upper left', fontsize=20)\n",
    "plt.xticks(fontsize=14)\n",
    "plt.yticks(fontsize=14)\n",
    "\n",
    "plt.show()"
   ]
  },
  {
   "cell_type": "markdown",
   "metadata": {},
   "source": [
    "Примерно после 1 недели исследования графики начали стабилизироваться, однако всю первую неделю видны сильные колебания у обоих линий. \n",
    "В группе А линия графика кумулятивного среднего количества заказов на посетителя по группам очевидно постепенно снижается. В то время как в группе В она то увеличивается, то уменьшается, но все равно находится в основном выше группы А."
   ]
  },
  {
   "cell_type": "markdown",
   "metadata": {},
   "source": [
    "### График относительного изменения кумулятивного среднего количества заказов на посетителя группы B к группе А"
   ]
  },
  {
   "cell_type": "code",
   "execution_count": 44,
   "metadata": {},
   "outputs": [
    {
     "data": {
      "image/png": "[encoded data removed]",
      "text/plain": [
       "<Figure size 1440x360 with 1 Axes>"
      ]
     },
     "metadata": {
      "needs_background": "light"
     },
     "output_type": "display_data"
    }
   ],
   "source": [
    "mergedCumulativeConversions = cumulativeDataA[['date','conversion']].merge(cumulativeDataB[['date','conversion']], \n",
    "                                                                           left_on='date',right_on='date', how='left', suffixes=['A', 'B'])\n",
    "#строим график\n",
    "plt.figure(figsize=(20, 5))\n",
    "plt.plot(mergedCumulativeConversions['date'], mergedCumulativeConversions['conversionB']/mergedCumulativeConversions['conversionA']-1, \n",
    "         color='purple', linewidth=2, marker='o')\n",
    "plt.axhline(y=0, color='black', linestyle='--')\n",
    "plt.axhline(y=0.15, color='black', linestyle='--')\n",
    "plt.title('График относительного изменения кумулятивного среднего количества заказов на посетителя по группам', fontsize=20)\n",
    "plt.xlabel('Дата', fontsize=20)\n",
    "plt.ylabel('Отношение (доля)', fontsize=20)\n",
    "plt.grid()\n",
    "plt.xticks(fontsize=14)\n",
    "plt.yticks(fontsize=14)\n",
    "\n",
    "plt.show()"
   ]
  },
  {
   "cell_type": "markdown",
   "metadata": {},
   "source": [
    "В первую неделю лидирует группа А. Однако с 6 дня теста группа В начинает стремительно расти, а после 15.08 постепенно стабилизируется. Полагаю, что по данному графику группа В превосходит группу А по конверсии."
   ]
  },
  {
   "cell_type": "markdown",
   "metadata": {},
   "source": [
    "### Точечный график количества заказов по пользователям"
   ]
  },
  {
   "cell_type": "code",
   "execution_count": 21,
   "metadata": {},
   "outputs": [
    {
     "data": {
      "text/plain": [
       "visitorId\n",
       "3967698036    3\n",
       "249864742     3\n",
       "2108163459    3\n",
       "2988190573    3\n",
       "3908431265    3\n",
       "611059232     3\n",
       "2742574263    3\n",
       "678354126     2\n",
       "1404560065    2\n",
       "1985475298    2\n",
       "Name: transactionId, dtype: int64"
      ]
     },
     "execution_count": 21,
     "metadata": {},
     "output_type": "execute_result"
    }
   ],
   "source": [
    "orders_by_user = orders_new.groupby('visitorId')['transactionId'].nunique()\n",
    "orders_by_user.sort_values(ascending=False).head(10)"
   ]
  },
  {
   "cell_type": "code",
   "execution_count": 45,
   "metadata": {},
   "outputs": [
    {
     "data": {
      "image/png": "[encoded data removed]",
      "text/plain": [
       "<Figure size 720x216 with 1 Axes>"
      ]
     },
     "metadata": {
      "needs_background": "light"
     },
     "output_type": "display_data"
    }
   ],
   "source": [
    "plt.figure(figsize=(10, 3))\n",
    "plt.scatter(pd.Series(range(0,len(orders_by_user))), orders_by_user,  color='purple')\n",
    "x_values = pd.Series(range(0, len(orders_by_user)))\n",
    "plt.title('График количества заказов по пользователям', fontsize=20)\n",
    "plt.ylabel('Количество заказов', fontsize=15)\n",
    "plt.xlabel('Пользователи', fontsize=15)\n",
    "plt.xticks(np.arange(min(x_values), max(x_values), 100), fontsize=15)\n",
    "plt.yticks(np.arange(0, 5, 1), fontsize=15)\n",
    "plt.grid()\n",
    "\n",
    "plt.show()\n"
   ]
  },
  {
   "cell_type": "markdown",
   "metadata": {},
   "source": [
    "Так, мы имеем три типа пользователей: с 1, 2 и 3 заказами. С увеличением числа заказов наблюдается уменьшение количества пользователей."
   ]
  },
  {
   "cell_type": "markdown",
   "metadata": {},
   "source": [
    "### Расчет 95-го и 99-го перцентилей количества заказов на одного пользователя"
   ]
  },
  {
   "cell_type": "code",
   "execution_count": 23,
   "metadata": {},
   "outputs": [
    {
     "name": "stdout",
     "output_type": "stream",
     "text": [
      "3.700%\n"
     ]
    }
   ],
   "source": [
    "# доля пользователей более чем с одним заказом\n",
    "print('{:.3%}'.format(len(orders_by_user[orders_by_user > 1]) / len(orders_by_user)))"
   ]
  },
  {
   "cell_type": "markdown",
   "metadata": {},
   "source": [
    "Так, мы видим, что пользователей с 2-3 заказами не так уж и много, всего 3,7%. Полагаю, что в данной ситуации их можно считать аномальными."
   ]
  },
  {
   "cell_type": "code",
   "execution_count": 24,
   "metadata": {},
   "outputs": [
    {
     "data": {
      "text/plain": [
       "visitorId\n",
       "4256040402    11\n",
       "2458001652    11\n",
       "2378935119     9\n",
       "2038680547     8\n",
       "199603092      5\n",
       "3062433592     5\n",
       "237748145      5\n",
       "3803269165     5\n",
       "1230306981     5\n",
       "3717692402     5\n",
       "Name: transactionId, dtype: int64"
      ]
     },
     "execution_count": 24,
     "metadata": {},
     "output_type": "execute_result"
    }
   ],
   "source": [
    "#посмотри по сырым данным\n",
    "orders_by_user_2 = orders.groupby('visitorId')['transactionId'].nunique()\n",
    "orders_by_user_2.sort_values(ascending=False).head(10)"
   ]
  },
  {
   "cell_type": "code",
   "execution_count": 25,
   "metadata": {},
   "outputs": [
    {
     "name": "stdout",
     "output_type": "stream",
     "text": [
      "9.117%\n"
     ]
    }
   ],
   "source": [
    "print('{:.3%}'.format(len(orders_by_user_2[orders_by_user_2 > 1]) / len(orders_by_user_2)))"
   ]
  },
  {
   "cell_type": "markdown",
   "metadata": {},
   "source": [
    "В сырых данных уже гораздо больше пользователей, совершивших более 1 заказа."
   ]
  },
  {
   "cell_type": "code",
   "execution_count": 26,
   "metadata": {},
   "outputs": [
    {
     "name": "stdout",
     "output_type": "stream",
     "text": [
      "1.261%\n"
     ]
    }
   ],
   "source": [
    "print('{:.3%}'.format(len(orders_by_user_2[orders_by_user_2 > 3]) / len(orders_by_user_2)))"
   ]
  },
  {
   "cell_type": "markdown",
   "metadata": {},
   "source": [
    "А вот пользователей, совершивших более 3 заказов крайне мало в исходных данных."
   ]
  },
  {
   "cell_type": "code",
   "execution_count": 27,
   "metadata": {},
   "outputs": [
    {
     "name": "stdout",
     "output_type": "stream",
     "text": [
      "[1. 2. 2.]\n"
     ]
    }
   ],
   "source": [
    "#Расчет 95-го, 97.5 и 99-го перцентилей по очищенным данным\n",
    "print(np.percentile(orders_by_user, [95, 97.5, 99]))"
   ]
  },
  {
   "cell_type": "code",
   "execution_count": 28,
   "metadata": {},
   "outputs": [
    {
     "name": "stdout",
     "output_type": "stream",
     "text": [
      "[2. 3. 4.]\n"
     ]
    }
   ],
   "source": [
    "#Расчет 95-го, 97.5 и 99-го перцентилей по сырым данным\n",
    "print(np.percentile(orders_by_user_2, [95, 97.5, 99]))"
   ]
  },
  {
   "cell_type": "markdown",
   "metadata": {},
   "source": [
    "Будем считать, что граница для определения аномальных пользователей - более 3 заказов. "
   ]
  },
  {
   "cell_type": "markdown",
   "metadata": {},
   "source": [
    "### Точечный график стоимостей заказов"
   ]
  },
  {
   "cell_type": "code",
   "execution_count": 50,
   "metadata": {},
   "outputs": [
    {
     "data": {
      "image/png": "[encoded data removed]",
      "text/plain": [
       "<Figure size 1440x360 with 2 Axes>"
      ]
     },
     "metadata": {
      "needs_background": "light"
     },
     "output_type": "display_data"
    }
   ],
   "source": [
    "fig = plt.figure(figsize=(20, 5))\n",
    "\n",
    "ax1 = plt.subplot(1, 2, 1)\n",
    "\n",
    "x_values = pd.Series(range(0, len(orders['revenue'])))\n",
    "ax1.scatter(x_values, orders['revenue'], color='purple')\n",
    "\n",
    "plt.title('График стоимости заказов по выручке', fontsize=20)\n",
    "plt.ylabel('Стоимость заказов', fontsize=15)\n",
    "plt.xlabel('Выручка', fontsize=15)\n",
    "\n",
    "plt.xticks(np.arange(min(x_values), max(x_values), 200))\n",
    "plt.xticks(fontsize=15)\n",
    "plt.yticks(fontsize=15)\n",
    "plt.grid()\n",
    "\n",
    "ax2 = plt.subplot(1, 2, 2, sharex=ax1)\n",
    "\n",
    "y_values = orders[orders['revenue'] < 100000]['revenue']\n",
    "x_values = pd.Series(range(0, len(y_values)))\n",
    "\n",
    "ax2.scatter(x_values, y_values, color='purple')\n",
    "\n",
    "plt.title('График стоимости заказов по выручке\\n без аномалий', fontsize=20)\n",
    "plt.ylabel('Стоимость заказов', fontsize=15)\n",
    "plt.xlabel('Выручка', fontsize=15)\n",
    "\n",
    "plt.xticks(fontsize=15)\n",
    "plt.yticks(fontsize=15)\n",
    "plt.grid()\n",
    "plt.show()"
   ]
  },
  {
   "cell_type": "markdown",
   "metadata": {},
   "source": [
    "На первом графике плохо визуализируются стоимости заказов, поэтому отсекаем верхнюю часть графика, исключив тем самым выбросы, и теперь можем рассмотреть более детально. Самый верхний выброс имел revenue более 200.000. Возможно, это был крайне крупный заказ. Без него картина на правом графике совершенно меняется, можно проследить, что большинство заказов по стоимости не превышают 20.000 руб. "
   ]
  },
  {
   "cell_type": "markdown",
   "metadata": {},
   "source": [
    " ### Расчет 95-го и 99-го перцентилей стоимости заказов "
   ]
  },
  {
   "cell_type": "code",
   "execution_count": 30,
   "metadata": {},
   "outputs": [
    {
     "name": "stdout",
     "output_type": "stream",
     "text": [
      "[26785. 37400. 53904.]\n"
     ]
    }
   ],
   "source": [
    "#по очищенным данным\n",
    "print(np.percentile(orders_new['revenue'] , [95, 97.5, 99]))"
   ]
  },
  {
   "cell_type": "code",
   "execution_count": 31,
   "metadata": {},
   "outputs": [
    {
     "name": "stdout",
     "output_type": "stream",
     "text": [
      "[28000.  39530.  58233.2]\n"
     ]
    }
   ],
   "source": [
    "#по сырым данным\n",
    "print(np.percentile(orders['revenue'], [95, 97.5, 99])) "
   ]
  },
  {
   "cell_type": "markdown",
   "metadata": {},
   "source": [
    "Так,  не более, чем у 95% пользователей чек дешевле 26 785, также не более, чем у 1% пользователей чек дешевле 53 904. Полагаю, что границей для отсечения в данном случае можно выделить 97.5 перцентиль, то есть отметка в 37400."
   ]
  },
  {
   "cell_type": "markdown",
   "metadata": {},
   "source": [
    "### Статистическая значимость различий в среднем количестве заказов на посетителя между группами по «сырым» данным."
   ]
  },
  {
   "cell_type": "markdown",
   "metadata": {},
   "source": [
    "H0: различие в среднем количестве заказов на посетителя между группами по \"сырым\" данным статистически не значимо \n",
    "\n",
    "H1:различие в среднем количестве заказов на посетителя между группами по \"сырым\" данным статистически значимо\n",
    "\n",
    "alpha = 0.05\n",
    "\n",
    "Для проверки гипотез будем  использовать тест Манна-Уитни, поскольку он применяется в случаях, когда в данных есть существенные выбросы, которые нельзя исключить (а у нас в сырых данных как раз имеются выбросы). "
   ]
  },
  {
   "cell_type": "code",
   "execution_count": 32,
   "metadata": {},
   "outputs": [
    {
     "name": "stdout",
     "output_type": "stream",
     "text": [
      "P-value: 0.011\n",
      "Относительные различия: 0.160\n"
     ]
    }
   ],
   "source": [
    "visitors_daily_a = visitors[visitors['group'] == 'A'][['date', 'visitors']]\n",
    "visitors_daily_a.columns = ['date', 'visitors_a']\n",
    "\n",
    "visitors_cum_a = visitors_daily_a.apply(\n",
    "    lambda x: visitors_daily_a[visitors_daily_a['date'] <= x['date']].agg(\n",
    "        {'date': 'max', 'visitors_a': 'sum'}\n",
    "    ),\n",
    "    axis=1,\n",
    ")\n",
    "visitors_cum_a.columns = ['date', 'visitors_cum_a']\n",
    "\n",
    "visitors_daily_b = visitors[visitors['group'] == 'B'][['date', 'visitors']]\n",
    "visitors_daily_b.columns = ['date', 'visitors_b']\n",
    "\n",
    "visitors_cum_b = visitors_daily_b.apply(\n",
    "    lambda x: visitors_daily_b[visitors_daily_b['date'] <= x['date']].agg(\n",
    "        {'date': 'max', 'visitors_b': 'sum'}\n",
    "    ),\n",
    "    axis=1,\n",
    ")\n",
    "visitors_cum_b.columns = ['date', 'visitors_cum_b']\n",
    "\n",
    "orders_daily_a = (\n",
    "    orders_new[orders_new['group'] == 'A'][['date', 'transactionId', 'visitorId', 'revenue']]\n",
    "    .groupby('date', as_index=False)\n",
    "    .agg({'transactionId': pd.Series.nunique, 'revenue': 'sum'})\n",
    ")\n",
    "orders_daily_a.columns = ['date', 'orders_a', 'revenue_a']\n",
    "\n",
    "orders_cum_a = orders_daily_a.apply(\n",
    "    lambda x: orders_daily_a[orders_daily_a['date'] <= x['date']].agg(\n",
    "        {'date': 'max', 'orders_a': 'sum', 'revenue_a': 'sum'}\n",
    "    ),\n",
    "    axis=1,\n",
    ").sort_values(by=['date'])\n",
    "orders_cum_a.columns = [\n",
    "    'date',\n",
    "    'orders_cum_a',\n",
    "    'revenue_cum_a',\n",
    "]\n",
    "\n",
    "orders_daily_b = (\n",
    "    orders_new[orders_new['group'] == 'B'][['date', 'transactionId', 'visitorId', 'revenue']]\n",
    "    .groupby('date', as_index=False)\n",
    "    .agg({'transactionId': pd.Series.nunique, 'revenue': 'sum'})\n",
    ")\n",
    "orders_daily_b.columns = ['date', 'orders_b', 'revenue_b']\n",
    "\n",
    "orders_cum_b = orders_daily_b.apply(\n",
    "    lambda x: orders_daily_b[orders_daily_b['date'] <= x['date']].agg(\n",
    "        {'date': 'max', 'orders_b': 'sum', 'revenue_b': 'sum'}\n",
    "    ),\n",
    "    axis=1,\n",
    ").sort_values(by=['date'])\n",
    "orders_cum_b.columns = [\n",
    "    'date',\n",
    "    'orders_cum_b',\n",
    "    'revenue_cum_b',\n",
    "]\n",
    "data = (\n",
    "    orders_daily_a.merge(\n",
    "        orders_daily_b, left_on='date', right_on='date', how='left'\n",
    "    )\n",
    "    .merge(orders_cum_a, left_on='date', right_on='date', how='left')\n",
    "    .merge(orders_cum_b, left_on='date', right_on='date', how='left')\n",
    "    .merge(visitors_daily_a, left_on='date', right_on='date', how='left')\n",
    "    .merge(visitors_daily_b, left_on='date', right_on='date', how='left')\n",
    "    .merge(visitors_cum_a, left_on='date', right_on='date', how='left')\n",
    "    .merge(visitors_cum_b, left_on='date', right_on='date', how='left')\n",
    ")\n",
    "\n",
    "ordersByUsersA = (\n",
    "    orders_new[orders_new['group'] == 'A']\n",
    "    .groupby('visitorId', as_index=False)\n",
    "    .agg({'transactionId': pd.Series.nunique})\n",
    ")\n",
    "ordersByUsersA.columns = ['visitorId', 'transactionId']\n",
    "\n",
    "ordersByUsersB = (\n",
    "    orders_new[orders_new['group'] == 'B']\n",
    "    .groupby('visitorId', as_index=False)\n",
    "    .agg({'transactionId': pd.Series.nunique})\n",
    ")\n",
    "ordersByUsersB.columns = ['visitorId', 'transactionId'] \n",
    "sampleA = pd.concat([ordersByUsersA['transactionId'],pd.Series(0, index=np.arange(data['visitors_a'].sum() - len(ordersByUsersA['transactionId'])), name='orders')],axis=0)\n",
    "sampleB = pd.concat([ordersByUsersB['transactionId'],pd.Series(0, index=np.arange(data['visitors_b'].sum() - len(ordersByUsersB['transactionId'])), name='orders')],axis=0)\n",
    "\n",
    "print('P-value:',\"{0:.3f}\".format(stats.mannwhitneyu(sampleA, sampleB)[1]))\n",
    "print('Относительные различия:',\"{0:.3f}\".format(sampleB.mean() / sampleA.mean() - 1))"
   ]
  },
  {
   "cell_type": "markdown",
   "metadata": {},
   "source": [
    "Так, мы видим, что нулевая гипотеза отвергается, поскольку P-value меньше 0.05. В среднем количестве заказов между группами имеются статистически значимые различия. \n",
    "\n",
    "Относительный прирост среднего группы В к среднему группы А - 13,8%."
   ]
  },
  {
   "cell_type": "markdown",
   "metadata": {},
   "source": [
    "### Статистическая значимость различий в среднем чеке заказа между группами по «сырым» данным"
   ]
  },
  {
   "cell_type": "markdown",
   "metadata": {},
   "source": [
    "H0:Средние чеки групп A и B равны и статистически значимых отличий не имеют\n",
    "\n",
    "H1:Средние чеки групп A и B различны и статистически значимые отличия имеют\n",
    "\n",
    "alpha=0.05\n",
    "\n",
    "Применим тест Манна-Уитни"
   ]
  },
  {
   "cell_type": "code",
   "execution_count": 33,
   "metadata": {},
   "outputs": [
    {
     "name": "stdout",
     "output_type": "stream",
     "text": [
      "P-value: 0.829\n",
      "Относительные различия: 0.287\n",
      "Не получилось отвергнуть нулевую гипотезу, нет оснований считать доли разными\n"
     ]
    }
   ],
   "source": [
    "# Вычисление p-value для теста Манна-Уитни\n",
    "p_value = stats.mannwhitneyu(orders_new[orders_new['group']=='A']['revenue'], orders_new[orders_new['group']=='B']['revenue'])[1]\n",
    "\n",
    "# Вычисление относительных различий в средней выручке между группами\n",
    "relative_difference = orders_new[orders_new['group']=='B']['revenue'].mean()/orders_new[orders_new['group']=='A']['revenue'].mean() - 1\n",
    "alpha = 0.05\n",
    "print('P-value: {:.3f}'.format(p_value))\n",
    "print('Относительные различия: {:.3f}'.format(relative_difference))\n",
    "if p_value < alpha:\n",
    "    print('Отвергаем нулевую гипотезу: между долями есть значимая разница')\n",
    "else:\n",
    "    print(\n",
    "        'Не получилось отвергнуть нулевую гипотезу, нет оснований считать доли разными') "
   ]
  },
  {
   "cell_type": "markdown",
   "metadata": {},
   "source": [
    "Так, статистически значимых отличий в среднем чеке между группами нет (P-value > 0.05). А относительное различие среднего чека - 28,7%."
   ]
  },
  {
   "cell_type": "markdown",
   "metadata": {},
   "source": [
    "### Статистическая значимость различий в среднем количестве заказов на посетителя между группами по «очищенным» данным"
   ]
  },
  {
   "cell_type": "markdown",
   "metadata": {},
   "source": [
    "**Подготовим очищенные данные:**"
   ]
  },
  {
   "cell_type": "markdown",
   "metadata": {},
   "source": [
    "В нашем случае аномальными являются пользователи, совершившие более 3 заказов или же пользователи с суммой чека более 37400 руб."
   ]
  },
  {
   "cell_type": "markdown",
   "metadata": {},
   "source": [
    "H0: разница в среднем количестве заказов на посетителя между группами по очищенным данным статистически не значима. \n",
    "\n",
    "H1: разница в среднем количестве заказов на посетителя между группами по очищенным данным статистически значима. \n",
    "\n",
    "alpha=0.05\n",
    "\n",
    "Применим тест Манна-Уитни"
   ]
  },
  {
   "cell_type": "code",
   "execution_count": 34,
   "metadata": {},
   "outputs": [
    {
     "name": "stdout",
     "output_type": "stream",
     "text": [
      "       0       date group  revenue  transactionId     visitorId\n",
      "420  NaN 2019-08-06     B  37550.0   2.788225e+09  1.606766e+09\n",
      "173  NaN 2019-08-02     B  38160.0   1.192036e+09  2.953427e+09\n",
      "1087 NaN 2019-08-12     B  39500.0   3.241711e+08  3.590656e+09\n",
      "78   NaN 2019-08-16     B  40740.0   7.736638e+08  3.288820e+09\n",
      "339  NaN 2019-08-25     B  41450.0   2.216193e+09  8.347318e+08\n"
     ]
    }
   ],
   "source": [
    "usersWithManyOrders = pd.concat(\n",
    "    [\n",
    "        ordersByUsersA[ordersByUsersA['transactionId'] > np.percentile(ordersByUsersA['transactionId'], 97.5)]['visitorId'],\n",
    "        ordersByUsersB[ordersByUsersB['transactionId'] > np.percentile(ordersByUsersB['transactionId'], 97.5)]['visitorId'],\n",
    "    ],\n",
    "    axis=0,\n",
    ")\n",
    "\n",
    "usersWithExpensiveOrders = orders_new[orders_new['revenue'] > np.percentile(orders_new['revenue'], 97.5).item()]\n",
    "\n",
    "abnormalUsers = (\n",
    "    pd.concat([usersWithManyOrders, usersWithExpensiveOrders], axis=0)\n",
    "    .drop_duplicates()\n",
    "    .sort_values(by='revenue')  \n",
    ")\n",
    "print(abnormalUsers.head())"
   ]
  },
  {
   "cell_type": "code",
   "execution_count": 35,
   "metadata": {},
   "outputs": [
    {
     "name": "stdout",
     "output_type": "stream",
     "text": [
      "P-value: 0.011\n",
      "Относительные различия: 0.160\n"
     ]
    }
   ],
   "source": [
    "sampleAFiltered = pd.concat(\n",
    "    [\n",
    "        ordersByUsersA[\n",
    "            np.logical_not(ordersByUsersA['visitorId'].isin(abnormalUsers))\n",
    "        ]['transactionId'],\n",
    "        pd.Series(\n",
    "            0,\n",
    "            index=np.arange(\n",
    "                data['visitors_a'].sum() - len(ordersByUsersA['transactionId'])\n",
    "            ),\n",
    "            name='orders',\n",
    "        ),\n",
    "    ],\n",
    "    axis=0,\n",
    ")\n",
    "\n",
    "sampleBFiltered = pd.concat(\n",
    "    [\n",
    "        ordersByUsersB[\n",
    "            np.logical_not(ordersByUsersB['visitorId'].isin(abnormalUsers))\n",
    "        ]['transactionId'],\n",
    "        pd.Series(\n",
    "            0,\n",
    "            index=np.arange(\n",
    "                data['visitors_b'].sum() - len(ordersByUsersB['transactionId'])\n",
    "            ),\n",
    "            name='orders',\n",
    "        ),\n",
    "    ],\n",
    "    axis=0,\n",
    ") \n",
    "alpha = 0.05\n",
    "print('P-value:','{0:.3f}'.format(stats.mannwhitneyu(sampleAFiltered, sampleBFiltered)[1]))\n",
    "print('Относительные различия:','{0:.3f}'.format(sampleBFiltered.mean()/sampleAFiltered.mean()-1))"
   ]
  },
  {
   "cell_type": "markdown",
   "metadata": {},
   "source": [
    "Так, мы видим, что нулевая гипотеза отвергается, поскольку P-value меньше 0.05. В среднем количестве заказов между группами имеются статистически значимые различия.\n",
    "\n",
    "Относительный прирост среднего группы В к среднему группы А - 16%."
   ]
  },
  {
   "cell_type": "markdown",
   "metadata": {},
   "source": [
    "### Статистическая значимость различий в среднем чеке заказа между группами по «очищенным» данным"
   ]
  },
  {
   "cell_type": "markdown",
   "metadata": {},
   "source": [
    "H0: разница в среднем чеке заказа между группами по очищенным данным статистически не значима. \n",
    "\n",
    "H1: разница в среднем чеке заказа между группами по очищенным данным статистически значима. \n",
    "\n",
    "alpha=0.05\n",
    "\n",
    "Применим тест Манна-Уитни"
   ]
  },
  {
   "cell_type": "code",
   "execution_count": 48,
   "metadata": {
    "scrolled": false
   },
   "outputs": [
    {
     "name": "stdout",
     "output_type": "stream",
     "text": [
      "P-value: 0.829\n",
      "Относительные различия: 0.287\n"
     ]
    }
   ],
   "source": [
    "print('P-value:',\n",
    "    '{0:.3f}'.format(\n",
    "        stats.mannwhitneyu(\n",
    "            orders_new.loc[\n",
    "                np.logical_and(\n",
    "                    orders_new['group'] == 'A',\n",
    "                    ~orders_new['visitorId'].isin(abnormalUsers),\n",
    "                ),\n",
    "                'revenue'\n",
    "            ],\n",
    "            orders_new.loc[\n",
    "                np.logical_and(\n",
    "                    orders_new['group'] == 'B',\n",
    "                    ~orders_new['visitorId'].isin(abnormalUsers),\n",
    "                ),\n",
    "                'revenue'\n",
    "            ],\n",
    "        )[1]\n",
    "    )\n",
    ")\n",
    "\n",
    "print('Относительные различия:',\n",
    "    \"{0:.3f}\".format(\n",
    "        orders_new.loc[\n",
    "            np.logical_and(\n",
    "                orders_new['group'] == 'B',\n",
    "                ~orders_new['visitorId'].isin(abnormalUsers),\n",
    "            ),\n",
    "            'revenue'\n",
    "        ].mean()\n",
    "        / orders_new.loc[\n",
    "            np.logical_and(\n",
    "                orders_new['group'] == 'A',\n",
    "                ~orders_new['visitorId'].isin(abnormalUsers),\n",
    "            ),\n",
    "            'revenue'\n",
    "        ].mean()\n",
    "        - 1\n",
    "    )\n",
    ")"
   ]
  },
  {
   "cell_type": "markdown",
   "metadata": {},
   "source": [
    "Так, поскольку p-value>alpha, то не получилось отвергнуть нулевую гипотезу.\n",
    "Статистически значимых отличий в среднем чеке между группами нет. А относительное различие среднего чека - 1,8%. \n",
    "\n",
    "Стоит отметить, что относительные различия уменьшились примерно на 26%, что говорит о правильности исключения аномалий."
   ]
  },
  {
   "cell_type": "markdown",
   "metadata": {},
   "source": [
    "## Итоги"
   ]
  },
  {
   "cell_type": "markdown",
   "metadata": {},
   "source": [
    "В ходе анализа A/B теста было определено:\n",
    "\n",
    "- статистически значимая разница в среднем количестве заказов на посетителя между группами и по очищенным, и по сырым данным **есть**.\n",
    "- статистически значимой разницы в среднем чеке заказа между группами по сырым и очищенным данным **нет**\n",
    "- график различия среднего количества заказов на посетителя между группами показывает, что результаты группы B лучше, чем у группы A.\n",
    "- график различия среднего чека показывает, что результаты группы B лучше, чем у группы А.\n",
    "\n",
    "**Таким образом, можем остановить тест, поскольку уже четко видно, что группа B превзошла группу A по большинству показателей. Вряд ли в дальнейшем что-то изменится, ведь все графики к концу исследования уже начинали постепенно стабилизироваться.**\n"
   ]
  }
 ],
 "metadata": {
  "ExecuteTimeLog": [
   {
    "duration": 3,
    "start_time": "2024-01-15T09:14:40.425Z"
   },
   {
    "duration": 1381,
    "start_time": "2024-01-15T09:15:07.817Z"
   },
   {
    "duration": 64,
    "start_time": "2024-01-15T09:15:17.359Z"
   },
   {
    "duration": 94,
    "start_time": "2024-01-15T09:17:24.850Z"
   },
   {
    "duration": 8,
    "start_time": "2024-01-15T09:17:39.002Z"
   },
   {
    "duration": 86,
    "start_time": "2024-01-15T09:18:04.367Z"
   },
   {
    "duration": 35,
    "start_time": "2024-01-15T09:19:14.243Z"
   },
   {
    "duration": 17,
    "start_time": "2024-01-15T09:19:50.721Z"
   },
   {
    "duration": 12,
    "start_time": "2024-01-15T09:20:33.016Z"
   },
   {
    "duration": 15,
    "start_time": "2024-01-15T09:20:45.446Z"
   },
   {
    "duration": 21,
    "start_time": "2024-01-15T09:20:57.568Z"
   },
   {
    "duration": 18,
    "start_time": "2024-01-15T09:21:06.533Z"
   },
   {
    "duration": 19,
    "start_time": "2024-01-15T09:21:54.383Z"
   },
   {
    "duration": 16,
    "start_time": "2024-01-15T09:22:08.290Z"
   },
   {
    "duration": 4,
    "start_time": "2024-01-15T09:22:56.147Z"
   },
   {
    "duration": 11,
    "start_time": "2024-01-15T09:23:06.809Z"
   },
   {
    "duration": 16,
    "start_time": "2024-01-15T09:23:44.723Z"
   },
   {
    "duration": 1116,
    "start_time": "2024-01-15T09:23:52.358Z"
   },
   {
    "duration": 28,
    "start_time": "2024-01-15T09:23:53.476Z"
   },
   {
    "duration": 20,
    "start_time": "2024-01-15T09:23:53.505Z"
   },
   {
    "duration": 9,
    "start_time": "2024-01-15T09:23:53.527Z"
   },
   {
    "duration": 12,
    "start_time": "2024-01-15T09:35:09.328Z"
   },
   {
    "duration": 10,
    "start_time": "2024-01-15T09:35:20.007Z"
   },
   {
    "duration": 9,
    "start_time": "2024-01-15T09:35:41.280Z"
   },
   {
    "duration": 10,
    "start_time": "2024-01-15T09:36:04.735Z"
   },
   {
    "duration": 9,
    "start_time": "2024-01-15T09:36:10.754Z"
   },
   {
    "duration": 90,
    "start_time": "2024-01-15T09:37:51.853Z"
   },
   {
    "duration": 103,
    "start_time": "2024-01-15T09:38:01.847Z"
   },
   {
    "duration": 1144,
    "start_time": "2024-01-15T09:38:27.056Z"
   },
   {
    "duration": 28,
    "start_time": "2024-01-15T09:38:28.202Z"
   },
   {
    "duration": 21,
    "start_time": "2024-01-15T09:38:28.232Z"
   },
   {
    "duration": 15,
    "start_time": "2024-01-15T09:38:28.255Z"
   },
   {
    "duration": 25,
    "start_time": "2024-01-15T09:38:28.272Z"
   },
   {
    "duration": 91,
    "start_time": "2024-01-15T09:38:28.299Z"
   },
   {
    "duration": 13,
    "start_time": "2024-01-15T09:39:34.095Z"
   },
   {
    "duration": 101,
    "start_time": "2024-01-15T10:44:18.635Z"
   },
   {
    "duration": 70,
    "start_time": "2024-01-15T10:44:21.784Z"
   },
   {
    "duration": 64,
    "start_time": "2024-01-15T10:45:38.422Z"
   },
   {
    "duration": 19,
    "start_time": "2024-01-15T10:45:45.384Z"
   },
   {
    "duration": 22,
    "start_time": "2024-01-15T10:46:10.608Z"
   },
   {
    "duration": 76,
    "start_time": "2024-01-15T10:46:30.542Z"
   },
   {
    "duration": 15,
    "start_time": "2024-01-15T10:46:39.198Z"
   },
   {
    "duration": 18,
    "start_time": "2024-01-15T10:46:53.222Z"
   },
   {
    "duration": 50,
    "start_time": "2024-01-17T08:03:22.851Z"
   },
   {
    "duration": 1520,
    "start_time": "2024-01-17T08:03:29.396Z"
   },
   {
    "duration": 71,
    "start_time": "2024-01-17T08:03:30.918Z"
   },
   {
    "duration": 309,
    "start_time": "2024-01-17T08:03:30.990Z"
   },
   {
    "duration": 463,
    "start_time": "2024-01-17T08:03:31.301Z"
   },
   {
    "duration": 443,
    "start_time": "2024-01-17T08:03:31.766Z"
   },
   {
    "duration": 68,
    "start_time": "2024-01-17T08:03:32.211Z"
   },
   {
    "duration": 163,
    "start_time": "2024-01-17T08:03:32.280Z"
   },
   {
    "duration": 20,
    "start_time": "2024-01-17T08:03:32.445Z"
   },
   {
    "duration": 28,
    "start_time": "2024-01-17T08:03:32.466Z"
   },
   {
    "duration": 61,
    "start_time": "2024-01-17T08:04:31.395Z"
   },
   {
    "duration": 26,
    "start_time": "2024-01-17T08:06:37.039Z"
   },
   {
    "duration": 126,
    "start_time": "2024-01-17T08:13:45.395Z"
   },
   {
    "duration": 16,
    "start_time": "2024-01-17T08:15:15.231Z"
   },
   {
    "duration": 14,
    "start_time": "2024-01-17T08:15:55.755Z"
   },
   {
    "duration": 11,
    "start_time": "2024-01-17T08:16:09.304Z"
   },
   {
    "duration": 11,
    "start_time": "2024-01-17T08:16:13.127Z"
   },
   {
    "duration": 11,
    "start_time": "2024-01-17T08:20:23.104Z"
   },
   {
    "duration": 13,
    "start_time": "2024-01-17T08:24:04.590Z"
   },
   {
    "duration": 319,
    "start_time": "2024-01-17T08:24:29.058Z"
   },
   {
    "duration": 373,
    "start_time": "2024-01-17T08:24:32.519Z"
   },
   {
    "duration": 259,
    "start_time": "2024-01-17T08:25:55.452Z"
   },
   {
    "duration": 297,
    "start_time": "2024-01-17T08:26:01.052Z"
   },
   {
    "duration": 256,
    "start_time": "2024-01-17T08:27:04.714Z"
   },
   {
    "duration": 270,
    "start_time": "2024-01-17T08:27:17.435Z"
   },
   {
    "duration": 261,
    "start_time": "2024-01-17T08:27:56.177Z"
   },
   {
    "duration": 280,
    "start_time": "2024-01-17T08:28:21.366Z"
   },
   {
    "duration": 219,
    "start_time": "2024-01-17T08:28:45.636Z"
   },
   {
    "duration": 308,
    "start_time": "2024-01-17T08:29:26.438Z"
   },
   {
    "duration": 224,
    "start_time": "2024-01-17T08:29:34.307Z"
   },
   {
    "duration": 393,
    "start_time": "2024-01-17T09:01:00.158Z"
   },
   {
    "duration": 414,
    "start_time": "2024-01-17T09:01:13.349Z"
   },
   {
    "duration": 430,
    "start_time": "2024-01-17T09:01:26.846Z"
   },
   {
    "duration": 523,
    "start_time": "2024-01-17T09:01:34.225Z"
   },
   {
    "duration": 478,
    "start_time": "2024-01-17T09:02:00.556Z"
   },
   {
    "duration": 553,
    "start_time": "2024-01-17T09:02:07.825Z"
   },
   {
    "duration": 302,
    "start_time": "2024-01-17T09:03:03.000Z"
   },
   {
    "duration": 302,
    "start_time": "2024-01-17T09:03:24.071Z"
   },
   {
    "duration": 305,
    "start_time": "2024-01-17T09:03:53.054Z"
   },
   {
    "duration": 311,
    "start_time": "2024-01-17T09:04:02.719Z"
   },
   {
    "duration": 327,
    "start_time": "2024-01-17T09:04:29.767Z"
   },
   {
    "duration": 307,
    "start_time": "2024-01-17T09:04:48.330Z"
   },
   {
    "duration": 283,
    "start_time": "2024-01-17T09:05:16.367Z"
   },
   {
    "duration": 1240,
    "start_time": "2024-01-17T09:11:51.527Z"
   },
   {
    "duration": 28,
    "start_time": "2024-01-17T09:11:52.769Z"
   },
   {
    "duration": 24,
    "start_time": "2024-01-17T09:11:52.798Z"
   },
   {
    "duration": 13,
    "start_time": "2024-01-17T09:11:52.823Z"
   },
   {
    "duration": 16,
    "start_time": "2024-01-17T09:11:52.839Z"
   },
   {
    "duration": 14,
    "start_time": "2024-01-17T09:11:52.857Z"
   },
   {
    "duration": 56,
    "start_time": "2024-01-17T09:11:52.892Z"
   },
   {
    "duration": 23,
    "start_time": "2024-01-17T09:11:52.950Z"
   },
   {
    "duration": 23,
    "start_time": "2024-01-17T09:11:52.975Z"
   },
   {
    "duration": 30,
    "start_time": "2024-01-17T09:11:53.000Z"
   },
   {
    "duration": 13,
    "start_time": "2024-01-17T09:11:53.032Z"
   },
   {
    "duration": 321,
    "start_time": "2024-01-17T09:11:53.046Z"
   },
   {
    "duration": 340,
    "start_time": "2024-01-17T09:11:53.368Z"
   },
   {
    "duration": 322,
    "start_time": "2024-01-17T09:11:53.710Z"
   },
   {
    "duration": 101,
    "start_time": "2024-01-17T09:14:26.215Z"
   },
   {
    "duration": 109,
    "start_time": "2024-01-17T09:14:37.525Z"
   },
   {
    "duration": 395,
    "start_time": "2024-01-17T09:16:05.106Z"
   },
   {
    "duration": 350,
    "start_time": "2024-01-17T09:16:37.644Z"
   },
   {
    "duration": 306,
    "start_time": "2024-01-17T09:23:38.457Z"
   },
   {
    "duration": 324,
    "start_time": "2024-01-17T09:24:04.520Z"
   },
   {
    "duration": 336,
    "start_time": "2024-01-17T09:24:13.692Z"
   },
   {
    "duration": 320,
    "start_time": "2024-01-17T09:24:35.593Z"
   },
   {
    "duration": 175,
    "start_time": "2024-01-17T09:36:29.071Z"
   },
   {
    "duration": 460,
    "start_time": "2024-01-17T09:36:42.043Z"
   },
   {
    "duration": 472,
    "start_time": "2024-01-17T09:36:50.922Z"
   },
   {
    "duration": 418,
    "start_time": "2024-01-17T09:37:48.370Z"
   },
   {
    "duration": 428,
    "start_time": "2024-01-17T09:38:47.950Z"
   },
   {
    "duration": 403,
    "start_time": "2024-01-17T09:38:58.625Z"
   },
   {
    "duration": 354,
    "start_time": "2024-01-17T09:39:23.145Z"
   },
   {
    "duration": 402,
    "start_time": "2024-01-17T09:44:39.817Z"
   },
   {
    "duration": 394,
    "start_time": "2024-01-17T09:44:46.952Z"
   },
   {
    "duration": 7,
    "start_time": "2024-01-17T09:47:07.584Z"
   },
   {
    "duration": 196,
    "start_time": "2024-01-17T09:47:17.744Z"
   },
   {
    "duration": 220,
    "start_time": "2024-01-17T09:47:56.369Z"
   },
   {
    "duration": 192,
    "start_time": "2024-01-17T09:48:03.040Z"
   },
   {
    "duration": 323,
    "start_time": "2024-01-17T09:48:29.375Z"
   },
   {
    "duration": 214,
    "start_time": "2024-01-17T09:50:14.647Z"
   },
   {
    "duration": 255,
    "start_time": "2024-01-17T09:51:31.088Z"
   },
   {
    "duration": 191,
    "start_time": "2024-01-17T09:53:02.714Z"
   },
   {
    "duration": 189,
    "start_time": "2024-01-17T09:53:56.252Z"
   },
   {
    "duration": 253,
    "start_time": "2024-01-17T09:58:44.773Z"
   },
   {
    "duration": 238,
    "start_time": "2024-01-17T09:59:05.832Z"
   },
   {
    "duration": 231,
    "start_time": "2024-01-17T09:59:23.864Z"
   },
   {
    "duration": 11,
    "start_time": "2024-01-17T10:00:24.089Z"
   },
   {
    "duration": 11,
    "start_time": "2024-01-17T10:01:29.786Z"
   },
   {
    "duration": 1273,
    "start_time": "2024-01-17T10:01:52.330Z"
   },
   {
    "duration": 28,
    "start_time": "2024-01-17T10:01:53.605Z"
   },
   {
    "duration": 23,
    "start_time": "2024-01-17T10:01:53.634Z"
   },
   {
    "duration": 11,
    "start_time": "2024-01-17T10:01:53.659Z"
   },
   {
    "duration": 46,
    "start_time": "2024-01-17T10:01:53.672Z"
   },
   {
    "duration": 33,
    "start_time": "2024-01-17T10:01:53.720Z"
   },
   {
    "duration": 105,
    "start_time": "2024-01-17T10:01:53.755Z"
   },
   {
    "duration": 24,
    "start_time": "2024-01-17T10:01:53.862Z"
   },
   {
    "duration": 50,
    "start_time": "2024-01-17T10:01:53.888Z"
   },
   {
    "duration": 19,
    "start_time": "2024-01-17T10:01:53.940Z"
   },
   {
    "duration": 38,
    "start_time": "2024-01-17T10:01:53.961Z"
   },
   {
    "duration": 312,
    "start_time": "2024-01-17T10:01:54.001Z"
   },
   {
    "duration": 333,
    "start_time": "2024-01-17T10:01:54.315Z"
   },
   {
    "duration": 322,
    "start_time": "2024-01-17T10:01:54.650Z"
   },
   {
    "duration": 407,
    "start_time": "2024-01-17T10:01:54.974Z"
   },
   {
    "duration": 306,
    "start_time": "2024-01-17T10:01:55.383Z"
   },
   {
    "duration": 385,
    "start_time": "2024-01-17T10:01:55.691Z"
   },
   {
    "duration": 23,
    "start_time": "2024-01-17T10:01:56.077Z"
   },
   {
    "duration": 13,
    "start_time": "2024-01-17T10:11:42.823Z"
   },
   {
    "duration": 4,
    "start_time": "2024-01-17T10:12:42.572Z"
   },
   {
    "duration": 113,
    "start_time": "2024-01-17T10:12:57.735Z"
   },
   {
    "duration": 10,
    "start_time": "2024-01-17T10:13:03.076Z"
   },
   {
    "duration": 5,
    "start_time": "2024-01-17T10:13:16.594Z"
   },
   {
    "duration": 5,
    "start_time": "2024-01-17T10:13:37.386Z"
   },
   {
    "duration": 5,
    "start_time": "2024-01-17T10:13:47.022Z"
   },
   {
    "duration": 138,
    "start_time": "2024-01-17T10:16:20.568Z"
   },
   {
    "duration": 1201,
    "start_time": "2024-01-17T10:21:38.424Z"
   },
   {
    "duration": 1311,
    "start_time": "2024-01-17T10:22:26.735Z"
   },
   {
    "duration": 18,
    "start_time": "2024-01-17T10:23:10.548Z"
   },
   {
    "duration": 299,
    "start_time": "2024-01-17T10:23:21.525Z"
   },
   {
    "duration": 187,
    "start_time": "2024-01-17T10:23:29.027Z"
   },
   {
    "duration": 185,
    "start_time": "2024-01-17T10:23:40.395Z"
   },
   {
    "duration": 13,
    "start_time": "2024-01-17T10:30:51.192Z"
   },
   {
    "duration": 5,
    "start_time": "2024-01-17T10:31:09.970Z"
   },
   {
    "duration": 11,
    "start_time": "2024-01-17T10:32:00.641Z"
   },
   {
    "duration": 11,
    "start_time": "2024-01-17T10:32:34.372Z"
   },
   {
    "duration": 16,
    "start_time": "2024-01-17T10:33:03.654Z"
   },
   {
    "duration": 954,
    "start_time": "2024-01-17T10:33:14.716Z"
   },
   {
    "duration": 945,
    "start_time": "2024-01-17T10:33:45.635Z"
   },
   {
    "duration": 18,
    "start_time": "2024-01-17T10:34:49.220Z"
   },
   {
    "duration": 12,
    "start_time": "2024-01-17T10:36:37.761Z"
   },
   {
    "duration": 12,
    "start_time": "2024-01-17T10:36:40.712Z"
   },
   {
    "duration": 10,
    "start_time": "2024-01-17T10:36:46.476Z"
   },
   {
    "duration": 1219,
    "start_time": "2024-01-17T10:36:52.042Z"
   },
   {
    "duration": 28,
    "start_time": "2024-01-17T10:36:53.263Z"
   },
   {
    "duration": 27,
    "start_time": "2024-01-17T10:36:53.292Z"
   },
   {
    "duration": 12,
    "start_time": "2024-01-17T10:36:53.320Z"
   },
   {
    "duration": 32,
    "start_time": "2024-01-17T10:36:53.334Z"
   },
   {
    "duration": 24,
    "start_time": "2024-01-17T10:36:53.367Z"
   },
   {
    "duration": 50,
    "start_time": "2024-01-17T10:36:53.393Z"
   },
   {
    "duration": 21,
    "start_time": "2024-01-17T10:36:53.445Z"
   },
   {
    "duration": 19,
    "start_time": "2024-01-17T10:36:53.468Z"
   },
   {
    "duration": 48,
    "start_time": "2024-01-17T10:36:53.488Z"
   },
   {
    "duration": 91,
    "start_time": "2024-01-17T10:36:53.538Z"
   },
   {
    "duration": 46,
    "start_time": "2024-01-17T10:36:53.630Z"
   },
   {
    "duration": 468,
    "start_time": "2024-01-17T10:36:53.678Z"
   },
   {
    "duration": 389,
    "start_time": "2024-01-17T10:36:54.149Z"
   },
   {
    "duration": 377,
    "start_time": "2024-01-17T10:36:54.539Z"
   },
   {
    "duration": 609,
    "start_time": "2024-01-17T10:36:54.918Z"
   },
   {
    "duration": 703,
    "start_time": "2024-01-17T10:36:55.529Z"
   },
   {
    "duration": 692,
    "start_time": "2024-01-17T10:36:56.234Z"
   },
   {
    "duration": 994,
    "start_time": "2024-01-17T10:36:56.928Z"
   },
   {
    "duration": 0,
    "start_time": "2024-01-17T10:36:57.924Z"
   },
   {
    "duration": 17,
    "start_time": "2024-01-17T11:16:30.143Z"
   },
   {
    "duration": 1198,
    "start_time": "2024-01-17T11:16:36.035Z"
   },
   {
    "duration": 27,
    "start_time": "2024-01-17T11:16:37.235Z"
   },
   {
    "duration": 55,
    "start_time": "2024-01-17T11:16:37.264Z"
   },
   {
    "duration": 74,
    "start_time": "2024-01-17T11:16:37.321Z"
   },
   {
    "duration": 31,
    "start_time": "2024-01-17T11:16:37.397Z"
   },
   {
    "duration": 14,
    "start_time": "2024-01-17T11:16:37.430Z"
   },
   {
    "duration": 94,
    "start_time": "2024-01-17T11:16:37.446Z"
   },
   {
    "duration": 20,
    "start_time": "2024-01-17T11:16:37.541Z"
   },
   {
    "duration": 18,
    "start_time": "2024-01-17T11:16:37.562Z"
   },
   {
    "duration": 29,
    "start_time": "2024-01-17T11:16:37.582Z"
   },
   {
    "duration": 130,
    "start_time": "2024-01-17T11:16:37.614Z"
   },
   {
    "duration": 0,
    "start_time": "2024-01-17T11:16:37.746Z"
   },
   {
    "duration": 0,
    "start_time": "2024-01-17T11:16:37.747Z"
   },
   {
    "duration": 0,
    "start_time": "2024-01-17T11:16:37.749Z"
   },
   {
    "duration": 0,
    "start_time": "2024-01-17T11:16:37.751Z"
   },
   {
    "duration": 0,
    "start_time": "2024-01-17T11:16:37.752Z"
   },
   {
    "duration": 0,
    "start_time": "2024-01-17T11:16:37.754Z"
   },
   {
    "duration": 0,
    "start_time": "2024-01-17T11:16:37.755Z"
   },
   {
    "duration": 0,
    "start_time": "2024-01-17T11:16:37.757Z"
   },
   {
    "duration": 0,
    "start_time": "2024-01-17T11:16:37.758Z"
   },
   {
    "duration": 12,
    "start_time": "2024-01-17T11:17:10.857Z"
   },
   {
    "duration": 13,
    "start_time": "2024-01-17T11:19:11.202Z"
   },
   {
    "duration": 1197,
    "start_time": "2024-01-17T11:19:43.605Z"
   },
   {
    "duration": 8,
    "start_time": "2024-01-17T11:20:17.360Z"
   },
   {
    "duration": 1199,
    "start_time": "2024-01-17T11:22:46.838Z"
   },
   {
    "duration": 27,
    "start_time": "2024-01-17T11:22:48.039Z"
   },
   {
    "duration": 24,
    "start_time": "2024-01-17T11:22:48.068Z"
   },
   {
    "duration": 25,
    "start_time": "2024-01-17T11:22:48.094Z"
   },
   {
    "duration": 23,
    "start_time": "2024-01-17T11:22:48.121Z"
   },
   {
    "duration": 12,
    "start_time": "2024-01-17T11:22:48.145Z"
   },
   {
    "duration": 60,
    "start_time": "2024-01-17T11:22:48.159Z"
   },
   {
    "duration": 20,
    "start_time": "2024-01-17T11:22:48.221Z"
   },
   {
    "duration": 17,
    "start_time": "2024-01-17T11:22:48.243Z"
   },
   {
    "duration": 14,
    "start_time": "2024-01-17T11:22:48.263Z"
   },
   {
    "duration": 23,
    "start_time": "2024-01-17T11:22:48.278Z"
   },
   {
    "duration": 7,
    "start_time": "2024-01-17T11:22:48.302Z"
   },
   {
    "duration": 312,
    "start_time": "2024-01-17T11:22:48.310Z"
   },
   {
    "duration": 333,
    "start_time": "2024-01-17T11:22:48.624Z"
   },
   {
    "duration": 341,
    "start_time": "2024-01-17T11:22:48.959Z"
   },
   {
    "duration": 412,
    "start_time": "2024-01-17T11:22:49.301Z"
   },
   {
    "duration": 338,
    "start_time": "2024-01-17T11:22:49.714Z"
   },
   {
    "duration": 458,
    "start_time": "2024-01-17T11:22:50.054Z"
   },
   {
    "duration": 977,
    "start_time": "2024-01-17T11:22:50.514Z"
   },
   {
    "duration": 0,
    "start_time": "2024-01-17T11:22:51.493Z"
   },
   {
    "duration": 7,
    "start_time": "2024-01-17T11:24:17.067Z"
   },
   {
    "duration": 1014,
    "start_time": "2024-01-17T11:24:45.738Z"
   },
   {
    "duration": 894,
    "start_time": "2024-01-17T11:25:45.332Z"
   },
   {
    "duration": 241,
    "start_time": "2024-01-17T11:26:31.678Z"
   },
   {
    "duration": 162,
    "start_time": "2024-01-17T11:26:56.356Z"
   },
   {
    "duration": 9,
    "start_time": "2024-01-17T11:27:11.773Z"
   },
   {
    "duration": 8,
    "start_time": "2024-01-17T11:27:28.373Z"
   },
   {
    "duration": 4,
    "start_time": "2024-01-17T11:27:35.273Z"
   },
   {
    "duration": 4,
    "start_time": "2024-01-17T11:27:54.396Z"
   },
   {
    "duration": 16,
    "start_time": "2024-01-17T11:30:14.809Z"
   },
   {
    "duration": 7,
    "start_time": "2024-01-17T11:30:25.339Z"
   },
   {
    "duration": 5,
    "start_time": "2024-01-17T11:30:44.991Z"
   },
   {
    "duration": 8,
    "start_time": "2024-01-17T11:30:57.100Z"
   },
   {
    "duration": 5,
    "start_time": "2024-01-17T11:31:36.426Z"
   },
   {
    "duration": 6,
    "start_time": "2024-01-17T11:34:51.435Z"
   },
   {
    "duration": 929,
    "start_time": "2024-01-17T11:35:10.348Z"
   },
   {
    "duration": 5,
    "start_time": "2024-01-17T11:35:18.878Z"
   },
   {
    "duration": 4,
    "start_time": "2024-01-17T11:35:58.718Z"
   },
   {
    "duration": 7,
    "start_time": "2024-01-17T11:36:41.786Z"
   },
   {
    "duration": 1287,
    "start_time": "2024-01-17T11:36:49.925Z"
   },
   {
    "duration": 29,
    "start_time": "2024-01-17T11:36:51.215Z"
   },
   {
    "duration": 34,
    "start_time": "2024-01-17T11:36:51.247Z"
   },
   {
    "duration": 13,
    "start_time": "2024-01-17T11:36:51.283Z"
   },
   {
    "duration": 27,
    "start_time": "2024-01-17T11:36:51.298Z"
   },
   {
    "duration": 12,
    "start_time": "2024-01-17T11:36:51.327Z"
   },
   {
    "duration": 53,
    "start_time": "2024-01-17T11:36:51.342Z"
   },
   {
    "duration": 28,
    "start_time": "2024-01-17T11:36:51.398Z"
   },
   {
    "duration": 28,
    "start_time": "2024-01-17T11:36:51.428Z"
   },
   {
    "duration": 47,
    "start_time": "2024-01-17T11:36:51.458Z"
   },
   {
    "duration": 14,
    "start_time": "2024-01-17T11:36:51.507Z"
   },
   {
    "duration": 8,
    "start_time": "2024-01-17T11:36:51.524Z"
   },
   {
    "duration": 335,
    "start_time": "2024-01-17T11:36:51.534Z"
   },
   {
    "duration": 347,
    "start_time": "2024-01-17T11:36:51.873Z"
   },
   {
    "duration": 338,
    "start_time": "2024-01-17T11:36:52.222Z"
   },
   {
    "duration": 393,
    "start_time": "2024-01-17T11:36:52.562Z"
   },
   {
    "duration": 318,
    "start_time": "2024-01-17T11:36:52.957Z"
   },
   {
    "duration": 475,
    "start_time": "2024-01-17T11:36:53.276Z"
   },
   {
    "duration": 10,
    "start_time": "2024-01-17T11:36:53.753Z"
   },
   {
    "duration": 226,
    "start_time": "2024-01-17T11:36:53.766Z"
   },
   {
    "duration": 4,
    "start_time": "2024-01-17T11:36:53.995Z"
   },
   {
    "duration": 16,
    "start_time": "2024-01-17T11:36:54.002Z"
   },
   {
    "duration": 30,
    "start_time": "2024-01-17T11:36:54.020Z"
   },
   {
    "duration": 14,
    "start_time": "2024-01-17T11:36:54.053Z"
   },
   {
    "duration": 28,
    "start_time": "2024-01-17T11:36:54.068Z"
   },
   {
    "duration": 4,
    "start_time": "2024-01-17T11:37:21.844Z"
   },
   {
    "duration": 4,
    "start_time": "2024-01-17T11:38:31.866Z"
   },
   {
    "duration": 4,
    "start_time": "2024-01-17T11:38:41.618Z"
   },
   {
    "duration": 112,
    "start_time": "2024-01-17T11:39:12.735Z"
   },
   {
    "duration": 146,
    "start_time": "2024-01-17T11:40:54.324Z"
   },
   {
    "duration": 189,
    "start_time": "2024-01-17T11:41:55.478Z"
   },
   {
    "duration": 240,
    "start_time": "2024-01-17T11:42:09.262Z"
   },
   {
    "duration": 137,
    "start_time": "2024-01-17T11:42:22.510Z"
   },
   {
    "duration": 152,
    "start_time": "2024-01-17T11:43:03.893Z"
   },
   {
    "duration": 5,
    "start_time": "2024-01-17T12:09:15.606Z"
   },
   {
    "duration": 4,
    "start_time": "2024-01-17T12:09:23.403Z"
   },
   {
    "duration": 5,
    "start_time": "2024-01-17T12:10:33.521Z"
   },
   {
    "duration": 4,
    "start_time": "2024-01-17T12:10:45.856Z"
   },
   {
    "duration": 4,
    "start_time": "2024-01-17T12:11:10.525Z"
   },
   {
    "duration": 4,
    "start_time": "2024-01-17T12:11:12.370Z"
   },
   {
    "duration": 117,
    "start_time": "2024-01-17T12:23:59.772Z"
   },
   {
    "duration": 10,
    "start_time": "2024-01-17T12:24:16.299Z"
   },
   {
    "duration": 8,
    "start_time": "2024-01-17T12:24:37.264Z"
   },
   {
    "duration": 10,
    "start_time": "2024-01-17T12:27:50.958Z"
   },
   {
    "duration": 15,
    "start_time": "2024-01-17T12:28:00.445Z"
   },
   {
    "duration": 27,
    "start_time": "2024-01-17T12:28:13.401Z"
   },
   {
    "duration": 21,
    "start_time": "2024-01-17T12:28:58.851Z"
   },
   {
    "duration": 18,
    "start_time": "2024-01-17T12:31:06.447Z"
   },
   {
    "duration": 18,
    "start_time": "2024-01-17T12:31:10.367Z"
   },
   {
    "duration": 18,
    "start_time": "2024-01-17T12:31:13.616Z"
   },
   {
    "duration": 17,
    "start_time": "2024-01-17T12:31:17.574Z"
   },
   {
    "duration": 34,
    "start_time": "2024-01-17T12:32:20.470Z"
   },
   {
    "duration": 22,
    "start_time": "2024-01-17T12:36:20.627Z"
   },
   {
    "duration": 14,
    "start_time": "2024-01-17T12:37:23.341Z"
   },
   {
    "duration": 153,
    "start_time": "2024-01-17T12:37:42.959Z"
   },
   {
    "duration": 225,
    "start_time": "2024-01-17T12:38:08.572Z"
   },
   {
    "duration": 1337,
    "start_time": "2024-01-17T12:38:25.961Z"
   },
   {
    "duration": 27,
    "start_time": "2024-01-17T12:38:27.300Z"
   },
   {
    "duration": 24,
    "start_time": "2024-01-17T12:38:27.328Z"
   },
   {
    "duration": 29,
    "start_time": "2024-01-17T12:38:27.354Z"
   },
   {
    "duration": 16,
    "start_time": "2024-01-17T12:38:27.386Z"
   },
   {
    "duration": 11,
    "start_time": "2024-01-17T12:38:27.404Z"
   },
   {
    "duration": 66,
    "start_time": "2024-01-17T12:38:27.417Z"
   },
   {
    "duration": 20,
    "start_time": "2024-01-17T12:38:27.484Z"
   },
   {
    "duration": 18,
    "start_time": "2024-01-17T12:38:27.506Z"
   },
   {
    "duration": 14,
    "start_time": "2024-01-17T12:38:27.526Z"
   },
   {
    "duration": 22,
    "start_time": "2024-01-17T12:38:27.541Z"
   },
   {
    "duration": 29,
    "start_time": "2024-01-17T12:38:27.565Z"
   },
   {
    "duration": 19,
    "start_time": "2024-01-17T12:38:27.595Z"
   },
   {
    "duration": 425,
    "start_time": "2024-01-17T12:38:27.617Z"
   },
   {
    "duration": 142,
    "start_time": "2024-01-17T12:38:28.044Z"
   },
   {
    "duration": 0,
    "start_time": "2024-01-17T12:38:28.188Z"
   },
   {
    "duration": 0,
    "start_time": "2024-01-17T12:38:28.189Z"
   },
   {
    "duration": 0,
    "start_time": "2024-01-17T12:38:28.191Z"
   },
   {
    "duration": 0,
    "start_time": "2024-01-17T12:38:28.193Z"
   },
   {
    "duration": 0,
    "start_time": "2024-01-17T12:38:28.194Z"
   },
   {
    "duration": 0,
    "start_time": "2024-01-17T12:38:28.195Z"
   },
   {
    "duration": 0,
    "start_time": "2024-01-17T12:38:28.196Z"
   },
   {
    "duration": 0,
    "start_time": "2024-01-17T12:38:28.197Z"
   },
   {
    "duration": 0,
    "start_time": "2024-01-17T12:38:28.199Z"
   },
   {
    "duration": 0,
    "start_time": "2024-01-17T12:38:28.200Z"
   },
   {
    "duration": 0,
    "start_time": "2024-01-17T12:38:28.201Z"
   },
   {
    "duration": 0,
    "start_time": "2024-01-17T12:38:28.202Z"
   },
   {
    "duration": 0,
    "start_time": "2024-01-17T12:38:28.204Z"
   },
   {
    "duration": 0,
    "start_time": "2024-01-17T12:38:28.205Z"
   },
   {
    "duration": 0,
    "start_time": "2024-01-17T12:38:28.206Z"
   },
   {
    "duration": 36,
    "start_time": "2024-01-17T12:40:42.267Z"
   },
   {
    "duration": 28,
    "start_time": "2024-01-17T12:43:22.385Z"
   },
   {
    "duration": 30,
    "start_time": "2024-01-17T12:44:52.646Z"
   },
   {
    "duration": 40,
    "start_time": "2024-01-17T12:46:18.928Z"
   },
   {
    "duration": 33,
    "start_time": "2024-01-17T12:46:59.135Z"
   },
   {
    "duration": 30,
    "start_time": "2024-01-17T12:47:09.942Z"
   },
   {
    "duration": 34,
    "start_time": "2024-01-17T12:47:35.935Z"
   },
   {
    "duration": 39,
    "start_time": "2024-01-17T12:49:26.534Z"
   },
   {
    "duration": 17,
    "start_time": "2024-01-17T12:50:54.705Z"
   },
   {
    "duration": 13,
    "start_time": "2024-01-17T12:51:24.053Z"
   },
   {
    "duration": 1240,
    "start_time": "2024-01-17T12:51:41.051Z"
   },
   {
    "duration": 27,
    "start_time": "2024-01-17T12:51:42.293Z"
   },
   {
    "duration": 24,
    "start_time": "2024-01-17T12:51:42.321Z"
   },
   {
    "duration": 10,
    "start_time": "2024-01-17T12:51:42.346Z"
   },
   {
    "duration": 21,
    "start_time": "2024-01-17T12:51:42.358Z"
   },
   {
    "duration": 12,
    "start_time": "2024-01-17T12:51:42.380Z"
   },
   {
    "duration": 53,
    "start_time": "2024-01-17T12:51:42.393Z"
   },
   {
    "duration": 21,
    "start_time": "2024-01-17T12:51:42.448Z"
   },
   {
    "duration": 17,
    "start_time": "2024-01-17T12:51:42.470Z"
   },
   {
    "duration": 14,
    "start_time": "2024-01-17T12:51:42.489Z"
   },
   {
    "duration": 23,
    "start_time": "2024-01-17T12:51:42.504Z"
   },
   {
    "duration": 10,
    "start_time": "2024-01-17T12:51:42.529Z"
   },
   {
    "duration": 15,
    "start_time": "2024-01-17T12:51:42.540Z"
   },
   {
    "duration": 325,
    "start_time": "2024-01-17T12:51:42.558Z"
   },
   {
    "duration": 123,
    "start_time": "2024-01-17T12:51:42.884Z"
   },
   {
    "duration": 0,
    "start_time": "2024-01-17T12:51:43.009Z"
   },
   {
    "duration": 0,
    "start_time": "2024-01-17T12:51:43.010Z"
   },
   {
    "duration": 0,
    "start_time": "2024-01-17T12:51:43.011Z"
   },
   {
    "duration": 0,
    "start_time": "2024-01-17T12:51:43.012Z"
   },
   {
    "duration": 0,
    "start_time": "2024-01-17T12:51:43.014Z"
   },
   {
    "duration": 0,
    "start_time": "2024-01-17T12:51:43.015Z"
   },
   {
    "duration": 0,
    "start_time": "2024-01-17T12:51:43.016Z"
   },
   {
    "duration": 0,
    "start_time": "2024-01-17T12:51:43.017Z"
   },
   {
    "duration": 0,
    "start_time": "2024-01-17T12:51:43.018Z"
   },
   {
    "duration": 0,
    "start_time": "2024-01-17T12:51:43.019Z"
   },
   {
    "duration": 0,
    "start_time": "2024-01-17T12:51:43.020Z"
   },
   {
    "duration": 0,
    "start_time": "2024-01-17T12:51:43.022Z"
   },
   {
    "duration": 0,
    "start_time": "2024-01-17T12:51:43.023Z"
   },
   {
    "duration": 0,
    "start_time": "2024-01-17T12:51:43.024Z"
   },
   {
    "duration": 0,
    "start_time": "2024-01-17T12:51:43.025Z"
   },
   {
    "duration": 14,
    "start_time": "2024-01-17T12:51:50.486Z"
   },
   {
    "duration": 1252,
    "start_time": "2024-01-17T12:52:31.040Z"
   },
   {
    "duration": 27,
    "start_time": "2024-01-17T12:52:32.294Z"
   },
   {
    "duration": 24,
    "start_time": "2024-01-17T12:52:32.323Z"
   },
   {
    "duration": 11,
    "start_time": "2024-01-17T12:52:32.349Z"
   },
   {
    "duration": 32,
    "start_time": "2024-01-17T12:52:32.362Z"
   },
   {
    "duration": 18,
    "start_time": "2024-01-17T12:52:32.396Z"
   },
   {
    "duration": 55,
    "start_time": "2024-01-17T12:52:32.416Z"
   },
   {
    "duration": 20,
    "start_time": "2024-01-17T12:52:32.473Z"
   },
   {
    "duration": 19,
    "start_time": "2024-01-17T12:52:32.494Z"
   },
   {
    "duration": 16,
    "start_time": "2024-01-17T12:52:32.515Z"
   },
   {
    "duration": 21,
    "start_time": "2024-01-17T12:52:32.533Z"
   },
   {
    "duration": 7,
    "start_time": "2024-01-17T12:52:32.556Z"
   },
   {
    "duration": 42,
    "start_time": "2024-01-17T12:52:32.565Z"
   },
   {
    "duration": 352,
    "start_time": "2024-01-17T12:52:32.609Z"
   },
   {
    "duration": 115,
    "start_time": "2024-01-17T12:52:32.963Z"
   },
   {
    "duration": 0,
    "start_time": "2024-01-17T12:52:33.079Z"
   },
   {
    "duration": 0,
    "start_time": "2024-01-17T12:52:33.081Z"
   },
   {
    "duration": 0,
    "start_time": "2024-01-17T12:52:33.082Z"
   },
   {
    "duration": 0,
    "start_time": "2024-01-17T12:52:33.091Z"
   },
   {
    "duration": 0,
    "start_time": "2024-01-17T12:52:33.093Z"
   },
   {
    "duration": 0,
    "start_time": "2024-01-17T12:52:33.094Z"
   },
   {
    "duration": 0,
    "start_time": "2024-01-17T12:52:33.095Z"
   },
   {
    "duration": 0,
    "start_time": "2024-01-17T12:52:33.096Z"
   },
   {
    "duration": 0,
    "start_time": "2024-01-17T12:52:33.097Z"
   },
   {
    "duration": 0,
    "start_time": "2024-01-17T12:52:33.098Z"
   },
   {
    "duration": 0,
    "start_time": "2024-01-17T12:52:33.099Z"
   },
   {
    "duration": 0,
    "start_time": "2024-01-17T12:52:33.100Z"
   },
   {
    "duration": 0,
    "start_time": "2024-01-17T12:52:33.102Z"
   },
   {
    "duration": 0,
    "start_time": "2024-01-17T12:52:33.103Z"
   },
   {
    "duration": 0,
    "start_time": "2024-01-17T12:52:33.104Z"
   },
   {
    "duration": 13,
    "start_time": "2024-01-17T12:56:39.179Z"
   },
   {
    "duration": 4396,
    "start_time": "2024-01-17T12:58:11.072Z"
   },
   {
    "duration": 11,
    "start_time": "2024-01-17T12:58:19.816Z"
   },
   {
    "duration": 224,
    "start_time": "2024-01-17T12:58:23.157Z"
   },
   {
    "duration": 4497,
    "start_time": "2024-01-17T12:59:00.819Z"
   },
   {
    "duration": 355,
    "start_time": "2024-01-17T12:59:11.965Z"
   },
   {
    "duration": 1220,
    "start_time": "2024-01-17T12:59:20.223Z"
   },
   {
    "duration": 27,
    "start_time": "2024-01-17T12:59:21.446Z"
   },
   {
    "duration": 23,
    "start_time": "2024-01-17T12:59:21.475Z"
   },
   {
    "duration": 11,
    "start_time": "2024-01-17T12:59:21.500Z"
   },
   {
    "duration": 13,
    "start_time": "2024-01-17T12:59:21.513Z"
   },
   {
    "duration": 25,
    "start_time": "2024-01-17T12:59:21.528Z"
   },
   {
    "duration": 59,
    "start_time": "2024-01-17T12:59:21.555Z"
   },
   {
    "duration": 25,
    "start_time": "2024-01-17T12:59:21.616Z"
   },
   {
    "duration": 53,
    "start_time": "2024-01-17T12:59:21.642Z"
   },
   {
    "duration": 22,
    "start_time": "2024-01-17T12:59:21.699Z"
   },
   {
    "duration": 12,
    "start_time": "2024-01-17T12:59:21.722Z"
   },
   {
    "duration": 7,
    "start_time": "2024-01-17T12:59:21.736Z"
   },
   {
    "duration": 5268,
    "start_time": "2024-01-17T12:59:21.744Z"
   },
   {
    "duration": 10,
    "start_time": "2024-01-17T12:59:27.014Z"
   },
   {
    "duration": 256,
    "start_time": "2024-01-17T12:59:27.026Z"
   },
   {
    "duration": 0,
    "start_time": "2024-01-17T12:59:27.284Z"
   },
   {
    "duration": 0,
    "start_time": "2024-01-17T12:59:27.292Z"
   },
   {
    "duration": 0,
    "start_time": "2024-01-17T12:59:27.293Z"
   },
   {
    "duration": 0,
    "start_time": "2024-01-17T12:59:27.294Z"
   },
   {
    "duration": 0,
    "start_time": "2024-01-17T12:59:27.295Z"
   },
   {
    "duration": 0,
    "start_time": "2024-01-17T12:59:27.296Z"
   },
   {
    "duration": 0,
    "start_time": "2024-01-17T12:59:27.297Z"
   },
   {
    "duration": 0,
    "start_time": "2024-01-17T12:59:27.299Z"
   },
   {
    "duration": 0,
    "start_time": "2024-01-17T12:59:27.300Z"
   },
   {
    "duration": 0,
    "start_time": "2024-01-17T12:59:27.302Z"
   },
   {
    "duration": 0,
    "start_time": "2024-01-17T12:59:27.303Z"
   },
   {
    "duration": 0,
    "start_time": "2024-01-17T12:59:27.305Z"
   },
   {
    "duration": 0,
    "start_time": "2024-01-17T12:59:27.308Z"
   },
   {
    "duration": 0,
    "start_time": "2024-01-17T12:59:27.309Z"
   },
   {
    "duration": 0,
    "start_time": "2024-01-17T12:59:27.311Z"
   },
   {
    "duration": 0,
    "start_time": "2024-01-17T12:59:27.312Z"
   },
   {
    "duration": 326,
    "start_time": "2024-01-17T13:00:48.193Z"
   },
   {
    "duration": 238,
    "start_time": "2024-01-17T13:00:55.372Z"
   },
   {
    "duration": 511,
    "start_time": "2024-01-17T13:01:39.396Z"
   },
   {
    "duration": 295,
    "start_time": "2024-01-17T13:01:55.074Z"
   },
   {
    "duration": 318,
    "start_time": "2024-01-17T13:02:01.747Z"
   },
   {
    "duration": 303,
    "start_time": "2024-01-17T13:02:23.902Z"
   },
   {
    "duration": 317,
    "start_time": "2024-01-17T13:02:29.176Z"
   },
   {
    "duration": 313,
    "start_time": "2024-01-17T13:02:34.046Z"
   },
   {
    "duration": 316,
    "start_time": "2024-01-17T13:02:39.756Z"
   },
   {
    "duration": 326,
    "start_time": "2024-01-17T13:02:53.585Z"
   },
   {
    "duration": 1226,
    "start_time": "2024-01-17T13:03:04.103Z"
   },
   {
    "duration": 27,
    "start_time": "2024-01-17T13:03:05.331Z"
   },
   {
    "duration": 33,
    "start_time": "2024-01-17T13:03:05.360Z"
   },
   {
    "duration": 59,
    "start_time": "2024-01-17T13:03:05.396Z"
   },
   {
    "duration": 61,
    "start_time": "2024-01-17T13:03:05.457Z"
   },
   {
    "duration": 14,
    "start_time": "2024-01-17T13:03:05.520Z"
   },
   {
    "duration": 65,
    "start_time": "2024-01-17T13:03:05.536Z"
   },
   {
    "duration": 22,
    "start_time": "2024-01-17T13:03:05.603Z"
   },
   {
    "duration": 27,
    "start_time": "2024-01-17T13:03:05.627Z"
   },
   {
    "duration": 28,
    "start_time": "2024-01-17T13:03:05.658Z"
   },
   {
    "duration": 44,
    "start_time": "2024-01-17T13:03:05.688Z"
   },
   {
    "duration": 18,
    "start_time": "2024-01-17T13:03:05.733Z"
   },
   {
    "duration": 4605,
    "start_time": "2024-01-17T13:03:05.752Z"
   },
   {
    "duration": 10,
    "start_time": "2024-01-17T13:03:10.358Z"
   },
   {
    "duration": 399,
    "start_time": "2024-01-17T13:03:10.370Z"
   },
   {
    "duration": 346,
    "start_time": "2024-01-17T13:03:10.771Z"
   },
   {
    "duration": 5546,
    "start_time": "2024-01-17T13:03:11.119Z"
   },
   {
    "duration": 425,
    "start_time": "2024-01-17T13:03:16.667Z"
   },
   {
    "duration": 4716,
    "start_time": "2024-01-17T13:03:17.093Z"
   },
   {
    "duration": 7,
    "start_time": "2024-01-17T13:03:21.811Z"
   },
   {
    "duration": 182,
    "start_time": "2024-01-17T13:03:21.819Z"
   },
   {
    "duration": 5,
    "start_time": "2024-01-17T13:03:22.003Z"
   },
   {
    "duration": 20,
    "start_time": "2024-01-17T13:03:22.009Z"
   },
   {
    "duration": 5,
    "start_time": "2024-01-17T13:03:22.030Z"
   },
   {
    "duration": 15,
    "start_time": "2024-01-17T13:03:22.036Z"
   },
   {
    "duration": 11,
    "start_time": "2024-01-17T13:03:22.052Z"
   },
   {
    "duration": 15,
    "start_time": "2024-01-17T13:03:22.065Z"
   },
   {
    "duration": 154,
    "start_time": "2024-01-17T13:03:22.091Z"
   },
   {
    "duration": 4,
    "start_time": "2024-01-17T13:03:22.246Z"
   },
   {
    "duration": 7,
    "start_time": "2024-01-17T13:03:22.252Z"
   },
   {
    "duration": 134,
    "start_time": "2024-01-17T13:03:22.261Z"
   },
   {
    "duration": 243,
    "start_time": "2024-01-17T13:04:34.663Z"
   },
   {
    "duration": 401,
    "start_time": "2024-01-17T13:05:05.592Z"
   },
   {
    "duration": 38,
    "start_time": "2024-01-17T13:11:52.123Z"
   },
   {
    "duration": 410,
    "start_time": "2024-01-17T13:12:49.896Z"
   },
   {
    "duration": 4,
    "start_time": "2024-01-17T14:26:32.615Z"
   },
   {
    "duration": 94,
    "start_time": "2024-01-17T14:26:50.691Z"
   },
   {
    "duration": 93,
    "start_time": "2024-01-17T14:27:10.187Z"
   },
   {
    "duration": 12,
    "start_time": "2024-01-17T14:28:19.122Z"
   },
   {
    "duration": 12,
    "start_time": "2024-01-17T14:29:03.723Z"
   },
   {
    "duration": 1221,
    "start_time": "2024-01-17T14:39:37.676Z"
   },
   {
    "duration": 13,
    "start_time": "2024-01-17T14:41:21.735Z"
   },
   {
    "duration": 1294,
    "start_time": "2024-01-17T14:41:56.989Z"
   },
   {
    "duration": 27,
    "start_time": "2024-01-17T14:41:58.286Z"
   },
   {
    "duration": 24,
    "start_time": "2024-01-17T14:41:58.315Z"
   },
   {
    "duration": 62,
    "start_time": "2024-01-17T14:41:58.341Z"
   },
   {
    "duration": 31,
    "start_time": "2024-01-17T14:41:58.405Z"
   },
   {
    "duration": 13,
    "start_time": "2024-01-17T14:41:58.438Z"
   },
   {
    "duration": 67,
    "start_time": "2024-01-17T14:41:58.453Z"
   },
   {
    "duration": 29,
    "start_time": "2024-01-17T14:41:58.522Z"
   },
   {
    "duration": 22,
    "start_time": "2024-01-17T14:41:58.553Z"
   },
   {
    "duration": 22,
    "start_time": "2024-01-17T14:41:58.578Z"
   },
   {
    "duration": 20,
    "start_time": "2024-01-17T14:41:58.602Z"
   },
   {
    "duration": 17,
    "start_time": "2024-01-17T14:41:58.624Z"
   },
   {
    "duration": 4649,
    "start_time": "2024-01-17T14:41:58.644Z"
   },
   {
    "duration": 10,
    "start_time": "2024-01-17T14:42:03.294Z"
   },
   {
    "duration": 443,
    "start_time": "2024-01-17T14:42:03.305Z"
   },
   {
    "duration": 390,
    "start_time": "2024-01-17T14:42:03.750Z"
   },
   {
    "duration": 4814,
    "start_time": "2024-01-17T14:42:04.141Z"
   },
   {
    "duration": 418,
    "start_time": "2024-01-17T14:42:08.956Z"
   },
   {
    "duration": 4781,
    "start_time": "2024-01-17T14:42:09.375Z"
   },
   {
    "duration": 8,
    "start_time": "2024-01-17T14:42:14.158Z"
   },
   {
    "duration": 188,
    "start_time": "2024-01-17T14:42:14.168Z"
   },
   {
    "duration": 5,
    "start_time": "2024-01-17T14:42:14.357Z"
   },
   {
    "duration": 11,
    "start_time": "2024-01-17T14:42:14.364Z"
   },
   {
    "duration": 5,
    "start_time": "2024-01-17T14:42:14.390Z"
   },
   {
    "duration": 5,
    "start_time": "2024-01-17T14:42:14.397Z"
   },
   {
    "duration": 5,
    "start_time": "2024-01-17T14:42:14.404Z"
   },
   {
    "duration": 6,
    "start_time": "2024-01-17T14:42:14.410Z"
   },
   {
    "duration": 185,
    "start_time": "2024-01-17T14:42:14.421Z"
   },
   {
    "duration": 4,
    "start_time": "2024-01-17T14:42:14.608Z"
   },
   {
    "duration": 4,
    "start_time": "2024-01-17T14:42:14.613Z"
   },
   {
    "duration": 286,
    "start_time": "2024-01-17T14:42:14.619Z"
   },
   {
    "duration": 0,
    "start_time": "2024-01-17T14:42:14.907Z"
   },
   {
    "duration": 0,
    "start_time": "2024-01-17T14:42:14.908Z"
   },
   {
    "duration": 0,
    "start_time": "2024-01-17T14:42:14.909Z"
   },
   {
    "duration": 14,
    "start_time": "2024-01-17T14:42:35.195Z"
   },
   {
    "duration": 18,
    "start_time": "2024-01-17T14:42:38.473Z"
   },
   {
    "duration": 9,
    "start_time": "2024-01-17T14:43:43.613Z"
   },
   {
    "duration": 380,
    "start_time": "2024-01-17T14:45:21.507Z"
   },
   {
    "duration": 12,
    "start_time": "2024-01-17T14:45:24.960Z"
   },
   {
    "duration": 12,
    "start_time": "2024-01-17T14:45:28.047Z"
   },
   {
    "duration": 387,
    "start_time": "2024-01-17T14:47:55.560Z"
   },
   {
    "duration": 12,
    "start_time": "2024-01-17T14:50:07.418Z"
   },
   {
    "duration": 13,
    "start_time": "2024-01-17T14:50:23.204Z"
   },
   {
    "duration": 8,
    "start_time": "2024-01-17T14:51:27.707Z"
   },
   {
    "duration": 9,
    "start_time": "2024-01-17T14:51:45.981Z"
   },
   {
    "duration": 1174,
    "start_time": "2024-01-17T14:52:23.520Z"
   },
   {
    "duration": 1124,
    "start_time": "2024-01-17T14:52:48.438Z"
   },
   {
    "duration": 8,
    "start_time": "2024-01-17T14:53:03.943Z"
   },
   {
    "duration": 30,
    "start_time": "2024-01-17T14:53:10.627Z"
   },
   {
    "duration": 19,
    "start_time": "2024-01-17T14:56:19.979Z"
   },
   {
    "duration": 18,
    "start_time": "2024-01-17T14:57:37.420Z"
   },
   {
    "duration": 1145,
    "start_time": "2024-01-17T16:15:17.731Z"
   },
   {
    "duration": 27,
    "start_time": "2024-01-17T16:15:18.878Z"
   },
   {
    "duration": 23,
    "start_time": "2024-01-17T16:15:18.907Z"
   },
   {
    "duration": 10,
    "start_time": "2024-01-17T16:15:18.932Z"
   },
   {
    "duration": 35,
    "start_time": "2024-01-17T16:15:18.944Z"
   },
   {
    "duration": 23,
    "start_time": "2024-01-17T16:15:18.980Z"
   },
   {
    "duration": 70,
    "start_time": "2024-01-17T16:15:19.004Z"
   },
   {
    "duration": 20,
    "start_time": "2024-01-17T16:15:19.076Z"
   },
   {
    "duration": 17,
    "start_time": "2024-01-17T16:15:19.097Z"
   },
   {
    "duration": 15,
    "start_time": "2024-01-17T16:15:19.116Z"
   },
   {
    "duration": 39,
    "start_time": "2024-01-17T16:15:19.132Z"
   },
   {
    "duration": 14,
    "start_time": "2024-01-17T16:15:19.173Z"
   },
   {
    "duration": 4299,
    "start_time": "2024-01-17T16:15:19.189Z"
   },
   {
    "duration": 12,
    "start_time": "2024-01-17T16:15:23.490Z"
   },
   {
    "duration": 416,
    "start_time": "2024-01-17T16:15:23.503Z"
   },
   {
    "duration": 347,
    "start_time": "2024-01-17T16:15:23.921Z"
   },
   {
    "duration": 4710,
    "start_time": "2024-01-17T16:15:24.270Z"
   },
   {
    "duration": 407,
    "start_time": "2024-01-17T16:15:28.983Z"
   },
   {
    "duration": 4703,
    "start_time": "2024-01-17T16:15:29.393Z"
   },
   {
    "duration": 7,
    "start_time": "2024-01-17T16:15:34.098Z"
   },
   {
    "duration": 190,
    "start_time": "2024-01-17T16:15:34.107Z"
   },
   {
    "duration": 4,
    "start_time": "2024-01-17T16:15:34.299Z"
   },
   {
    "duration": 13,
    "start_time": "2024-01-17T16:15:34.304Z"
   },
   {
    "duration": 7,
    "start_time": "2024-01-17T16:15:34.318Z"
   },
   {
    "duration": 7,
    "start_time": "2024-01-17T16:15:34.327Z"
   },
   {
    "duration": 6,
    "start_time": "2024-01-17T16:15:34.335Z"
   },
   {
    "duration": 14,
    "start_time": "2024-01-17T16:15:34.343Z"
   },
   {
    "duration": 162,
    "start_time": "2024-01-17T16:15:34.360Z"
   },
   {
    "duration": 5,
    "start_time": "2024-01-17T16:15:34.524Z"
   },
   {
    "duration": 5,
    "start_time": "2024-01-17T16:15:34.531Z"
   },
   {
    "duration": 380,
    "start_time": "2024-01-17T16:15:34.538Z"
   },
   {
    "duration": 11,
    "start_time": "2024-01-17T16:15:34.919Z"
   },
   {
    "duration": 8,
    "start_time": "2024-01-17T16:15:34.932Z"
   },
   {
    "duration": 16,
    "start_time": "2024-01-17T16:15:34.941Z"
   },
   {
    "duration": 47,
    "start_time": "2024-01-17T16:15:34.959Z"
   },
   {
    "duration": 18,
    "start_time": "2024-01-17T16:15:35.008Z"
   },
   {
    "duration": 125,
    "start_time": "2024-01-17T16:20:05.853Z"
   },
   {
    "duration": 87,
    "start_time": "2024-01-17T16:20:21.553Z"
   },
   {
    "duration": 12,
    "start_time": "2024-01-17T16:20:35.817Z"
   },
   {
    "duration": 87,
    "start_time": "2024-01-17T16:21:21.186Z"
   },
   {
    "duration": 84,
    "start_time": "2024-01-17T16:21:27.952Z"
   },
   {
    "duration": 11,
    "start_time": "2024-01-17T16:21:38.778Z"
   },
   {
    "duration": 1277,
    "start_time": "2024-01-17T16:21:53.807Z"
   },
   {
    "duration": 27,
    "start_time": "2024-01-17T16:21:55.086Z"
   },
   {
    "duration": 22,
    "start_time": "2024-01-17T16:21:55.115Z"
   },
   {
    "duration": 12,
    "start_time": "2024-01-17T16:21:55.139Z"
   },
   {
    "duration": 21,
    "start_time": "2024-01-17T16:21:55.153Z"
   },
   {
    "duration": 20,
    "start_time": "2024-01-17T16:21:55.176Z"
   },
   {
    "duration": 51,
    "start_time": "2024-01-17T16:21:55.198Z"
   },
   {
    "duration": 22,
    "start_time": "2024-01-17T16:21:55.251Z"
   },
   {
    "duration": 19,
    "start_time": "2024-01-17T16:21:55.275Z"
   },
   {
    "duration": 16,
    "start_time": "2024-01-17T16:21:55.297Z"
   },
   {
    "duration": 14,
    "start_time": "2024-01-17T16:21:55.315Z"
   },
   {
    "duration": 14,
    "start_time": "2024-01-17T16:21:55.331Z"
   },
   {
    "duration": 4435,
    "start_time": "2024-01-17T16:21:55.347Z"
   },
   {
    "duration": 11,
    "start_time": "2024-01-17T16:21:59.784Z"
   },
   {
    "duration": 497,
    "start_time": "2024-01-17T16:21:59.797Z"
   },
   {
    "duration": 356,
    "start_time": "2024-01-17T16:22:00.296Z"
   },
   {
    "duration": 4777,
    "start_time": "2024-01-17T16:22:00.654Z"
   },
   {
    "duration": 413,
    "start_time": "2024-01-17T16:22:05.433Z"
   },
   {
    "duration": 4641,
    "start_time": "2024-01-17T16:22:05.847Z"
   },
   {
    "duration": 9,
    "start_time": "2024-01-17T16:22:10.489Z"
   },
   {
    "duration": 177,
    "start_time": "2024-01-17T16:22:10.499Z"
   },
   {
    "duration": 4,
    "start_time": "2024-01-17T16:22:10.678Z"
   },
   {
    "duration": 7,
    "start_time": "2024-01-17T16:22:10.691Z"
   },
   {
    "duration": 4,
    "start_time": "2024-01-17T16:22:10.700Z"
   },
   {
    "duration": 6,
    "start_time": "2024-01-17T16:22:10.706Z"
   },
   {
    "duration": 13,
    "start_time": "2024-01-17T16:22:10.714Z"
   },
   {
    "duration": 7,
    "start_time": "2024-01-17T16:22:10.729Z"
   },
   {
    "duration": 165,
    "start_time": "2024-01-17T16:22:10.740Z"
   },
   {
    "duration": 5,
    "start_time": "2024-01-17T16:22:10.906Z"
   },
   {
    "duration": 6,
    "start_time": "2024-01-17T16:22:10.912Z"
   },
   {
    "duration": 417,
    "start_time": "2024-01-17T16:22:10.919Z"
   },
   {
    "duration": 11,
    "start_time": "2024-01-17T16:22:11.338Z"
   },
   {
    "duration": 8,
    "start_time": "2024-01-17T16:22:11.351Z"
   },
   {
    "duration": 10,
    "start_time": "2024-01-17T16:22:11.360Z"
   },
   {
    "duration": 26,
    "start_time": "2024-01-17T16:22:11.391Z"
   },
   {
    "duration": 17,
    "start_time": "2024-01-17T16:22:11.418Z"
   },
   {
    "duration": 1255,
    "start_time": "2024-01-17T16:33:19.971Z"
   },
   {
    "duration": 69,
    "start_time": "2024-01-17T16:33:21.228Z"
   },
   {
    "duration": 22,
    "start_time": "2024-01-17T16:33:21.299Z"
   },
   {
    "duration": 9,
    "start_time": "2024-01-17T16:33:21.323Z"
   },
   {
    "duration": 21,
    "start_time": "2024-01-17T16:33:21.334Z"
   },
   {
    "duration": 11,
    "start_time": "2024-01-17T16:33:21.356Z"
   },
   {
    "duration": 131,
    "start_time": "2024-01-17T16:33:21.368Z"
   },
   {
    "duration": 18,
    "start_time": "2024-01-17T16:33:21.500Z"
   },
   {
    "duration": 15,
    "start_time": "2024-01-17T16:33:21.519Z"
   },
   {
    "duration": 13,
    "start_time": "2024-01-17T16:33:21.535Z"
   },
   {
    "duration": 11,
    "start_time": "2024-01-17T16:33:21.549Z"
   },
   {
    "duration": 6,
    "start_time": "2024-01-17T16:33:21.561Z"
   },
   {
    "duration": 3911,
    "start_time": "2024-01-17T16:33:21.568Z"
   },
   {
    "duration": 8,
    "start_time": "2024-01-17T16:33:25.482Z"
   },
   {
    "duration": 344,
    "start_time": "2024-01-17T16:33:25.491Z"
   },
   {
    "duration": 319,
    "start_time": "2024-01-17T16:33:25.836Z"
   },
   {
    "duration": 4338,
    "start_time": "2024-01-17T16:33:26.156Z"
   },
   {
    "duration": 373,
    "start_time": "2024-01-17T16:33:30.495Z"
   },
   {
    "duration": 4232,
    "start_time": "2024-01-17T16:33:30.870Z"
   },
   {
    "duration": 14,
    "start_time": "2024-01-17T16:33:35.104Z"
   },
   {
    "duration": 153,
    "start_time": "2024-01-17T16:33:35.120Z"
   },
   {
    "duration": 4,
    "start_time": "2024-01-17T16:33:35.275Z"
   },
   {
    "duration": 11,
    "start_time": "2024-01-17T16:33:35.280Z"
   },
   {
    "duration": 4,
    "start_time": "2024-01-17T16:33:35.292Z"
   },
   {
    "duration": 21,
    "start_time": "2024-01-17T16:33:35.297Z"
   },
   {
    "duration": 5,
    "start_time": "2024-01-17T16:33:35.320Z"
   },
   {
    "duration": 6,
    "start_time": "2024-01-17T16:33:35.326Z"
   },
   {
    "duration": 144,
    "start_time": "2024-01-17T16:33:35.333Z"
   },
   {
    "duration": 4,
    "start_time": "2024-01-17T16:33:35.478Z"
   },
   {
    "duration": 5,
    "start_time": "2024-01-17T16:33:35.483Z"
   },
   {
    "duration": 330,
    "start_time": "2024-01-17T16:33:35.489Z"
   },
   {
    "duration": 10,
    "start_time": "2024-01-17T16:33:35.820Z"
   },
   {
    "duration": 7,
    "start_time": "2024-01-17T16:33:35.831Z"
   },
   {
    "duration": 8,
    "start_time": "2024-01-17T16:33:35.839Z"
   },
   {
    "duration": 27,
    "start_time": "2024-01-17T16:33:35.848Z"
   },
   {
    "duration": 41,
    "start_time": "2024-01-17T16:33:35.877Z"
   },
   {
    "duration": 1345,
    "start_time": "2024-01-17T16:57:23.003Z"
   },
   {
    "duration": 1191,
    "start_time": "2024-01-17T16:57:52.004Z"
   },
   {
    "duration": 28,
    "start_time": "2024-01-17T16:57:53.197Z"
   },
   {
    "duration": 24,
    "start_time": "2024-01-17T16:57:53.226Z"
   },
   {
    "duration": 12,
    "start_time": "2024-01-17T16:57:53.251Z"
   },
   {
    "duration": 12,
    "start_time": "2024-01-17T16:57:53.266Z"
   },
   {
    "duration": 16,
    "start_time": "2024-01-17T16:57:53.280Z"
   },
   {
    "duration": 55,
    "start_time": "2024-01-17T16:57:53.298Z"
   },
   {
    "duration": 19,
    "start_time": "2024-01-17T16:57:53.355Z"
   },
   {
    "duration": 21,
    "start_time": "2024-01-17T16:57:53.376Z"
   },
   {
    "duration": 16,
    "start_time": "2024-01-17T16:57:53.399Z"
   },
   {
    "duration": 16,
    "start_time": "2024-01-17T16:57:53.417Z"
   },
   {
    "duration": 6,
    "start_time": "2024-01-17T16:57:53.435Z"
   },
   {
    "duration": 5177,
    "start_time": "2024-01-17T16:57:53.443Z"
   },
   {
    "duration": 10,
    "start_time": "2024-01-17T16:57:58.623Z"
   },
   {
    "duration": 392,
    "start_time": "2024-01-17T16:57:58.635Z"
   },
   {
    "duration": 351,
    "start_time": "2024-01-17T16:57:59.029Z"
   },
   {
    "duration": 4723,
    "start_time": "2024-01-17T16:57:59.381Z"
   },
   {
    "duration": 411,
    "start_time": "2024-01-17T16:58:04.106Z"
   },
   {
    "duration": 4598,
    "start_time": "2024-01-17T16:58:04.519Z"
   },
   {
    "duration": 7,
    "start_time": "2024-01-17T16:58:09.118Z"
   },
   {
    "duration": 173,
    "start_time": "2024-01-17T16:58:09.127Z"
   },
   {
    "duration": 4,
    "start_time": "2024-01-17T16:58:09.302Z"
   },
   {
    "duration": 8,
    "start_time": "2024-01-17T16:58:09.307Z"
   },
   {
    "duration": 4,
    "start_time": "2024-01-17T16:58:09.317Z"
   },
   {
    "duration": 5,
    "start_time": "2024-01-17T16:58:09.322Z"
   },
   {
    "duration": 5,
    "start_time": "2024-01-17T16:58:09.328Z"
   },
   {
    "duration": 4,
    "start_time": "2024-01-17T16:58:09.335Z"
   },
   {
    "duration": 176,
    "start_time": "2024-01-17T16:58:09.340Z"
   },
   {
    "duration": 4,
    "start_time": "2024-01-17T16:58:09.518Z"
   },
   {
    "duration": 7,
    "start_time": "2024-01-17T16:58:09.523Z"
   },
   {
    "duration": 392,
    "start_time": "2024-01-17T16:58:09.532Z"
   },
   {
    "duration": 12,
    "start_time": "2024-01-17T16:58:09.926Z"
   },
   {
    "duration": 9,
    "start_time": "2024-01-17T16:58:09.939Z"
   },
   {
    "duration": 9,
    "start_time": "2024-01-17T16:58:09.950Z"
   },
   {
    "duration": 46,
    "start_time": "2024-01-17T16:58:09.960Z"
   },
   {
    "duration": 16,
    "start_time": "2024-01-17T16:58:10.008Z"
   },
   {
    "duration": 6,
    "start_time": "2024-01-17T17:04:12.093Z"
   },
   {
    "duration": 6,
    "start_time": "2024-01-17T17:04:28.748Z"
   },
   {
    "duration": 8,
    "start_time": "2024-01-17T17:05:01.871Z"
   },
   {
    "duration": 9,
    "start_time": "2024-01-17T17:48:01.903Z"
   },
   {
    "duration": 10,
    "start_time": "2024-01-17T17:49:01.864Z"
   },
   {
    "duration": 4717,
    "start_time": "2024-01-17T17:50:16.208Z"
   },
   {
    "duration": 1228,
    "start_time": "2024-01-17T17:52:37.066Z"
   },
   {
    "duration": 27,
    "start_time": "2024-01-17T17:52:38.295Z"
   },
   {
    "duration": 24,
    "start_time": "2024-01-17T17:52:38.324Z"
   },
   {
    "duration": 11,
    "start_time": "2024-01-17T17:52:38.350Z"
   },
   {
    "duration": 18,
    "start_time": "2024-01-17T17:52:38.363Z"
   },
   {
    "duration": 20,
    "start_time": "2024-01-17T17:52:38.383Z"
   },
   {
    "duration": 53,
    "start_time": "2024-01-17T17:52:38.405Z"
   },
   {
    "duration": 23,
    "start_time": "2024-01-17T17:52:38.460Z"
   },
   {
    "duration": 30,
    "start_time": "2024-01-17T17:52:38.484Z"
   },
   {
    "duration": 14,
    "start_time": "2024-01-17T17:52:38.516Z"
   },
   {
    "duration": 12,
    "start_time": "2024-01-17T17:52:38.532Z"
   },
   {
    "duration": 7,
    "start_time": "2024-01-17T17:52:38.545Z"
   },
   {
    "duration": 4502,
    "start_time": "2024-01-17T17:52:38.553Z"
   },
   {
    "duration": 8,
    "start_time": "2024-01-17T17:52:43.057Z"
   },
   {
    "duration": 17,
    "start_time": "2024-01-17T17:52:43.067Z"
   },
   {
    "duration": 389,
    "start_time": "2024-01-17T17:52:43.092Z"
   },
   {
    "duration": 369,
    "start_time": "2024-01-17T17:52:43.483Z"
   },
   {
    "duration": 4832,
    "start_time": "2024-01-17T17:52:43.854Z"
   },
   {
    "duration": 412,
    "start_time": "2024-01-17T17:52:48.688Z"
   },
   {
    "duration": 4684,
    "start_time": "2024-01-17T17:52:49.102Z"
   },
   {
    "duration": 8,
    "start_time": "2024-01-17T17:52:53.788Z"
   },
   {
    "duration": 197,
    "start_time": "2024-01-17T17:52:53.797Z"
   },
   {
    "duration": 4,
    "start_time": "2024-01-17T17:52:53.996Z"
   },
   {
    "duration": 28,
    "start_time": "2024-01-17T17:52:54.003Z"
   },
   {
    "duration": 6,
    "start_time": "2024-01-17T17:52:54.033Z"
   },
   {
    "duration": 11,
    "start_time": "2024-01-17T17:52:54.040Z"
   },
   {
    "duration": 16,
    "start_time": "2024-01-17T17:52:54.053Z"
   },
   {
    "duration": 5,
    "start_time": "2024-01-17T17:52:54.074Z"
   },
   {
    "duration": 168,
    "start_time": "2024-01-17T17:52:54.081Z"
   },
   {
    "duration": 4,
    "start_time": "2024-01-17T17:52:54.251Z"
   },
   {
    "duration": 7,
    "start_time": "2024-01-17T17:52:54.256Z"
   },
   {
    "duration": 400,
    "start_time": "2024-01-17T17:52:54.265Z"
   },
   {
    "duration": 11,
    "start_time": "2024-01-17T17:52:54.666Z"
   },
   {
    "duration": 18,
    "start_time": "2024-01-17T17:52:54.679Z"
   },
   {
    "duration": 13,
    "start_time": "2024-01-17T17:52:54.698Z"
   },
   {
    "duration": 27,
    "start_time": "2024-01-17T17:52:54.712Z"
   },
   {
    "duration": 18,
    "start_time": "2024-01-17T17:52:54.740Z"
   },
   {
    "duration": 155,
    "start_time": "2024-01-17T17:53:06.555Z"
   },
   {
    "duration": 164,
    "start_time": "2024-01-17T17:53:39.348Z"
   },
   {
    "duration": 149,
    "start_time": "2024-01-17T17:54:18.620Z"
   },
   {
    "duration": 137,
    "start_time": "2024-01-17T17:54:26.633Z"
   },
   {
    "duration": 154,
    "start_time": "2024-01-17T17:54:31.103Z"
   },
   {
    "duration": 137,
    "start_time": "2024-01-17T17:54:34.182Z"
   },
   {
    "duration": 140,
    "start_time": "2024-01-17T17:55:34.183Z"
   },
   {
    "duration": 146,
    "start_time": "2024-01-17T17:55:41.798Z"
   },
   {
    "duration": 221,
    "start_time": "2024-01-17T17:55:44.907Z"
   },
   {
    "duration": 136,
    "start_time": "2024-01-17T17:56:13.703Z"
   },
   {
    "duration": 134,
    "start_time": "2024-01-17T17:57:16.315Z"
   },
   {
    "duration": 147,
    "start_time": "2024-01-17T17:57:26.751Z"
   },
   {
    "duration": 128,
    "start_time": "2024-01-17T17:57:37.762Z"
   },
   {
    "duration": 132,
    "start_time": "2024-01-17T17:57:45.771Z"
   },
   {
    "duration": 133,
    "start_time": "2024-01-17T17:57:53.076Z"
   },
   {
    "duration": 88,
    "start_time": "2024-01-17T17:58:02.052Z"
   },
   {
    "duration": 500,
    "start_time": "2024-01-17T17:58:39.920Z"
   },
   {
    "duration": 103,
    "start_time": "2024-01-17T17:59:54.583Z"
   },
   {
    "duration": 489,
    "start_time": "2024-01-17T17:59:58.087Z"
   },
   {
    "duration": 408,
    "start_time": "2024-01-17T18:00:22.816Z"
   },
   {
    "duration": 443,
    "start_time": "2024-01-17T18:01:07.341Z"
   },
   {
    "duration": 416,
    "start_time": "2024-01-17T18:01:23.657Z"
   },
   {
    "duration": 387,
    "start_time": "2024-01-17T18:02:54.523Z"
   },
   {
    "duration": 194,
    "start_time": "2024-01-17T18:03:21.552Z"
   },
   {
    "duration": 161,
    "start_time": "2024-01-17T18:04:40.510Z"
   },
   {
    "duration": 329,
    "start_time": "2024-01-17T18:04:52.793Z"
   },
   {
    "duration": 339,
    "start_time": "2024-01-17T18:05:08.192Z"
   },
   {
    "duration": 88,
    "start_time": "2024-01-17T18:05:48.316Z"
   },
   {
    "duration": 312,
    "start_time": "2024-01-17T18:06:01.891Z"
   },
   {
    "duration": 90,
    "start_time": "2024-01-18T08:03:02.046Z"
   },
   {
    "duration": 1478,
    "start_time": "2024-01-18T08:03:08.271Z"
   },
   {
    "duration": 62,
    "start_time": "2024-01-18T08:03:09.751Z"
   },
   {
    "duration": 27,
    "start_time": "2024-01-18T08:03:09.816Z"
   },
   {
    "duration": 11,
    "start_time": "2024-01-18T08:03:09.846Z"
   },
   {
    "duration": 14,
    "start_time": "2024-01-18T08:03:09.859Z"
   },
   {
    "duration": 12,
    "start_time": "2024-01-18T08:03:09.874Z"
   },
   {
    "duration": 145,
    "start_time": "2024-01-18T08:03:09.888Z"
   },
   {
    "duration": 21,
    "start_time": "2024-01-18T08:03:10.035Z"
   },
   {
    "duration": 46,
    "start_time": "2024-01-18T08:03:10.058Z"
   },
   {
    "duration": 24,
    "start_time": "2024-01-18T08:03:10.108Z"
   },
   {
    "duration": 29,
    "start_time": "2024-01-18T08:03:10.134Z"
   },
   {
    "duration": 47,
    "start_time": "2024-01-18T08:03:10.164Z"
   },
   {
    "duration": 4454,
    "start_time": "2024-01-18T08:03:10.212Z"
   },
   {
    "duration": 9,
    "start_time": "2024-01-18T08:03:14.668Z"
   },
   {
    "duration": 29,
    "start_time": "2024-01-18T08:03:14.678Z"
   },
   {
    "duration": 387,
    "start_time": "2024-01-18T08:03:14.708Z"
   },
   {
    "duration": 371,
    "start_time": "2024-01-18T08:03:15.097Z"
   },
   {
    "duration": 4810,
    "start_time": "2024-01-18T08:03:15.470Z"
   },
   {
    "duration": 409,
    "start_time": "2024-01-18T08:03:20.282Z"
   },
   {
    "duration": 4695,
    "start_time": "2024-01-18T08:03:20.693Z"
   },
   {
    "duration": 14,
    "start_time": "2024-01-18T08:03:25.390Z"
   },
   {
    "duration": 182,
    "start_time": "2024-01-18T08:03:25.406Z"
   },
   {
    "duration": 5,
    "start_time": "2024-01-18T08:03:25.589Z"
   },
   {
    "duration": 27,
    "start_time": "2024-01-18T08:03:25.595Z"
   },
   {
    "duration": 19,
    "start_time": "2024-01-18T08:03:25.624Z"
   },
   {
    "duration": 15,
    "start_time": "2024-01-18T08:03:25.645Z"
   },
   {
    "duration": 15,
    "start_time": "2024-01-18T08:03:25.662Z"
   },
   {
    "duration": 18,
    "start_time": "2024-01-18T08:03:25.680Z"
   },
   {
    "duration": 308,
    "start_time": "2024-01-18T08:03:25.700Z"
   },
   {
    "duration": 5,
    "start_time": "2024-01-18T08:03:26.010Z"
   },
   {
    "duration": 7,
    "start_time": "2024-01-18T08:03:26.017Z"
   },
   {
    "duration": 375,
    "start_time": "2024-01-18T08:03:26.025Z"
   },
   {
    "duration": 13,
    "start_time": "2024-01-18T08:03:26.402Z"
   },
   {
    "duration": 22,
    "start_time": "2024-01-18T08:03:26.417Z"
   },
   {
    "duration": 24,
    "start_time": "2024-01-18T08:03:26.441Z"
   },
   {
    "duration": 42,
    "start_time": "2024-01-18T08:03:26.467Z"
   },
   {
    "duration": 29,
    "start_time": "2024-01-18T08:03:26.511Z"
   },
   {
    "duration": 226,
    "start_time": "2024-01-18T08:04:47.241Z"
   },
   {
    "duration": 16,
    "start_time": "2024-01-18T08:06:45.467Z"
   },
   {
    "duration": 17,
    "start_time": "2024-01-18T08:07:54.509Z"
   },
   {
    "duration": 19,
    "start_time": "2024-01-18T08:08:37.822Z"
   },
   {
    "duration": 11,
    "start_time": "2024-01-18T08:09:15.002Z"
   },
   {
    "duration": 45,
    "start_time": "2024-01-18T08:09:41.178Z"
   },
   {
    "duration": 31,
    "start_time": "2024-01-18T08:10:08.284Z"
   },
   {
    "duration": 19,
    "start_time": "2024-01-18T08:11:41.598Z"
   },
   {
    "duration": 75,
    "start_time": "2024-01-18T08:15:54.912Z"
   },
   {
    "duration": 1265,
    "start_time": "2024-01-18T08:17:14.694Z"
   },
   {
    "duration": 28,
    "start_time": "2024-01-18T08:17:15.961Z"
   },
   {
    "duration": 24,
    "start_time": "2024-01-18T08:17:15.991Z"
   },
   {
    "duration": 11,
    "start_time": "2024-01-18T08:17:16.017Z"
   },
   {
    "duration": 16,
    "start_time": "2024-01-18T08:17:16.030Z"
   },
   {
    "duration": 20,
    "start_time": "2024-01-18T08:17:16.048Z"
   },
   {
    "duration": 51,
    "start_time": "2024-01-18T08:17:16.070Z"
   },
   {
    "duration": 21,
    "start_time": "2024-01-18T08:17:16.122Z"
   },
   {
    "duration": 18,
    "start_time": "2024-01-18T08:17:16.145Z"
   },
   {
    "duration": 15,
    "start_time": "2024-01-18T08:17:16.165Z"
   },
   {
    "duration": 27,
    "start_time": "2024-01-18T08:17:16.182Z"
   },
   {
    "duration": 6,
    "start_time": "2024-01-18T08:17:16.211Z"
   },
   {
    "duration": 4471,
    "start_time": "2024-01-18T08:17:16.219Z"
   },
   {
    "duration": 8,
    "start_time": "2024-01-18T08:17:20.691Z"
   },
   {
    "duration": 16,
    "start_time": "2024-01-18T08:17:20.700Z"
   },
   {
    "duration": 403,
    "start_time": "2024-01-18T08:17:20.718Z"
   },
   {
    "duration": 369,
    "start_time": "2024-01-18T08:17:21.123Z"
   },
   {
    "duration": 4762,
    "start_time": "2024-01-18T08:17:21.493Z"
   },
   {
    "duration": 408,
    "start_time": "2024-01-18T08:17:26.257Z"
   },
   {
    "duration": 4596,
    "start_time": "2024-01-18T08:17:26.667Z"
   },
   {
    "duration": 7,
    "start_time": "2024-01-18T08:17:31.264Z"
   },
   {
    "duration": 210,
    "start_time": "2024-01-18T08:17:31.273Z"
   },
   {
    "duration": 4,
    "start_time": "2024-01-18T08:17:31.484Z"
   },
   {
    "duration": 71,
    "start_time": "2024-01-18T08:17:31.490Z"
   },
   {
    "duration": 44,
    "start_time": "2024-01-18T08:17:31.562Z"
   },
   {
    "duration": 42,
    "start_time": "2024-01-18T08:17:31.608Z"
   },
   {
    "duration": 37,
    "start_time": "2024-01-18T08:17:31.652Z"
   },
   {
    "duration": 10,
    "start_time": "2024-01-18T08:17:31.692Z"
   },
   {
    "duration": 310,
    "start_time": "2024-01-18T08:17:31.703Z"
   },
   {
    "duration": 4,
    "start_time": "2024-01-18T08:17:32.015Z"
   },
   {
    "duration": 9,
    "start_time": "2024-01-18T08:17:32.021Z"
   },
   {
    "duration": 125,
    "start_time": "2024-01-18T08:17:32.031Z"
   },
   {
    "duration": 0,
    "start_time": "2024-01-18T08:17:32.159Z"
   },
   {
    "duration": 0,
    "start_time": "2024-01-18T08:17:32.161Z"
   },
   {
    "duration": 0,
    "start_time": "2024-01-18T08:17:32.162Z"
   },
   {
    "duration": 0,
    "start_time": "2024-01-18T08:17:32.164Z"
   },
   {
    "duration": 384,
    "start_time": "2024-01-18T08:18:50.991Z"
   },
   {
    "duration": 369,
    "start_time": "2024-01-18T08:22:53.208Z"
   },
   {
    "duration": 1201,
    "start_time": "2024-01-18T08:23:05.260Z"
   },
   {
    "duration": 27,
    "start_time": "2024-01-18T08:23:06.463Z"
   },
   {
    "duration": 24,
    "start_time": "2024-01-18T08:23:06.492Z"
   },
   {
    "duration": 12,
    "start_time": "2024-01-18T08:23:06.518Z"
   },
   {
    "duration": 13,
    "start_time": "2024-01-18T08:23:06.532Z"
   },
   {
    "duration": 21,
    "start_time": "2024-01-18T08:23:06.547Z"
   },
   {
    "duration": 51,
    "start_time": "2024-01-18T08:23:06.570Z"
   },
   {
    "duration": 21,
    "start_time": "2024-01-18T08:23:06.623Z"
   },
   {
    "duration": 19,
    "start_time": "2024-01-18T08:23:06.645Z"
   },
   {
    "duration": 15,
    "start_time": "2024-01-18T08:23:06.666Z"
   },
   {
    "duration": 15,
    "start_time": "2024-01-18T08:23:06.682Z"
   },
   {
    "duration": 8,
    "start_time": "2024-01-18T08:23:06.698Z"
   },
   {
    "duration": 4461,
    "start_time": "2024-01-18T08:23:06.707Z"
   },
   {
    "duration": 8,
    "start_time": "2024-01-18T08:23:11.170Z"
   },
   {
    "duration": 16,
    "start_time": "2024-01-18T08:23:11.180Z"
   },
   {
    "duration": 398,
    "start_time": "2024-01-18T08:23:11.198Z"
   },
   {
    "duration": 338,
    "start_time": "2024-01-18T08:23:11.598Z"
   },
   {
    "duration": 4674,
    "start_time": "2024-01-18T08:23:11.938Z"
   },
   {
    "duration": 431,
    "start_time": "2024-01-18T08:23:16.614Z"
   },
   {
    "duration": 4629,
    "start_time": "2024-01-18T08:23:17.047Z"
   },
   {
    "duration": 6,
    "start_time": "2024-01-18T08:23:21.678Z"
   },
   {
    "duration": 200,
    "start_time": "2024-01-18T08:23:21.686Z"
   },
   {
    "duration": 4,
    "start_time": "2024-01-18T08:23:21.887Z"
   },
   {
    "duration": 34,
    "start_time": "2024-01-18T08:23:21.893Z"
   },
   {
    "duration": 14,
    "start_time": "2024-01-18T08:23:21.928Z"
   },
   {
    "duration": 36,
    "start_time": "2024-01-18T08:23:21.944Z"
   },
   {
    "duration": 17,
    "start_time": "2024-01-18T08:23:21.982Z"
   },
   {
    "duration": 22,
    "start_time": "2024-01-18T08:23:22.004Z"
   },
   {
    "duration": 312,
    "start_time": "2024-01-18T08:23:22.028Z"
   },
   {
    "duration": 5,
    "start_time": "2024-01-18T08:23:22.342Z"
   },
   {
    "duration": 15,
    "start_time": "2024-01-18T08:23:22.358Z"
   },
   {
    "duration": 367,
    "start_time": "2024-01-18T08:23:22.375Z"
   },
   {
    "duration": 19,
    "start_time": "2024-01-18T08:23:22.744Z"
   },
   {
    "duration": 85,
    "start_time": "2024-01-18T08:23:22.765Z"
   },
   {
    "duration": 0,
    "start_time": "2024-01-18T08:23:22.851Z"
   },
   {
    "duration": 0,
    "start_time": "2024-01-18T08:23:22.853Z"
   },
   {
    "duration": 92,
    "start_time": "2024-01-18T08:25:43.878Z"
   },
   {
    "duration": 108,
    "start_time": "2024-01-18T08:26:35.237Z"
   },
   {
    "duration": 18,
    "start_time": "2024-01-18T08:27:35.016Z"
   },
   {
    "duration": 19,
    "start_time": "2024-01-18T08:28:07.324Z"
   },
   {
    "duration": 13,
    "start_time": "2024-01-18T08:28:38.157Z"
   },
   {
    "duration": 33,
    "start_time": "2024-01-18T08:29:01.025Z"
   },
   {
    "duration": 22,
    "start_time": "2024-01-18T08:29:42.580Z"
   },
   {
    "duration": 22,
    "start_time": "2024-01-18T08:30:20.132Z"
   },
   {
    "duration": 17,
    "start_time": "2024-01-18T08:30:38.866Z"
   },
   {
    "duration": 36,
    "start_time": "2024-01-18T08:30:47.006Z"
   },
   {
    "duration": 35,
    "start_time": "2024-01-18T08:35:24.771Z"
   },
   {
    "duration": 1270,
    "start_time": "2024-01-18T08:37:23.295Z"
   },
   {
    "duration": 28,
    "start_time": "2024-01-18T08:37:24.567Z"
   },
   {
    "duration": 23,
    "start_time": "2024-01-18T08:37:24.597Z"
   },
   {
    "duration": 10,
    "start_time": "2024-01-18T08:37:24.623Z"
   },
   {
    "duration": 22,
    "start_time": "2024-01-18T08:37:24.635Z"
   },
   {
    "duration": 12,
    "start_time": "2024-01-18T08:37:24.659Z"
   },
   {
    "duration": 52,
    "start_time": "2024-01-18T08:37:24.673Z"
   },
   {
    "duration": 22,
    "start_time": "2024-01-18T08:37:24.727Z"
   },
   {
    "duration": 21,
    "start_time": "2024-01-18T08:37:24.751Z"
   },
   {
    "duration": 15,
    "start_time": "2024-01-18T08:37:24.775Z"
   },
   {
    "duration": 56,
    "start_time": "2024-01-18T08:37:24.791Z"
   },
   {
    "duration": 35,
    "start_time": "2024-01-18T08:37:24.849Z"
   },
   {
    "duration": 4601,
    "start_time": "2024-01-18T08:37:24.886Z"
   },
   {
    "duration": 8,
    "start_time": "2024-01-18T08:37:29.489Z"
   },
   {
    "duration": 11,
    "start_time": "2024-01-18T08:37:29.498Z"
   },
   {
    "duration": 543,
    "start_time": "2024-01-18T08:37:29.511Z"
   },
   {
    "duration": 374,
    "start_time": "2024-01-18T08:37:30.058Z"
   },
   {
    "duration": 4924,
    "start_time": "2024-01-18T08:37:30.434Z"
   },
   {
    "duration": 415,
    "start_time": "2024-01-18T08:37:35.360Z"
   },
   {
    "duration": 4934,
    "start_time": "2024-01-18T08:37:35.777Z"
   },
   {
    "duration": 8,
    "start_time": "2024-01-18T08:37:40.712Z"
   },
   {
    "duration": 198,
    "start_time": "2024-01-18T08:37:40.721Z"
   },
   {
    "duration": 5,
    "start_time": "2024-01-18T08:37:40.921Z"
   },
   {
    "duration": 18,
    "start_time": "2024-01-18T08:37:40.928Z"
   },
   {
    "duration": 21,
    "start_time": "2024-01-18T08:37:40.948Z"
   },
   {
    "duration": 7,
    "start_time": "2024-01-18T08:37:40.972Z"
   },
   {
    "duration": 15,
    "start_time": "2024-01-18T08:37:40.981Z"
   },
   {
    "duration": 22,
    "start_time": "2024-01-18T08:37:40.999Z"
   },
   {
    "duration": 313,
    "start_time": "2024-01-18T08:37:41.023Z"
   },
   {
    "duration": 5,
    "start_time": "2024-01-18T08:37:41.337Z"
   },
   {
    "duration": 21,
    "start_time": "2024-01-18T08:37:41.344Z"
   },
   {
    "duration": 402,
    "start_time": "2024-01-18T08:37:41.367Z"
   },
   {
    "duration": 16,
    "start_time": "2024-01-18T08:37:41.771Z"
   },
   {
    "duration": 18,
    "start_time": "2024-01-18T08:37:41.789Z"
   },
   {
    "duration": 56,
    "start_time": "2024-01-18T08:37:41.809Z"
   },
   {
    "duration": 21,
    "start_time": "2024-01-18T08:37:41.866Z"
   },
   {
    "duration": 1313,
    "start_time": "2024-01-18T08:41:16.931Z"
   },
   {
    "duration": 29,
    "start_time": "2024-01-18T08:41:18.247Z"
   },
   {
    "duration": 24,
    "start_time": "2024-01-18T08:41:18.278Z"
   },
   {
    "duration": 21,
    "start_time": "2024-01-18T08:41:18.304Z"
   },
   {
    "duration": 19,
    "start_time": "2024-01-18T08:41:18.326Z"
   },
   {
    "duration": 16,
    "start_time": "2024-01-18T08:41:18.347Z"
   },
   {
    "duration": 59,
    "start_time": "2024-01-18T08:41:18.365Z"
   },
   {
    "duration": 23,
    "start_time": "2024-01-18T08:41:18.426Z"
   },
   {
    "duration": 22,
    "start_time": "2024-01-18T08:41:18.451Z"
   },
   {
    "duration": 14,
    "start_time": "2024-01-18T08:41:18.477Z"
   },
   {
    "duration": 33,
    "start_time": "2024-01-18T08:41:18.493Z"
   },
   {
    "duration": 8,
    "start_time": "2024-01-18T08:41:18.529Z"
   },
   {
    "duration": 4580,
    "start_time": "2024-01-18T08:41:18.539Z"
   },
   {
    "duration": 9,
    "start_time": "2024-01-18T08:41:23.121Z"
   },
   {
    "duration": 18,
    "start_time": "2024-01-18T08:41:23.133Z"
   },
   {
    "duration": 401,
    "start_time": "2024-01-18T08:41:23.158Z"
   },
   {
    "duration": 406,
    "start_time": "2024-01-18T08:41:23.562Z"
   },
   {
    "duration": 4903,
    "start_time": "2024-01-18T08:41:23.971Z"
   },
   {
    "duration": 422,
    "start_time": "2024-01-18T08:41:28.877Z"
   },
   {
    "duration": 4768,
    "start_time": "2024-01-18T08:41:29.302Z"
   },
   {
    "duration": 8,
    "start_time": "2024-01-18T08:41:34.071Z"
   },
   {
    "duration": 182,
    "start_time": "2024-01-18T08:41:34.081Z"
   },
   {
    "duration": 5,
    "start_time": "2024-01-18T08:41:34.265Z"
   },
   {
    "duration": 23,
    "start_time": "2024-01-18T08:41:34.272Z"
   },
   {
    "duration": 20,
    "start_time": "2024-01-18T08:41:34.297Z"
   },
   {
    "duration": 26,
    "start_time": "2024-01-18T08:41:34.319Z"
   },
   {
    "duration": 22,
    "start_time": "2024-01-18T08:41:34.346Z"
   },
   {
    "duration": 7,
    "start_time": "2024-01-18T08:41:34.373Z"
   },
   {
    "duration": 349,
    "start_time": "2024-01-18T08:41:34.383Z"
   },
   {
    "duration": 4,
    "start_time": "2024-01-18T08:41:34.734Z"
   },
   {
    "duration": 21,
    "start_time": "2024-01-18T08:41:34.740Z"
   },
   {
    "duration": 414,
    "start_time": "2024-01-18T08:41:34.763Z"
   },
   {
    "duration": 13,
    "start_time": "2024-01-18T08:41:35.179Z"
   },
   {
    "duration": 21,
    "start_time": "2024-01-18T08:41:35.194Z"
   },
   {
    "duration": 55,
    "start_time": "2024-01-18T08:41:35.217Z"
   },
   {
    "duration": 20,
    "start_time": "2024-01-18T08:41:35.274Z"
   },
   {
    "duration": 351,
    "start_time": "2024-01-18T08:48:13.878Z"
   },
   {
    "duration": 339,
    "start_time": "2024-01-18T08:48:30.368Z"
   },
   {
    "duration": 1249,
    "start_time": "2024-01-18T08:51:49.501Z"
   },
   {
    "duration": 27,
    "start_time": "2024-01-18T08:51:50.752Z"
   },
   {
    "duration": 25,
    "start_time": "2024-01-18T08:51:50.782Z"
   },
   {
    "duration": 25,
    "start_time": "2024-01-18T08:51:50.809Z"
   },
   {
    "duration": 47,
    "start_time": "2024-01-18T08:51:50.836Z"
   },
   {
    "duration": 12,
    "start_time": "2024-01-18T08:51:50.885Z"
   },
   {
    "duration": 62,
    "start_time": "2024-01-18T08:51:50.899Z"
   },
   {
    "duration": 22,
    "start_time": "2024-01-18T08:51:50.964Z"
   },
   {
    "duration": 48,
    "start_time": "2024-01-18T08:51:50.987Z"
   },
   {
    "duration": 21,
    "start_time": "2024-01-18T08:51:51.039Z"
   },
   {
    "duration": 34,
    "start_time": "2024-01-18T08:51:51.062Z"
   },
   {
    "duration": 13,
    "start_time": "2024-01-18T08:51:51.098Z"
   },
   {
    "duration": 4729,
    "start_time": "2024-01-18T08:51:51.113Z"
   },
   {
    "duration": 7,
    "start_time": "2024-01-18T08:51:55.844Z"
   },
   {
    "duration": 33,
    "start_time": "2024-01-18T08:51:55.859Z"
   },
   {
    "duration": 429,
    "start_time": "2024-01-18T08:51:55.894Z"
   },
   {
    "duration": 347,
    "start_time": "2024-01-18T08:51:56.325Z"
   },
   {
    "duration": 4831,
    "start_time": "2024-01-18T08:51:56.674Z"
   },
   {
    "duration": 427,
    "start_time": "2024-01-18T08:52:01.508Z"
   },
   {
    "duration": 4784,
    "start_time": "2024-01-18T08:52:01.936Z"
   },
   {
    "duration": 7,
    "start_time": "2024-01-18T08:52:06.722Z"
   },
   {
    "duration": 215,
    "start_time": "2024-01-18T08:52:06.731Z"
   },
   {
    "duration": 13,
    "start_time": "2024-01-18T08:52:06.948Z"
   },
   {
    "duration": 30,
    "start_time": "2024-01-18T08:52:06.964Z"
   },
   {
    "duration": 20,
    "start_time": "2024-01-18T08:52:06.996Z"
   },
   {
    "duration": 29,
    "start_time": "2024-01-18T08:52:07.018Z"
   },
   {
    "duration": 15,
    "start_time": "2024-01-18T08:52:07.049Z"
   },
   {
    "duration": 20,
    "start_time": "2024-01-18T08:52:07.068Z"
   },
   {
    "duration": 344,
    "start_time": "2024-01-18T08:52:07.090Z"
   },
   {
    "duration": 5,
    "start_time": "2024-01-18T08:52:07.435Z"
   },
   {
    "duration": 25,
    "start_time": "2024-01-18T08:52:07.441Z"
   },
   {
    "duration": 406,
    "start_time": "2024-01-18T08:52:07.469Z"
   },
   {
    "duration": 13,
    "start_time": "2024-01-18T08:52:07.877Z"
   },
   {
    "duration": 34,
    "start_time": "2024-01-18T08:52:07.892Z"
   },
   {
    "duration": 65,
    "start_time": "2024-01-18T08:52:07.928Z"
   },
   {
    "duration": 18,
    "start_time": "2024-01-18T08:52:07.995Z"
   },
   {
    "duration": 3673,
    "start_time": "2024-01-18T09:10:31.564Z"
   },
   {
    "duration": 81,
    "start_time": "2024-01-18T09:10:35.239Z"
   },
   {
    "duration": 26,
    "start_time": "2024-01-18T09:10:35.321Z"
   },
   {
    "duration": 12,
    "start_time": "2024-01-18T09:10:35.349Z"
   },
   {
    "duration": 17,
    "start_time": "2024-01-18T09:10:35.363Z"
   },
   {
    "duration": 12,
    "start_time": "2024-01-18T09:10:35.382Z"
   },
   {
    "duration": 126,
    "start_time": "2024-01-18T09:10:35.396Z"
   },
   {
    "duration": 28,
    "start_time": "2024-01-18T09:10:35.524Z"
   },
   {
    "duration": 22,
    "start_time": "2024-01-18T09:10:35.553Z"
   },
   {
    "duration": 29,
    "start_time": "2024-01-18T09:10:35.578Z"
   },
   {
    "duration": 22,
    "start_time": "2024-01-18T09:10:35.609Z"
   },
   {
    "duration": 15,
    "start_time": "2024-01-18T09:10:35.634Z"
   },
   {
    "duration": 4513,
    "start_time": "2024-01-18T09:10:35.651Z"
   },
   {
    "duration": 10,
    "start_time": "2024-01-18T09:10:40.167Z"
   },
   {
    "duration": 27,
    "start_time": "2024-01-18T09:10:40.178Z"
   },
   {
    "duration": 447,
    "start_time": "2024-01-18T09:10:40.207Z"
   },
   {
    "duration": 380,
    "start_time": "2024-01-18T09:10:40.656Z"
   },
   {
    "duration": 4868,
    "start_time": "2024-01-18T09:10:41.038Z"
   },
   {
    "duration": 411,
    "start_time": "2024-01-18T09:10:45.908Z"
   },
   {
    "duration": 4677,
    "start_time": "2024-01-18T09:10:46.320Z"
   },
   {
    "duration": 7,
    "start_time": "2024-01-18T09:10:50.998Z"
   },
   {
    "duration": 176,
    "start_time": "2024-01-18T09:10:51.007Z"
   },
   {
    "duration": 9,
    "start_time": "2024-01-18T09:10:51.185Z"
   },
   {
    "duration": 25,
    "start_time": "2024-01-18T09:10:51.196Z"
   },
   {
    "duration": 32,
    "start_time": "2024-01-18T09:10:51.223Z"
   },
   {
    "duration": 25,
    "start_time": "2024-01-18T09:10:51.257Z"
   },
   {
    "duration": 13,
    "start_time": "2024-01-18T09:10:51.284Z"
   },
   {
    "duration": 9,
    "start_time": "2024-01-18T09:10:51.300Z"
   },
   {
    "duration": 302,
    "start_time": "2024-01-18T09:10:51.310Z"
   },
   {
    "duration": 5,
    "start_time": "2024-01-18T09:10:51.613Z"
   },
   {
    "duration": 9,
    "start_time": "2024-01-18T09:10:51.619Z"
   },
   {
    "duration": 370,
    "start_time": "2024-01-18T09:10:51.629Z"
   },
   {
    "duration": 12,
    "start_time": "2024-01-18T09:10:52.001Z"
   },
   {
    "duration": 33,
    "start_time": "2024-01-18T09:10:52.015Z"
   },
   {
    "duration": 42,
    "start_time": "2024-01-18T09:10:52.050Z"
   },
   {
    "duration": 47,
    "start_time": "2024-01-18T09:10:52.095Z"
   },
   {
    "duration": 47,
    "start_time": "2024-01-19T09:56:58.998Z"
   },
   {
    "duration": 1097,
    "start_time": "2024-01-19T09:57:04.293Z"
   },
   {
    "duration": 60,
    "start_time": "2024-01-19T09:57:05.392Z"
   },
   {
    "duration": 22,
    "start_time": "2024-01-19T09:57:05.454Z"
   },
   {
    "duration": 10,
    "start_time": "2024-01-19T09:57:05.477Z"
   },
   {
    "duration": 11,
    "start_time": "2024-01-19T09:57:05.489Z"
   },
   {
    "duration": 11,
    "start_time": "2024-01-19T09:57:05.502Z"
   },
   {
    "duration": 140,
    "start_time": "2024-01-19T09:57:05.514Z"
   },
   {
    "duration": 18,
    "start_time": "2024-01-19T09:57:05.656Z"
   },
   {
    "duration": 22,
    "start_time": "2024-01-19T09:57:05.675Z"
   },
   {
    "duration": 12,
    "start_time": "2024-01-19T09:57:05.699Z"
   },
   {
    "duration": 14,
    "start_time": "2024-01-19T09:57:05.713Z"
   },
   {
    "duration": 6,
    "start_time": "2024-01-19T09:57:05.728Z"
   },
   {
    "duration": 3928,
    "start_time": "2024-01-19T09:57:05.765Z"
   },
   {
    "duration": 7,
    "start_time": "2024-01-19T09:57:09.696Z"
   },
   {
    "duration": 10,
    "start_time": "2024-01-19T09:57:09.704Z"
   },
   {
    "duration": 350,
    "start_time": "2024-01-19T09:57:09.715Z"
   },
   {
    "duration": 284,
    "start_time": "2024-01-19T09:57:10.066Z"
   },
   {
    "duration": 4900,
    "start_time": "2024-01-19T09:57:10.352Z"
   },
   {
    "duration": 365,
    "start_time": "2024-01-19T09:57:15.253Z"
   },
   {
    "duration": 4198,
    "start_time": "2024-01-19T09:57:15.620Z"
   },
   {
    "duration": 8,
    "start_time": "2024-01-19T09:57:19.820Z"
   },
   {
    "duration": 157,
    "start_time": "2024-01-19T09:57:19.830Z"
   },
   {
    "duration": 4,
    "start_time": "2024-01-19T09:57:19.989Z"
   },
   {
    "duration": 19,
    "start_time": "2024-01-19T09:57:19.995Z"
   },
   {
    "duration": 4,
    "start_time": "2024-01-19T09:57:20.016Z"
   },
   {
    "duration": 7,
    "start_time": "2024-01-19T09:57:20.022Z"
   },
   {
    "duration": 14,
    "start_time": "2024-01-19T09:57:20.031Z"
   },
   {
    "duration": 5,
    "start_time": "2024-01-19T09:57:20.065Z"
   },
   {
    "duration": 282,
    "start_time": "2024-01-19T09:57:20.072Z"
   },
   {
    "duration": 4,
    "start_time": "2024-01-19T09:57:20.355Z"
   },
   {
    "duration": 3,
    "start_time": "2024-01-19T09:57:20.365Z"
   },
   {
    "duration": 346,
    "start_time": "2024-01-19T09:57:20.370Z"
   },
   {
    "duration": 10,
    "start_time": "2024-01-19T09:57:20.717Z"
   },
   {
    "duration": 21,
    "start_time": "2024-01-19T09:57:20.729Z"
   },
   {
    "duration": 29,
    "start_time": "2024-01-19T09:57:20.765Z"
   },
   {
    "duration": 16,
    "start_time": "2024-01-19T09:57:20.795Z"
   },
   {
    "duration": 240,
    "start_time": "2024-01-19T09:57:28.233Z"
   },
   {
    "duration": 250,
    "start_time": "2024-01-19T09:57:37.036Z"
   },
   {
    "duration": 234,
    "start_time": "2024-01-19T09:57:56.105Z"
   },
   {
    "duration": 255,
    "start_time": "2024-01-19T09:58:05.571Z"
   },
   {
    "duration": 4212,
    "start_time": "2024-01-19T09:58:26.561Z"
   },
   {
    "duration": 284,
    "start_time": "2024-01-19T09:58:42.332Z"
   },
   {
    "duration": 340,
    "start_time": "2024-01-19T09:59:13.740Z"
   },
   {
    "duration": 4075,
    "start_time": "2024-01-19T09:59:30.373Z"
   },
   {
    "duration": 136,
    "start_time": "2024-01-19T09:59:52.989Z"
   },
   {
    "duration": 290,
    "start_time": "2024-01-19T10:00:15.163Z"
   },
   {
    "duration": 14,
    "start_time": "2024-01-19T10:02:58.741Z"
   },
   {
    "duration": 14,
    "start_time": "2024-01-19T10:03:06.719Z"
   },
   {
    "duration": 276,
    "start_time": "2024-01-19T10:09:06.296Z"
   },
   {
    "duration": 269,
    "start_time": "2024-01-19T10:09:47.775Z"
   }
  ],
  "kernelspec": {
   "display_name": "Python 3 (ipykernel)",
   "language": "python",
   "name": "python3"
  },
  "language_info": {
   "codemirror_mode": {
    "name": "ipython",
    "version": 3
   },
   "file_extension": ".py",
   "mimetype": "text/x-python",
   "name": "python",
   "nbconvert_exporter": "python",
   "pygments_lexer": "ipython3",
   "version": "3.9.5"
  },
  "toc": {
   "base_numbering": 1,
   "nav_menu": {},
   "number_sections": true,
   "sideBar": true,
   "skip_h1_title": true,
   "title_cell": "Table of Contents",
   "title_sidebar": "Contents",
   "toc_cell": false,
   "toc_position": {
    "height": "calc(100% - 180px)",
    "left": "10px",
    "top": "150px",
    "width": "165px"
   },
   "toc_section_display": true,
   "toc_window_display": true
  }
 },
 "nbformat": 4,
 "nbformat_minor": 2
}
