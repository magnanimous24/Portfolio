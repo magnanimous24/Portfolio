{
 "cells": [
  {
   "cell_type": "markdown",
   "id": "33ad5299",
   "metadata": {},
   "source": [
    "# Анализ сервиса аренды самокатов GoFast"
   ]
  },
  {
   "cell_type": "markdown",
   "id": "f773407c",
   "metadata": {},
   "source": [
    "## Введение"
   ]
  },
  {
   "cell_type": "markdown",
   "id": "01583122",
   "metadata": {},
   "source": [
    "### Постановка задачи"
   ]
  },
  {
   "cell_type": "markdown",
   "id": "86a7047a",
   "metadata": {},
   "source": [
    "Я являюсь аналитиком популярного сервиса аренды самокатов GoFast. Мне передали данные о некоторых пользователях из нескольких городов, а также об их поездках. Необходимо проанализировать данные и проверить некоторые гипотезы, которые могут помочь бизнесу вырасти.\n",
    "Чтобы совершать поездки по городу, пользователи сервиса GoFast пользуются мобильным приложением. Сервисом можно пользоваться:\n",
    "\t\n",
    "    • без подписки (абонентская плата отсутствует; стоимость одной минуты поездки — 8 рублей; стоимость старта — 50 рублей)\n",
    "\t\n",
    "    • с подпиской Ultra (абонентская плата — 199 рублей в месяц; стоимость одной минуты поездки — 6 рублей; стоимость старта — бесплатно)\n",
    "        \n",
    "**Цель проекта:** проверить три гипотезы, которые могут помочь бизнесу вырасти\n",
    "\n",
    "**Задачи проекта:**\n",
    "1. загрузка и предобработка данных\n",
    "2. исследовательский анализ\n",
    "3. проверка гипотез     "
   ]
  },
  {
   "cell_type": "markdown",
   "id": "86b82f9a",
   "metadata": {},
   "source": [
    "### Описание данных"
   ]
  },
  {
   "cell_type": "markdown",
   "id": "26a7b30b",
   "metadata": {},
   "source": [
    "**1. Пользователи — users_go.csv**\n",
    "**2. Поeздки — rides_go.csv**\n",
    "**3. Подписки — subscriptions_go.csv**\n",
   ]
  },
  {
   "cell_type": "markdown",
   "id": "489387c4",
   "metadata": {},
   "source": [
    "## Загрузка данных"
   ]
  },
  {
   "cell_type": "code",
   "execution_count": 1,
   "id": "3400d999",
   "metadata": {
    "scrolled": true
   },
   "outputs": [
    {
     "name": "stdout",
     "output_type": "stream",
     "text": [
      "Requirement already satisfied: missingno in /opt/conda/lib/python3.9/site-packages (0.5.2)\n",
      "Requirement already satisfied: numpy in /opt/conda/lib/python3.9/site-packages (from missingno) (1.21.1)\n",
      "Requirement already satisfied: matplotlib in /opt/conda/lib/python3.9/site-packages (from missingno) (3.3.4)\n",
      "Requirement already satisfied: seaborn in /opt/conda/lib/python3.9/site-packages (from missingno) (0.11.1)\n",
      "Requirement already satisfied: scipy in /opt/conda/lib/python3.9/site-packages (from missingno) (1.9.1)\n",
      "Requirement already satisfied: pyparsing!=2.0.4,!=2.1.2,!=2.1.6,>=2.0.3 in /opt/conda/lib/python3.9/site-packages (from matplotlib->missingno) (2.4.7)\n",
      "Requirement already satisfied: pillow>=6.2.0 in /opt/conda/lib/python3.9/site-packages (from matplotlib->missingno) (8.4.0)\n",
      "Requirement already satisfied: cycler>=0.10 in /opt/conda/lib/python3.9/site-packages (from matplotlib->missingno) (0.11.0)\n",
      "Requirement already satisfied: kiwisolver>=1.0.1 in /opt/conda/lib/python3.9/site-packages (from matplotlib->missingno) (1.4.4)\n",
      "Requirement already satisfied: python-dateutil>=2.1 in /opt/conda/lib/python3.9/site-packages (from matplotlib->missingno) (2.8.1)\n",
      "Requirement already satisfied: six>=1.5 in /opt/conda/lib/python3.9/site-packages (from python-dateutil>=2.1->matplotlib->missingno) (1.16.0)\n",
      "Requirement already satisfied: pandas>=0.23 in /opt/conda/lib/python3.9/site-packages (from seaborn->missingno) (1.2.4)\n",
      "Requirement already satisfied: pytz>=2017.3 in /opt/conda/lib/python3.9/site-packages (from pandas>=0.23->seaborn->missingno) (2021.1)\n",
      "Note: you may need to restart the kernel to use updated packages.\n"
     ]
    }
   ],
   "source": [
    "pip install missingno"
   ]
  },
  {
   "cell_type": "code",
   "execution_count": 2,
   "id": "72576667",
   "metadata": {},
   "outputs": [],
   "source": [
    "import pandas as pd\n",
    "import matplotlib.pyplot as plt\n",
    "import seaborn as sns\n",
    "import numpy as np\n",
    "import missingno as msno\n",
    "from scipy import stats as st"
   ]
  },
  {
   "cell_type": "code",
   "execution_count": 3,
   "id": "eff9f206",
   "metadata": {},
   "outputs": [],
   "source": [
    "try:\n",
    "    data_users = pd.read_csv('/datasets/users_go.csv')\n",
    "except:\n",
    "    data_users = pd.read_csv('https://code.s3.yandex.net/datasets/users_go.csv')\n",
    "try:\n",
    "    data_riders = pd.read_csv('/datasets/rides_go.csv', parse_dates=['date'], dayfirst=True)\n",
    "except:\n",
    "    data_riders = pd.read_csv('https://code.s3.yandex.net/datasets/rides_go.csv', parse_dates=['date'], dayfirst=True)\n",
    "try:\n",
    "    data_sub = pd.read_csv('/datasets/subscriptions_go.csv')\n",
    "except:\n",
    "    data_sub = pd.read_csv('https://code.s3.yandex.net/datasets/subscriptions_go.csv')"
   ]
  },
  {
   "cell_type": "code",
   "execution_count": 4,
   "id": "818d8d0f",
   "metadata": {
    "scrolled": true
   },
   "outputs": [
    {
     "name": "stdout",
     "output_type": "stream",
     "text": [
      "\u001b[1mНазвание датасета: data_users\u001b[0m\n"
     ]
    },
    {
     "data": {
      "text/html": [
       "<div>\n",
       "<style scoped>\n",
       "    .dataframe tbody tr th:only-of-type {\n",
       "        vertical-align: middle;\n",
       "    }\n",
       "\n",
       "    .dataframe tbody tr th {\n",
       "        vertical-align: top;\n",
       "    }\n",
       "\n",
       "    .dataframe thead th {\n",
       "        text-align: right;\n",
       "    }\n",
       "</style>\n",
       "<table border=\"1\" class=\"dataframe\">\n",
       "  <thead>\n",
       "    <tr style=\"text-align: right;\">\n",
       "      <th></th>\n",
       "      <th>user_id</th>\n",
       "      <th>name</th>\n",
       "      <th>age</th>\n",
       "      <th>city</th>\n",
       "      <th>subscription_type</th>\n",
       "    </tr>\n",
       "  </thead>\n",
       "  <tbody>\n",
       "    <tr>\n",
       "      <th>0</th>\n",
       "      <td>1</td>\n",
       "      <td>Кира</td>\n",
       "      <td>22</td>\n",
       "      <td>Тюмень</td>\n",
       "      <td>ultra</td>\n",
       "    </tr>\n",
       "    <tr>\n",
       "      <th>1</th>\n",
       "      <td>2</td>\n",
       "      <td>Станислав</td>\n",
       "      <td>31</td>\n",
       "      <td>Омск</td>\n",
       "      <td>ultra</td>\n",
       "    </tr>\n",
       "    <tr>\n",
       "      <th>2</th>\n",
       "      <td>3</td>\n",
       "      <td>Алексей</td>\n",
       "      <td>20</td>\n",
       "      <td>Москва</td>\n",
       "      <td>ultra</td>\n",
       "    </tr>\n",
       "    <tr>\n",
       "      <th>3</th>\n",
       "      <td>4</td>\n",
       "      <td>Константин</td>\n",
       "      <td>26</td>\n",
       "      <td>Ростов-на-Дону</td>\n",
       "      <td>ultra</td>\n",
       "    </tr>\n",
       "    <tr>\n",
       "      <th>4</th>\n",
       "      <td>5</td>\n",
       "      <td>Адель</td>\n",
       "      <td>28</td>\n",
       "      <td>Омск</td>\n",
       "      <td>ultra</td>\n",
       "    </tr>\n",
       "  </tbody>\n",
       "</table>\n",
       "</div>"
      ],
      "text/plain": [
       "   user_id        name  age            city subscription_type\n",
       "0        1        Кира   22          Тюмень             ultra\n",
       "1        2   Станислав   31            Омск             ultra\n",
       "2        3     Алексей   20          Москва             ultra\n",
       "3        4  Константин   26  Ростов-на-Дону             ultra\n",
       "4        5       Адель   28            Омск             ultra"
      ]
     },
     "metadata": {},
     "output_type": "display_data"
    },
    {
     "name": "stdout",
     "output_type": "stream",
     "text": [
      "\u001b[1mИнформация о данных:\u001b[0m\n",
      "<class 'pandas.core.frame.DataFrame'>\n",
      "RangeIndex: 1565 entries, 0 to 1564\n",
      "Data columns (total 5 columns):\n",
      " #   Column             Non-Null Count  Dtype \n",
      "---  ------             --------------  ----- \n",
      " 0   user_id            1565 non-null   int64 \n",
      " 1   name               1565 non-null   object\n",
      " 2   age                1565 non-null   int64 \n",
      " 3   city               1565 non-null   object\n",
      " 4   subscription_type  1565 non-null   object\n",
      "dtypes: int64(2), object(3)\n",
      "memory usage: 61.3+ KB\n",
      "**********************************************************************\n",
      "\u001b[1mДубликаты в данных:\u001b[0m 31\n",
      "**********************************************************************\n",
      "\u001b[1mПропуски в данных:\u001b[0m user_id              0\n",
      "name                 0\n",
      "age                  0\n",
      "city                 0\n",
      "subscription_type    0\n",
      "dtype: int64\n",
      "**********************************************************************\n",
      "\u001b[1mНазвание датасета: data_riders\u001b[0m\n"
     ]
    },
    {
     "data": {
      "text/html": [
       "<div>\n",
       "<style scoped>\n",
       "    .dataframe tbody tr th:only-of-type {\n",
       "        vertical-align: middle;\n",
       "    }\n",
       "\n",
       "    .dataframe tbody tr th {\n",
       "        vertical-align: top;\n",
       "    }\n",
       "\n",
       "    .dataframe thead th {\n",
       "        text-align: right;\n",
       "    }\n",
       "</style>\n",
       "<table border=\"1\" class=\"dataframe\">\n",
       "  <thead>\n",
       "    <tr style=\"text-align: right;\">\n",
       "      <th></th>\n",
       "      <th>user_id</th>\n",
       "      <th>distance</th>\n",
       "      <th>duration</th>\n",
       "      <th>date</th>\n",
       "    </tr>\n",
       "  </thead>\n",
       "  <tbody>\n",
       "    <tr>\n",
       "      <th>0</th>\n",
       "      <td>1</td>\n",
       "      <td>4409.919140</td>\n",
       "      <td>25.599769</td>\n",
       "      <td>2021-01-01</td>\n",
       "    </tr>\n",
       "    <tr>\n",
       "      <th>1</th>\n",
       "      <td>1</td>\n",
       "      <td>2617.592153</td>\n",
       "      <td>15.816871</td>\n",
       "      <td>2021-01-18</td>\n",
       "    </tr>\n",
       "    <tr>\n",
       "      <th>2</th>\n",
       "      <td>1</td>\n",
       "      <td>754.159807</td>\n",
       "      <td>6.232113</td>\n",
       "      <td>2021-04-20</td>\n",
       "    </tr>\n",
       "    <tr>\n",
       "      <th>3</th>\n",
       "      <td>1</td>\n",
       "      <td>2694.783254</td>\n",
       "      <td>18.511000</td>\n",
       "      <td>2021-08-11</td>\n",
       "    </tr>\n",
       "    <tr>\n",
       "      <th>4</th>\n",
       "      <td>1</td>\n",
       "      <td>4028.687306</td>\n",
       "      <td>26.265803</td>\n",
       "      <td>2021-08-28</td>\n",
       "    </tr>\n",
       "  </tbody>\n",
       "</table>\n",
       "</div>"
      ],
      "text/plain": [
       "   user_id     distance   duration       date\n",
       "0        1  4409.919140  25.599769 2021-01-01\n",
       "1        1  2617.592153  15.816871 2021-01-18\n",
       "2        1   754.159807   6.232113 2021-04-20\n",
       "3        1  2694.783254  18.511000 2021-08-11\n",
       "4        1  4028.687306  26.265803 2021-08-28"
      ]
     },
     "metadata": {},
     "output_type": "display_data"
    },
    {
     "name": "stdout",
     "output_type": "stream",
     "text": [
      "\u001b[1mИнформация о данных:\u001b[0m\n",
      "<class 'pandas.core.frame.DataFrame'>\n",
      "RangeIndex: 18068 entries, 0 to 18067\n",
      "Data columns (total 4 columns):\n",
      " #   Column    Non-Null Count  Dtype         \n",
      "---  ------    --------------  -----         \n",
      " 0   user_id   18068 non-null  int64         \n",
      " 1   distance  18068 non-null  float64       \n",
      " 2   duration  18068 non-null  float64       \n",
      " 3   date      18068 non-null  datetime64[ns]\n",
      "dtypes: datetime64[ns](1), float64(2), int64(1)\n",
      "memory usage: 564.8 KB\n",
      "**********************************************************************\n",
      "\u001b[1mДубликаты в данных:\u001b[0m 0\n",
      "**********************************************************************\n",
      "\u001b[1mПропуски в данных:\u001b[0m user_id     0\n",
      "distance    0\n",
      "duration    0\n",
      "date        0\n",
      "dtype: int64\n",
      "**********************************************************************\n",
      "\u001b[1mНазвание датасета: data_sub\u001b[0m\n"
     ]
    },
    {
     "data": {
      "text/html": [
       "<div>\n",
       "<style scoped>\n",
       "    .dataframe tbody tr th:only-of-type {\n",
       "        vertical-align: middle;\n",
       "    }\n",
       "\n",
       "    .dataframe tbody tr th {\n",
       "        vertical-align: top;\n",
       "    }\n",
       "\n",
       "    .dataframe thead th {\n",
       "        text-align: right;\n",
       "    }\n",
       "</style>\n",
       "<table border=\"1\" class=\"dataframe\">\n",
       "  <thead>\n",
       "    <tr style=\"text-align: right;\">\n",
       "      <th></th>\n",
       "      <th>subscription_type</th>\n",
       "      <th>minute_price</th>\n",
       "      <th>start_ride_price</th>\n",
       "      <th>subscription_fee</th>\n",
       "    </tr>\n",
       "  </thead>\n",
       "  <tbody>\n",
       "    <tr>\n",
       "      <th>0</th>\n",
       "      <td>free</td>\n",
       "      <td>8</td>\n",
       "      <td>50</td>\n",
       "      <td>0</td>\n",
       "    </tr>\n",
       "    <tr>\n",
       "      <th>1</th>\n",
       "      <td>ultra</td>\n",
       "      <td>6</td>\n",
       "      <td>0</td>\n",
       "      <td>199</td>\n",
       "    </tr>\n",
       "  </tbody>\n",
       "</table>\n",
       "</div>"
      ],
      "text/plain": [
       "  subscription_type  minute_price  start_ride_price  subscription_fee\n",
       "0              free             8                50                 0\n",
       "1             ultra             6                 0               199"
      ]
     },
     "metadata": {},
     "output_type": "display_data"
    },
    {
     "name": "stdout",
     "output_type": "stream",
     "text": [
      "\u001b[1mИнформация о данных:\u001b[0m\n",
      "<class 'pandas.core.frame.DataFrame'>\n",
      "RangeIndex: 2 entries, 0 to 1\n",
      "Data columns (total 4 columns):\n",
      " #   Column             Non-Null Count  Dtype \n",
      "---  ------             --------------  ----- \n",
      " 0   subscription_type  2 non-null      object\n",
      " 1   minute_price       2 non-null      int64 \n",
      " 2   start_ride_price   2 non-null      int64 \n",
      " 3   subscription_fee   2 non-null      int64 \n",
      "dtypes: int64(3), object(1)\n",
      "memory usage: 192.0+ bytes\n",
      "**********************************************************************\n",
      "\u001b[1mДубликаты в данных:\u001b[0m 0\n",
      "**********************************************************************\n",
      "\u001b[1mПропуски в данных:\u001b[0m subscription_type    0\n",
      "minute_price         0\n",
      "start_ride_price     0\n",
      "subscription_fee     0\n",
      "dtype: int64\n",
      "**********************************************************************\n"
     ]
    }
   ],
   "source": [
    "datasets = {'data_users': data_users, 'data_riders': data_riders, 'data_sub': data_sub}\n",
    "\n",
    "for name, dataset in datasets.items():\n",
    "    print(f\"\\033[1mНазвание датасета: {name}\\033[0m\")\n",
    "    display(dataset.head())\n",
    "    print(f\"\\033[1mИнформация о данных:\\033[0m\")\n",
    "    dataset.info()\n",
    "    print('*'*70)\n",
    "    print(f\"\\033[1mДубликаты в данных:\\033[0m {dataset.duplicated().sum()}\")\n",
    "    print('*'*70)\n",
    "    print(f\"\\033[1mПропуски в данных:\\033[0m {dataset.isna().sum()}\")\n",
    "    print('*'*70)"
   ]
  },
  {
   "cell_type": "markdown",
   "id": "e95ebca7",
   "metadata": {},
   "source": [
    "## Предобработка данных"
   ]
  },
  {
   "cell_type": "code",
   "execution_count": 5,
   "id": "0d3f1728",
   "metadata": {},
   "outputs": [
    {
     "name": "stdout",
     "output_type": "stream",
     "text": [
      "\u001b[1mНазвание датасета: data_users\u001b[0m\n",
      "\u001b[1mКоличество уникальных значений:\u001b[0m \n",
      " user_id  name        age  city            subscription_type\n",
      "209      Андрей      23   Омск            ultra                2\n",
      "1237     Евгения     23   Тюмень          free                 2\n",
      "807      Александр   28   Екатеринбург    free                 2\n",
      "204      Руслан      30   Пятигорск       ultra                2\n",
      "403      Полина      19   Сочи            ultra                2\n",
      "                                                              ..\n",
      "1523     Святослав   26   Ростов-на-Дону  free                 1\n",
      "1525     Ирина       21   Омск            free                 1\n",
      "1526     Александра  23   Омск            free                 1\n",
      "1527     Захар       24   Омск            free                 1\n",
      "1534     Альберт     25   Краснодар       free                 1\n",
      "Length: 1534, dtype: int64\n",
      "**********************************************************************\n",
      "\u001b[1mНазвание датасета: data_riders\u001b[0m\n",
      "\u001b[1mКоличество уникальных значений:\u001b[0m \n",
      " user_id  distance     duration   date      \n",
      "1        748.690645   15.041884  2021-11-22    1\n",
      "         4031.020195  17.674448  2021-12-14    1\n",
      "         2720.609748  9.529463   2021-12-22    1\n",
      "         2770.890808  16.650138  2021-10-09    1\n",
      "         2842.118050  23.117468  2021-11-06    1\n",
      "                                              ..\n",
      "1534     3214.021065  18.343604  2021-06-18    1\n",
      "         3434.290912  14.366248  2021-04-29    1\n",
      "         3644.708038  20.289416  2021-08-08    1\n",
      "         3781.098080  19.822962  2021-11-04    1\n",
      "         4928.173852  22.560373  2021-09-13    1\n",
      "Length: 18068, dtype: int64\n",
      "**********************************************************************\n",
      "\u001b[1mНазвание датасета: data_sub\u001b[0m\n",
      "\u001b[1mКоличество уникальных значений:\u001b[0m \n",
      " subscription_type  minute_price  start_ride_price  subscription_fee\n",
      "free               8             50                0                   1\n",
      "ultra              6             0                 199                 1\n",
      "dtype: int64\n",
      "**********************************************************************\n"
     ]
    }
   ],
   "source": [
    "for name, dataset in datasets.items():\n",
    "    print(f\"\\033[1mНазвание датасета: {name}\\033[0m\")\n",
    "    print(f\"\\033[1mКоличество уникальных значений:\\033[0m \\n {dataset.value_counts().sort_values(ascending=False)}\")\n",
    "    print('*'*70)"
   ]
  },
  {
   "cell_type": "code",
   "execution_count": 6,
   "id": "5bbfe974",
   "metadata": {},
   "outputs": [
    {
     "name": "stdout",
     "output_type": "stream",
     "text": [
      "\u001b[1mНазвание датасета: data_users\u001b[0m\n",
      "\u001b[1mОсталось дубликатов:\u001b[0m \n",
      " 0\n",
      "**********************************************************************\n",
      "\u001b[1mНазвание датасета: data_riders\u001b[0m\n",
      "\u001b[1mОсталось дубликатов:\u001b[0m \n",
      " 0\n",
      "**********************************************************************\n",
      "\u001b[1mНазвание датасета: data_sub\u001b[0m\n",
      "\u001b[1mОсталось дубликатов:\u001b[0m \n",
      " 0\n",
      "**********************************************************************\n"
     ]
    }
   ],
   "source": [
    "#удаляем дубликаты и проверяем\n",
    "for name, dataset in datasets.items():\n",
    "    dataset.drop_duplicates(inplace=True)\n",
    "    print(f\"\\033[1mНазвание датасета: {name}\\033[0m\")\n",
    "    print(f\"\\033[1mОсталось дубликатов:\\033[0m \\n {dataset.duplicated().sum()}\")\n",
    "    print('*'*70)"
   ]
  },
  {
   "cell_type": "code",
   "execution_count": 7,
   "id": "d110883c",
   "metadata": {},
   "outputs": [
    {
     "data": {
      "text/plain": [
       "array([2021])"
      ]
     },
     "execution_count": 7,
     "metadata": {},
     "output_type": "execute_result"
    }
   ],
   "source": [
    "#проверим, за какой период в годах представлены данные\n",
    "data_riders['date'].dt.year.unique()"
   ]
  },
  {
   "cell_type": "markdown",
   "id": "fdff37f2",
   "metadata": {},
   "source": [
    "Видим, что данные собраны лишь за 2021 год. Поэтому далее добавим столбец с месяцами 2021 года."
   ]
  },
  {
   "cell_type": "code",
   "execution_count": 8,
   "id": "4c1e26dc",
   "metadata": {},
   "outputs": [
    {
     "data": {
      "text/plain": [
       "array([ 1,  4,  8, 10, 11, 12,  3,  6,  7,  2,  5,  9])"
      ]
     },
     "execution_count": 8,
     "metadata": {},
     "output_type": "execute_result"
    }
   ],
   "source": [
    "#добавляем столбец с номером месяца\n",
    "data_riders['month'] = data_riders['date'].dt.month\n",
    "#проверяем\n",
    "data_riders['month'].unique()"
   ]
  },
  {
   "cell_type": "code",
   "execution_count": 9,
   "id": "2cc53f57",
   "metadata": {
    "scrolled": true
   },
   "outputs": [
    {
     "data": {
      "text/plain": [
       "count    18068.000000\n",
       "mean        17.805011\n",
       "std          6.091051\n",
       "min          0.500000\n",
       "25%         13.597563\n",
       "50%         17.678395\n",
       "75%         21.724800\n",
       "max         40.823963\n",
       "Name: duration, dtype: float64"
      ]
     },
     "execution_count": 9,
     "metadata": {},
     "output_type": "execute_result"
    }
   ],
   "source": [
    "#Рассмотрим подробнее данные о продолжительности поездок\n",
    "data_riders['duration'].describe()"
   ]
  },
  {
   "cell_type": "code",
   "execution_count": 10,
   "id": "b95470e5",
   "metadata": {
    "scrolled": true
   },
   "outputs": [
    {
     "data": {
      "image/png": "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\n",
      "text/plain": [
       "<Figure size 576x288 with 1 Axes>"
      ]
     },
     "metadata": {},
     "output_type": "display_data"
    }
   ],
   "source": [
    "# Устанавливаем стиль seaborn\n",
    "sns.set(style=\"whitegrid\")\n",
    "\n",
    "# Создаем ящик с усами\n",
    "plt.figure(figsize=(8, 4)) \n",
    "sns.boxplot(x=data_riders['duration'], color='lightcoral', width=0.5, linewidth=2)\n",
    "\n",
    "# Настраиваем параметры графика\n",
    "plt.title('Ящик с усами для переменной \"duration\"', fontsize=16)\n",
    "plt.xlabel('Длительность', fontsize=14)\n",
    "plt.ylabel('Значения', fontsize=14)\n",
    "plt.xticks(fontsize=12)\n",
    "plt.yticks(fontsize=12)\n",
    "plt.grid(True, axis='both')\n",
    "\n",
    "# Показываем график\n",
    "plt.show()\n"
   ]
  },
  {
   "cell_type": "markdown",
   "id": "68a06543",
   "metadata": {},
   "source": [
    "Как мы видим, в столбце duration (продолжительность сессии) присутствует много выбросов. Однако, стоит заметить, что избавиться от них мы не можем, чтобы не навредить процессу исследования и не испортить финальные выводы. Нам важны все данные о продолжительности сессии."
   ]
  },
  {
   "cell_type": "markdown",
   "id": "b0d9a617",
   "metadata": {},
   "source": [
    "**Вывод по предобработке:** мы удалили дубликаты, которые были лишь в одном датасете; посмотрели наличие пропусков - их не выявлено; добавили новый столбец в data_riders с номером месяца поездки; обнаружили наличие выбросов в данных о продолжительности сессии."
   ]
  },
  {
   "cell_type": "markdown",
   "id": "212593c7",
   "metadata": {},
   "source": [
    "## Исследовательский анализ данных"
   ]
  },
  {
   "cell_type": "markdown",
   "id": "8885aad7",
   "metadata": {},
   "source": [
    "**Частота встречаемости городов**"
   ]
  },
  {
   "cell_type": "code",
   "execution_count": 11,
   "id": "82e324db",
   "metadata": {},
   "outputs": [
    {
     "data": {
      "text/plain": [
       "1534"
      ]
     },
     "execution_count": 11,
     "metadata": {},
     "output_type": "execute_result"
    }
   ],
   "source": [
    "# Сначала найдем сумму встречаемости всех городов\n",
    "data_users['city'].value_counts().sum()"
   ]
  },
  {
   "cell_type": "code",
   "execution_count": 12,
   "id": "7ac64c98",
   "metadata": {
    "scrolled": true
   },
   "outputs": [
    {
     "data": {
      "image/png": "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\n",
      "text/plain": [
       "<Figure size 720x360 with 1 Axes>"
      ]
     },
     "metadata": {},
     "output_type": "display_data"
    }
   ],
   "source": [
    "# Определим саму частоту по каждому городу\n",
    "plt.figure(figsize=(10, 5))\n",
    "# Генерируем частоты и рисуем столбчатую диаграмму\n",
    "city_frequency = data_users['city'].value_counts() / len(data_users['city']) * 100\n",
    "city_frequency = round(city_frequency, 1)\n",
    "sns.set(style=\"whitegrid\")\n",
    "\n",
    "# Рисуем столбчатую диаграмму\n",
    "freq = city_frequency.sort_values().plot(\n",
    "    kind='barh', \n",
    "    color=sns.color_palette('viridis', len(city_frequency)),\n",
    "    figsize=(10, 5),\n",
    "    title='Частота встречаемости городов среди пользователей',\n",
    "    xlabel='Название города'\n",
    ")\n",
    "\n",
    "# Добавляем значения на столбцах\n",
    "for index, value in enumerate(city_frequency.sort_values()):\n",
    "    plt.text(value, index, f'{value}%', ha='left', va='center', fontsize=10)\n",
    "\n",
    "plt.show()"
   ]
  },
  {
   "cell_type": "code",
   "execution_count": 13,
   "id": "4ef88514",
   "metadata": {},
   "outputs": [
    {
     "data": {
      "text/plain": [
       "3.0"
      ]
     },
     "execution_count": 13,
     "metadata": {},
     "output_type": "execute_result"
    }
   ],
   "source": [
    "round(city_frequency).max() - round(city_frequency).min()"
   ]
  },
  {
   "cell_type": "markdown",
   "id": "241ce7f1",
   "metadata": {},
   "source": [
    "Количество пользователей в разных городах различается несущественно (лишь на несколько процентов). Так, разница между городом с наибольшим числом пользователей и городом с наименьшим числом пользователей составляет всего лишь 3%. "
   ]
  },
  {
   "cell_type": "code",
   "execution_count": 14,
   "id": "2f1b669e",
   "metadata": {},
   "outputs": [
    {
     "data": {
      "image/png": "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\n",
      "text/plain": [
       "<Figure size 576x576 with 1 Axes>"
      ]
     },
     "metadata": {},
     "output_type": "display_data"
    }
   ],
   "source": [
    "# Создаем фигуру и оси\n",
    "plt.figure(figsize=(8, 8))\n",
    "\n",
    "# Генерируем данные\n",
    "tariff_type = data_users['subscription_type'].value_counts()\n",
    "\n",
    "# Рисуем круговую диаграмму \n",
    "wedgeprops = {\"linewidth\": 1, 'width': 0.6, \"edgecolor\": \"w\"} \n",
    "colors = ['skyblue', 'lightcoral']\n",
    "explode = (0, 0.1)  # Выделяем один из сегментов\n",
    "\n",
    "tariff_type.plot(\n",
    "    kind='pie',\n",
    "    autopct='%1.1f%%',\n",
    "    startangle=90,\n",
    "    explode=explode,\n",
    "    colors=colors,\n",
    "    wedgeprops=wedgeprops,\n",
    "    labels=None  \n",
    ")\n",
    "\n",
    "# Добавляем метки\n",
    "plt.gca().set_aspect('equal') \n",
    "plt.legend(labels=tariff_type.index, loc='upper right')\n",
    "plt.title('Соотношение пользователей в зависимости от наличия подписки', fontsize=16)\n",
    "plt.ylabel('')\n",
    "\n",
    "plt.show()"
   ]
  },
  {
   "cell_type": "code",
   "execution_count": 15,
   "id": "544696fb",
   "metadata": {},
   "outputs": [
    {
     "data": {
      "text/plain": [
       "count    1534.000000\n",
       "mean       24.903520\n",
       "std         4.572367\n",
       "min        12.000000\n",
       "25%        22.000000\n",
       "50%        25.000000\n",
       "75%        28.000000\n",
       "max        43.000000\n",
       "Name: age, dtype: float64"
      ]
     },
     "execution_count": 15,
     "metadata": {},
     "output_type": "execute_result"
    }
   ],
   "source": [
    "data_users['age'].describe()"
   ]
  },
  {
   "cell_type": "code",
   "execution_count": 16,
   "id": "5c56d255",
   "metadata": {},
   "outputs": [
    {
     "data": {
      "image/png": "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\n",
      "text/plain": [
       "<Figure size 720x432 with 1 Axes>"
      ]
     },
     "metadata": {},
     "output_type": "display_data"
    }
   ],
   "source": [
    "plt.figure(figsize=(10, 6))\n",
    "# Рисуем гистограмму \n",
    "data_users['age'].hist(bins=15, edgecolor='black', color='lightcoral', alpha=0.7)\n",
    "plt.title('Количество пользователей в зависимости от возраста', fontsize=16)\n",
    "plt.xlabel('Возраст пользователей', fontsize=14)\n",
    "plt.ylabel('Количество пользователей', fontsize=14)\n",
    "plt.xticks(fontsize=12)\n",
    "plt.yticks(fontsize=12)\n",
    "plt.grid(True, axis='both')\n",
    "\n",
    "plt.show()"
   ]
  },
  {
   "cell_type": "code",
   "execution_count": 17,
   "id": "64d3a478",
   "metadata": {},
   "outputs": [
    {
     "data": {
      "text/plain": [
       "count    18068.000000\n",
       "mean      3070.659976\n",
       "std       1116.831209\n",
       "min          0.855683\n",
       "25%       2543.226360\n",
       "50%       3133.609994\n",
       "75%       3776.222735\n",
       "max       7211.007745\n",
       "Name: distance, dtype: float64"
      ]
     },
     "execution_count": 17,
     "metadata": {},
     "output_type": "execute_result"
    }
   ],
   "source": [
    "# Определим расстояние, которое пользователь преодолел за одну поездку\n",
    "data_riders['distance'].describe()"
   ]
  },
  {
   "cell_type": "code",
   "execution_count": 18,
   "id": "34ff854f",
   "metadata": {
    "scrolled": false
   },
   "outputs": [
    {
     "data": {
      "image/png": "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\n",
      "text/plain": [
       "<Figure size 720x432 with 1 Axes>"
      ]
     },
     "metadata": {},
     "output_type": "display_data"
    }
   ],
   "source": [
    "plt.figure(figsize=(10, 6))\n",
    "sns.kdeplot(data_riders['distance'], color='lightcoral')\n",
    "\n",
    "# Добавляем заголовок и подписи к осям\n",
    "plt.title('Расстояние, которое пользователь проехал за 1 поездку', fontsize=16)\n",
    "plt.xlabel('Расстояние, м', fontsize=14)\n",
    "plt.ylabel('Количество поездок', fontsize=14)\n",
    "plt.grid(True, axis='both')\n",
    "\n",
    "plt.show()"
   ]
  },
  {
   "cell_type": "code",
   "execution_count": 19,
   "id": "49148957",
   "metadata": {},
   "outputs": [
    {
     "data": {
      "text/plain": [
       "count    18068.000000\n",
       "mean        17.805011\n",
       "std          6.091051\n",
       "min          0.500000\n",
       "25%         13.597563\n",
       "50%         17.678395\n",
       "75%         21.724800\n",
       "max         40.823963\n",
       "Name: duration, dtype: float64"
      ]
     },
     "execution_count": 19,
     "metadata": {},
     "output_type": "execute_result"
    }
   ],
   "source": [
    "data_riders['duration'].describe()"
   ]
  },
  {
   "cell_type": "code",
   "execution_count": 20,
   "id": "62035daa",
   "metadata": {},
   "outputs": [
    {
     "data": {
      "image/png": "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\n",
      "text/plain": [
       "<Figure size 720x432 with 1 Axes>"
      ]
     },
     "metadata": {},
     "output_type": "display_data"
    }
   ],
   "source": [
    "plt.figure(figsize=(10, 6))\n",
    "\n",
    "round(data_riders['duration'].sort_values(ascending=False), 1).plot.kde(color='lightcoral')\n",
    "\n",
    "plt.title('Продолжительность поездок', fontsize=14)\n",
    "plt.xlabel('Время, мин', fontsize=14)\n",
    "plt.ylabel('Количество поездок', fontsize=14)\n",
    "plt.grid(True, axis='both')\n",
    "\n",
    "plt.show()"
   ]
  },
  {
   "cell_type": "markdown",
   "id": "26f9c538",
   "metadata": {},
   "source": [
    "Таким образом, как уже было сказано ранее, **самый популярный** среди пользователей самокатов город - Пятигорск. **Самый непопулярный** - Москва. Тем не менее, значения по городам примерно одинаково распределены.\n",
    "\n",
    "Пользователей с **бесплатным** тарифом -  54,4% от общего числа пользователей. \n",
    "Пользователей с **платной подпиской**, соответственно - 45,6% от общего числа пользователей.\n",
    "\n",
    "**Возраст** пользователей колеблется в пределах от 12 до 43 лет. Наиболее часто встречаются пользователи в возрасте от 23 до 27 лет.\n",
    "\n",
    "**Касаемо расстояния за одну поездку:** как правило, пользователи самокатов проезжают в среднем 3 км. Наиболее часто значения находятся в пределах от 2 до 5,5 км.\n",
    "\n",
    "**Касаемо продолжительности поездок:** как правило, пользователи самокатов продолжают свою поездку в среднем 17,8 мин. Наиболее часто значения находятся в пределах от 10 до 25 мин."
   ]
  },
  {
   "cell_type": "code",
   "execution_count": 21,
   "id": "c167601c",
   "metadata": {},
   "outputs": [
    {
     "data": {
      "image/png": "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\n",
      "text/plain": [
       "<Figure size 1224x144 with 1 Axes>"
      ]
     },
     "metadata": {},
     "output_type": "display_data"
    }
   ],
   "source": [
    "plt.figure(figsize=(17, 2))\n",
    "sns.boxplot(x=data_riders['duration'], color='lightcoral', width=0.5, linewidth=2)\n",
    "\n",
    "# Добавляем заголовок и подписи к осям\n",
    "plt.title('Продолжительность поездок', fontsize=16)\n",
    "plt.xlabel('Продолжительность, мин', fontsize=14)\n",
    "plt.ylabel('')\n",
    "\n",
    "plt.grid(True, axis='both')\n",
    "\n",
    "plt.show()"
   ]
  },
  {
   "cell_type": "code",
   "execution_count": 22,
   "id": "c23d42d5",
   "metadata": {},
   "outputs": [
    {
     "data": {
      "image/png": "iVBORw0KGgoAAAANSUhEUgAAA8MAAACyCAYAAABm4x3PAAAAOXRFWHRTb2Z0d2FyZQBNYXRwbG90bGliIHZlcnNpb24zLjMuNCwgaHR0cHM6Ly9tYXRwbG90bGliLm9yZy8QVMy6AAAACXBIWXMAAAsTAAALEwEAmpwYAAAhH0lEQVR4nO3deXRN5/7H8U8SiTmJRETQaqlEaoqhUYoYLlWLXr2LtuaxtPkZqtRQmt4qWkNJRAyXogh11VDT5bZFiRYpWlfNIeZ5SEhEOGf//rCyb44kqr3ikP1+rWWts/fZw/fs8yzZn/M8e28XwzAMAQAAAABgIa7OLgAAAAAAgEeNMAwAAAAAsBzCMAAAAADAcgjDAAAAAADLIQwDAAAAACyHMAwAAAAAsBzCMABYzLJlyxQUFGT+Cw4OVv369dW/f38dPXrU2eUBuebw4cNq0KCBEhISlJKSokmTJmncuHHOLgsA4CT5nF0AAMA5oqKiVLJkSdlsNp08eVJTp05V165dtWbNGhUtWtTZ5QEPXYUKFVSzZk21aNFCkhQQEKB58+Y5uSoAgLMQhgHAooKDg1W2bFlJUs2aNVWiRAl169ZNu3btUlhYmJOrA3LHpEmTNHToUN24cUNPP/203N3dnV0SAMBJCMMAAElSkSJFJEl37txxmL9582bFxMRo//79cnd3V+3atTVo0CCVK1fOXKZXr17at2+frl27Jk9PT9WuXVuDBw9WQECAJGn79u3q3LmzJk+erI0bN+r777+XzWZTo0aNNGLECBUrVszc1oIFC7Rq1SodO3ZMdrtd5cqVU3h4uBo2bOhQV2pqqqZOnap169bp3Llz8vLyUo0aNfTRRx9p8+bNGjZs2H0/78GDB3N8r3Hjxjp9+nS279WoUUOLFi0yp48eParPP/9c27dvV3p6uipWrKg+ffqoQYMGWdYNCgq6by2nTp1SkyZNNGrUKLVt2zbH+kaMGKGtW7fq0qVLKlSokEJCQjRw4EAFBgaay1y4cEETJkzQDz/8oJSUFD377LPq2bOn/vrXv5rLLFu2zOE4FS5cWBUqVFD//v1Vt25dc/6aNWu0ePFiHTp0SLdu3VLZsmXVpUsXvfbaa7/72TJ8+umn+tvf/iZJ2rFjh2JiYrRnzx4ZhqGaNWtqyJAhDvVL/2039woNDdX8+fPN6ZMnTyoyMlJbt27VjRs3VL58efXp00dNmzY1l4mOjtby5cu1YcMG+fv7y9/fX8ePH1fLli2Vnp5+3/YAAMibCMMAYFE2m0137tyR3W7XyZMnNXHiRPn6+qp27drmMps3b1bv3r314osvatKkSUpNTdXkyZPVvn17ffPNN/L395ckvfTSS2rXrp2KFi2qy5cva+bMmXr33Xe1ePFih32OGTNGdevW1eeff67jx49r4sSJunDhgkOwOX36tNq0aaMyZcrozp072rhxo3r37q2ZM2eaATM9PV3du3fXgQMH9NZbbykkJETXr19XXFyckpKS1LBhQ4d99+nTR2FhYfcNmPeqV6+e+vbt6zDv448/dpg+f/682rdvr8KFC+vDDz9U0aJFFRsbq969e2v69OnZ9rC3adPGrGPJkiX6+uuvH7imDNWqVVPDhg3l7e2t5ORkxcbGqkePHtq8ebNcXFyUmpqqTp06KSkpSe+9955KliyplStXavDgwUpLS9Mbb7zhsL0pU6bIz89Ply9fVkxMjMLDw7Vx40bzR4qTJ0/q5ZdfVq9eveTq6qr4+HiNGDFCaWlpateunSQ5HO8lS5bohx9+0JQpU8x5Tz/9tCRp06ZNCg8PV1hYmMaPHy9JmjVrljp06KCVK1eaP6BkFhERoUqVKknK+h2cPXtWr7/+unx9fTVs2DD5+Pho7dq16tu3r2JiYtSkSZMcj+OoUaNks9ke+LgDAPIWwjAAWNQrr7ziMF2iRAlNnz7d7CGWpMjISD311FOaOXOm8uW7+ycjJCREzZs31+zZs81exS5dushut8tms+nKlSsqW7asNm3alGWfzz33nD799FNz2svLS++//75++ukn1alTR5I0ZMgQ83273a46deooMTFRixYtMsPwypUrtXv3bk2dOtUh7DRv3tx87ePjY7728PBQyZIlFRIS8sDHp1ixYlmWL1KkiEPP+dy5c5WcnKzFixebQ87DwsLUokULRUZGOoTh9PR0SVLp0qXN7W7ZsuWB68msbdu2MgxDNptNycnJ2rFjh+Li4pScnCwvLy8tW7ZMiYmJmjdvnvnjRlhYmC5fvqzIyEi1adNGbm5u5vaCg4NVpkwZczo8PFyJiYlmGH777bfN9+x2u0JDQ3Xx4kUtWrTIDMOZj9WWLVvk4eGR7fEePXq0XnjhBU2bNs2c9+KLL6pJkyaaPXu2hg8fbs6/ffu2pLu9zhnbytw+pbs9voZhaP78+Wa99evX17lz5zR58uQcw/B3332nuLg4tW/fXgsWLMj+QAMA8jTCMABYVExMjPz9/WUYhi5cuKDY2Fj16tVLsbGxKl++vFJTU7Vv3z717t3bDMKS9NRTT6lGjRqKj4932N6nn35q3ozI3d1d77//fpZ93hvAmzdvriFDhmj37t1mGN67d6+io6P1n//8R1euXJFhGJKkZ5991lxv69at8vPzu2+v36MQHx+vatWqmUFYktzc3NSyZUvFxMToxo0bZni7deuWJCl//vy/u1273a47d+7I1dVVrq7ZP/jhyy+/NH9YcHV1Vffu3eXl5WXW5e/v79DLL0mvvvqqhg0bpiNHjjgMa87Y35UrV/TNN9/Ix8dHFSpUMN9PTEzU5MmTFR8fr0uXLslut0u6+yPDH5GYmKgTJ06od+/eDj8qFChQQNWrV9fPP//ssHxaWpqk+x+zLVu2KCwsTEWLFnXYZr169TRu3DiH7yDzdseMGaPXX3/d7HEGAFgPYRgALKpChQoOIa5evXoKCwtTdHS0IiMjlZycLMMwVKJEiSzrFi9ePMs1td27d1erVq10/Phxbdy4Uc8//3y262Xm4eEhT09PnT9/XtLdIa9du3bVc889pxEjRqhUqVJyc3NTVFSUw2Ofrl27lm1dj1pSUpKCg4OzzC9evLgMw1BSUpIZxK5duyZJ8vb2/t3tRkREKCIiQq6urvL19VXDhg01ePBgeXp6msu0atVKNWrU0Pnz57V+/XpVr17doS4/P79s68p4P7PM19Z6eXlp3LhxZt0pKSnq3r27ChQooIEDB5o3nVq0aJGWLl36u58ls8uXL0uShg8f7tADnKFUqVIO0w9yzK5cuaIVK1ZoxYoV2b5/9erVLGF4xowZSk1N1YABA7Rhw4YH/wAAgDyFMAwAkHS3d+6pp54ybyTk6ekpFxcXXbx4Mcuyly5dyhJQAgICFBAQoKpVqyogIEA9e/bUhg0bHIYrX7p0yWGd9PR0JScnm9ceb9myRdevX1dkZKRKlixpLpfRQ5ihWLFiOnz48P/0eR8GLy+vLJ9Juvs5XVxczJ5a6W6vqPTfa2fv55133lGTJk1ks9m0f/9+jRs3TmlpaZowYYK5jK+vr3x9fSVJVapUUaNGjbRixQoFBQXJy8tLx44dy7aujLozmzZtmvz8/HTr1i1t3LhR//d//6dZs2apTp06+uWXX3T69GnFxsaqVq1a5jp/ZmhxRpsZOHCgORIgs3vv7Hz8+HFziPv9tlmzZk299dZb2b6f0bYynDhxQrNmzVJERMQD/TABAMi7sh97BQCwnJs3b+rkyZNmeC1UqJAqVaqkdevWOdxk6PTp09q9e7dCQ0Pvu62bN2/q1KlTDvP/9a9/OUyvW7dOdrvd7NW8efOmJDkMyz527Jh27drlsN5LL72kixcvOr1X74UXXtCvv/7q8DltNpvWrl2r559/3qFHctOmTSpYsKAqV678u9stXbq0qlSpopCQELVr104vvfSS9u3bl+PyqampstvtSkhIkHT3bsvnzp3Tzp07HZZbvXq1fH199dxzzznMDwwMVJUqVVSrVi29//77KlSokNavXy/pv99J5qCalJSk77///nc/x73KlSun0qVL6/Dhw6pSpUqWfxUrVjSXvXPnjrZs2aKQkJD7Pv6ofv36OnjwoCpUqJDtNu8dyj169GhVrFhRbdq0+cP1AwDyFnqGAcCi9u/fr6tXr8owDF28eFELFizQtWvX1LFjR3OZ/v37q3fv3urdu7fat2+v1NRURUdHq0iRIurWrZsk6ZdfftGqVatUu3ZteXl56ciRI5o2bZpKliyZ5XE7R44c0bBhw9SiRQslJiZq0qRJCg0NNXsJ69atq3z58mnIkCHq1q2bLl68qOjoaAUEBJjXDkt3r31dsmSJBg4cqF69eqlatWpKSUnRli1b1KVLF5UvX/4RHEGpa9euWr58ubp3766+ffuqSJEiWrhwoRITEzVjxgxJ0rlz5zR37lzFxsaqW7duKliw4O9u9+LFi0pISJDNZtOhQ4e0bds28/ro06dPKzo6Wg0aNFDx4sV16tQpzZgxQ4ULFzZ7bl977TXNmzdPffv21YABA+Tv769Vq1Zp69atGjlypMPNs6S7beHSpUtKS0vTpk2blJycbAbTGjVqqEiRIvr444/Vr18/paamatq0aSpWrJiuX7/+h46Xi4uLPvroI4WHh+v27dt65ZVXVKxYMV26dEm7d+9WqVKl1K1bN+3Zs0dTp07VgQMHHG60lZ1+/fqpbdu26tChgzp27KjSpUsrOTlZhw4d0smTJx1u2Hbu3DmdPXtWS5YskYuLyx+qHQCQ9xCGAcCi+vfvb77OuGHSrFmzVL9+fXN+gwYNNGPGDMXExOjdd9+Vu7u7QkND9f7775vDTz09PXX48GGtXr1aKSkp8vPzU/369RUeHp7lxkfDhw/Xhg0bNGDAANlsNjVu3Njh2tEKFSpo/Pjxmjx5st555x09/fTTGjhwoLZs2aIdO3aYy7m7u+uLL77QlClT9M9//lMxMTHy9vZWjRo1HunQV39/fy1cuFATJkzQ3//+d6Wnpys4OFgzZsww73z9448/Ki4uTkOHDs32mbnZiYqKUlRUlPLly6fixYurRYsW5g3JChYsqMuXL2vUqFFKTk5WsWLFVKNGDUVFRZnXURcqVEjz58/X+PHjNWHCBPM5w+PGjXN4znCGPn36SLp7o6pSpUpp4MCB5uOXfHx8NGXKFI0dO1b9+vVTiRIl1LlzZyUlJTk8OulBhYWFacGCBZo+fbr5eCY/Pz9Vq1ZNLVq0kHT30UzXr1/X9OnTszxf+l6lSpXS0qVLFR0drYkTJ+rq1avy9vZWhQoV1Lp1a4dlbTab3njjjQfqnQcA5H0uRuaf2gEAyAXbt29X586dNWfOHNWtW9fZ5QAAAHDNMAAAAADAegjDAAAAAADLYZg0AAAAAMBy6BkGAAAAAFhOjneTttvtSklJkbu7O48fAAAAAAA8UQzD0O3bt1W4cGG5umbtB84xDKekpOjQoUO5WhwAAAAAALkpMDBQRYsWzTI/xzDs7u5urujh4ZF7leGxtHfvXp7DiAdCW8GDoq3gQdFW8KBoK3hQtBVrSk9P16FDh8xse68cw3DG0GgPDw/lz58/d6rDY43vHQ+KtoIHRVvBg6Kt4EHRVvCgaCvWldNlv9xACwAAAABgOYRhAAAAAIDlEIYBAAAAAJZDGAYAAAAAWA5hGAAAAABgOYRhAAAAAIDlEIYBAAAAAJZDGAYAAAAAWA5hGAAAAABgOYRhAAAAAIDlEIYBAAAAAJZDGAYAAAAAWA5hGAAAAABgOYRhAAAAAIDlEIYBAAAAAJZDGAYAAAAAWA5hGAAAAABgOYRhAAAAAIDlEIYBAAAAAJZDGAYAAAAAWA5hGAAAAABgOYRhAAAAAIDlEIYBAAAAAJaTz9kFAMDjqn///s4uIc+ZN2+es0vIM6KiopxdAgAATzR6hgEAAAAAlkPPMAD8jkHPPOPsEp54ExITJXEsH4aMYwkAAP439AwDAAAAACyHMAwAAAAAsBzCMAAAAADAcgjDAAAAAADLIQwDAAAAACyHMAwAAAAAsBzCMAAAAADAcgjDAAAAAADLIQwDAAAAACyHMAwAAAAAsBzC8J8wY8YMzZgxw9llAAAAII/ifBPIffmcXcCTaN++fc4uAQAAAHkY55tA7qNnGAAAAABgOYRhAAAAAIDlEIYBAAAAAJZDGAYAAAAAWA5hGAAAAABgOYRhAAAAAIDlEIYBAAAAAJZDGAYAAAAAWA5hGAAAAABgOXkiDO/cuVP9+/fX7t27nV0KAAAA8MQ5cOCA3n33XR08eDDX95WUlKTJkycrOTk51/eFhy8vfX95IgzHxsZKkubPn+/kSgAAAIAnz9y5c2UYhubMmZPr+1q/fr2OHj2qdevW5fq+8PDlpe/viQ/DO3fulM1mkyTZbDZ6hwEAAIA/4MCBA7p586Yk6ebNm7naO5yUlKQdO3bIMAzt2LEjT/QuWkle+/7yObuA/1VGr3CG+fPnq3r16o9k3/37938k+3GWefPmObsEPCFoK8Cjx98g4C7ayv9u7ty5DtNz5szRZ599liv7Wr9+vex2uyTJbrdr3bp1ev3113NlX3j48tr397theO/evY+ijj8to1c48/TOnTudVA0AAADw8DyK89qMXuHM07m13x07djiM6tyxY4fKly+fK/u6Fxnhf+fM7y83/G4Yrly5svLnz/8oavlTYmNjHQKxm5ubatasmav7zPgFMioqKlf340w7d+7M9eOIvCEvt5W83vOGJxt/g4C83VYy/gY9is+3ZMkSh0BcsGDBXNtvQkKCtm3bJpvNJjc3N4WGhj6Sz5iX28qj5Kzv78+6devWfTt3n/hrhjt06OAw3alTJydVAgAAADx5unbt6jDdrVu3XNvXyy+/LFfXuxHE1dVVzZs3z7V94eHLa9/fEx+Ga9asKTc3N0l3e4Uf1fXCAAAAQF5QsWJFFSxYUNLdXuGgoKBc25eXl5dCQ0Pl4uKi0NBQeXp65tq+8PDlte/viQ/D0n97h+kVBgAAAP64rl27ysXFJVd7hTO8/PLLKleu3BPfq2hVeen7e+LvJi3d7R1+nMeqAwAAAI+zihUrKjIy8pHsy8vLS/369Xsk+8LDl5e+vzzRMwwAAAAAwB9BGAYAAAAAWA5hGAAAAABgOYRhAAAAAIDlEIYBAAAAAJZDGAYAAAAAWA5hGAAAAABgOYRhAAAAAIDl5HN2AU+i559/3tklAAAAIA/jfBPIfYThP6F3797OLgEAAAB5GOebQO5jmDQAAAAAwHIIwwAAAAAAyyEMAwAAAAAshzAMAAAAALAcwjAAAAAAwHIIwwAAAAAAyyEMAwAAAAAshzAMAAAAALAcwjAAAAAAwHIIwwAAAAAAy8nn7AIA4HE3ITHR2SXkGRxLAADwuKBnGAAAAABgOfQMA0AOoqKinF1CnrJz507VrFnT2WUAAABIomcYAAAAAGBBhGEAAAAAgOUQhgEAAAAAlkMYBgAAAABYDmEYAAAAAGA5hGEAAAAAgOUQhgEAAAAAlkMYBgAAAABYDmEYAAAAAGA5hGEAAAAAgOUQhgEAAAAAlkMYBgAAAABYDmEYAAAAAGA5hGEAAAAAgOUQhgEAAAAAlkMYBgAAAABYDmEYAAAAAGA5hGEAAAAAgOUQhgEAAAAAlkMYBgAAAABYDmEYAAAAAGA5hGEAAAAAgOUQhgEAAAAAlkMYBgAAAABYTr6c3jAMQ5KUnp7+yIrB4+XWrVvOLgFPCNoKHhRtBQ+KtoIHRVvBg6KtWE9Gls3ItvdyMXJ45/r16zp06FDuVQYAAAAAQC4LDAxU0aJFs8zPMQzb7XalpKTI3d1dLi4uuV4gAAAAAAAPi2EYun37tgoXLixX16xXCOcYhgEAAAAAyKu4gRYAAAAAwHIIwwAAAAAAyyEMAwAAAAAshzAMAAAAALAcwjAAAAAAwHIIwwAAAAAAyyEMAwAAAAAsJ5+zC4BzjR07VuvXr9fp06e1atUqBQYGSpIaN24sDw8P5c+fX5I0aNAg1a9f35mlwsmuXr2qwYMH68SJE/Lw8FDZsmU1cuRI+fj46JdfflFERIRu3bql0qVLa/z48fL19XV2yXCS+7WVoKAgBQYGmg++HzdunIKCgpxcMZwpPDxcp06dkqurqwoVKqQPP/xQwcHBOnbsmIYOHapr167J29tbY8eO1TPPPOPscuFEObUVzlmQkylTpig6Oto8x+V8BVkYsLT4+HjjzJkzRqNGjYyDBw+a8++dBq5evWps27bNnP7ss8+MYcOGGTabzfjLX/5ixMfHG4ZhGDExMcbQoUOdVSYeAzm1FcMwjMDAQOPGjRvOKg2PoeTkZPP1t99+a7Ru3dowDMPo1KmTsWLFCsMwDGPFihVGp06dnFIfHh85tRXOWZCdvXv3Gj169DDbB+cryA7DpC2uVq1aCggIcHYZeAJ4e3urdu3a5nRISIjOnDmjvXv3Kn/+/KpVq5Yk6c0339S6deucVSYeAzm1FSA7RYsWNV/fuHFDLi4uunz5svbt26eWLVtKklq2bKl9+/bpypUrzioTj4Hs2gqQnfT0dI0cOVJ///vfzXmcryA7DJNGjgYNGiTDMFSzZk2999578vT0dHZJeEzY7XYtWrRIjRs31tmzZ1WqVCnzPR8fH9ntdnNoI6wtc1vJ0KlTJ9lsNjVo0EB9+/aVh4eHEyvE42D48OHaunWrDMPQrFmzdPbsWfn7+8vNzU2S5ObmphIlSujs2bPy8fFxcrVwpnvbSgbOWZBZVFSUXn31VZUpU8acx/kKskPPMLIVGxurlStXaunSpTIMQyNHjnR2SXiMfPLJJypUqJA6duzo7FLwmLu3rWzatEnLli1TbGysjhw5opiYGCdXiMfB6NGjtWnTJg0YMEDjxo1zdjl4jGXXVjhnQWa7d+/W3r171b59e2eXgicAYRjZyhg67eHhofbt22vXrl1OrgiPi7Fjx+r48eOKjIyUq6urAgICHIbAXrlyRa6urvzKiixtRfrv/y1FihRR27Zt+b8FDlq3bq3t27erZMmSOn/+vGw2myTJZrPpwoULXNYDU0ZbuXr1KucscBAfH6+EhAQ1adJEjRs31rlz59SjRw8dP36c8xVkQRhGFqmpqbp+/bokyTAMrV27VsHBwU6uCo+DiRMnau/evYqJiTGHtlauXFlpaWn6+eefJUlfffWVmjdv7swy8RjIrq0kJSUpLS1NknTnzh2tX7+e/1ssLiUlRWfPnjWnN2zYIC8vL/n6+io4OFirV6+WJK1evVrBwcEMkbawnNpK/vz5OWeBg169eikuLk4bNmzQhg0bVLJkSX3xxRfq2bMn5yvIwsUwDMPZRcB5Ro0apX//+9+6dOmSihUrJm9vb02fPl19+/aVzWaT3W5X+fLlNWLECJUoUcLZ5cKJDh8+rJYtW+qZZ55RgQIFJEllypRRTEyMdu3apY8++sjhUQXFixd3csVwlpzaSs+ePRURESEXFxfduXNH1atX1wcffKDChQs7uWI4y6VLlxQeHq6bN2/K1dVVXl5eGjJkiCpVqqSEhAQNHTpUycnJ8vT01NixY1WuXDlnlwwnyamteHp6cs6C+2rcuLGmT5+uwMBAzleQBWEYAAAAAGA5DJMGAAAAAFgOYRgAAAAAYDmEYQAAAACA5RCGAQAAAACWQxgGAAAAAFgOYRgAAAAAYDn5nF0AAACPi6FDh2r58uXmtLe3t0JCQjR48GCVL1/eiZUBAICHjZ5hAAAyqVu3ruLi4hQXF6fZs2crLS1Nffr0cXZZAADgISMMAwCQiYeHh/z8/OTn56dKlSqpa9euOnr0qNLS0iRJBw8eVNeuXVW1alWFhoZq6NChun79urn+2LFjVa9ePVWuXFkNGjTQ+PHjZbfbJUmnTp1SUFCQVq1apXbt2qlKlSpq3ry54uLizPVtNps++OADNW7cWFWrVlWzZs00c+ZMcxsZli9frlatWqly5cqqW7euhgwZIklq3LixgoKCsv0XHR2d24cPAIAnBsOkAQDIwY0bN7R27VoFBgaqQIECSk1NVY8ePVS1alUtWbJESUlJ+vDDD/XBBx+YQbNBgwZq2bKlihUrpsOHD2vQoEGqUKGCWrdubW53/PjxGjp0qIKCgrRw4UKFh4fr22+/lb+/v+x2u/z9/RUZGSkfHx/t2bNHERER8vb2Vtu2bSVJX331lUaPHq333ntPYWFhSk1N1bZt2yRJX3/9tWw2mySpTZs26t69u1q0aCFJKlSo0CM8egAAPN4IwwAAZLJlyxZVr15dkpSamqqAgAD94x//kCStXr1aN2/e1Lhx41SkSBFJ0siRI9W5c2cdP35cZcuWVZ06dcxt2Ww25c+f3wynGdq1a2cG1OHDhysuLk4LFy7UgAED5O7urv79+5vLlilTRvv27dOaNWvMMDx16lR16dJF3bp1M5erXLmyJMnHx8ec5+bmpqJFi8rPz++hHR8AAPIKwjAAAJnUqlVLn3zyiSQpKSlJixYtUvfu3bVkyRIlJCQoKCjIDMKSVL16dbm6uurIkSMqW7asJGn69OmaNm2a0tLS1KFDB4deYUkKCQkxX7u6uqpq1apKSEgw5y1atEhLlizRmTNndOvWLd2+fVulS5eWJF2+fFnnz593CN0AAOCPIwwDAJBJwYIFzVArSZUqVVKtWrW0ePHi+67n4uJivn7zzTfVrFkzJSQkaMyYMapTp46aNm36QPtfu3atxowZoyFDhqh69eoqUqSIYmNj9d133/25DwQAALLFDbQAALgPFxcXubi4KC0tTeXLl9ehQ4d048YN8/3du3fLbrc7PHrJ29tb5cqVU9OmTdW0aVMtXbrUYZu//vqr+dowDO3Zs8dcf+fOnapWrZo6duyoSpUqqWzZsjpx4oS5vK+vr/z9/fXTTz/l1kcGAMASCMMAAGSSnp6uixcv6uLFi0pISNAnn3yi1NRUNWrUSK1atVKBAgU0ZMgQHTx4UPHx8YqIiFCzZs3M3uQFCxbo0KFDOn36tL777jutWbNGwcHBDvtYtGiR1q1bp6NHj2r06NE6c+aM2rVrJ0l65pln9Ntvv+mHH35QYmKiYmJiFB8f77D+22+/rS+//FJz587VsWPHtH//fs2ePfvRHCAAAPIIhkkDAJDJjz/+qHr16kmSChcurHLlyikqKkq1a9eWJH3xxRcaM2aM2rZtq/z586tJkyYaPny4uf7GjRsVExOj69evq0SJEmrdurXCw8Md9jFw4EDNnTtXv/32m0qVKqUpU6aoZMmSkqQ33nhD+/fv16BBg2QYhpo1a6Zu3bpp2bJl5vrt27eXu7u75syZowkTJsjLy0sNGjTI7UMDAECe4mIYhuHsIgAAsIJTp06pSZMm+vrrr1WlShVnlwMAgKUxTBoAAAAAYDmEYQAAAACA5TBMGgAAAABgOfQMAwAAAAAshzAMAAAAALAcwjAAAAAAwHIIwwAAAAAAyyEMAwAAAAAshzAMAAAAALCc/wd+u6S21C7n4wAAAABJRU5ErkJggg==\n",
      "text/plain": [
       "<Figure size 1224x144 with 1 Axes>"
      ]
     },
     "metadata": {},
     "output_type": "display_data"
    }
   ],
   "source": [
    "plt.figure(figsize=(17, 2))\n",
    "sns.boxplot(x=data_users['age'], color='lightcoral', width=0.5, linewidth=2)\n",
    "\n",
    "# Добавляем заголовок и подписи к осям\n",
    "plt.title('Возраст пользователей', fontsize=16)\n",
    "plt.xlabel('Возраст', fontsize=14)\n",
    "plt.ylabel('')\n",
    "\n",
    "plt.grid(True, axis='both')\n",
    "\n",
    "plt.show()"
   ]
  },
  {
   "cell_type": "code",
   "execution_count": 23,
   "id": "c168da45",
   "metadata": {},
   "outputs": [
    {
     "data": {
      "image/png": "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\n",
      "text/plain": [
       "<Figure size 1224x144 with 1 Axes>"
      ]
     },
     "metadata": {},
     "output_type": "display_data"
    }
   ],
   "source": [
    "plt.figure(figsize=(17, 2))\n",
    "sns.boxplot(x=data_riders['distance'], color='lightcoral', width=0.5, linewidth=2)\n",
    "\n",
    "# Добавляем заголовок и подписи к осям\n",
    "plt.title('Расстояние поездки', fontsize=16)\n",
    "plt.xlabel('Расстояние, м', fontsize=14)\n",
    "plt.ylabel('')\n",
    "\n",
    "plt.grid(True, axis='both')\n",
    "\n",
    "plt.show()"
   ]
  },
  {
   "cell_type": "markdown",
   "id": "e0cae01d",
   "metadata": {},
   "source": [
    "Так, мы выяснили, что:\n",
    "- большинство пользователей имеют возраст от 22 до 28 лет; \n",
    "- большинство пользователей проезжают 2500-3800 метров; \n",
    "- продолжительность поездки в основном составляет 14-22 минуты."
   ]
  },
  {
   "cell_type": "markdown",
   "id": "4ef51331",
   "metadata": {},
   "source": [
    "## Объединение данных"
   ]
  },
  {
   "cell_type": "code",
   "execution_count": 24,
   "id": "7c4b8245",
   "metadata": {},
   "outputs": [
    {
     "data": {
      "text/plain": [
       "(1534, 5)"
      ]
     },
     "execution_count": 24,
     "metadata": {},
     "output_type": "execute_result"
    }
   ],
   "source": [
    "data_users.shape"
   ]
  },
  {
   "cell_type": "code",
   "execution_count": 25,
   "id": "458c8164",
   "metadata": {},
   "outputs": [
    {
     "data": {
      "text/plain": [
       "(18068, 5)"
      ]
     },
     "execution_count": 25,
     "metadata": {},
     "output_type": "execute_result"
    }
   ],
   "source": [
    "data_riders.shape"
   ]
  },
  {
   "cell_type": "code",
   "execution_count": 26,
   "id": "6bf288b5",
   "metadata": {
    "scrolled": true
   },
   "outputs": [
    {
     "data": {
      "text/html": [
       "<div>\n",
       "<style scoped>\n",
       "    .dataframe tbody tr th:only-of-type {\n",
       "        vertical-align: middle;\n",
       "    }\n",
       "\n",
       "    .dataframe tbody tr th {\n",
       "        vertical-align: top;\n",
       "    }\n",
       "\n",
       "    .dataframe thead th {\n",
       "        text-align: right;\n",
       "    }\n",
       "</style>\n",
       "<table border=\"1\" class=\"dataframe\">\n",
       "  <thead>\n",
       "    <tr style=\"text-align: right;\">\n",
       "      <th></th>\n",
       "      <th>user_id</th>\n",
       "      <th>name</th>\n",
       "      <th>age</th>\n",
       "      <th>city</th>\n",
       "      <th>subscription_type</th>\n",
       "      <th>distance</th>\n",
       "      <th>duration</th>\n",
       "      <th>date</th>\n",
       "      <th>month</th>\n",
       "      <th>minute_price</th>\n",
       "      <th>start_ride_price</th>\n",
       "      <th>subscription_fee</th>\n",
       "    </tr>\n",
       "  </thead>\n",
       "  <tbody>\n",
       "    <tr>\n",
       "      <th>0</th>\n",
       "      <td>1</td>\n",
       "      <td>Кира</td>\n",
       "      <td>22</td>\n",
       "      <td>Тюмень</td>\n",
       "      <td>ultra</td>\n",
       "      <td>4409.919140</td>\n",
       "      <td>25.599769</td>\n",
       "      <td>2021-01-01</td>\n",
       "      <td>1</td>\n",
       "      <td>6</td>\n",
       "      <td>0</td>\n",
       "      <td>199</td>\n",
       "    </tr>\n",
       "    <tr>\n",
       "      <th>1</th>\n",
       "      <td>1</td>\n",
       "      <td>Кира</td>\n",
       "      <td>22</td>\n",
       "      <td>Тюмень</td>\n",
       "      <td>ultra</td>\n",
       "      <td>2617.592153</td>\n",
       "      <td>15.816871</td>\n",
       "      <td>2021-01-18</td>\n",
       "      <td>1</td>\n",
       "      <td>6</td>\n",
       "      <td>0</td>\n",
       "      <td>199</td>\n",
       "    </tr>\n",
       "    <tr>\n",
       "      <th>2</th>\n",
       "      <td>1</td>\n",
       "      <td>Кира</td>\n",
       "      <td>22</td>\n",
       "      <td>Тюмень</td>\n",
       "      <td>ultra</td>\n",
       "      <td>754.159807</td>\n",
       "      <td>6.232113</td>\n",
       "      <td>2021-04-20</td>\n",
       "      <td>4</td>\n",
       "      <td>6</td>\n",
       "      <td>0</td>\n",
       "      <td>199</td>\n",
       "    </tr>\n",
       "  </tbody>\n",
       "</table>\n",
       "</div>"
      ],
      "text/plain": [
       "   user_id  name  age    city subscription_type     distance   duration  \\\n",
       "0        1  Кира   22  Тюмень             ultra  4409.919140  25.599769   \n",
       "1        1  Кира   22  Тюмень             ultra  2617.592153  15.816871   \n",
       "2        1  Кира   22  Тюмень             ultra   754.159807   6.232113   \n",
       "\n",
       "        date  month  minute_price  start_ride_price  subscription_fee  \n",
       "0 2021-01-01      1             6                 0               199  \n",
       "1 2021-01-18      1             6                 0               199  \n",
       "2 2021-04-20      4             6                 0               199  "
      ]
     },
     "execution_count": 26,
     "metadata": {},
     "output_type": "execute_result"
    }
   ],
   "source": [
    "# данные о пользователях, поездках и подписках объединим в один датафрейм\n",
    "data_2 = data_users.merge(data_riders)\n",
    "data_2 = data_2.merge(data_sub)\n",
    "#проверим\n",
    "data_2.head(3)"
   ]
  },
  {
   "cell_type": "code",
   "execution_count": 27,
   "id": "05ef145a",
   "metadata": {},
   "outputs": [
    {
     "data": {
      "text/plain": [
       "(18068, 12)"
      ]
     },
     "execution_count": 27,
     "metadata": {},
     "output_type": "execute_result"
    }
   ],
   "source": [
    "#Проверим размерность таблицы после объединения\n",
    "data_2.shape"
   ]
  },
  {
   "cell_type": "code",
   "execution_count": 28,
   "id": "3f13747b",
   "metadata": {},
   "outputs": [
    {
     "data": {
      "text/plain": [
       "user_id              0\n",
       "name                 0\n",
       "age                  0\n",
       "city                 0\n",
       "subscription_type    0\n",
       "distance             0\n",
       "duration             0\n",
       "date                 0\n",
       "month                0\n",
       "minute_price         0\n",
       "start_ride_price     0\n",
       "subscription_fee     0\n",
       "dtype: int64"
      ]
     },
     "execution_count": 28,
     "metadata": {},
     "output_type": "execute_result"
    }
   ],
   "source": [
    "#Проверим наличие пропусков после объединения\n",
    "data_2.isna().sum()"
   ]
  },
  {
   "cell_type": "markdown",
   "id": "1a347f65",
   "metadata": {},
   "source": [
    "Таким образом, объединение таблиц было выполнено корректно, размерность таблицы \"до\" и \"после\" совпадает. Пропусков, как и предполагалась, в новой таблице (data_2) не обнаружено."
   ]
  },
  {
   "cell_type": "code",
   "execution_count": 29,
   "id": "fe45d19d",
   "metadata": {
    "scrolled": true
   },
   "outputs": [
    {
     "data": {
      "text/html": [
       "<div>\n",
       "<style scoped>\n",
       "    .dataframe tbody tr th:only-of-type {\n",
       "        vertical-align: middle;\n",
       "    }\n",
       "\n",
       "    .dataframe tbody tr th {\n",
       "        vertical-align: top;\n",
       "    }\n",
       "\n",
       "    .dataframe thead th {\n",
       "        text-align: right;\n",
       "    }\n",
       "</style>\n",
       "<table border=\"1\" class=\"dataframe\">\n",
       "  <thead>\n",
       "    <tr style=\"text-align: right;\">\n",
       "      <th></th>\n",
       "      <th>user_id</th>\n",
       "      <th>name</th>\n",
       "      <th>age</th>\n",
       "      <th>city</th>\n",
       "      <th>subscription_type</th>\n",
       "      <th>distance</th>\n",
       "      <th>duration</th>\n",
       "      <th>date</th>\n",
       "      <th>month</th>\n",
       "      <th>minute_price</th>\n",
       "      <th>start_ride_price</th>\n",
       "      <th>subscription_fee</th>\n",
       "    </tr>\n",
       "  </thead>\n",
       "  <tbody>\n",
       "    <tr>\n",
       "      <th>6913</th>\n",
       "      <td>727</td>\n",
       "      <td>Ярослав</td>\n",
       "      <td>26</td>\n",
       "      <td>Сочи</td>\n",
       "      <td>free</td>\n",
       "      <td>3988.723985</td>\n",
       "      <td>17.957715</td>\n",
       "      <td>2021-12-30</td>\n",
       "      <td>12</td>\n",
       "      <td>8</td>\n",
       "      <td>50</td>\n",
       "      <td>0</td>\n",
       "    </tr>\n",
       "    <tr>\n",
       "      <th>13181</th>\n",
       "      <td>1189</td>\n",
       "      <td>Андрей</td>\n",
       "      <td>26</td>\n",
       "      <td>Екатеринбург</td>\n",
       "      <td>free</td>\n",
       "      <td>2884.899564</td>\n",
       "      <td>14.181998</td>\n",
       "      <td>2021-02-25</td>\n",
       "      <td>2</td>\n",
       "      <td>8</td>\n",
       "      <td>50</td>\n",
       "      <td>0</td>\n",
       "    </tr>\n",
       "    <tr>\n",
       "      <th>14411</th>\n",
       "      <td>1273</td>\n",
       "      <td>Вячеслав</td>\n",
       "      <td>25</td>\n",
       "      <td>Москва</td>\n",
       "      <td>free</td>\n",
       "      <td>2186.325065</td>\n",
       "      <td>10.703457</td>\n",
       "      <td>2021-01-14</td>\n",
       "      <td>1</td>\n",
       "      <td>8</td>\n",
       "      <td>50</td>\n",
       "      <td>0</td>\n",
       "    </tr>\n",
       "  </tbody>\n",
       "</table>\n",
       "</div>"
      ],
      "text/plain": [
       "       user_id      name  age          city subscription_type     distance  \\\n",
       "6913       727   Ярослав   26          Сочи              free  3988.723985   \n",
       "13181     1189    Андрей   26  Екатеринбург              free  2884.899564   \n",
       "14411     1273  Вячеслав   25        Москва              free  2186.325065   \n",
       "\n",
       "        duration       date  month  minute_price  start_ride_price  \\\n",
       "6913   17.957715 2021-12-30     12             8                50   \n",
       "13181  14.181998 2021-02-25      2             8                50   \n",
       "14411  10.703457 2021-01-14      1             8                50   \n",
       "\n",
       "       subscription_fee  \n",
       "6913                  0  \n",
       "13181                 0  \n",
       "14411                 0  "
      ]
     },
     "execution_count": 29,
     "metadata": {},
     "output_type": "execute_result"
    }
   ],
   "source": [
    "# создадим датафрейм c данными о пользователях без подписки\n",
    "without_sub = data_2.query(\"`subscription_type` == 'free'\")\n",
    "\n",
    "# создадим датафрейм c данными о пользователях с подпиской ultra\n",
    "with_sub = data_2.query(\"`subscription_type` == 'ultra'\")\n",
    "#проверим\n",
    "with_sub.sample(3)\n",
    "without_sub.sample(3)"
   ]
  },
  {
   "cell_type": "code",
   "execution_count": 30,
   "id": "6baec5fb",
   "metadata": {},
   "outputs": [
    {
     "data": {
      "text/plain": [
       "(11568, 12)"
      ]
     },
     "execution_count": 30,
     "metadata": {},
     "output_type": "execute_result"
    }
   ],
   "source": [
    "#посмотрим размерность\n",
    "without_sub.shape "
   ]
  },
  {
   "cell_type": "code",
   "execution_count": 31,
   "id": "38cb13cf",
   "metadata": {},
   "outputs": [
    {
     "data": {
      "text/plain": [
       "(6500, 12)"
      ]
     },
     "execution_count": 31,
     "metadata": {},
     "output_type": "execute_result"
    }
   ],
   "source": [
    "with_sub.shape"
   ]
  },
  {
   "cell_type": "code",
   "execution_count": 32,
   "id": "9219bf02",
   "metadata": {
    "scrolled": true
   },
   "outputs": [
    {
     "name": "stdout",
     "output_type": "stream",
     "text": [
      "\u001b[1mНазвание датасета: with_sub\u001b[0m\n",
      "\u001b[1mПропуски в данных:\u001b[0m \n",
      " user_id              0\n",
      "name                 0\n",
      "age                  0\n",
      "city                 0\n",
      "subscription_type    0\n",
      "distance             0\n",
      "duration             0\n",
      "date                 0\n",
      "month                0\n",
      "minute_price         0\n",
      "start_ride_price     0\n",
      "subscription_fee     0\n",
      "dtype: int64\n",
      "**********************************************************************\n",
      "\u001b[1mНазвание датасета: without_sub\u001b[0m\n",
      "\u001b[1mПропуски в данных:\u001b[0m \n",
      " user_id              0\n",
      "name                 0\n",
      "age                  0\n",
      "city                 0\n",
      "subscription_type    0\n",
      "distance             0\n",
      "duration             0\n",
      "date                 0\n",
      "month                0\n",
      "minute_price         0\n",
      "start_ride_price     0\n",
      "subscription_fee     0\n",
      "dtype: int64\n",
      "**********************************************************************\n"
     ]
    }
   ],
   "source": [
    "# Проверим пропуски\n",
    "datasets_2 = {'with_sub': with_sub, 'without_sub': without_sub}\n",
    "\n",
    "for name, dataset in datasets_2.items():\n",
    "    print(f\"\\033[1mНазвание датасета: {name}\\033[0m\")\n",
    "    print(f\"\\033[1mПропуски в данных:\\033[0m \\n {dataset.isna().sum()}\")\n",
    "    print('*'*70)"
   ]
  },
  {
   "cell_type": "markdown",
   "id": "706bd4eb",
   "metadata": {},
   "source": [
    "Как мы видим, разделение таблицы на две другие было проведено корректно. Сумма размерностей двух новых таблиц равна 18068, что совпадает с размерностью исходной таблицы. Также совпадает и количество столбцов. Пропусков не обнаружено."
   ]
  },
  {
   "cell_type": "code",
   "execution_count": 33,
   "id": "3ebebd1e",
   "metadata": {},
   "outputs": [
    {
     "data": {
      "image/png": "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\n",
      "text/plain": [
       "<Figure size 864x432 with 1 Axes>"
      ]
     },
     "metadata": {},
     "output_type": "display_data"
    }
   ],
   "source": [
    "plt.figure(figsize=(12, 6))\n",
    "\n",
    "# График для бесплатного тарифа\n",
    "sns.histplot(without_sub['distance'], bins=50, color='skyblue', alpha=0.7)\n",
    "\n",
    "# График для платного тарифа\n",
    "sns.histplot(with_sub['distance'], bins=50, color='lightcoral', alpha=0.7)\n",
    "\n",
    "# Добавляем заголовок и подписи к осям\n",
    "plt.title('Распределение расстояния поездок по бесплатному и платному тарифам', fontsize=16)\n",
    "plt.xlabel('Расстояние, м', fontsize=14)\n",
    "plt.ylabel('Количество поездок', fontsize=14)\n",
    "\n",
    "plt.legend(['По бесплатному тарифу', 'По платному тарифу'])\n",
    "plt.show()\n"
   ]
  },
  {
   "cell_type": "code",
   "execution_count": 34,
   "id": "0d2ea110",
   "metadata": {
    "scrolled": false
   },
   "outputs": [
    {
     "data": {
      "image/png": "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\n",
      "text/plain": [
       "<Figure size 864x432 with 1 Axes>"
      ]
     },
     "metadata": {},
     "output_type": "display_data"
    }
   ],
   "source": [
    "plt.figure(figsize=(12, 6))\n",
    "\n",
    "# График для бесплатного тарифа\n",
    "sns.histplot(without_sub['duration'], bins=50, color='skyblue', alpha=0.7)\n",
    "\n",
    "# График для платного тарифа\n",
    "sns.histplot(with_sub['duration'], bins=50, color='lightcoral', alpha=0.7)\n",
    "\n",
    "# Добавляем заголовок и подписи к осям\n",
    "plt.title('Распределение времени поездок по бесплатному и платному тарифам', fontsize=16)\n",
    "plt.xlabel('Время, мин.', fontsize=14)\n",
    "plt.ylabel('Количество поездок', fontsize=14)\n",
    "plt.legend(['По бесплатному тарифу', 'По платному тарифу'])\n",
    "\n",
    "plt.show()"
   ]
  },
  {
   "cell_type": "code",
   "execution_count": 35,
   "id": "07762c84",
   "metadata": {
    "scrolled": true
   },
   "outputs": [
    {
     "data": {
      "text/plain": [
       "count    11568.000000\n",
       "mean      3045.495282\n",
       "std       1246.173806\n",
       "min          0.855683\n",
       "25%       2366.562689\n",
       "50%       3114.648465\n",
       "75%       3905.697894\n",
       "max       7211.007745\n",
       "Name: distance, dtype: float64"
      ]
     },
     "execution_count": 35,
     "metadata": {},
     "output_type": "execute_result"
    }
   ],
   "source": [
    "#Добавим статистики \n",
    "without_sub['distance'].describe()"
   ]
  },
  {
   "cell_type": "code",
   "execution_count": 36,
   "id": "583a1a50",
   "metadata": {},
   "outputs": [
    {
     "data": {
      "text/plain": [
       "count    6500.000000\n",
       "mean     3115.445388\n",
       "std       836.895330\n",
       "min       244.210438\n",
       "25%      2785.444017\n",
       "50%      3148.637229\n",
       "75%      3560.574425\n",
       "max      5699.769662\n",
       "Name: distance, dtype: float64"
      ]
     },
     "execution_count": 36,
     "metadata": {},
     "output_type": "execute_result"
    }
   ],
   "source": [
    "with_sub['distance'].describe()"
   ]
  },
  {
   "cell_type": "code",
   "execution_count": 37,
   "id": "6f297293",
   "metadata": {},
   "outputs": [
    {
     "data": {
      "text/plain": [
       "count    11568.000000\n",
       "mean        17.390909\n",
       "std          6.326803\n",
       "min          0.500000\n",
       "25%         12.958437\n",
       "50%         17.326890\n",
       "75%         21.594071\n",
       "max         34.948498\n",
       "Name: duration, dtype: float64"
      ]
     },
     "execution_count": 37,
     "metadata": {},
     "output_type": "execute_result"
    }
   ],
   "source": [
    "without_sub['duration'].describe()"
   ]
  },
  {
   "cell_type": "code",
   "execution_count": 38,
   "id": "f0c5e63f",
   "metadata": {},
   "outputs": [
    {
     "data": {
      "text/plain": [
       "count    6500.000000\n",
       "mean       18.541985\n",
       "std         5.572048\n",
       "min         3.760353\n",
       "25%        14.524654\n",
       "50%        18.178153\n",
       "75%        21.884129\n",
       "max        40.823963\n",
       "Name: duration, dtype: float64"
      ]
     },
     "execution_count": 38,
     "metadata": {},
     "output_type": "execute_result"
    }
   ],
   "source": [
    "with_sub['duration'].describe()"
   ]
  },
  {
   "cell_type": "markdown",
   "id": "0a653cfe",
   "metadata": {},
   "source": [
    "**Вывод по объединению данных:**\n",
    "\n",
    "Расстояние, которое проезжают по **бесплатному тарифу**, в основном находится в пределах от 2 до 4,5 км. Пик - 2,5 км. Срднее = 3045 м., минимальное расстояние = 0.8 м.(возможно, самокат даже не смог тронуться), максимальное расстояние = 7211 м.\n",
    "\n",
    "Время, которое тратят пользователи **бесплатного тарифа** находится в большинстве случаев в пределах от 5 до 30 минут. Среднее значение = 17.3 мин.,минимальное время = 0.5 мин, а максимальное = 34.9 мин.\n",
    "\n",
    "Расстояние, которое проезжают по **тарифу Ultra**, в основном находится в пределах от 2 до 5 км. Самый пик - 3 км. Но есть множество и тех, кто проезжают всего 1 км. Среднее значение = 3115 м., минимальное расстояние = 244 м., а максимальное = 5699.7 м.\n",
    "\n",
    "Время, которое тратят пользователи **платного тарифа** находится в большинстве случаев в пределах от 10 до 30 минут. Среднее значение = 18.5 мин., минимальное значение = 3.7 мин., а максимальное = 40.8 мин.\n",
    "\n",
    "По времени в обоих случаях пик = примерно 17 мин."
   ]
  },
  {
   "cell_type": "markdown",
   "id": "402d620f",
   "metadata": {},
   "source": [
    "## Подсчёт выручки"
   ]
  },
  {
   "cell_type": "code",
   "execution_count": 39,
   "id": "1db2bc89",
   "metadata": {},
   "outputs": [
    {
     "data": {
      "text/html": [
       "<div>\n",
       "<style scoped>\n",
       "    .dataframe tbody tr th:only-of-type {\n",
       "        vertical-align: middle;\n",
       "    }\n",
       "\n",
       "    .dataframe tbody tr th {\n",
       "        vertical-align: top;\n",
       "    }\n",
       "\n",
       "    .dataframe thead th {\n",
       "        text-align: right;\n",
       "    }\n",
       "</style>\n",
       "<table border=\"1\" class=\"dataframe\">\n",
       "  <thead>\n",
       "    <tr style=\"text-align: right;\">\n",
       "      <th></th>\n",
       "      <th>user_id</th>\n",
       "      <th>name</th>\n",
       "      <th>age</th>\n",
       "      <th>city</th>\n",
       "      <th>subscription_type</th>\n",
       "      <th>distance</th>\n",
       "      <th>duration</th>\n",
       "      <th>date</th>\n",
       "      <th>month</th>\n",
       "      <th>minute_price</th>\n",
       "      <th>start_ride_price</th>\n",
       "      <th>subscription_fee</th>\n",
       "    </tr>\n",
       "  </thead>\n",
       "  <tbody>\n",
       "    <tr>\n",
       "      <th>14813</th>\n",
       "      <td>1303</td>\n",
       "      <td>Виталина</td>\n",
       "      <td>26</td>\n",
       "      <td>Пятигорск</td>\n",
       "      <td>free</td>\n",
       "      <td>3376.757168</td>\n",
       "      <td>19.0</td>\n",
       "      <td>2021-04-14</td>\n",
       "      <td>4</td>\n",
       "      <td>8</td>\n",
       "      <td>50</td>\n",
       "      <td>0</td>\n",
       "    </tr>\n",
       "    <tr>\n",
       "      <th>4174</th>\n",
       "      <td>450</td>\n",
       "      <td>Лиана</td>\n",
       "      <td>26</td>\n",
       "      <td>Сочи</td>\n",
       "      <td>ultra</td>\n",
       "      <td>810.287440</td>\n",
       "      <td>7.0</td>\n",
       "      <td>2021-09-09</td>\n",
       "      <td>9</td>\n",
       "      <td>6</td>\n",
       "      <td>0</td>\n",
       "      <td>199</td>\n",
       "    </tr>\n",
       "    <tr>\n",
       "      <th>11647</th>\n",
       "      <td>1075</td>\n",
       "      <td>Ника</td>\n",
       "      <td>33</td>\n",
       "      <td>Тюмень</td>\n",
       "      <td>free</td>\n",
       "      <td>1649.443823</td>\n",
       "      <td>11.0</td>\n",
       "      <td>2021-07-14</td>\n",
       "      <td>7</td>\n",
       "      <td>8</td>\n",
       "      <td>50</td>\n",
       "      <td>0</td>\n",
       "    </tr>\n",
       "  </tbody>\n",
       "</table>\n",
       "</div>"
      ],
      "text/plain": [
       "       user_id      name  age       city subscription_type     distance  \\\n",
       "14813     1303  Виталина   26  Пятигорск              free  3376.757168   \n",
       "4174       450     Лиана   26       Сочи             ultra   810.287440   \n",
       "11647     1075      Ника   33     Тюмень              free  1649.443823   \n",
       "\n",
       "       duration       date  month  minute_price  start_ride_price  \\\n",
       "14813      19.0 2021-04-14      4             8                50   \n",
       "4174        7.0 2021-09-09      9             6                 0   \n",
       "11647      11.0 2021-07-14      7             8                50   \n",
       "\n",
       "       subscription_fee  \n",
       "14813                 0  \n",
       "4174                199  \n",
       "11647                 0  "
      ]
     },
     "execution_count": 39,
     "metadata": {},
     "output_type": "execute_result"
    }
   ],
   "source": [
    "#округляем до агрегации\n",
    "data_2['duration'] = np.ceil(data_2['duration'])\n",
    "#проверяем округление\n",
    "data_2.sample(3)"
   ]
  },
  {
   "cell_type": "code",
   "execution_count": 40,
   "id": "53049e0a",
   "metadata": {},
   "outputs": [
    {
     "data": {
      "text/html": [
       "<div>\n",
       "<style scoped>\n",
       "    .dataframe tbody tr th:only-of-type {\n",
       "        vertical-align: middle;\n",
       "    }\n",
       "\n",
       "    .dataframe tbody tr th {\n",
       "        vertical-align: top;\n",
       "    }\n",
       "\n",
       "    .dataframe thead th {\n",
       "        text-align: right;\n",
       "    }\n",
       "</style>\n",
       "<table border=\"1\" class=\"dataframe\">\n",
       "  <thead>\n",
       "    <tr style=\"text-align: right;\">\n",
       "      <th></th>\n",
       "      <th></th>\n",
       "      <th>distance</th>\n",
       "      <th>duration</th>\n",
       "      <th>name</th>\n",
       "      <th>subscription_type</th>\n",
       "    </tr>\n",
       "    <tr>\n",
       "      <th>month</th>\n",
       "      <th>user_id</th>\n",
       "      <th></th>\n",
       "      <th></th>\n",
       "      <th></th>\n",
       "      <th></th>\n",
       "    </tr>\n",
       "  </thead>\n",
       "  <tbody>\n",
       "    <tr>\n",
       "      <th rowspan=\"5\" valign=\"top\">1</th>\n",
       "      <th>1</th>\n",
       "      <td>7027.511294</td>\n",
       "      <td>42.0</td>\n",
       "      <td>2</td>\n",
       "      <td>ultra</td>\n",
       "    </tr>\n",
       "    <tr>\n",
       "      <th>1061</th>\n",
       "      <td>12637.249630</td>\n",
       "      <td>43.0</td>\n",
       "      <td>3</td>\n",
       "      <td>free</td>\n",
       "    </tr>\n",
       "    <tr>\n",
       "      <th>1063</th>\n",
       "      <td>3276.362299</td>\n",
       "      <td>10.0</td>\n",
       "      <td>1</td>\n",
       "      <td>free</td>\n",
       "    </tr>\n",
       "    <tr>\n",
       "      <th>1064</th>\n",
       "      <td>5297.324649</td>\n",
       "      <td>15.0</td>\n",
       "      <td>1</td>\n",
       "      <td>free</td>\n",
       "    </tr>\n",
       "    <tr>\n",
       "      <th>1065</th>\n",
       "      <td>14547.099333</td>\n",
       "      <td>99.0</td>\n",
       "      <td>4</td>\n",
       "      <td>free</td>\n",
       "    </tr>\n",
       "  </tbody>\n",
       "</table>\n",
       "</div>"
      ],
      "text/plain": [
       "                   distance  duration  name subscription_type\n",
       "month user_id                                                \n",
       "1     1         7027.511294      42.0     2             ultra\n",
       "      1061     12637.249630      43.0     3              free\n",
       "      1063      3276.362299      10.0     1              free\n",
       "      1064      5297.324649      15.0     1              free\n",
       "      1065     14547.099333      99.0     4              free"
      ]
     },
     "execution_count": 40,
     "metadata": {},
     "output_type": "execute_result"
    }
   ],
   "source": [
    "# Создадим датафрейм с агрегированными данными о поездках\n",
    "data_3 = pd.pivot_table(data_2, index=['month', 'user_id'],\n",
    "                        values = ['distance', 'duration', 'name', 'subscription_type'],\n",
    "                        aggfunc = {'distance': sum, \n",
    "                                   'duration' : sum, \n",
    "                                   'name' : len, \n",
    "                                   'subscription_type' : min})\n",
    "# отсортируем и проверим\n",
    "data_3.sort_values(by='month').head()"
   ]
  },
  {
   "cell_type": "code",
   "execution_count": 41,
   "id": "86037a6b",
   "metadata": {},
   "outputs": [
    {
     "data": {
      "text/html": [
       "<div>\n",
       "<style scoped>\n",
       "    .dataframe tbody tr th:only-of-type {\n",
       "        vertical-align: middle;\n",
       "    }\n",
       "\n",
       "    .dataframe tbody tr th {\n",
       "        vertical-align: top;\n",
       "    }\n",
       "\n",
       "    .dataframe thead th {\n",
       "        text-align: right;\n",
       "    }\n",
       "</style>\n",
       "<table border=\"1\" class=\"dataframe\">\n",
       "  <thead>\n",
       "    <tr style=\"text-align: right;\">\n",
       "      <th></th>\n",
       "      <th></th>\n",
       "      <th>distance</th>\n",
       "      <th>duration</th>\n",
       "      <th>number_of_trips</th>\n",
       "      <th>subscription_type</th>\n",
       "    </tr>\n",
       "    <tr>\n",
       "      <th>month</th>\n",
       "      <th>user_id</th>\n",
       "      <th></th>\n",
       "      <th></th>\n",
       "      <th></th>\n",
       "      <th></th>\n",
       "    </tr>\n",
       "  </thead>\n",
       "  <tbody>\n",
       "    <tr>\n",
       "      <th rowspan=\"11\" valign=\"top\">4</th>\n",
       "      <th>1</th>\n",
       "      <td>754.159807</td>\n",
       "      <td>7.0</td>\n",
       "      <td>1</td>\n",
       "      <td>ultra</td>\n",
       "    </tr>\n",
       "    <tr>\n",
       "      <th>2</th>\n",
       "      <td>6164.381824</td>\n",
       "      <td>40.0</td>\n",
       "      <td>2</td>\n",
       "      <td>ultra</td>\n",
       "    </tr>\n",
       "    <tr>\n",
       "      <th>3</th>\n",
       "      <td>2956.651632</td>\n",
       "      <td>21.0</td>\n",
       "      <td>1</td>\n",
       "      <td>ultra</td>\n",
       "    </tr>\n",
       "    <tr>\n",
       "      <th>5</th>\n",
       "      <td>3373.080412</td>\n",
       "      <td>15.0</td>\n",
       "      <td>1</td>\n",
       "      <td>ultra</td>\n",
       "    </tr>\n",
       "    <tr>\n",
       "      <th>7</th>\n",
       "      <td>4888.946162</td>\n",
       "      <td>38.0</td>\n",
       "      <td>2</td>\n",
       "      <td>ultra</td>\n",
       "    </tr>\n",
       "    <tr>\n",
       "      <th>...</th>\n",
       "      <td>...</td>\n",
       "      <td>...</td>\n",
       "      <td>...</td>\n",
       "      <td>...</td>\n",
       "    </tr>\n",
       "    <tr>\n",
       "      <th>1530</th>\n",
       "      <td>9846.644422</td>\n",
       "      <td>60.0</td>\n",
       "      <td>2</td>\n",
       "      <td>free</td>\n",
       "    </tr>\n",
       "    <tr>\n",
       "      <th>1531</th>\n",
       "      <td>13021.538366</td>\n",
       "      <td>80.0</td>\n",
       "      <td>4</td>\n",
       "      <td>free</td>\n",
       "    </tr>\n",
       "    <tr>\n",
       "      <th>1532</th>\n",
       "      <td>842.097458</td>\n",
       "      <td>9.0</td>\n",
       "      <td>1</td>\n",
       "      <td>free</td>\n",
       "    </tr>\n",
       "    <tr>\n",
       "      <th>1533</th>\n",
       "      <td>2514.498956</td>\n",
       "      <td>18.0</td>\n",
       "      <td>1</td>\n",
       "      <td>free</td>\n",
       "    </tr>\n",
       "    <tr>\n",
       "      <th>1534</th>\n",
       "      <td>3434.290912</td>\n",
       "      <td>15.0</td>\n",
       "      <td>1</td>\n",
       "      <td>free</td>\n",
       "    </tr>\n",
       "  </tbody>\n",
       "</table>\n",
       "<p>927 rows × 4 columns</p>\n",
       "</div>"
      ],
      "text/plain": [
       "                   distance  duration  number_of_trips subscription_type\n",
       "month user_id                                                           \n",
       "4     1          754.159807       7.0                1             ultra\n",
       "      2         6164.381824      40.0                2             ultra\n",
       "      3         2956.651632      21.0                1             ultra\n",
       "      5         3373.080412      15.0                1             ultra\n",
       "      7         4888.946162      38.0                2             ultra\n",
       "...                     ...       ...              ...               ...\n",
       "      1530      9846.644422      60.0                2              free\n",
       "      1531     13021.538366      80.0                4              free\n",
       "      1532       842.097458       9.0                1              free\n",
       "      1533      2514.498956      18.0                1              free\n",
       "      1534      3434.290912      15.0                1              free\n",
       "\n",
       "[927 rows x 4 columns]"
      ]
     },
     "execution_count": 41,
     "metadata": {},
     "output_type": "execute_result"
    }
   ],
   "source": [
    "#переименуем столбец name\n",
    "data_3.rename(columns = {'name' : 'number_of_trips'}, inplace = True)\n",
    "#проверим таблицу\n",
    "data_3.query('month == 4')"
   ]
  },
  {
   "cell_type": "code",
   "execution_count": 42,
   "id": "faabc05e",
   "metadata": {},
   "outputs": [
    {
     "data": {
      "text/plain": [
       "distance             0\n",
       "duration             0\n",
       "number_of_trips      0\n",
       "subscription_type    0\n",
       "dtype: int64"
      ]
     },
     "execution_count": 42,
     "metadata": {},
     "output_type": "execute_result"
    }
   ],
   "source": [
    "#проверяем агрегированные данные на пропуски\n",
    "data_3.isna().sum()"
   ]
  },
  {
   "cell_type": "code",
   "execution_count": 43,
   "id": "b1eb68db",
   "metadata": {
    "scrolled": true
   },
   "outputs": [
    {
     "data": {
      "text/html": [
       "<div>\n",
       "<style scoped>\n",
       "    .dataframe tbody tr th:only-of-type {\n",
       "        vertical-align: middle;\n",
       "    }\n",
       "\n",
       "    .dataframe tbody tr th {\n",
       "        vertical-align: top;\n",
       "    }\n",
       "\n",
       "    .dataframe thead th {\n",
       "        text-align: right;\n",
       "    }\n",
       "</style>\n",
       "<table border=\"1\" class=\"dataframe\">\n",
       "  <thead>\n",
       "    <tr style=\"text-align: right;\">\n",
       "      <th></th>\n",
       "      <th></th>\n",
       "      <th>distance</th>\n",
       "      <th>duration</th>\n",
       "      <th>number_of_trips</th>\n",
       "      <th>subscription_type</th>\n",
       "      <th>money_for_month</th>\n",
       "    </tr>\n",
       "    <tr>\n",
       "      <th>month</th>\n",
       "      <th>user_id</th>\n",
       "      <th></th>\n",
       "      <th></th>\n",
       "      <th></th>\n",
       "      <th></th>\n",
       "      <th></th>\n",
       "    </tr>\n",
       "  </thead>\n",
       "  <tbody>\n",
       "    <tr>\n",
       "      <th>11</th>\n",
       "      <th>176</th>\n",
       "      <td>3619.694775</td>\n",
       "      <td>23.0</td>\n",
       "      <td>1</td>\n",
       "      <td>ultra</td>\n",
       "      <td>337.0</td>\n",
       "    </tr>\n",
       "    <tr>\n",
       "      <th>4</th>\n",
       "      <th>744</th>\n",
       "      <td>6933.222825</td>\n",
       "      <td>41.0</td>\n",
       "      <td>2</td>\n",
       "      <td>free</td>\n",
       "      <td>428.0</td>\n",
       "    </tr>\n",
       "    <tr>\n",
       "      <th>1</th>\n",
       "      <th>185</th>\n",
       "      <td>4180.419425</td>\n",
       "      <td>30.0</td>\n",
       "      <td>2</td>\n",
       "      <td>ultra</td>\n",
       "      <td>379.0</td>\n",
       "    </tr>\n",
       "  </tbody>\n",
       "</table>\n",
       "</div>"
      ],
      "text/plain": [
       "                  distance  duration  number_of_trips subscription_type  \\\n",
       "month user_id                                                             \n",
       "11    176      3619.694775      23.0                1             ultra   \n",
       "4     744      6933.222825      41.0                2              free   \n",
       "1     185      4180.419425      30.0                2             ultra   \n",
       "\n",
       "               money_for_month  \n",
       "month user_id                   \n",
       "11    176                337.0  \n",
       "4     744                428.0  \n",
       "1     185                379.0  "
      ]
     },
     "execution_count": 43,
     "metadata": {},
     "output_type": "execute_result"
    }
   ],
   "source": [
    "# Добавляем столбец с помесячной выручкой\n",
    "def money(i):\n",
    "    minute_price_free = 8\n",
    "    minute_price_ultra = 6\n",
    "    start_ride_price = 50\n",
    "    subscription_fee = 199\n",
    "\n",
    "    if i['subscription_type'] == 'free':\n",
    "        return minute_price_free * i['duration'] + start_ride_price * i['number_of_trips'] \n",
    "    elif i['subscription_type'] == 'ultra':\n",
    "        return minute_price_ultra * i['duration'] + subscription_fee\n",
    "    else:\n",
    "        return 'Не указан тариф'\n",
    "data_3['money_for_month'] = data_3.apply(money, axis=1)\n",
    "data_3.sample(3)"
   ]
  },
  {
   "cell_type": "code",
   "execution_count": 44,
   "id": "37060196",
   "metadata": {},
   "outputs": [
    {
     "data": {
      "text/plain": [
       "count    11331.000000\n",
       "mean       342.303504\n",
       "std        153.875346\n",
       "min         58.000000\n",
       "25%        234.000000\n",
       "50%        319.000000\n",
       "75%        415.000000\n",
       "max       1444.000000\n",
       "Name: money_for_month, dtype: float64"
      ]
     },
     "execution_count": 44,
     "metadata": {},
     "output_type": "execute_result"
    }
   ],
   "source": [
    "data_3['money_for_month'].describe()"
   ]
  },
  {
   "cell_type": "code",
   "execution_count": 45,
   "id": "b6406142",
   "metadata": {},
   "outputs": [
    {
     "data": {
      "text/plain": [
       "count    11331.000000\n",
       "mean         1.594564\n",
       "std          0.831604\n",
       "min          1.000000\n",
       "25%          1.000000\n",
       "50%          1.000000\n",
       "75%          2.000000\n",
       "max          7.000000\n",
       "Name: number_of_trips, dtype: float64"
      ]
     },
     "execution_count": 45,
     "metadata": {},
     "output_type": "execute_result"
    }
   ],
   "source": [
    "data_3['number_of_trips'].describe()"
   ]
  },
  {
   "cell_type": "code",
   "execution_count": 46,
   "id": "f26e687c",
   "metadata": {},
   "outputs": [
    {
     "data": {
      "text/plain": [
       "3878641.0"
      ]
     },
     "execution_count": 46,
     "metadata": {},
     "output_type": "execute_result"
    }
   ],
   "source": [
    "data_3['money_for_month'].sum()"
   ]
  },
  {
   "cell_type": "markdown",
   "id": "5e661442",
   "metadata": {},
   "source": [
    "**Вывод по подсчету выручки:**\n",
    "\n",
    "- найдено суммарное расстояние, количество поездок и суммарное время для каждого пользователя за каждый месяц;\n",
    "- добавлен столбец с помесячной выручкой, которую принёс каждый пользователь. \n",
    "- наибольшаяя выручка от одного пользователя за месяц - 1444 руб., а наименьшая - 58 руб.;\n",
    "- в среднем пользователи тратят 342 руб. на поездки на самокатах за месяц;\n",
    "- наибольшее количество поездок 1 пользователя за месяц - 7 раз. "
   ]
  },
  {
   "cell_type": "markdown",
   "id": "41545ac0",
   "metadata": {},
   "source": [
    "## Проверка гипотез"
   ]
  },
  {
   "cell_type": "markdown",
   "id": "b6d0c81e",
   "metadata": {},
   "source": [
    "### Гипотеза 1"
   ]
  },
  {
   "cell_type": "markdown",
   "id": "ea9953b4",
   "metadata": {},
   "source": [
    "**Важно понять, тратят ли пользователи с подпиской больше времени на поездки? Если да, то пользователи с подпиской могут быть «выгоднее» для компании.**\n",
    "\n",
    "1 ГИПОТЕЗА: пользователи с подпиской тратят больше времени на поездки, чем пользователи бесплатного тарифа. Проверим:\n",
    "\n",
    "Пусть alpha = 0.01\n",
    "\n",
    "H0: duration в подписке ultra = duration в подписке free\n",
    "\n",
    "H1: duration в подписке ultra > duration в подписке free\n"
   ]
  },
  {
   "cell_type": "code",
   "execution_count": 47,
   "id": "c87407d7",
   "metadata": {
    "scrolled": true
   },
   "outputs": [
    {
     "name": "stdout",
     "output_type": "stream",
     "text": [
      "1.2804098316645618e-34\n",
      "Отвергаем нулевую гипотезу\n"
     ]
    }
   ],
   "source": [
    "results = st.ttest_ind(with_sub['duration'], \n",
    "                       without_sub['duration'],\n",
    "                       alternative = 'greater')\n",
    "\n",
    "alpha = 0.01\n",
    "print(results.pvalue)\n",
    "\n",
    "if results.pvalue < alpha:\n",
    "    print('Отвергаем нулевую гипотезу')\n",
    "else:\n",
    "    print('Не удалось отвергнуть нулевую гипотезу')"
   ]
  },
  {
   "cell_type": "code",
   "execution_count": 48,
   "id": "bed46223",
   "metadata": {},
   "outputs": [
    {
     "name": "stdout",
     "output_type": "stream",
     "text": [
      "p-значение: 0.1912450522572209\n",
      "Не получилось отвергнуть нулевую гипотезу\n"
     ]
    }
   ],
   "source": [
    "# Приведены два датасета: сумма покупок, совершённых за месяц посетителями ...\n",
    "\n",
    "sample_1 = [3071, 3636, 3454, 3151, 2185, 3259, 1727, 2263, 2015,\n",
    "2582, 4815, 633, 3186, 887, 2028, 3589, 2564, 1422, 1785,\n",
    "3180, 1770, 2716, 2546, 1848, 4644, 3134, 475, 2686,\n",
    "1838, 3352]\n",
    "sample_2 = [1211, 1228, 2157, 3699, 600, 1898, 1688, 1420, 5048, 3007,\n",
    "509, 3777, 5583, 3949, 121, 1674, 4300, 1338, 3066,\n",
    "3562, 1010, 2311, 462, 863, 2021, 528, 1849, 255,\n",
    "1740, 2596]\n",
    "alpha = .05 # критический уровень статистической значимости\n",
    "# если p-value окажется меньше него - отвергнем гипотезу\n",
    "results = st.ttest_ind(\n",
    "sample_1,\n",
    "sample_2)\n",
    "print('p-значение:', results.pvalue)\n",
    "if (results.pvalue < alpha):\n",
    "    print(\"Отвергаем нулевую гипотезу\")\n",
    "else:\n",
    "    print(\"Не получилось отвергнуть нулевую гипотезу\")"
   ]
  },
  {
   "cell_type": "code",
   "execution_count": 49,
   "id": "cb7db31c",
   "metadata": {
    "scrolled": true
   },
   "outputs": [
    {
     "name": "stdout",
     "output_type": "stream",
     "text": [
      "\u001b[1mСреднее по времени поездки пользователей платного тарифа равно: 19 мин., \n",
      "Для пользователей бесплатного тарифа: 17 мин.\u001b[0m\n"
     ]
    }
   ],
   "source": [
    "#Проверяем с помощью среднего\n",
    "u = with_sub['duration'].mean()\n",
    "f = without_sub['duration'].mean()\n",
    "print(f'\\033[1mСреднее по времени поездки пользователей платного тарифа равно: \\\n",
    "{round(u)} мин., \\nДля пользователей бесплатного тарифа: {round(f)} мин.\\033[0m')"
   ]
  },
  {
   "cell_type": "markdown",
   "id": "492e05a2",
   "metadata": {},
   "source": [
    "Таким образом, мы отвергли нулевую гипотезу. Можем предполагать, что пользователи платного тарифа действительно тратят больше времени на поездки. Однако еще рано утверждать, что такая тенденция выгодна компании GoFast. \n",
    "\n",
    "Как мы видим из описания средних величин: **Среднее по времени поездки пользователей платного тарифа равно: 19 мин., а для пользователей бесплатного тарифа: 17 мин.**\n",
    "\n",
    "То есть, учитывая, что стоимость одной минуты поездки бесплатного тарифа — 8 рублей; а с подпиской Ultra — 6 рублей, то даже положительная разница в несколько минут поездки на тарифе Ultra может быть меньше по цене, чем более короткая поездка по тарифу free. \n",
    "\n",
    "Полагаю, что для определения выгоды для бизнеса следует брать во внимание не только длительность поездки, но и другие параметры."
   ]
  },
  {
   "cell_type": "markdown",
   "id": "2fc13f39",
   "metadata": {},
   "source": [
    "### Гипотеза 2"
   ]
  },
  {
   "cell_type": "markdown",
   "id": "4f946a5e",
   "metadata": {},
   "source": [
    "**Расстояние одной поездки в 3130 метров — оптимальное с точки зрения износа самоката. Можно ли сказать, что среднее расстояние, которое проезжают пользователи с подпиской за одну поездку, не превышает 3130 метров?**\n",
    "\n",
    "2 ГИПОТЕЗА: пользователи с подпиской Ultra проезжают расстояние, которое не превышает 3130 метров за одну поездку. Проверим:\n",
    "\n",
    "Пусть alpha = 0.01\n",
    "\n",
    "H0: distance в подписке ultra = 3130 м.\n",
    "\n",
    "H1: distance в подписке ultra > 3130 м."
   ]
  },
  {
   "cell_type": "code",
   "execution_count": 50,
   "id": "b1fc7343",
   "metadata": {},
   "outputs": [
    {
     "name": "stdout",
     "output_type": "stream",
     "text": [
      "0.9195368847849785\n",
      "Не удалось отвергнуть нулевую гипотезу\n"
     ]
    }
   ],
   "source": [
    "value = 3130\n",
    "results = st.ttest_1samp(with_sub['distance'],\n",
    "                       value,\n",
    "                       alternative = 'greater')\n",
    "\n",
    "\n",
    "alpha = 0.01  \n",
    "print(results.pvalue)\n",
    "\n",
    "if (results.pvalue < alpha):\n",
    "    print('Отвергаем нулевую гипотезу')\n",
    "else:\n",
    "    print('Не удалось отвергнуть нулевую гипотезу')"
   ]
  },
  {
   "cell_type": "code",
   "execution_count": 51,
   "id": "d63d0eb8",
   "metadata": {},
   "outputs": [
    {
     "data": {
      "text/plain": [
       "3115.4453880370247"
      ]
     },
     "execution_count": 51,
     "metadata": {},
     "output_type": "execute_result"
    }
   ],
   "source": [
    "#проверим среднее\n",
    "with_sub['distance'].mean()"
   ]
  },
  {
   "cell_type": "markdown",
   "id": "a93d6a96",
   "metadata": {},
   "source": [
    "Таким образом, не удалось отвергнуть нулевую гипотезу. По всей видимости, пользователи проезжают расстояние, которое примерно равно 3130 м. Получается, что пользователи проезжают за одну поездку оптимальное расстояние с точки зрения износа самоката. Это положительно сказывается на сроке службы самокатов и тратах компании на новые транспортные средства."
   ]
  },
  {
   "cell_type": "markdown",
   "id": "506a07f6",
   "metadata": {},
   "source": [
    "### Гипотеза 3"
   ]
  },
  {
   "cell_type": "markdown",
   "id": "45b2e41e",
   "metadata": {},
   "source": [
    "**Будет ли помесячная выручка от пользователей с подпиской по месяцам выше, чем выручка от пользователей без подписки?**\n",
    "\n",
    "3 ГИПОТЕЗА: помесячная выручка от пользователей с подпиской выше, чем выручка от пользователей без подписки Проверим:\n",
    "\n",
    "Пусть alpha = 0.01\n",
    "\n",
    "H0: money_for_month в подписке ultra = money_for_month в подписке free\n",
    "\n",
    "H1: money_for_month в подписке ultra > money_for_month в подписке free"
   ]
  },
  {
   "cell_type": "code",
   "execution_count": 52,
   "id": "b780328b",
   "metadata": {},
   "outputs": [
    {
     "name": "stdout",
     "output_type": "stream",
     "text": [
      "1.8850394384715216e-31\n",
      "Отвергаем нулевую гипотезу\n"
     ]
    }
   ],
   "source": [
    "ultra_for_month = data_3.loc[data_3['subscription_type'] == 'ultra', 'money_for_month']\n",
    "free_for_month = data_3.loc[data_3['subscription_type'] == 'free', 'money_for_month']\n",
    "results = st.ttest_ind(ultra_for_month, \n",
    "                       free_for_month,\n",
    "                      alternative = 'greater')\n",
    "alpha = 0.05\n",
    "print(results.pvalue)\n",
    "\n",
    "if results.pvalue < alpha:\n",
    "    print('Отвергаем нулевую гипотезу')\n",
    "else:\n",
    "    print('Не удалось отвергнуть нулевую гипотезу')"
   ]
  },
  {
   "cell_type": "code",
   "execution_count": 53,
   "id": "adcda79c",
   "metadata": {},
   "outputs": [
    {
     "name": "stdout",
     "output_type": "stream",
     "text": [
      "Средняя помесячная выручка от пользователей с подпиской: 363 руб., а для пользователей без подписки: 329 руб.\n"
     ]
    }
   ],
   "source": [
    "#проверим средние велечины\n",
    "a = data_3.loc[data_3['subscription_type'] == 'ultra', 'money_for_month'].mean()\n",
    "b = data_3.loc[data_3['subscription_type'] == 'free', 'money_for_month'].mean()\n",
    "print(f'Средняя помесячная выручка от пользователей с подпиской: \\\n",
    "{round(a)} руб., а для пользователей без подписки: {round(b)} руб.')"
   ]
  },
  {
   "cell_type": "markdown",
   "id": "548455a5",
   "metadata": {},
   "source": [
    "Так, можем предположить, что все-таки помесячная выручка от пользователей с подпиской Ultra выше, чем от пользователей без подписки.\n",
    "\n",
    "Как уже было замечено в ходе проверки 1 гипотезы, на помесячную выручку от пользователей влияет не только время поездок. Поэтому с учетом всех влияющих факторов мы все же предполагаем, что помесячная выручка  от пользователей с подпиской Ultra выше, чем от пользователей без подписки. Это может означать, что стоит увеличивать число пользователей подписки Ultra для повышения общей прибыли компании. Возможно, стоит пересмотреть условия подписки Ultra в части удобств ее использования, чтобы привлечь бОльшее число пользователей именно в данный тариф."
   ]
  },
  {
   "cell_type": "markdown",
   "id": "d273e988",
   "metadata": {},
   "source": [
    "## Вывод"
   ]
  },
  {
   "cell_type": "markdown",
   "id": "1b48e4f3",
   "metadata": {},
   "source": [
    "Итак, в ходе работы мы объединили провели предобработку данных (поменяли некоторые типы данных, удалили дубликаты и т.д.), исследовательский анализ данных, объединили некоторые датафреймы в другие датафреймы, исходя из цели исследования, подсчитали выручку, а также проверили 3 гипотезы.\n",
    "\n",
    "**По итогам работы было выявлено, что:**\n",
    "\n",
    "Самый популярный среди пользователей самокатов город - Пятигорск. Самый непопулярный - Москва. Тем не менее, значения по городам примерно одинаково распределены.\n",
    "\n",
    "Пользователей с бесплатным тарифом - 54,4% от общего числа пользователей. Пользователей с платной подпиской, соответственно - 45,6% от общего числа пользователей.\n",
    "\n",
    "Возраст пользователей колеблется в пределах от 12 до 43 лет. Наиболее часто встречаются пользователи в возрасте от 23 до 27 лет.\n",
    "\n",
    "Касаемо расстояния за одну поездку: как правило, пользователи самокатов проезжают в среднем 3 км. Наиболее часто значения находятся в пределах от 2 до 5,5 км.\n",
    "\n",
    "Касаемо продолжительности поездок: как правило, пользователи самокатов продолжают свою поездку в среднем 17,8 мин. Наиболее часто значения находятся в пределах от 10 до 25 мин.\n",
    "\n",
    "Расстояние, которое проезжают по бесплатному тарифу, в основном находится в пределах от 2 до 4,5 км. Пик - 2,5 км. Среднее = 3045 м., минимальное расстояние = 0.8 м.(возможно, самокат даже не смог тронуться), максимальное расстояние = 7211 м.\n",
    "\n",
    "Время, которое тратят пользователи бесплатного тарифа находится в большинстве случаев в пределах от 5 до 30 минут. Среднее значение = 17.3 мин.,минимальное время = 0.5 мин, а максимальное = 34.9 мин.\n",
    "\n",
    "Расстояние, которое проезжают по тарифу Ultra, в основном находится в пределах от 2 до 5 км. Самый пик - 3 км. Но есть множество и тех, кто проезжают всего 1 км. Среднее значение = 3115 м., минимальное расстояние = 244 м., а максимальное = 5699.7 м.\n",
    "\n",
    "Время, которое тратят пользователи платного тарифа находится в большинстве случаев в пределах от 10 до 30 минут. Среднее значение = 18.5 мин., минимальное значение = 3.7 мин., а максимальное = 40.8 мин.\n",
    "\n",
    "По времени в обоих случаях пик = примерно 17 мин.\n",
    "\n",
    "Наибольшаяя выручка от одного пользователя за месяц - 1444 руб., а наименьшая - 58 руб. В среднем пользователи тратят 342 руб. на поездки на самокатах за месяц. Наибольшее количество поездок 1 пользователя за месяц - 7 раз. \n",
    "\n",
    "ГИПОТЕЗЫ:\n",
    "1. Пользователи с подпиской тратят больше времени на поездки, чем пользователи бесплатного тарифа: здесь мы **отвергли нулевую гипотезу**. Таким образом, мы отвергли нулевую гипотезу. Можем предполагать, что пользователи платного тарифа действительно тратят больше времени на поездки. Однако еще рано утверждать, что такая тенденция выгодна компании GoFast.\n",
    "\n",
    "2. Пользователи с подпиской проезжают расстояние, которое не превышает 3130 м. за одну поездку: **не удалось отвергнуть нулевую гипотезу**. По всей видимости, пользователи проезжают расстояние, которое примерно равно 3130 м. Получается, что пользователи проезжают за одну поездку оптимальное расстояние с точки зрения износа самоката. Это положительно сказывается на сроке службы самокатов и тратах компании на новые транспортные средства.\n",
    "\n",
    "3. Помесячная выручка от пользователей с подпиской по месяцам выше, чем выручка от пользователей без подписки: **отвергли нулевую гипотезу**. Все же предполагаем, что помесячная выручка  от пользователей с подпиской Ultra выше, чем от пользователей без подписки. Это может означать, что стоит увеличивать число пользователей подписки Ultra для повышения общей прибыли компании. Возможно, стоит пересмотреть условия подписки Ultra в части удобств ее использования, чтобы привлечь бОльшее число пользователей именно в данный тариф.\n",
    "\n",
    "**Рекомендация компании:** сосредоточить внимание на пользователях подписки Ultra, попытаться увеличить их количество.\n"
   ]
  }
 ],
 "metadata": {
  "ExecuteTimeLog": [
   {
    "duration": 1280,
    "start_time": "2023-10-25T13:40:40.979Z"
   },
   {
    "duration": 79,
    "start_time": "2023-10-25T13:40:57.862Z"
   },
   {
    "duration": 147,
    "start_time": "2023-10-25T13:43:22.177Z"
   },
   {
    "duration": 12,
    "start_time": "2023-10-25T13:44:18.162Z"
   },
   {
    "duration": 13,
    "start_time": "2023-10-25T13:45:51.327Z"
   },
   {
    "duration": 6,
    "start_time": "2023-10-25T13:47:42.003Z"
   },
   {
    "duration": 8,
    "start_time": "2023-10-25T13:48:03.135Z"
   },
   {
    "duration": 12,
    "start_time": "2023-10-25T13:48:21.177Z"
   },
   {
    "duration": 10,
    "start_time": "2023-10-25T13:49:18.779Z"
   },
   {
    "duration": 4,
    "start_time": "2023-10-25T13:50:52.038Z"
   },
   {
    "duration": 6,
    "start_time": "2023-10-25T13:51:11.873Z"
   },
   {
    "duration": 11,
    "start_time": "2023-10-25T13:52:28.907Z"
   },
   {
    "duration": 7,
    "start_time": "2023-10-25T13:52:41.575Z"
   },
   {
    "duration": 6,
    "start_time": "2023-10-25T13:54:20.521Z"
   },
   {
    "duration": 5,
    "start_time": "2023-10-25T13:55:02.736Z"
   },
   {
    "duration": 6,
    "start_time": "2023-10-25T13:55:24.383Z"
   },
   {
    "duration": 6,
    "start_time": "2023-10-25T13:55:42.876Z"
   },
   {
    "duration": 10,
    "start_time": "2023-10-25T14:04:57.994Z"
   },
   {
    "duration": 9,
    "start_time": "2023-10-25T14:05:10.201Z"
   },
   {
    "duration": 3268,
    "start_time": "2023-10-25T14:07:27.829Z"
   },
   {
    "duration": 2228,
    "start_time": "2023-10-25T14:08:00.381Z"
   },
   {
    "duration": 1233,
    "start_time": "2023-10-25T14:08:02.611Z"
   },
   {
    "duration": 71,
    "start_time": "2023-10-25T14:08:03.846Z"
   },
   {
    "duration": 11,
    "start_time": "2023-10-25T14:08:03.919Z"
   },
   {
    "duration": 48,
    "start_time": "2023-10-25T14:08:03.932Z"
   },
   {
    "duration": 38,
    "start_time": "2023-10-25T14:08:03.982Z"
   },
   {
    "duration": 57,
    "start_time": "2023-10-25T14:08:04.022Z"
   },
   {
    "duration": 15,
    "start_time": "2023-10-25T14:08:04.080Z"
   },
   {
    "duration": 17,
    "start_time": "2023-10-25T14:08:04.096Z"
   },
   {
    "duration": 9,
    "start_time": "2023-10-25T14:08:04.115Z"
   },
   {
    "duration": 20,
    "start_time": "2023-10-25T14:08:04.125Z"
   },
   {
    "duration": 10,
    "start_time": "2023-10-25T14:08:04.146Z"
   },
   {
    "duration": 14,
    "start_time": "2023-10-25T14:08:04.158Z"
   },
   {
    "duration": 5,
    "start_time": "2023-10-25T14:09:01.744Z"
   },
   {
    "duration": 1426,
    "start_time": "2023-10-25T14:09:09.083Z"
   },
   {
    "duration": 1228,
    "start_time": "2023-10-25T14:09:10.511Z"
   },
   {
    "duration": 71,
    "start_time": "2023-10-25T14:09:11.740Z"
   },
   {
    "duration": 11,
    "start_time": "2023-10-25T14:09:11.814Z"
   },
   {
    "duration": 95,
    "start_time": "2023-10-25T14:09:11.826Z"
   },
   {
    "duration": 32,
    "start_time": "2023-10-25T14:09:11.923Z"
   },
   {
    "duration": 29,
    "start_time": "2023-10-25T14:09:11.956Z"
   },
   {
    "duration": 40,
    "start_time": "2023-10-25T14:09:11.987Z"
   },
   {
    "duration": 34,
    "start_time": "2023-10-25T14:09:12.028Z"
   },
   {
    "duration": 14,
    "start_time": "2023-10-25T14:09:12.064Z"
   },
   {
    "duration": 27,
    "start_time": "2023-10-25T14:09:12.080Z"
   },
   {
    "duration": 25,
    "start_time": "2023-10-25T14:09:12.109Z"
   },
   {
    "duration": 36,
    "start_time": "2023-10-25T14:09:12.135Z"
   },
   {
    "duration": 2242,
    "start_time": "2023-10-25T14:09:25.670Z"
   },
   {
    "duration": 1228,
    "start_time": "2023-10-25T14:09:27.914Z"
   },
   {
    "duration": 70,
    "start_time": "2023-10-25T14:09:29.144Z"
   },
   {
    "duration": 11,
    "start_time": "2023-10-25T14:09:29.215Z"
   },
   {
    "duration": 41,
    "start_time": "2023-10-25T14:09:29.228Z"
   },
   {
    "duration": 8,
    "start_time": "2023-10-25T14:09:29.271Z"
   },
   {
    "duration": 9,
    "start_time": "2023-10-25T14:09:29.280Z"
   },
   {
    "duration": 6,
    "start_time": "2023-10-25T14:09:29.290Z"
   },
   {
    "duration": 16,
    "start_time": "2023-10-25T14:09:29.297Z"
   },
   {
    "duration": 10,
    "start_time": "2023-10-25T14:09:29.314Z"
   },
   {
    "duration": 10,
    "start_time": "2023-10-25T14:09:29.325Z"
   },
   {
    "duration": 11,
    "start_time": "2023-10-25T14:09:29.337Z"
   },
   {
    "duration": 20,
    "start_time": "2023-10-25T14:09:29.349Z"
   },
   {
    "duration": 546,
    "start_time": "2023-10-25T14:10:44.282Z"
   },
   {
    "duration": 532,
    "start_time": "2023-10-25T14:11:40.800Z"
   },
   {
    "duration": 489,
    "start_time": "2023-10-25T14:11:51.949Z"
   },
   {
    "duration": 1978,
    "start_time": "2023-10-25T14:14:57.832Z"
   },
   {
    "duration": 1991,
    "start_time": "2023-10-25T14:15:53.226Z"
   },
   {
    "duration": 8,
    "start_time": "2023-10-25T14:19:57.347Z"
   },
   {
    "duration": 108,
    "start_time": "2023-10-25T14:20:16.597Z"
   },
   {
    "duration": 5,
    "start_time": "2023-10-25T14:21:41.502Z"
   },
   {
    "duration": 6,
    "start_time": "2023-10-25T14:21:50.513Z"
   },
   {
    "duration": 8,
    "start_time": "2023-10-25T14:22:08.985Z"
   },
   {
    "duration": 6,
    "start_time": "2023-10-25T14:22:17.037Z"
   },
   {
    "duration": 6,
    "start_time": "2023-10-25T14:22:48.379Z"
   },
   {
    "duration": 8,
    "start_time": "2023-10-25T14:23:02.610Z"
   },
   {
    "duration": 5,
    "start_time": "2023-10-25T14:24:15.592Z"
   },
   {
    "duration": 7,
    "start_time": "2023-10-25T14:24:58.129Z"
   },
   {
    "duration": 99,
    "start_time": "2023-10-25T14:25:10.758Z"
   },
   {
    "duration": 7,
    "start_time": "2023-10-25T14:25:39.343Z"
   },
   {
    "duration": 7,
    "start_time": "2023-10-25T14:25:47.029Z"
   },
   {
    "duration": 6,
    "start_time": "2023-10-25T14:25:55.731Z"
   },
   {
    "duration": 7,
    "start_time": "2023-10-25T14:26:00.985Z"
   },
   {
    "duration": 8,
    "start_time": "2023-10-25T14:26:11.786Z"
   },
   {
    "duration": 8,
    "start_time": "2023-10-25T14:26:28.889Z"
   },
   {
    "duration": 8,
    "start_time": "2023-10-25T14:26:42.068Z"
   },
   {
    "duration": 7,
    "start_time": "2023-10-25T14:26:50.186Z"
   },
   {
    "duration": 8,
    "start_time": "2023-10-25T14:26:57.057Z"
   },
   {
    "duration": 8,
    "start_time": "2023-10-25T14:27:04.033Z"
   },
   {
    "duration": 5,
    "start_time": "2023-10-25T14:35:58.230Z"
   },
   {
    "duration": 7,
    "start_time": "2023-10-25T14:38:25.027Z"
   },
   {
    "duration": 8,
    "start_time": "2023-10-25T14:38:31.019Z"
   },
   {
    "duration": 9,
    "start_time": "2023-10-25T14:40:00.483Z"
   },
   {
    "duration": 13,
    "start_time": "2023-10-25T14:42:37.005Z"
   },
   {
    "duration": 123,
    "start_time": "2023-10-25T14:42:49.390Z"
   },
   {
    "duration": 134,
    "start_time": "2023-10-25T14:43:31.399Z"
   },
   {
    "duration": 164,
    "start_time": "2023-10-25T14:43:45.898Z"
   },
   {
    "duration": 12,
    "start_time": "2023-10-25T14:46:14.124Z"
   },
   {
    "duration": 85,
    "start_time": "2023-10-25T14:48:04.303Z"
   },
   {
    "duration": 14,
    "start_time": "2023-10-25T14:51:23.298Z"
   },
   {
    "duration": 12,
    "start_time": "2023-10-25T14:51:32.130Z"
   },
   {
    "duration": 124,
    "start_time": "2023-10-25T14:52:19.586Z"
   },
   {
    "duration": 137,
    "start_time": "2023-10-25T14:52:51.413Z"
   },
   {
    "duration": 136,
    "start_time": "2023-10-25T14:52:57.700Z"
   },
   {
    "duration": 140,
    "start_time": "2023-10-25T14:53:35.092Z"
   },
   {
    "duration": 154,
    "start_time": "2023-10-25T14:53:44.888Z"
   },
   {
    "duration": 151,
    "start_time": "2023-10-25T14:53:55.587Z"
   },
   {
    "duration": 8,
    "start_time": "2023-10-25T14:55:47.911Z"
   },
   {
    "duration": 79,
    "start_time": "2023-10-25T14:58:17.814Z"
   },
   {
    "duration": 94,
    "start_time": "2023-10-25T14:58:29.122Z"
   },
   {
    "duration": 82,
    "start_time": "2023-10-25T14:59:25.736Z"
   },
   {
    "duration": 6,
    "start_time": "2023-10-25T15:02:52.086Z"
   },
   {
    "duration": 9,
    "start_time": "2023-10-25T15:02:58.657Z"
   },
   {
    "duration": 8,
    "start_time": "2023-10-25T15:03:31.557Z"
   },
   {
    "duration": 14,
    "start_time": "2023-10-25T15:07:09.263Z"
   },
   {
    "duration": 13,
    "start_time": "2023-10-25T15:07:29.052Z"
   },
   {
    "duration": 145,
    "start_time": "2023-10-25T15:07:47.725Z"
   },
   {
    "duration": 634,
    "start_time": "2023-10-25T15:08:56.070Z"
   },
   {
    "duration": 759,
    "start_time": "2023-10-25T15:09:09.605Z"
   },
   {
    "duration": 606,
    "start_time": "2023-10-25T15:10:46.836Z"
   },
   {
    "duration": 625,
    "start_time": "2023-10-25T15:13:56.952Z"
   },
   {
    "duration": 721,
    "start_time": "2023-10-25T15:15:05.642Z"
   },
   {
    "duration": 8,
    "start_time": "2023-10-25T15:16:10.102Z"
   },
   {
    "duration": 10,
    "start_time": "2023-10-25T15:16:19.946Z"
   },
   {
    "duration": 8,
    "start_time": "2023-10-25T15:22:02.056Z"
   },
   {
    "duration": 78,
    "start_time": "2023-10-26T11:08:52.237Z"
   },
   {
    "duration": 3296,
    "start_time": "2023-10-26T11:09:10.639Z"
   },
   {
    "duration": 1492,
    "start_time": "2023-10-26T11:09:13.937Z"
   },
   {
    "duration": 292,
    "start_time": "2023-10-26T11:09:15.430Z"
   },
   {
    "duration": 12,
    "start_time": "2023-10-26T11:09:15.724Z"
   },
   {
    "duration": 27,
    "start_time": "2023-10-26T11:09:15.738Z"
   },
   {
    "duration": 16,
    "start_time": "2023-10-26T11:09:15.767Z"
   },
   {
    "duration": 24,
    "start_time": "2023-10-26T11:09:15.785Z"
   },
   {
    "duration": 28,
    "start_time": "2023-10-26T11:09:15.811Z"
   },
   {
    "duration": 24,
    "start_time": "2023-10-26T11:09:15.841Z"
   },
   {
    "duration": 14,
    "start_time": "2023-10-26T11:09:15.867Z"
   },
   {
    "duration": 38,
    "start_time": "2023-10-26T11:09:15.884Z"
   },
   {
    "duration": 18,
    "start_time": "2023-10-26T11:09:15.924Z"
   },
   {
    "duration": 20,
    "start_time": "2023-10-26T11:09:15.945Z"
   },
   {
    "duration": 1990,
    "start_time": "2023-10-26T11:09:15.968Z"
   },
   {
    "duration": 11,
    "start_time": "2023-10-26T11:09:17.959Z"
   },
   {
    "duration": 13,
    "start_time": "2023-10-26T11:09:17.971Z"
   },
   {
    "duration": 21,
    "start_time": "2023-10-26T11:09:17.985Z"
   },
   {
    "duration": 6,
    "start_time": "2023-10-26T11:09:18.008Z"
   },
   {
    "duration": 9,
    "start_time": "2023-10-26T11:09:18.015Z"
   },
   {
    "duration": 10,
    "start_time": "2023-10-26T11:09:18.045Z"
   },
   {
    "duration": 7,
    "start_time": "2023-10-26T11:09:18.056Z"
   },
   {
    "duration": 193,
    "start_time": "2023-10-26T11:09:18.064Z"
   },
   {
    "duration": 110,
    "start_time": "2023-10-26T11:09:18.259Z"
   },
   {
    "duration": 9,
    "start_time": "2023-10-26T11:09:18.371Z"
   },
   {
    "duration": 178,
    "start_time": "2023-10-26T11:09:18.382Z"
   },
   {
    "duration": 10,
    "start_time": "2023-10-26T11:09:18.562Z"
   },
   {
    "duration": 639,
    "start_time": "2023-10-26T11:09:18.574Z"
   },
   {
    "duration": 8,
    "start_time": "2023-10-26T11:09:19.215Z"
   },
   {
    "duration": 639,
    "start_time": "2023-10-26T11:09:19.224Z"
   },
   {
    "duration": 28,
    "start_time": "2023-10-26T11:09:19.884Z"
   },
   {
    "duration": 23,
    "start_time": "2023-10-26T11:09:36.038Z"
   },
   {
    "duration": 41,
    "start_time": "2023-10-26T11:09:52.551Z"
   },
   {
    "duration": 40,
    "start_time": "2023-10-26T11:10:08.624Z"
   },
   {
    "duration": 12,
    "start_time": "2023-10-26T11:11:47.728Z"
   },
   {
    "duration": 11,
    "start_time": "2023-10-26T11:12:56.337Z"
   },
   {
    "duration": 21,
    "start_time": "2023-10-26T11:13:30.454Z"
   },
   {
    "duration": 22,
    "start_time": "2023-10-26T11:14:19.303Z"
   },
   {
    "duration": 30,
    "start_time": "2023-10-26T11:14:31.131Z"
   },
   {
    "duration": 22,
    "start_time": "2023-10-26T11:14:44.117Z"
   },
   {
    "duration": 21,
    "start_time": "2023-10-26T11:14:52.671Z"
   },
   {
    "duration": 112,
    "start_time": "2023-10-26T11:16:33.672Z"
   },
   {
    "duration": 11,
    "start_time": "2023-10-26T11:16:38.222Z"
   },
   {
    "duration": 224,
    "start_time": "2023-10-26T11:17:17.782Z"
   },
   {
    "duration": 297,
    "start_time": "2023-10-26T11:17:50.772Z"
   },
   {
    "duration": 222,
    "start_time": "2023-10-26T11:17:59.695Z"
   },
   {
    "duration": 225,
    "start_time": "2023-10-26T11:18:20.217Z"
   },
   {
    "duration": 243,
    "start_time": "2023-10-26T11:18:31.033Z"
   },
   {
    "duration": 234,
    "start_time": "2023-10-26T11:19:22.363Z"
   },
   {
    "duration": 246,
    "start_time": "2023-10-26T11:19:34.021Z"
   },
   {
    "duration": 228,
    "start_time": "2023-10-26T11:20:02.558Z"
   },
   {
    "duration": 234,
    "start_time": "2023-10-26T11:20:10.125Z"
   },
   {
    "duration": 202,
    "start_time": "2023-10-26T11:21:46.597Z"
   },
   {
    "duration": 200,
    "start_time": "2023-10-26T11:22:02.493Z"
   },
   {
    "duration": 207,
    "start_time": "2023-10-26T11:22:17.547Z"
   },
   {
    "duration": 242,
    "start_time": "2023-10-26T11:22:33.940Z"
   },
   {
    "duration": 275,
    "start_time": "2023-10-26T11:23:13.249Z"
   },
   {
    "duration": 266,
    "start_time": "2023-10-26T11:35:48.986Z"
   },
   {
    "duration": 972,
    "start_time": "2023-10-26T11:35:53.337Z"
   },
   {
    "duration": 1972,
    "start_time": "2023-10-26T12:00:10.209Z"
   },
   {
    "duration": 2849,
    "start_time": "2023-10-26T12:01:14.836Z"
   },
   {
    "duration": 1451,
    "start_time": "2023-10-26T12:01:17.687Z"
   },
   {
    "duration": 73,
    "start_time": "2023-10-26T12:01:19.142Z"
   },
   {
    "duration": 12,
    "start_time": "2023-10-26T12:01:19.218Z"
   },
   {
    "duration": 13,
    "start_time": "2023-10-26T12:01:19.231Z"
   },
   {
    "duration": 23,
    "start_time": "2023-10-26T12:01:19.246Z"
   },
   {
    "duration": 9,
    "start_time": "2023-10-26T12:01:19.271Z"
   },
   {
    "duration": 11,
    "start_time": "2023-10-26T12:01:19.282Z"
   },
   {
    "duration": 30,
    "start_time": "2023-10-26T12:01:19.294Z"
   },
   {
    "duration": 29,
    "start_time": "2023-10-26T12:01:19.329Z"
   },
   {
    "duration": 14,
    "start_time": "2023-10-26T12:01:19.359Z"
   },
   {
    "duration": 11,
    "start_time": "2023-10-26T12:01:19.375Z"
   },
   {
    "duration": 12,
    "start_time": "2023-10-26T12:01:19.388Z"
   },
   {
    "duration": 1846,
    "start_time": "2023-10-26T12:01:19.402Z"
   },
   {
    "duration": 11,
    "start_time": "2023-10-26T12:01:21.250Z"
   },
   {
    "duration": 17,
    "start_time": "2023-10-26T12:01:21.262Z"
   },
   {
    "duration": 18,
    "start_time": "2023-10-26T12:01:21.281Z"
   },
   {
    "duration": 5,
    "start_time": "2023-10-26T12:01:21.300Z"
   },
   {
    "duration": 15,
    "start_time": "2023-10-26T12:01:21.307Z"
   },
   {
    "duration": 24,
    "start_time": "2023-10-26T12:01:21.324Z"
   },
   {
    "duration": 5,
    "start_time": "2023-10-26T12:01:21.350Z"
   },
   {
    "duration": 159,
    "start_time": "2023-10-26T12:01:21.356Z"
   },
   {
    "duration": 98,
    "start_time": "2023-10-26T12:01:21.517Z"
   },
   {
    "duration": 9,
    "start_time": "2023-10-26T12:01:21.617Z"
   },
   {
    "duration": 185,
    "start_time": "2023-10-26T12:01:21.628Z"
   },
   {
    "duration": 8,
    "start_time": "2023-10-26T12:01:21.815Z"
   },
   {
    "duration": 617,
    "start_time": "2023-10-26T12:01:21.825Z"
   },
   {
    "duration": 9,
    "start_time": "2023-10-26T12:01:22.446Z"
   },
   {
    "duration": 596,
    "start_time": "2023-10-26T12:01:22.457Z"
   },
   {
    "duration": 32,
    "start_time": "2023-10-26T12:01:23.055Z"
   },
   {
    "duration": 23,
    "start_time": "2023-10-26T12:01:23.088Z"
   },
   {
    "duration": 309,
    "start_time": "2023-10-26T12:01:23.113Z"
   },
   {
    "duration": 218,
    "start_time": "2023-10-26T12:01:23.423Z"
   },
   {
    "duration": 235,
    "start_time": "2023-10-26T12:01:23.645Z"
   },
   {
    "duration": 245,
    "start_time": "2023-10-26T12:01:23.881Z"
   },
   {
    "duration": 910,
    "start_time": "2023-10-26T12:01:25.974Z"
   },
   {
    "duration": 906,
    "start_time": "2023-10-26T12:01:52.124Z"
   },
   {
    "duration": 6,
    "start_time": "2023-10-26T12:12:07.134Z"
   },
   {
    "duration": 12,
    "start_time": "2023-10-26T12:13:52.721Z"
   },
   {
    "duration": 19,
    "start_time": "2023-10-26T12:14:33.222Z"
   },
   {
    "duration": 4,
    "start_time": "2023-10-26T12:14:36.322Z"
   },
   {
    "duration": 141,
    "start_time": "2023-10-26T12:16:36.758Z"
   },
   {
    "duration": 158,
    "start_time": "2023-10-26T12:16:46.001Z"
   },
   {
    "duration": 3,
    "start_time": "2023-10-26T12:20:08.508Z"
   },
   {
    "duration": 25,
    "start_time": "2023-10-26T12:21:00.697Z"
   },
   {
    "duration": 24,
    "start_time": "2023-10-26T12:23:20.696Z"
   },
   {
    "duration": 6,
    "start_time": "2023-10-26T12:31:49.518Z"
   },
   {
    "duration": 6,
    "start_time": "2023-10-26T12:34:56.104Z"
   },
   {
    "duration": 8,
    "start_time": "2023-10-26T12:35:21.029Z"
   },
   {
    "duration": 6,
    "start_time": "2023-10-26T12:35:56.510Z"
   },
   {
    "duration": 221,
    "start_time": "2023-10-26T12:38:23.997Z"
   },
   {
    "duration": 107,
    "start_time": "2023-10-26T12:39:48.446Z"
   },
   {
    "duration": 225,
    "start_time": "2023-10-26T12:40:00.896Z"
   },
   {
    "duration": 235,
    "start_time": "2023-10-26T12:40:40.080Z"
   },
   {
    "duration": 16,
    "start_time": "2023-10-26T12:40:53.130Z"
   },
   {
    "duration": 18,
    "start_time": "2023-10-26T12:40:58.896Z"
   },
   {
    "duration": 172,
    "start_time": "2023-10-26T12:41:50.809Z"
   },
   {
    "duration": 237,
    "start_time": "2023-10-26T12:42:23.547Z"
   },
   {
    "duration": 2849,
    "start_time": "2023-10-26T12:42:49.881Z"
   },
   {
    "duration": 1326,
    "start_time": "2023-10-26T12:42:52.733Z"
   },
   {
    "duration": 70,
    "start_time": "2023-10-26T12:42:54.061Z"
   },
   {
    "duration": 11,
    "start_time": "2023-10-26T12:42:54.133Z"
   },
   {
    "duration": 178,
    "start_time": "2023-10-26T12:42:54.146Z"
   },
   {
    "duration": 37,
    "start_time": "2023-10-26T12:42:54.326Z"
   },
   {
    "duration": 34,
    "start_time": "2023-10-26T12:42:54.365Z"
   },
   {
    "duration": 50,
    "start_time": "2023-10-26T12:42:54.400Z"
   },
   {
    "duration": 34,
    "start_time": "2023-10-26T12:42:54.452Z"
   },
   {
    "duration": 44,
    "start_time": "2023-10-26T12:42:54.488Z"
   },
   {
    "duration": 23,
    "start_time": "2023-10-26T12:42:54.534Z"
   },
   {
    "duration": 20,
    "start_time": "2023-10-26T12:42:54.559Z"
   },
   {
    "duration": 36,
    "start_time": "2023-10-26T12:42:54.581Z"
   },
   {
    "duration": 2141,
    "start_time": "2023-10-26T12:42:54.620Z"
   },
   {
    "duration": 10,
    "start_time": "2023-10-26T12:42:56.762Z"
   },
   {
    "duration": 13,
    "start_time": "2023-10-26T12:42:56.774Z"
   },
   {
    "duration": 11,
    "start_time": "2023-10-26T12:42:56.789Z"
   },
   {
    "duration": 6,
    "start_time": "2023-10-26T12:42:56.802Z"
   },
   {
    "duration": 15,
    "start_time": "2023-10-26T12:42:56.810Z"
   },
   {
    "duration": 6,
    "start_time": "2023-10-26T12:42:56.827Z"
   },
   {
    "duration": 27,
    "start_time": "2023-10-26T12:42:56.835Z"
   },
   {
    "duration": 156,
    "start_time": "2023-10-26T12:42:56.864Z"
   },
   {
    "duration": 95,
    "start_time": "2023-10-26T12:42:57.025Z"
   },
   {
    "duration": 8,
    "start_time": "2023-10-26T12:42:57.121Z"
   },
   {
    "duration": 163,
    "start_time": "2023-10-26T12:42:57.130Z"
   },
   {
    "duration": 9,
    "start_time": "2023-10-26T12:42:57.295Z"
   },
   {
    "duration": 742,
    "start_time": "2023-10-26T12:42:57.305Z"
   },
   {
    "duration": 12,
    "start_time": "2023-10-26T12:42:58.049Z"
   },
   {
    "duration": 667,
    "start_time": "2023-10-26T12:42:58.063Z"
   },
   {
    "duration": 38,
    "start_time": "2023-10-26T12:42:58.731Z"
   },
   {
    "duration": 22,
    "start_time": "2023-10-26T12:42:58.771Z"
   },
   {
    "duration": 400,
    "start_time": "2023-10-26T12:42:58.794Z"
   },
   {
    "duration": 217,
    "start_time": "2023-10-26T12:42:59.196Z"
   },
   {
    "duration": 223,
    "start_time": "2023-10-26T12:42:59.414Z"
   },
   {
    "duration": 225,
    "start_time": "2023-10-26T12:42:59.638Z"
   },
   {
    "duration": 918,
    "start_time": "2023-10-26T12:42:59.864Z"
   },
   {
    "duration": 13,
    "start_time": "2023-10-26T12:43:00.784Z"
   },
   {
    "duration": 202,
    "start_time": "2023-10-26T12:43:00.798Z"
   },
   {
    "duration": 21,
    "start_time": "2023-10-26T12:43:01.002Z"
   },
   {
    "duration": 77,
    "start_time": "2023-10-26T12:43:01.024Z"
   },
   {
    "duration": 30,
    "start_time": "2023-10-26T12:43:01.105Z"
   },
   {
    "duration": 0,
    "start_time": "2023-10-26T12:43:01.284Z"
   },
   {
    "duration": 175,
    "start_time": "2023-10-26T12:43:03.050Z"
   },
   {
    "duration": 159,
    "start_time": "2023-10-26T12:43:28.788Z"
   },
   {
    "duration": 102,
    "start_time": "2023-10-26T12:43:38.444Z"
   },
   {
    "duration": 17,
    "start_time": "2023-10-26T12:43:49.145Z"
   },
   {
    "duration": 676,
    "start_time": "2023-10-26T12:44:58.680Z"
   },
   {
    "duration": 36,
    "start_time": "2023-10-26T12:46:49.992Z"
   },
   {
    "duration": 544,
    "start_time": "2023-10-26T12:47:15.888Z"
   },
   {
    "duration": 4659,
    "start_time": "2023-10-26T12:50:16.797Z"
   },
   {
    "duration": 20,
    "start_time": "2023-10-26T12:50:40.037Z"
   },
   {
    "duration": 4726,
    "start_time": "2023-10-26T12:51:37.095Z"
   },
   {
    "duration": 6055,
    "start_time": "2023-10-26T12:51:50.640Z"
   },
   {
    "duration": 16,
    "start_time": "2023-10-26T12:52:34.924Z"
   },
   {
    "duration": 12,
    "start_time": "2023-10-26T12:52:59.821Z"
   },
   {
    "duration": 17,
    "start_time": "2023-10-26T12:53:14.434Z"
   },
   {
    "duration": 5819,
    "start_time": "2023-10-26T12:54:03.016Z"
   },
   {
    "duration": 19,
    "start_time": "2023-10-26T12:54:44.884Z"
   },
   {
    "duration": 33,
    "start_time": "2023-10-26T12:57:03.920Z"
   },
   {
    "duration": 28,
    "start_time": "2023-10-26T12:57:46.013Z"
   },
   {
    "duration": 13,
    "start_time": "2023-10-26T12:58:08.783Z"
   },
   {
    "duration": 5306,
    "start_time": "2023-10-26T12:58:22.892Z"
   },
   {
    "duration": 11,
    "start_time": "2023-10-26T13:02:25.213Z"
   },
   {
    "duration": 16,
    "start_time": "2023-10-26T13:02:37.014Z"
   },
   {
    "duration": 16,
    "start_time": "2023-10-26T13:03:18.899Z"
   },
   {
    "duration": 14,
    "start_time": "2023-10-26T13:04:11.896Z"
   },
   {
    "duration": 20,
    "start_time": "2023-10-26T13:05:42.599Z"
   },
   {
    "duration": 7,
    "start_time": "2023-10-26T13:08:26.888Z"
   },
   {
    "duration": 15,
    "start_time": "2023-10-26T13:11:56.392Z"
   },
   {
    "duration": 960,
    "start_time": "2023-10-26T13:12:39.399Z"
   },
   {
    "duration": 19,
    "start_time": "2023-10-26T13:12:49.809Z"
   },
   {
    "duration": 166,
    "start_time": "2023-10-26T13:13:50.034Z"
   },
   {
    "duration": 35,
    "start_time": "2023-10-26T13:15:08.812Z"
   },
   {
    "duration": 3292,
    "start_time": "2023-10-26T13:15:24.651Z"
   },
   {
    "duration": 5849,
    "start_time": "2023-10-26T13:16:29.525Z"
   },
   {
    "duration": 4440,
    "start_time": "2023-10-26T13:16:58.364Z"
   },
   {
    "duration": 2762,
    "start_time": "2023-10-26T13:18:33.981Z"
   },
   {
    "duration": 3774,
    "start_time": "2023-10-26T13:18:54.322Z"
   },
   {
    "duration": 31,
    "start_time": "2023-10-26T13:19:01.821Z"
   },
   {
    "duration": 26,
    "start_time": "2023-10-26T13:19:21.192Z"
   },
   {
    "duration": 16,
    "start_time": "2023-10-26T13:27:25.598Z"
   },
   {
    "duration": 10,
    "start_time": "2023-10-26T13:27:47.282Z"
   },
   {
    "duration": 14,
    "start_time": "2023-10-26T13:27:58.791Z"
   },
   {
    "duration": 10,
    "start_time": "2023-10-26T13:29:19.502Z"
   },
   {
    "duration": 42,
    "start_time": "2023-10-26T13:31:40.432Z"
   },
   {
    "duration": 11,
    "start_time": "2023-10-26T13:32:42.783Z"
   },
   {
    "duration": 5,
    "start_time": "2023-10-26T13:32:52.102Z"
   },
   {
    "duration": 51,
    "start_time": "2023-10-26T13:36:48.656Z"
   },
   {
    "duration": 5,
    "start_time": "2023-10-26T13:39:21.133Z"
   },
   {
    "duration": 4059,
    "start_time": "2023-10-26T13:41:09.732Z"
   },
   {
    "duration": 2049,
    "start_time": "2023-10-26T13:41:13.795Z"
   },
   {
    "duration": 91,
    "start_time": "2023-10-26T13:41:15.848Z"
   },
   {
    "duration": 34,
    "start_time": "2023-10-26T13:41:15.941Z"
   },
   {
    "duration": 38,
    "start_time": "2023-10-26T13:41:15.977Z"
   },
   {
    "duration": 12,
    "start_time": "2023-10-26T13:41:16.018Z"
   },
   {
    "duration": 7,
    "start_time": "2023-10-26T13:41:16.032Z"
   },
   {
    "duration": 62,
    "start_time": "2023-10-26T13:41:16.041Z"
   },
   {
    "duration": 34,
    "start_time": "2023-10-26T13:41:16.106Z"
   },
   {
    "duration": 30,
    "start_time": "2023-10-26T13:41:16.143Z"
   },
   {
    "duration": 35,
    "start_time": "2023-10-26T13:41:16.175Z"
   },
   {
    "duration": 36,
    "start_time": "2023-10-26T13:41:16.214Z"
   },
   {
    "duration": 53,
    "start_time": "2023-10-26T13:41:16.253Z"
   },
   {
    "duration": 2635,
    "start_time": "2023-10-26T13:41:16.309Z"
   },
   {
    "duration": 25,
    "start_time": "2023-10-26T13:41:18.946Z"
   },
   {
    "duration": 13,
    "start_time": "2023-10-26T13:41:18.973Z"
   },
   {
    "duration": 65,
    "start_time": "2023-10-26T13:41:18.989Z"
   },
   {
    "duration": 16,
    "start_time": "2023-10-26T13:41:19.056Z"
   },
   {
    "duration": 33,
    "start_time": "2023-10-26T13:41:19.075Z"
   },
   {
    "duration": 24,
    "start_time": "2023-10-26T13:41:19.112Z"
   },
   {
    "duration": 10,
    "start_time": "2023-10-26T13:41:19.138Z"
   },
   {
    "duration": 274,
    "start_time": "2023-10-26T13:41:19.150Z"
   },
   {
    "duration": 158,
    "start_time": "2023-10-26T13:41:19.426Z"
   },
   {
    "duration": 18,
    "start_time": "2023-10-26T13:41:19.588Z"
   },
   {
    "duration": 245,
    "start_time": "2023-10-26T13:41:19.613Z"
   },
   {
    "duration": 20,
    "start_time": "2023-10-26T13:41:19.864Z"
   },
   {
    "duration": 1190,
    "start_time": "2023-10-26T13:41:19.890Z"
   },
   {
    "duration": 14,
    "start_time": "2023-10-26T13:41:21.088Z"
   },
   {
    "duration": 981,
    "start_time": "2023-10-26T13:41:21.109Z"
   },
   {
    "duration": 61,
    "start_time": "2023-10-26T13:41:22.097Z"
   },
   {
    "duration": 47,
    "start_time": "2023-10-26T13:41:22.165Z"
   },
   {
    "duration": 486,
    "start_time": "2023-10-26T13:41:22.219Z"
   },
   {
    "duration": 379,
    "start_time": "2023-10-26T13:41:22.712Z"
   },
   {
    "duration": 389,
    "start_time": "2023-10-26T13:41:23.097Z"
   },
   {
    "duration": 421,
    "start_time": "2023-10-26T13:41:23.492Z"
   },
   {
    "duration": 1930,
    "start_time": "2023-10-26T13:41:23.919Z"
   },
   {
    "duration": 92,
    "start_time": "2023-10-26T13:41:25.857Z"
   },
   {
    "duration": 318,
    "start_time": "2023-10-26T13:41:25.962Z"
   },
   {
    "duration": 55,
    "start_time": "2023-10-26T13:41:26.290Z"
   },
   {
    "duration": 50,
    "start_time": "2023-10-26T13:41:26.354Z"
   },
   {
    "duration": 18,
    "start_time": "2023-10-26T13:41:26.414Z"
   },
   {
    "duration": 1610,
    "start_time": "2023-10-26T13:41:26.446Z"
   },
   {
    "duration": 3703,
    "start_time": "2023-10-26T13:45:30.538Z"
   },
   {
    "duration": 1581,
    "start_time": "2023-10-26T13:45:34.243Z"
   },
   {
    "duration": 88,
    "start_time": "2023-10-26T13:45:35.826Z"
   },
   {
    "duration": 17,
    "start_time": "2023-10-26T13:45:35.917Z"
   },
   {
    "duration": 65,
    "start_time": "2023-10-26T13:45:35.936Z"
   },
   {
    "duration": 24,
    "start_time": "2023-10-26T13:45:36.003Z"
   },
   {
    "duration": 30,
    "start_time": "2023-10-26T13:45:36.029Z"
   },
   {
    "duration": 30,
    "start_time": "2023-10-26T13:45:36.064Z"
   },
   {
    "duration": 33,
    "start_time": "2023-10-26T13:45:36.096Z"
   },
   {
    "duration": 25,
    "start_time": "2023-10-26T13:45:36.131Z"
   },
   {
    "duration": 14,
    "start_time": "2023-10-26T13:45:36.158Z"
   },
   {
    "duration": 25,
    "start_time": "2023-10-26T13:45:36.174Z"
   },
   {
    "duration": 20,
    "start_time": "2023-10-26T13:45:36.200Z"
   },
   {
    "duration": 2202,
    "start_time": "2023-10-26T13:45:36.222Z"
   },
   {
    "duration": 12,
    "start_time": "2023-10-26T13:45:38.425Z"
   },
   {
    "duration": 265,
    "start_time": "2023-10-26T13:45:38.439Z"
   },
   {
    "duration": 27,
    "start_time": "2023-10-26T13:45:38.706Z"
   },
   {
    "duration": 18,
    "start_time": "2023-10-26T13:45:38.735Z"
   },
   {
    "duration": 23,
    "start_time": "2023-10-26T13:45:38.755Z"
   },
   {
    "duration": 25,
    "start_time": "2023-10-26T13:45:38.781Z"
   },
   {
    "duration": 6,
    "start_time": "2023-10-26T13:45:38.808Z"
   },
   {
    "duration": 284,
    "start_time": "2023-10-26T13:45:38.816Z"
   },
   {
    "duration": 183,
    "start_time": "2023-10-26T13:45:39.102Z"
   },
   {
    "duration": 15,
    "start_time": "2023-10-26T13:45:39.287Z"
   },
   {
    "duration": 260,
    "start_time": "2023-10-26T13:45:39.304Z"
   },
   {
    "duration": 19,
    "start_time": "2023-10-26T13:45:39.569Z"
   },
   {
    "duration": 736,
    "start_time": "2023-10-26T13:45:39.590Z"
   },
   {
    "duration": 9,
    "start_time": "2023-10-26T13:45:40.329Z"
   },
   {
    "duration": 791,
    "start_time": "2023-10-26T13:45:40.340Z"
   },
   {
    "duration": 60,
    "start_time": "2023-10-26T13:45:41.132Z"
   },
   {
    "duration": 32,
    "start_time": "2023-10-26T13:45:41.195Z"
   },
   {
    "duration": 412,
    "start_time": "2023-10-26T13:45:41.228Z"
   },
   {
    "duration": 316,
    "start_time": "2023-10-26T13:45:41.642Z"
   },
   {
    "duration": 318,
    "start_time": "2023-10-26T13:45:41.962Z"
   },
   {
    "duration": 331,
    "start_time": "2023-10-26T13:45:42.284Z"
   },
   {
    "duration": 1286,
    "start_time": "2023-10-26T13:45:42.616Z"
   },
   {
    "duration": 13,
    "start_time": "2023-10-26T13:45:43.904Z"
   },
   {
    "duration": 239,
    "start_time": "2023-10-26T13:45:43.919Z"
   },
   {
    "duration": 37,
    "start_time": "2023-10-26T13:45:44.160Z"
   },
   {
    "duration": 55,
    "start_time": "2023-10-26T13:45:44.198Z"
   },
   {
    "duration": 13,
    "start_time": "2023-10-26T13:45:44.255Z"
   },
   {
    "duration": 1162,
    "start_time": "2023-10-26T13:45:44.273Z"
   },
   {
    "duration": 1274,
    "start_time": "2023-10-26T13:45:45.437Z"
   },
   {
    "duration": 587,
    "start_time": "2023-10-26T13:47:08.212Z"
   },
   {
    "duration": 167,
    "start_time": "2023-10-26T13:50:05.893Z"
   },
   {
    "duration": 21,
    "start_time": "2023-10-26T13:50:12.759Z"
   },
   {
    "duration": 344,
    "start_time": "2023-10-26T13:50:22.611Z"
   },
   {
    "duration": 381,
    "start_time": "2023-10-26T13:50:36.207Z"
   },
   {
    "duration": 3828,
    "start_time": "2023-10-26T13:51:25.239Z"
   },
   {
    "duration": 1693,
    "start_time": "2023-10-26T13:51:29.075Z"
   },
   {
    "duration": 112,
    "start_time": "2023-10-26T13:51:30.771Z"
   },
   {
    "duration": 35,
    "start_time": "2023-10-26T13:51:30.887Z"
   },
   {
    "duration": 261,
    "start_time": "2023-10-26T13:51:30.925Z"
   },
   {
    "duration": 90,
    "start_time": "2023-10-26T13:51:31.188Z"
   },
   {
    "duration": 62,
    "start_time": "2023-10-26T13:51:31.281Z"
   },
   {
    "duration": 60,
    "start_time": "2023-10-26T13:51:31.346Z"
   },
   {
    "duration": 67,
    "start_time": "2023-10-26T13:51:31.410Z"
   },
   {
    "duration": 38,
    "start_time": "2023-10-26T13:51:31.480Z"
   },
   {
    "duration": 101,
    "start_time": "2023-10-26T13:51:31.520Z"
   },
   {
    "duration": 63,
    "start_time": "2023-10-26T13:51:31.623Z"
   },
   {
    "duration": 46,
    "start_time": "2023-10-26T13:51:31.688Z"
   },
   {
    "duration": 2347,
    "start_time": "2023-10-26T13:51:31.738Z"
   },
   {
    "duration": 49,
    "start_time": "2023-10-26T13:51:34.103Z"
   },
   {
    "duration": 24,
    "start_time": "2023-10-26T13:51:34.164Z"
   },
   {
    "duration": 48,
    "start_time": "2023-10-26T13:51:34.195Z"
   },
   {
    "duration": 38,
    "start_time": "2023-10-26T13:51:34.250Z"
   },
   {
    "duration": 27,
    "start_time": "2023-10-26T13:51:34.304Z"
   },
   {
    "duration": 25,
    "start_time": "2023-10-26T13:51:34.339Z"
   },
   {
    "duration": 14,
    "start_time": "2023-10-26T13:51:34.372Z"
   },
   {
    "duration": 265,
    "start_time": "2023-10-26T13:51:34.395Z"
   },
   {
    "duration": 155,
    "start_time": "2023-10-26T13:51:34.668Z"
   },
   {
    "duration": 28,
    "start_time": "2023-10-26T13:51:34.825Z"
   },
   {
    "duration": 228,
    "start_time": "2023-10-26T13:51:34.856Z"
   },
   {
    "duration": 14,
    "start_time": "2023-10-26T13:51:35.088Z"
   },
   {
    "duration": 888,
    "start_time": "2023-10-26T13:51:35.104Z"
   },
   {
    "duration": 25,
    "start_time": "2023-10-26T13:51:35.997Z"
   },
   {
    "duration": 916,
    "start_time": "2023-10-26T13:51:36.025Z"
   },
   {
    "duration": 54,
    "start_time": "2023-10-26T13:51:36.951Z"
   },
   {
    "duration": 57,
    "start_time": "2023-10-26T13:51:37.007Z"
   },
   {
    "duration": 430,
    "start_time": "2023-10-26T13:51:37.079Z"
   },
   {
    "duration": 344,
    "start_time": "2023-10-26T13:51:37.516Z"
   },
   {
    "duration": 347,
    "start_time": "2023-10-26T13:51:37.867Z"
   },
   {
    "duration": 407,
    "start_time": "2023-10-26T13:51:38.221Z"
   },
   {
    "duration": 1783,
    "start_time": "2023-10-26T13:51:38.634Z"
   },
   {
    "duration": 25,
    "start_time": "2023-10-26T13:51:40.430Z"
   },
   {
    "duration": 284,
    "start_time": "2023-10-26T13:51:40.464Z"
   },
   {
    "duration": 62,
    "start_time": "2023-10-26T13:51:40.761Z"
   },
   {
    "duration": 79,
    "start_time": "2023-10-26T13:51:40.833Z"
   },
   {
    "duration": 11,
    "start_time": "2023-10-26T13:51:40.920Z"
   },
   {
    "duration": 1377,
    "start_time": "2023-10-26T13:51:40.936Z"
   },
   {
    "duration": 1035,
    "start_time": "2023-10-26T13:51:42.315Z"
   },
   {
    "duration": 423,
    "start_time": "2023-10-26T13:52:09.976Z"
   },
   {
    "duration": 3763,
    "start_time": "2023-10-26T13:52:46.319Z"
   },
   {
    "duration": 1849,
    "start_time": "2023-10-26T13:52:50.086Z"
   },
   {
    "duration": 126,
    "start_time": "2023-10-26T13:52:51.938Z"
   },
   {
    "duration": 31,
    "start_time": "2023-10-26T13:52:52.074Z"
   },
   {
    "duration": 35,
    "start_time": "2023-10-26T13:52:52.107Z"
   },
   {
    "duration": 20,
    "start_time": "2023-10-26T13:52:52.144Z"
   },
   {
    "duration": 25,
    "start_time": "2023-10-26T13:52:52.170Z"
   },
   {
    "duration": 19,
    "start_time": "2023-10-26T13:52:52.199Z"
   },
   {
    "duration": 19,
    "start_time": "2023-10-26T13:52:52.221Z"
   },
   {
    "duration": 75,
    "start_time": "2023-10-26T13:52:52.244Z"
   },
   {
    "duration": 17,
    "start_time": "2023-10-26T13:52:52.320Z"
   },
   {
    "duration": 50,
    "start_time": "2023-10-26T13:52:52.340Z"
   },
   {
    "duration": 46,
    "start_time": "2023-10-26T13:52:52.393Z"
   },
   {
    "duration": 2207,
    "start_time": "2023-10-26T13:52:52.441Z"
   },
   {
    "duration": 16,
    "start_time": "2023-10-26T13:52:54.651Z"
   },
   {
    "duration": 35,
    "start_time": "2023-10-26T13:52:54.670Z"
   },
   {
    "duration": 34,
    "start_time": "2023-10-26T13:52:54.707Z"
   },
   {
    "duration": 28,
    "start_time": "2023-10-26T13:52:54.743Z"
   },
   {
    "duration": 27,
    "start_time": "2023-10-26T13:52:54.776Z"
   },
   {
    "duration": 8,
    "start_time": "2023-10-26T13:52:54.806Z"
   },
   {
    "duration": 19,
    "start_time": "2023-10-26T13:52:54.815Z"
   },
   {
    "duration": 252,
    "start_time": "2023-10-26T13:52:54.835Z"
   },
   {
    "duration": 148,
    "start_time": "2023-10-26T13:52:55.090Z"
   },
   {
    "duration": 18,
    "start_time": "2023-10-26T13:52:55.239Z"
   },
   {
    "duration": 234,
    "start_time": "2023-10-26T13:52:55.259Z"
   },
   {
    "duration": 15,
    "start_time": "2023-10-26T13:52:55.496Z"
   },
   {
    "duration": 791,
    "start_time": "2023-10-26T13:52:55.518Z"
   },
   {
    "duration": 57,
    "start_time": "2023-10-26T13:52:56.315Z"
   },
   {
    "duration": 712,
    "start_time": "2023-10-26T13:52:56.376Z"
   },
   {
    "duration": 55,
    "start_time": "2023-10-26T13:52:57.093Z"
   },
   {
    "duration": 49,
    "start_time": "2023-10-26T13:52:57.161Z"
   },
   {
    "duration": 382,
    "start_time": "2023-10-26T13:52:57.213Z"
   },
   {
    "duration": 291,
    "start_time": "2023-10-26T13:52:57.598Z"
   },
   {
    "duration": 307,
    "start_time": "2023-10-26T13:52:57.892Z"
   },
   {
    "duration": 291,
    "start_time": "2023-10-26T13:52:58.201Z"
   },
   {
    "duration": 1408,
    "start_time": "2023-10-26T13:52:58.494Z"
   },
   {
    "duration": 18,
    "start_time": "2023-10-26T13:52:59.905Z"
   },
   {
    "duration": 212,
    "start_time": "2023-10-26T13:52:59.926Z"
   },
   {
    "duration": 50,
    "start_time": "2023-10-26T13:53:00.139Z"
   },
   {
    "duration": 59,
    "start_time": "2023-10-26T13:53:00.192Z"
   },
   {
    "duration": 66,
    "start_time": "2023-10-26T13:53:00.253Z"
   },
   {
    "duration": 1195,
    "start_time": "2023-10-26T13:53:00.321Z"
   },
   {
    "duration": 104892,
    "start_time": "2023-10-26T13:53:01.518Z"
   },
   {
    "duration": 3635,
    "start_time": "2023-10-26T13:56:46.183Z"
   },
   {
    "duration": 1595,
    "start_time": "2023-10-26T13:56:49.820Z"
   },
   {
    "duration": 91,
    "start_time": "2023-10-26T13:56:51.417Z"
   },
   {
    "duration": 14,
    "start_time": "2023-10-26T13:56:51.510Z"
   },
   {
    "duration": 67,
    "start_time": "2023-10-26T13:56:51.527Z"
   },
   {
    "duration": 15,
    "start_time": "2023-10-26T13:56:51.602Z"
   },
   {
    "duration": 59,
    "start_time": "2023-10-26T13:56:51.619Z"
   },
   {
    "duration": 44,
    "start_time": "2023-10-26T13:56:51.683Z"
   },
   {
    "duration": 49,
    "start_time": "2023-10-26T13:56:51.729Z"
   },
   {
    "duration": 34,
    "start_time": "2023-10-26T13:56:51.781Z"
   },
   {
    "duration": 24,
    "start_time": "2023-10-26T13:56:51.817Z"
   },
   {
    "duration": 62,
    "start_time": "2023-10-26T13:56:51.843Z"
   },
   {
    "duration": 20,
    "start_time": "2023-10-26T13:56:51.907Z"
   },
   {
    "duration": 2235,
    "start_time": "2023-10-26T13:56:51.937Z"
   },
   {
    "duration": 25,
    "start_time": "2023-10-26T13:56:54.174Z"
   },
   {
    "duration": 17,
    "start_time": "2023-10-26T13:56:54.201Z"
   },
   {
    "duration": 13,
    "start_time": "2023-10-26T13:56:54.220Z"
   },
   {
    "duration": 29,
    "start_time": "2023-10-26T13:56:54.234Z"
   },
   {
    "duration": 30,
    "start_time": "2023-10-26T13:56:54.269Z"
   },
   {
    "duration": 29,
    "start_time": "2023-10-26T13:56:54.301Z"
   },
   {
    "duration": 11,
    "start_time": "2023-10-26T13:56:54.332Z"
   },
   {
    "duration": 222,
    "start_time": "2023-10-26T13:56:54.346Z"
   },
   {
    "duration": 125,
    "start_time": "2023-10-26T13:56:54.574Z"
   },
   {
    "duration": 11,
    "start_time": "2023-10-26T13:56:54.702Z"
   },
   {
    "duration": 227,
    "start_time": "2023-10-26T13:56:54.715Z"
   },
   {
    "duration": 26,
    "start_time": "2023-10-26T13:56:54.945Z"
   },
   {
    "duration": 825,
    "start_time": "2023-10-26T13:56:54.974Z"
   },
   {
    "duration": 17,
    "start_time": "2023-10-26T13:56:55.801Z"
   },
   {
    "duration": 950,
    "start_time": "2023-10-26T13:56:55.820Z"
   },
   {
    "duration": 42,
    "start_time": "2023-10-26T13:56:56.779Z"
   },
   {
    "duration": 53,
    "start_time": "2023-10-26T13:56:56.823Z"
   },
   {
    "duration": 356,
    "start_time": "2023-10-26T13:56:56.878Z"
   },
   {
    "duration": 363,
    "start_time": "2023-10-26T13:56:57.236Z"
   },
   {
    "duration": 459,
    "start_time": "2023-10-26T13:56:57.605Z"
   },
   {
    "duration": 422,
    "start_time": "2023-10-26T13:56:58.067Z"
   },
   {
    "duration": 1584,
    "start_time": "2023-10-26T13:56:58.491Z"
   },
   {
    "duration": 27,
    "start_time": "2023-10-26T13:57:00.079Z"
   },
   {
    "duration": 297,
    "start_time": "2023-10-26T13:57:00.109Z"
   },
   {
    "duration": 115,
    "start_time": "2023-10-26T13:57:00.408Z"
   },
   {
    "duration": 77,
    "start_time": "2023-10-26T13:57:00.525Z"
   },
   {
    "duration": 45,
    "start_time": "2023-10-26T13:57:00.607Z"
   },
   {
    "duration": 1446,
    "start_time": "2023-10-26T13:57:00.654Z"
   },
   {
    "duration": 3409,
    "start_time": "2023-10-26T13:58:00.518Z"
   },
   {
    "duration": 1582,
    "start_time": "2023-10-26T13:58:03.930Z"
   },
   {
    "duration": 90,
    "start_time": "2023-10-26T13:58:05.514Z"
   },
   {
    "duration": 13,
    "start_time": "2023-10-26T13:58:05.606Z"
   },
   {
    "duration": 42,
    "start_time": "2023-10-26T13:58:05.621Z"
   },
   {
    "duration": 9,
    "start_time": "2023-10-26T13:58:05.669Z"
   },
   {
    "duration": 30,
    "start_time": "2023-10-26T13:58:05.681Z"
   },
   {
    "duration": 16,
    "start_time": "2023-10-26T13:58:05.714Z"
   },
   {
    "duration": 22,
    "start_time": "2023-10-26T13:58:05.733Z"
   },
   {
    "duration": 21,
    "start_time": "2023-10-26T13:58:05.761Z"
   },
   {
    "duration": 22,
    "start_time": "2023-10-26T13:58:05.785Z"
   },
   {
    "duration": 14,
    "start_time": "2023-10-26T13:58:05.813Z"
   },
   {
    "duration": 22,
    "start_time": "2023-10-26T13:58:05.829Z"
   },
   {
    "duration": 2305,
    "start_time": "2023-10-26T13:58:05.854Z"
   },
   {
    "duration": 18,
    "start_time": "2023-10-26T13:58:08.161Z"
   },
   {
    "duration": 38,
    "start_time": "2023-10-26T13:58:08.181Z"
   },
   {
    "duration": 26,
    "start_time": "2023-10-26T13:58:08.221Z"
   },
   {
    "duration": 44,
    "start_time": "2023-10-26T13:58:08.251Z"
   },
   {
    "duration": 12,
    "start_time": "2023-10-26T13:58:08.298Z"
   },
   {
    "duration": 9,
    "start_time": "2023-10-26T13:58:08.313Z"
   },
   {
    "duration": 17,
    "start_time": "2023-10-26T13:58:08.323Z"
   },
   {
    "duration": 230,
    "start_time": "2023-10-26T13:58:08.342Z"
   },
   {
    "duration": 142,
    "start_time": "2023-10-26T13:58:08.588Z"
   },
   {
    "duration": 9,
    "start_time": "2023-10-26T13:58:08.732Z"
   },
   {
    "duration": 290,
    "start_time": "2023-10-26T13:58:08.743Z"
   },
   {
    "duration": 18,
    "start_time": "2023-10-26T13:58:09.036Z"
   },
   {
    "duration": 912,
    "start_time": "2023-10-26T13:58:09.060Z"
   },
   {
    "duration": 11,
    "start_time": "2023-10-26T13:58:09.976Z"
   },
   {
    "duration": 853,
    "start_time": "2023-10-26T13:58:09.989Z"
   },
   {
    "duration": 61,
    "start_time": "2023-10-26T13:58:10.857Z"
   },
   {
    "duration": 54,
    "start_time": "2023-10-26T13:58:10.920Z"
   },
   {
    "duration": 444,
    "start_time": "2023-10-26T13:58:10.976Z"
   },
   {
    "duration": 351,
    "start_time": "2023-10-26T13:58:11.422Z"
   },
   {
    "duration": 291,
    "start_time": "2023-10-26T13:58:11.777Z"
   },
   {
    "duration": 305,
    "start_time": "2023-10-26T13:58:12.069Z"
   },
   {
    "duration": 1337,
    "start_time": "2023-10-26T13:58:12.379Z"
   },
   {
    "duration": 18,
    "start_time": "2023-10-26T13:58:13.718Z"
   },
   {
    "duration": 251,
    "start_time": "2023-10-26T13:58:13.749Z"
   },
   {
    "duration": 27,
    "start_time": "2023-10-26T13:58:14.002Z"
   },
   {
    "duration": 54,
    "start_time": "2023-10-26T13:58:14.031Z"
   },
   {
    "duration": 9,
    "start_time": "2023-10-26T13:58:14.087Z"
   },
   {
    "duration": 1314,
    "start_time": "2023-10-26T13:58:14.098Z"
   },
   {
    "duration": 3708,
    "start_time": "2023-10-26T14:04:52.303Z"
   },
   {
    "duration": 1627,
    "start_time": "2023-10-26T14:04:56.013Z"
   },
   {
    "duration": 90,
    "start_time": "2023-10-26T14:04:57.642Z"
   },
   {
    "duration": 28,
    "start_time": "2023-10-26T14:04:57.733Z"
   },
   {
    "duration": 48,
    "start_time": "2023-10-26T14:04:57.764Z"
   },
   {
    "duration": 7,
    "start_time": "2023-10-26T14:04:57.814Z"
   },
   {
    "duration": 7,
    "start_time": "2023-10-26T14:04:57.824Z"
   },
   {
    "duration": 6,
    "start_time": "2023-10-26T14:04:57.833Z"
   },
   {
    "duration": 44,
    "start_time": "2023-10-26T14:04:57.841Z"
   },
   {
    "duration": 32,
    "start_time": "2023-10-26T14:04:57.888Z"
   },
   {
    "duration": 15,
    "start_time": "2023-10-26T14:04:57.922Z"
   },
   {
    "duration": 20,
    "start_time": "2023-10-26T14:04:57.939Z"
   },
   {
    "duration": 31,
    "start_time": "2023-10-26T14:04:57.960Z"
   },
   {
    "duration": 2320,
    "start_time": "2023-10-26T14:04:57.996Z"
   },
   {
    "duration": 11,
    "start_time": "2023-10-26T14:05:00.318Z"
   },
   {
    "duration": 73,
    "start_time": "2023-10-26T14:05:00.331Z"
   },
   {
    "duration": 83,
    "start_time": "2023-10-26T14:05:00.406Z"
   },
   {
    "duration": 13,
    "start_time": "2023-10-26T14:05:00.491Z"
   },
   {
    "duration": 66,
    "start_time": "2023-10-26T14:05:00.506Z"
   },
   {
    "duration": 28,
    "start_time": "2023-10-26T14:05:00.575Z"
   },
   {
    "duration": 52,
    "start_time": "2023-10-26T14:05:00.606Z"
   },
   {
    "duration": 255,
    "start_time": "2023-10-26T14:05:00.660Z"
   },
   {
    "duration": 141,
    "start_time": "2023-10-26T14:05:00.917Z"
   },
   {
    "duration": 22,
    "start_time": "2023-10-26T14:05:01.063Z"
   },
   {
    "duration": 269,
    "start_time": "2023-10-26T14:05:01.087Z"
   },
   {
    "duration": 25,
    "start_time": "2023-10-26T14:05:01.363Z"
   },
   {
    "duration": 861,
    "start_time": "2023-10-26T14:05:01.393Z"
   },
   {
    "duration": 12,
    "start_time": "2023-10-26T14:05:02.262Z"
   },
   {
    "duration": 1104,
    "start_time": "2023-10-26T14:05:02.275Z"
   },
   {
    "duration": 53,
    "start_time": "2023-10-26T14:05:03.383Z"
   },
   {
    "duration": 83,
    "start_time": "2023-10-26T14:05:03.439Z"
   },
   {
    "duration": 495,
    "start_time": "2023-10-26T14:05:03.524Z"
   },
   {
    "duration": 333,
    "start_time": "2023-10-26T14:05:04.023Z"
   },
   {
    "duration": 346,
    "start_time": "2023-10-26T14:05:04.358Z"
   },
   {
    "duration": 405,
    "start_time": "2023-10-26T14:05:04.706Z"
   },
   {
    "duration": 1458,
    "start_time": "2023-10-26T14:05:05.113Z"
   },
   {
    "duration": 21,
    "start_time": "2023-10-26T14:05:06.574Z"
   },
   {
    "duration": 305,
    "start_time": "2023-10-26T14:05:06.597Z"
   },
   {
    "duration": 39,
    "start_time": "2023-10-26T14:05:06.914Z"
   },
   {
    "duration": 35,
    "start_time": "2023-10-26T14:05:06.956Z"
   },
   {
    "duration": 8,
    "start_time": "2023-10-26T14:05:06.996Z"
   },
   {
    "duration": 42,
    "start_time": "2023-10-26T14:05:07.006Z"
   },
   {
    "duration": 11,
    "start_time": "2023-10-26T14:05:36.293Z"
   },
   {
    "duration": 145,
    "start_time": "2023-10-26T14:08:57.733Z"
   },
   {
    "duration": 6,
    "start_time": "2023-10-26T14:09:33.609Z"
   },
   {
    "duration": 5,
    "start_time": "2023-10-26T14:09:54.722Z"
   },
   {
    "duration": 7,
    "start_time": "2023-10-26T14:10:09.500Z"
   },
   {
    "duration": 15,
    "start_time": "2023-10-26T14:10:58.770Z"
   },
   {
    "duration": 7,
    "start_time": "2023-10-26T14:11:28.426Z"
   },
   {
    "duration": 6,
    "start_time": "2023-10-26T14:11:49.423Z"
   },
   {
    "duration": 177,
    "start_time": "2023-10-26T14:12:01.933Z"
   },
   {
    "duration": 160,
    "start_time": "2023-10-26T14:12:35.741Z"
   },
   {
    "duration": 118,
    "start_time": "2023-10-26T14:12:40.913Z"
   },
   {
    "duration": 19,
    "start_time": "2023-10-26T14:12:48.461Z"
   },
   {
    "duration": 16,
    "start_time": "2023-10-26T14:19:19.010Z"
   },
   {
    "duration": 19,
    "start_time": "2023-10-26T14:19:46.161Z"
   },
   {
    "duration": 9,
    "start_time": "2023-10-26T14:19:52.876Z"
   },
   {
    "duration": 15,
    "start_time": "2023-10-26T14:21:33.780Z"
   },
   {
    "duration": 11,
    "start_time": "2023-10-26T14:22:15.891Z"
   },
   {
    "duration": 6,
    "start_time": "2023-10-26T14:23:03.882Z"
   },
   {
    "duration": 6,
    "start_time": "2023-10-26T14:23:28.498Z"
   },
   {
    "duration": 299,
    "start_time": "2023-10-26T15:10:12.274Z"
   },
   {
    "duration": 245,
    "start_time": "2023-10-26T15:10:27.571Z"
   },
   {
    "duration": 383,
    "start_time": "2023-10-26T15:10:32.793Z"
   },
   {
    "duration": 186,
    "start_time": "2023-10-26T15:10:43.109Z"
   },
   {
    "duration": 587,
    "start_time": "2023-10-26T15:10:51.114Z"
   },
   {
    "duration": 284,
    "start_time": "2023-10-26T15:11:37.296Z"
   },
   {
    "duration": 264,
    "start_time": "2023-10-26T15:11:43.929Z"
   },
   {
    "duration": 244,
    "start_time": "2023-10-26T15:12:30.332Z"
   },
   {
    "duration": 440,
    "start_time": "2023-10-26T15:12:59.849Z"
   },
   {
    "duration": 230,
    "start_time": "2023-10-26T15:13:09.948Z"
   },
   {
    "duration": 21,
    "start_time": "2023-10-26T15:14:39.554Z"
   },
   {
    "duration": 9,
    "start_time": "2023-10-26T15:16:09.674Z"
   },
   {
    "duration": 17,
    "start_time": "2023-10-26T15:18:43.664Z"
   },
   {
    "duration": 11,
    "start_time": "2023-10-26T15:18:59.968Z"
   },
   {
    "duration": 9,
    "start_time": "2023-10-26T15:20:36.522Z"
   },
   {
    "duration": 15,
    "start_time": "2023-10-26T15:20:38.956Z"
   },
   {
    "duration": 7,
    "start_time": "2023-10-26T15:20:54.320Z"
   },
   {
    "duration": 5640,
    "start_time": "2023-10-26T15:57:00.417Z"
   },
   {
    "duration": 1616,
    "start_time": "2023-10-26T15:57:06.060Z"
   },
   {
    "duration": 263,
    "start_time": "2023-10-26T15:57:07.679Z"
   },
   {
    "duration": 26,
    "start_time": "2023-10-26T15:57:07.948Z"
   },
   {
    "duration": 19,
    "start_time": "2023-10-26T15:57:07.987Z"
   },
   {
    "duration": 9,
    "start_time": "2023-10-26T15:57:08.008Z"
   },
   {
    "duration": 58,
    "start_time": "2023-10-26T15:57:08.020Z"
   },
   {
    "duration": 12,
    "start_time": "2023-10-26T15:57:08.080Z"
   },
   {
    "duration": 26,
    "start_time": "2023-10-26T15:57:08.099Z"
   },
   {
    "duration": 21,
    "start_time": "2023-10-26T15:57:08.129Z"
   },
   {
    "duration": 16,
    "start_time": "2023-10-26T15:57:08.152Z"
   },
   {
    "duration": 25,
    "start_time": "2023-10-26T15:57:08.170Z"
   },
   {
    "duration": 11,
    "start_time": "2023-10-26T15:57:08.201Z"
   },
   {
    "duration": 2266,
    "start_time": "2023-10-26T15:57:08.214Z"
   },
   {
    "duration": 15,
    "start_time": "2023-10-26T15:57:10.482Z"
   },
   {
    "duration": 7,
    "start_time": "2023-10-26T15:57:10.500Z"
   },
   {
    "duration": 12,
    "start_time": "2023-10-26T15:57:10.509Z"
   },
   {
    "duration": 6,
    "start_time": "2023-10-26T15:57:10.522Z"
   },
   {
    "duration": 12,
    "start_time": "2023-10-26T15:57:10.530Z"
   },
   {
    "duration": 14,
    "start_time": "2023-10-26T15:57:10.544Z"
   },
   {
    "duration": 16,
    "start_time": "2023-10-26T15:57:10.560Z"
   },
   {
    "duration": 217,
    "start_time": "2023-10-26T15:57:10.582Z"
   },
   {
    "duration": 148,
    "start_time": "2023-10-26T15:57:10.805Z"
   },
   {
    "duration": 14,
    "start_time": "2023-10-26T15:57:10.958Z"
   },
   {
    "duration": 221,
    "start_time": "2023-10-26T15:57:10.975Z"
   },
   {
    "duration": 8,
    "start_time": "2023-10-26T15:57:11.198Z"
   },
   {
    "duration": 887,
    "start_time": "2023-10-26T15:57:11.208Z"
   },
   {
    "duration": 12,
    "start_time": "2023-10-26T15:57:12.100Z"
   },
   {
    "duration": 807,
    "start_time": "2023-10-26T15:57:12.114Z"
   },
   {
    "duration": 67,
    "start_time": "2023-10-26T15:57:12.923Z"
   },
   {
    "duration": 28,
    "start_time": "2023-10-26T15:57:12.993Z"
   },
   {
    "duration": 463,
    "start_time": "2023-10-26T15:57:13.023Z"
   },
   {
    "duration": 313,
    "start_time": "2023-10-26T15:57:13.489Z"
   },
   {
    "duration": 297,
    "start_time": "2023-10-26T15:57:13.804Z"
   },
   {
    "duration": 266,
    "start_time": "2023-10-26T15:57:14.103Z"
   },
   {
    "duration": 1184,
    "start_time": "2023-10-26T15:57:14.371Z"
   },
   {
    "duration": 19,
    "start_time": "2023-10-26T15:57:15.557Z"
   },
   {
    "duration": 232,
    "start_time": "2023-10-26T15:57:15.578Z"
   },
   {
    "duration": 23,
    "start_time": "2023-10-26T15:57:15.812Z"
   },
   {
    "duration": 55,
    "start_time": "2023-10-26T15:57:15.837Z"
   },
   {
    "duration": 11,
    "start_time": "2023-10-26T15:57:15.893Z"
   },
   {
    "duration": 33,
    "start_time": "2023-10-26T15:57:15.906Z"
   },
   {
    "duration": 27,
    "start_time": "2023-10-26T15:57:15.942Z"
   },
   {
    "duration": 7,
    "start_time": "2023-10-26T15:57:15.971Z"
   },
   {
    "duration": 32,
    "start_time": "2023-10-26T15:57:15.981Z"
   },
   {
    "duration": 12,
    "start_time": "2023-10-26T15:57:16.015Z"
   },
   {
    "duration": 3045,
    "start_time": "2023-10-26T16:07:59.378Z"
   },
   {
    "duration": 1666,
    "start_time": "2023-10-26T16:08:02.426Z"
   },
   {
    "duration": 120,
    "start_time": "2023-10-26T16:08:04.144Z"
   },
   {
    "duration": 22,
    "start_time": "2023-10-26T16:08:04.272Z"
   },
   {
    "duration": 76,
    "start_time": "2023-10-26T16:08:04.296Z"
   },
   {
    "duration": 6,
    "start_time": "2023-10-26T16:08:04.374Z"
   },
   {
    "duration": 6,
    "start_time": "2023-10-26T16:08:04.382Z"
   },
   {
    "duration": 12,
    "start_time": "2023-10-26T16:08:04.389Z"
   },
   {
    "duration": 32,
    "start_time": "2023-10-26T16:08:04.449Z"
   },
   {
    "duration": 14,
    "start_time": "2023-10-26T16:08:04.484Z"
   },
   {
    "duration": 66,
    "start_time": "2023-10-26T16:08:04.499Z"
   },
   {
    "duration": 17,
    "start_time": "2023-10-26T16:08:04.567Z"
   },
   {
    "duration": 7,
    "start_time": "2023-10-26T16:08:04.586Z"
   },
   {
    "duration": 3096,
    "start_time": "2023-10-26T16:08:04.595Z"
   },
   {
    "duration": 10,
    "start_time": "2023-10-26T16:08:07.693Z"
   },
   {
    "duration": 22,
    "start_time": "2023-10-26T16:08:07.705Z"
   },
   {
    "duration": 9,
    "start_time": "2023-10-26T16:08:07.729Z"
   },
   {
    "duration": 37,
    "start_time": "2023-10-26T16:08:07.739Z"
   },
   {
    "duration": 21,
    "start_time": "2023-10-26T16:08:07.779Z"
   },
   {
    "duration": 10,
    "start_time": "2023-10-26T16:08:07.803Z"
   },
   {
    "duration": 6,
    "start_time": "2023-10-26T16:08:07.815Z"
   },
   {
    "duration": 184,
    "start_time": "2023-10-26T16:08:07.823Z"
   },
   {
    "duration": 129,
    "start_time": "2023-10-26T16:08:08.009Z"
   },
   {
    "duration": 32,
    "start_time": "2023-10-26T16:08:08.144Z"
   },
   {
    "duration": 195,
    "start_time": "2023-10-26T16:08:08.179Z"
   },
   {
    "duration": 9,
    "start_time": "2023-10-26T16:08:08.381Z"
   },
   {
    "duration": 716,
    "start_time": "2023-10-26T16:08:08.392Z"
   },
   {
    "duration": 9,
    "start_time": "2023-10-26T16:08:09.113Z"
   },
   {
    "duration": 854,
    "start_time": "2023-10-26T16:08:09.124Z"
   },
   {
    "duration": 38,
    "start_time": "2023-10-26T16:08:09.980Z"
   },
   {
    "duration": 48,
    "start_time": "2023-10-26T16:08:10.020Z"
   },
   {
    "duration": 334,
    "start_time": "2023-10-26T16:08:10.080Z"
   },
   {
    "duration": 272,
    "start_time": "2023-10-26T16:08:10.415Z"
   },
   {
    "duration": 300,
    "start_time": "2023-10-26T16:08:10.688Z"
   },
   {
    "duration": 288,
    "start_time": "2023-10-26T16:08:10.990Z"
   },
   {
    "duration": 1138,
    "start_time": "2023-10-26T16:08:11.280Z"
   },
   {
    "duration": 12,
    "start_time": "2023-10-26T16:08:12.420Z"
   },
   {
    "duration": 226,
    "start_time": "2023-10-26T16:08:12.433Z"
   },
   {
    "duration": 27,
    "start_time": "2023-10-26T16:08:12.663Z"
   },
   {
    "duration": 31,
    "start_time": "2023-10-26T16:08:12.692Z"
   },
   {
    "duration": 152,
    "start_time": "2023-10-26T16:08:12.725Z"
   },
   {
    "duration": 0,
    "start_time": "2023-10-26T16:08:12.879Z"
   },
   {
    "duration": 0,
    "start_time": "2023-10-26T16:08:12.880Z"
   },
   {
    "duration": 0,
    "start_time": "2023-10-26T16:08:12.882Z"
   },
   {
    "duration": 0,
    "start_time": "2023-10-26T16:08:12.884Z"
   },
   {
    "duration": 0,
    "start_time": "2023-10-26T16:08:12.885Z"
   },
   {
    "duration": 3567,
    "start_time": "2023-10-26T16:09:10.128Z"
   },
   {
    "duration": 2029,
    "start_time": "2023-10-26T16:09:13.697Z"
   },
   {
    "duration": 79,
    "start_time": "2023-10-26T16:09:15.728Z"
   },
   {
    "duration": 12,
    "start_time": "2023-10-26T16:09:15.809Z"
   },
   {
    "duration": 52,
    "start_time": "2023-10-26T16:09:15.823Z"
   },
   {
    "duration": 6,
    "start_time": "2023-10-26T16:09:15.876Z"
   },
   {
    "duration": 23,
    "start_time": "2023-10-26T16:09:15.884Z"
   },
   {
    "duration": 21,
    "start_time": "2023-10-26T16:09:15.909Z"
   },
   {
    "duration": 48,
    "start_time": "2023-10-26T16:09:15.933Z"
   },
   {
    "duration": 25,
    "start_time": "2023-10-26T16:09:15.984Z"
   },
   {
    "duration": 12,
    "start_time": "2023-10-26T16:09:16.010Z"
   },
   {
    "duration": 51,
    "start_time": "2023-10-26T16:09:16.024Z"
   },
   {
    "duration": 20,
    "start_time": "2023-10-26T16:09:16.078Z"
   },
   {
    "duration": 2165,
    "start_time": "2023-10-26T16:09:16.100Z"
   },
   {
    "duration": 18,
    "start_time": "2023-10-26T16:09:18.269Z"
   },
   {
    "duration": 5,
    "start_time": "2023-10-26T16:09:18.289Z"
   },
   {
    "duration": 13,
    "start_time": "2023-10-26T16:09:18.296Z"
   },
   {
    "duration": 5,
    "start_time": "2023-10-26T16:09:18.310Z"
   },
   {
    "duration": 7,
    "start_time": "2023-10-26T16:09:18.316Z"
   },
   {
    "duration": 33,
    "start_time": "2023-10-26T16:09:18.325Z"
   },
   {
    "duration": 13,
    "start_time": "2023-10-26T16:09:18.360Z"
   },
   {
    "duration": 159,
    "start_time": "2023-10-26T16:09:18.376Z"
   },
   {
    "duration": 117,
    "start_time": "2023-10-26T16:09:18.537Z"
   },
   {
    "duration": 14,
    "start_time": "2023-10-26T16:09:18.669Z"
   },
   {
    "duration": 192,
    "start_time": "2023-10-26T16:09:18.684Z"
   },
   {
    "duration": 13,
    "start_time": "2023-10-26T16:09:18.882Z"
   },
   {
    "duration": 717,
    "start_time": "2023-10-26T16:09:18.896Z"
   },
   {
    "duration": 10,
    "start_time": "2023-10-26T16:09:19.619Z"
   },
   {
    "duration": 745,
    "start_time": "2023-10-26T16:09:19.631Z"
   },
   {
    "duration": 32,
    "start_time": "2023-10-26T16:09:20.378Z"
   },
   {
    "duration": 22,
    "start_time": "2023-10-26T16:09:20.412Z"
   },
   {
    "duration": 354,
    "start_time": "2023-10-26T16:09:20.436Z"
   },
   {
    "duration": 284,
    "start_time": "2023-10-26T16:09:20.793Z"
   },
   {
    "duration": 249,
    "start_time": "2023-10-26T16:09:21.078Z"
   },
   {
    "duration": 270,
    "start_time": "2023-10-26T16:09:21.329Z"
   },
   {
    "duration": 1140,
    "start_time": "2023-10-26T16:09:21.600Z"
   },
   {
    "duration": 17,
    "start_time": "2023-10-26T16:09:22.755Z"
   },
   {
    "duration": 204,
    "start_time": "2023-10-26T16:09:22.775Z"
   },
   {
    "duration": 21,
    "start_time": "2023-10-26T16:09:22.982Z"
   },
   {
    "duration": 21,
    "start_time": "2023-10-26T16:09:23.006Z"
   },
   {
    "duration": 128,
    "start_time": "2023-10-26T16:09:23.057Z"
   },
   {
    "duration": 0,
    "start_time": "2023-10-26T16:09:23.186Z"
   },
   {
    "duration": 0,
    "start_time": "2023-10-26T16:09:23.187Z"
   },
   {
    "duration": 0,
    "start_time": "2023-10-26T16:09:23.188Z"
   },
   {
    "duration": 0,
    "start_time": "2023-10-26T16:09:23.189Z"
   },
   {
    "duration": 0,
    "start_time": "2023-10-26T16:09:23.191Z"
   },
   {
    "duration": 10,
    "start_time": "2023-10-26T16:10:05.096Z"
   },
   {
    "duration": 3808,
    "start_time": "2023-10-26T16:10:15.273Z"
   },
   {
    "duration": 1598,
    "start_time": "2023-10-26T16:10:19.084Z"
   },
   {
    "duration": 73,
    "start_time": "2023-10-26T16:10:20.683Z"
   },
   {
    "duration": 19,
    "start_time": "2023-10-26T16:10:20.757Z"
   },
   {
    "duration": 44,
    "start_time": "2023-10-26T16:10:20.780Z"
   },
   {
    "duration": 28,
    "start_time": "2023-10-26T16:10:20.826Z"
   },
   {
    "duration": 26,
    "start_time": "2023-10-26T16:10:20.857Z"
   },
   {
    "duration": 11,
    "start_time": "2023-10-26T16:10:20.885Z"
   },
   {
    "duration": 26,
    "start_time": "2023-10-26T16:10:20.898Z"
   },
   {
    "duration": 13,
    "start_time": "2023-10-26T16:10:20.925Z"
   },
   {
    "duration": 19,
    "start_time": "2023-10-26T16:10:20.940Z"
   },
   {
    "duration": 32,
    "start_time": "2023-10-26T16:10:20.962Z"
   },
   {
    "duration": 12,
    "start_time": "2023-10-26T16:10:20.996Z"
   },
   {
    "duration": 3349,
    "start_time": "2023-10-26T16:10:21.012Z"
   },
   {
    "duration": 16,
    "start_time": "2023-10-26T16:10:24.367Z"
   },
   {
    "duration": 66,
    "start_time": "2023-10-26T16:10:24.386Z"
   },
   {
    "duration": 12,
    "start_time": "2023-10-26T16:10:24.457Z"
   },
   {
    "duration": 51,
    "start_time": "2023-10-26T16:10:24.471Z"
   },
   {
    "duration": 23,
    "start_time": "2023-10-26T16:10:24.549Z"
   },
   {
    "duration": 15,
    "start_time": "2023-10-26T16:10:24.574Z"
   },
   {
    "duration": 5,
    "start_time": "2023-10-26T16:10:24.590Z"
   },
   {
    "duration": 329,
    "start_time": "2023-10-26T16:10:24.597Z"
   },
   {
    "duration": 108,
    "start_time": "2023-10-26T16:10:24.928Z"
   },
   {
    "duration": 21,
    "start_time": "2023-10-26T16:10:25.038Z"
   },
   {
    "duration": 184,
    "start_time": "2023-10-26T16:10:25.066Z"
   },
   {
    "duration": 23,
    "start_time": "2023-10-26T16:10:25.252Z"
   },
   {
    "duration": 1500,
    "start_time": "2023-10-26T16:10:25.277Z"
   },
   {
    "duration": 10,
    "start_time": "2023-10-26T16:10:26.779Z"
   },
   {
    "duration": 1402,
    "start_time": "2023-10-26T16:10:26.791Z"
   },
   {
    "duration": 112,
    "start_time": "2023-10-26T16:10:28.246Z"
   },
   {
    "duration": 28,
    "start_time": "2023-10-26T16:10:28.360Z"
   },
   {
    "duration": 326,
    "start_time": "2023-10-26T16:10:28.390Z"
   },
   {
    "duration": 318,
    "start_time": "2023-10-26T16:10:28.717Z"
   },
   {
    "duration": 290,
    "start_time": "2023-10-26T16:10:29.037Z"
   },
   {
    "duration": 265,
    "start_time": "2023-10-26T16:10:29.329Z"
   },
   {
    "duration": 1179,
    "start_time": "2023-10-26T16:10:29.596Z"
   },
   {
    "duration": 12,
    "start_time": "2023-10-26T16:10:30.777Z"
   },
   {
    "duration": 222,
    "start_time": "2023-10-26T16:10:30.791Z"
   },
   {
    "duration": 20,
    "start_time": "2023-10-26T16:10:31.015Z"
   },
   {
    "duration": 66,
    "start_time": "2023-10-26T16:10:31.037Z"
   },
   {
    "duration": 179,
    "start_time": "2023-10-26T16:10:31.107Z"
   },
   {
    "duration": 0,
    "start_time": "2023-10-26T16:10:31.287Z"
   },
   {
    "duration": 0,
    "start_time": "2023-10-26T16:10:31.289Z"
   },
   {
    "duration": 0,
    "start_time": "2023-10-26T16:10:31.344Z"
   },
   {
    "duration": 0,
    "start_time": "2023-10-26T16:10:31.345Z"
   },
   {
    "duration": 0,
    "start_time": "2023-10-26T16:10:31.349Z"
   },
   {
    "duration": 686,
    "start_time": "2023-10-26T16:12:09.901Z"
   },
   {
    "duration": 719,
    "start_time": "2023-10-26T16:12:25.168Z"
   },
   {
    "duration": 697,
    "start_time": "2023-10-26T16:12:50.874Z"
   },
   {
    "duration": 3197,
    "start_time": "2023-10-26T16:13:12.309Z"
   },
   {
    "duration": 1401,
    "start_time": "2023-10-26T16:13:15.510Z"
   },
   {
    "duration": 82,
    "start_time": "2023-10-26T16:13:16.912Z"
   },
   {
    "duration": 13,
    "start_time": "2023-10-26T16:13:16.996Z"
   },
   {
    "duration": 25,
    "start_time": "2023-10-26T16:13:17.011Z"
   },
   {
    "duration": 37,
    "start_time": "2023-10-26T16:13:17.038Z"
   },
   {
    "duration": 6,
    "start_time": "2023-10-26T16:13:17.077Z"
   },
   {
    "duration": 13,
    "start_time": "2023-10-26T16:13:17.084Z"
   },
   {
    "duration": 14,
    "start_time": "2023-10-26T16:13:17.098Z"
   },
   {
    "duration": 10,
    "start_time": "2023-10-26T16:13:17.114Z"
   },
   {
    "duration": 7,
    "start_time": "2023-10-26T16:13:17.126Z"
   },
   {
    "duration": 15,
    "start_time": "2023-10-26T16:13:17.135Z"
   },
   {
    "duration": 13,
    "start_time": "2023-10-26T16:13:17.161Z"
   },
   {
    "duration": 2076,
    "start_time": "2023-10-26T16:13:17.176Z"
   },
   {
    "duration": 23,
    "start_time": "2023-10-26T16:13:19.255Z"
   },
   {
    "duration": 27,
    "start_time": "2023-10-26T16:13:19.280Z"
   },
   {
    "duration": 17,
    "start_time": "2023-10-26T16:13:19.309Z"
   },
   {
    "duration": 5,
    "start_time": "2023-10-26T16:13:19.328Z"
   },
   {
    "duration": 71,
    "start_time": "2023-10-26T16:13:19.335Z"
   },
   {
    "duration": 18,
    "start_time": "2023-10-26T16:13:19.408Z"
   },
   {
    "duration": 27,
    "start_time": "2023-10-26T16:13:19.428Z"
   },
   {
    "duration": 165,
    "start_time": "2023-10-26T16:13:19.457Z"
   },
   {
    "duration": 108,
    "start_time": "2023-10-26T16:13:19.624Z"
   },
   {
    "duration": 33,
    "start_time": "2023-10-26T16:13:19.733Z"
   },
   {
    "duration": 204,
    "start_time": "2023-10-26T16:13:19.772Z"
   },
   {
    "duration": 10,
    "start_time": "2023-10-26T16:13:19.979Z"
   },
   {
    "duration": 684,
    "start_time": "2023-10-26T16:13:19.991Z"
   },
   {
    "duration": 9,
    "start_time": "2023-10-26T16:13:20.680Z"
   },
   {
    "duration": 707,
    "start_time": "2023-10-26T16:13:20.691Z"
   },
   {
    "duration": 31,
    "start_time": "2023-10-26T16:13:21.400Z"
   },
   {
    "duration": 50,
    "start_time": "2023-10-26T16:13:21.433Z"
   },
   {
    "duration": 329,
    "start_time": "2023-10-26T16:13:21.484Z"
   },
   {
    "duration": 256,
    "start_time": "2023-10-26T16:13:21.814Z"
   },
   {
    "duration": 237,
    "start_time": "2023-10-26T16:13:22.077Z"
   },
   {
    "duration": 266,
    "start_time": "2023-10-26T16:13:22.315Z"
   },
   {
    "duration": 1037,
    "start_time": "2023-10-26T16:13:22.583Z"
   },
   {
    "duration": 46,
    "start_time": "2023-10-26T16:13:23.622Z"
   },
   {
    "duration": 206,
    "start_time": "2023-10-26T16:13:23.670Z"
   },
   {
    "duration": 23,
    "start_time": "2023-10-26T16:13:23.878Z"
   },
   {
    "duration": 24,
    "start_time": "2023-10-26T16:13:23.903Z"
   },
   {
    "duration": 155,
    "start_time": "2023-10-26T16:13:23.929Z"
   },
   {
    "duration": 0,
    "start_time": "2023-10-26T16:13:24.086Z"
   },
   {
    "duration": 0,
    "start_time": "2023-10-26T16:13:24.088Z"
   },
   {
    "duration": 0,
    "start_time": "2023-10-26T16:13:24.090Z"
   },
   {
    "duration": 0,
    "start_time": "2023-10-26T16:13:24.091Z"
   },
   {
    "duration": 1,
    "start_time": "2023-10-26T16:13:24.092Z"
   },
   {
    "duration": 3,
    "start_time": "2023-10-26T16:15:00.184Z"
   },
   {
    "duration": 2823,
    "start_time": "2023-10-26T16:15:10.386Z"
   },
   {
    "duration": 1410,
    "start_time": "2023-10-26T16:15:13.211Z"
   },
   {
    "duration": 82,
    "start_time": "2023-10-26T16:15:14.623Z"
   },
   {
    "duration": 12,
    "start_time": "2023-10-26T16:15:14.707Z"
   },
   {
    "duration": 15,
    "start_time": "2023-10-26T16:15:14.721Z"
   },
   {
    "duration": 22,
    "start_time": "2023-10-26T16:15:14.738Z"
   },
   {
    "duration": 5,
    "start_time": "2023-10-26T16:15:14.762Z"
   },
   {
    "duration": 8,
    "start_time": "2023-10-26T16:15:14.768Z"
   },
   {
    "duration": 14,
    "start_time": "2023-10-26T16:15:14.778Z"
   },
   {
    "duration": 9,
    "start_time": "2023-10-26T16:15:14.794Z"
   },
   {
    "duration": 15,
    "start_time": "2023-10-26T16:15:14.805Z"
   },
   {
    "duration": 24,
    "start_time": "2023-10-26T16:15:14.822Z"
   },
   {
    "duration": 21,
    "start_time": "2023-10-26T16:15:14.847Z"
   },
   {
    "duration": 2196,
    "start_time": "2023-10-26T16:15:14.873Z"
   },
   {
    "duration": 10,
    "start_time": "2023-10-26T16:15:17.071Z"
   },
   {
    "duration": 6,
    "start_time": "2023-10-26T16:15:17.083Z"
   },
   {
    "duration": 7,
    "start_time": "2023-10-26T16:15:17.091Z"
   },
   {
    "duration": 5,
    "start_time": "2023-10-26T16:15:17.100Z"
   },
   {
    "duration": 9,
    "start_time": "2023-10-26T16:15:17.106Z"
   },
   {
    "duration": 13,
    "start_time": "2023-10-26T16:15:17.145Z"
   },
   {
    "duration": 12,
    "start_time": "2023-10-26T16:15:17.159Z"
   },
   {
    "duration": 168,
    "start_time": "2023-10-26T16:15:17.173Z"
   },
   {
    "duration": 115,
    "start_time": "2023-10-26T16:15:17.343Z"
   },
   {
    "duration": 8,
    "start_time": "2023-10-26T16:15:17.460Z"
   },
   {
    "duration": 165,
    "start_time": "2023-10-26T16:15:17.469Z"
   },
   {
    "duration": 20,
    "start_time": "2023-10-26T16:15:17.636Z"
   },
   {
    "duration": 660,
    "start_time": "2023-10-26T16:15:17.659Z"
   },
   {
    "duration": 8,
    "start_time": "2023-10-26T16:15:18.320Z"
   },
   {
    "duration": 732,
    "start_time": "2023-10-26T16:15:18.330Z"
   },
   {
    "duration": 42,
    "start_time": "2023-10-26T16:15:19.065Z"
   },
   {
    "duration": 60,
    "start_time": "2023-10-26T16:15:19.109Z"
   },
   {
    "duration": 335,
    "start_time": "2023-10-26T16:15:19.171Z"
   },
   {
    "duration": 253,
    "start_time": "2023-10-26T16:15:19.508Z"
   },
   {
    "duration": 252,
    "start_time": "2023-10-26T16:15:19.763Z"
   },
   {
    "duration": 260,
    "start_time": "2023-10-26T16:15:20.017Z"
   },
   {
    "duration": 1005,
    "start_time": "2023-10-26T16:15:20.279Z"
   },
   {
    "duration": 14,
    "start_time": "2023-10-26T16:15:21.285Z"
   },
   {
    "duration": 180,
    "start_time": "2023-10-26T16:15:21.301Z"
   },
   {
    "duration": 22,
    "start_time": "2023-10-26T16:15:21.484Z"
   },
   {
    "duration": 42,
    "start_time": "2023-10-26T16:15:21.507Z"
   },
   {
    "duration": 12,
    "start_time": "2023-10-26T16:15:21.553Z"
   },
   {
    "duration": 11,
    "start_time": "2023-10-26T16:15:21.567Z"
   },
   {
    "duration": 22,
    "start_time": "2023-10-26T16:15:21.580Z"
   },
   {
    "duration": 5,
    "start_time": "2023-10-26T16:15:21.604Z"
   },
   {
    "duration": 11,
    "start_time": "2023-10-26T16:15:21.611Z"
   },
   {
    "duration": 37,
    "start_time": "2023-10-26T16:15:21.624Z"
   },
   {
    "duration": 4,
    "start_time": "2023-10-26T19:13:01.738Z"
   },
   {
    "duration": 46,
    "start_time": "2023-10-26T20:41:50.291Z"
   },
   {
    "duration": 3,
    "start_time": "2023-10-26T20:41:56.124Z"
   },
   {
    "duration": 1313,
    "start_time": "2023-10-26T20:41:56.131Z"
   },
   {
    "duration": 0,
    "start_time": "2023-10-26T20:41:57.447Z"
   },
   {
    "duration": 0,
    "start_time": "2023-10-26T20:41:57.448Z"
   },
   {
    "duration": 0,
    "start_time": "2023-10-26T20:41:57.449Z"
   },
   {
    "duration": 0,
    "start_time": "2023-10-26T20:41:57.450Z"
   },
   {
    "duration": 0,
    "start_time": "2023-10-26T20:41:57.451Z"
   },
   {
    "duration": 0,
    "start_time": "2023-10-26T20:41:57.452Z"
   },
   {
    "duration": 0,
    "start_time": "2023-10-26T20:41:57.453Z"
   },
   {
    "duration": 0,
    "start_time": "2023-10-26T20:41:57.454Z"
   },
   {
    "duration": 0,
    "start_time": "2023-10-26T20:41:57.455Z"
   },
   {
    "duration": 0,
    "start_time": "2023-10-26T20:41:57.456Z"
   },
   {
    "duration": 0,
    "start_time": "2023-10-26T20:41:57.457Z"
   },
   {
    "duration": 0,
    "start_time": "2023-10-26T20:41:57.458Z"
   },
   {
    "duration": 0,
    "start_time": "2023-10-26T20:41:57.459Z"
   },
   {
    "duration": 0,
    "start_time": "2023-10-26T20:41:57.460Z"
   },
   {
    "duration": 0,
    "start_time": "2023-10-26T20:41:57.461Z"
   },
   {
    "duration": 0,
    "start_time": "2023-10-26T20:41:57.462Z"
   },
   {
    "duration": 0,
    "start_time": "2023-10-26T20:41:57.463Z"
   },
   {
    "duration": 0,
    "start_time": "2023-10-26T20:41:57.464Z"
   },
   {
    "duration": 0,
    "start_time": "2023-10-26T20:41:57.465Z"
   },
   {
    "duration": 0,
    "start_time": "2023-10-26T20:41:57.466Z"
   },
   {
    "duration": 0,
    "start_time": "2023-10-26T20:41:57.467Z"
   },
   {
    "duration": 0,
    "start_time": "2023-10-26T20:41:57.468Z"
   },
   {
    "duration": 0,
    "start_time": "2023-10-26T20:41:57.469Z"
   },
   {
    "duration": 0,
    "start_time": "2023-10-26T20:41:57.470Z"
   },
   {
    "duration": 0,
    "start_time": "2023-10-26T20:41:57.471Z"
   },
   {
    "duration": 0,
    "start_time": "2023-10-26T20:41:57.472Z"
   },
   {
    "duration": 0,
    "start_time": "2023-10-26T20:41:57.473Z"
   },
   {
    "duration": 0,
    "start_time": "2023-10-26T20:41:57.474Z"
   },
   {
    "duration": 0,
    "start_time": "2023-10-26T20:41:57.475Z"
   },
   {
    "duration": 0,
    "start_time": "2023-10-26T20:41:57.476Z"
   },
   {
    "duration": 0,
    "start_time": "2023-10-26T20:41:57.477Z"
   },
   {
    "duration": 0,
    "start_time": "2023-10-26T20:41:57.478Z"
   },
   {
    "duration": 0,
    "start_time": "2023-10-26T20:41:57.479Z"
   },
   {
    "duration": 0,
    "start_time": "2023-10-26T20:41:57.480Z"
   },
   {
    "duration": 0,
    "start_time": "2023-10-26T20:41:57.481Z"
   },
   {
    "duration": 0,
    "start_time": "2023-10-26T20:41:57.482Z"
   },
   {
    "duration": 0,
    "start_time": "2023-10-26T20:41:57.483Z"
   },
   {
    "duration": 0,
    "start_time": "2023-10-26T20:41:57.484Z"
   },
   {
    "duration": 0,
    "start_time": "2023-10-26T20:41:57.484Z"
   },
   {
    "duration": 0,
    "start_time": "2023-10-26T20:41:57.485Z"
   },
   {
    "duration": 0,
    "start_time": "2023-10-26T20:41:57.543Z"
   },
   {
    "duration": 0,
    "start_time": "2023-10-26T20:41:57.545Z"
   },
   {
    "duration": 0,
    "start_time": "2023-10-26T20:41:57.546Z"
   },
   {
    "duration": 0,
    "start_time": "2023-10-26T20:41:57.547Z"
   },
   {
    "duration": 0,
    "start_time": "2023-10-26T20:41:57.548Z"
   },
   {
    "duration": 2954,
    "start_time": "2023-10-26T20:42:43.959Z"
   },
   {
    "duration": 1143,
    "start_time": "2023-10-26T20:42:46.916Z"
   },
   {
    "duration": 69,
    "start_time": "2023-10-26T20:42:48.060Z"
   },
   {
    "duration": 11,
    "start_time": "2023-10-26T20:42:48.131Z"
   },
   {
    "duration": 33,
    "start_time": "2023-10-26T20:42:48.145Z"
   },
   {
    "duration": 24,
    "start_time": "2023-10-26T20:42:48.180Z"
   },
   {
    "duration": 34,
    "start_time": "2023-10-26T20:42:48.206Z"
   },
   {
    "duration": 36,
    "start_time": "2023-10-26T20:42:48.242Z"
   },
   {
    "duration": 26,
    "start_time": "2023-10-26T20:42:48.279Z"
   },
   {
    "duration": 28,
    "start_time": "2023-10-26T20:42:48.307Z"
   },
   {
    "duration": 31,
    "start_time": "2023-10-26T20:42:48.337Z"
   },
   {
    "duration": 26,
    "start_time": "2023-10-26T20:42:48.370Z"
   },
   {
    "duration": 31,
    "start_time": "2023-10-26T20:42:48.398Z"
   },
   {
    "duration": 1798,
    "start_time": "2023-10-26T20:42:48.431Z"
   },
   {
    "duration": 20,
    "start_time": "2023-10-26T20:42:50.230Z"
   },
   {
    "duration": 34,
    "start_time": "2023-10-26T20:42:50.251Z"
   },
   {
    "duration": 20,
    "start_time": "2023-10-26T20:42:50.287Z"
   },
   {
    "duration": 17,
    "start_time": "2023-10-26T20:42:50.309Z"
   },
   {
    "duration": 31,
    "start_time": "2023-10-26T20:42:50.327Z"
   },
   {
    "duration": 36,
    "start_time": "2023-10-26T20:42:50.359Z"
   },
   {
    "duration": 29,
    "start_time": "2023-10-26T20:42:50.396Z"
   },
   {
    "duration": 157,
    "start_time": "2023-10-26T20:42:50.426Z"
   },
   {
    "duration": 97,
    "start_time": "2023-10-26T20:42:50.585Z"
   },
   {
    "duration": 8,
    "start_time": "2023-10-26T20:42:50.684Z"
   },
   {
    "duration": 181,
    "start_time": "2023-10-26T20:42:50.694Z"
   },
   {
    "duration": 9,
    "start_time": "2023-10-26T20:42:50.877Z"
   },
   {
    "duration": 625,
    "start_time": "2023-10-26T20:42:50.887Z"
   },
   {
    "duration": 8,
    "start_time": "2023-10-26T20:42:51.516Z"
   },
   {
    "duration": 603,
    "start_time": "2023-10-26T20:42:51.525Z"
   },
   {
    "duration": 33,
    "start_time": "2023-10-26T20:42:52.130Z"
   },
   {
    "duration": 20,
    "start_time": "2023-10-26T20:42:52.165Z"
   },
   {
    "duration": 284,
    "start_time": "2023-10-26T20:42:52.187Z"
   },
   {
    "duration": 203,
    "start_time": "2023-10-26T20:42:52.472Z"
   },
   {
    "duration": 204,
    "start_time": "2023-10-26T20:42:52.676Z"
   },
   {
    "duration": 218,
    "start_time": "2023-10-26T20:42:52.882Z"
   },
   {
    "duration": 880,
    "start_time": "2023-10-26T20:42:53.102Z"
   },
   {
    "duration": 10,
    "start_time": "2023-10-26T20:42:53.984Z"
   },
   {
    "duration": 156,
    "start_time": "2023-10-26T20:42:53.996Z"
   },
   {
    "duration": 19,
    "start_time": "2023-10-26T20:42:54.153Z"
   },
   {
    "duration": 19,
    "start_time": "2023-10-26T20:42:54.173Z"
   },
   {
    "duration": 4,
    "start_time": "2023-10-26T20:42:54.193Z"
   },
   {
    "duration": 14,
    "start_time": "2023-10-26T20:42:54.198Z"
   },
   {
    "duration": 11,
    "start_time": "2023-10-26T20:42:54.214Z"
   },
   {
    "duration": 22,
    "start_time": "2023-10-26T20:42:54.227Z"
   },
   {
    "duration": 5,
    "start_time": "2023-10-26T20:42:54.250Z"
   },
   {
    "duration": 16,
    "start_time": "2023-10-26T20:42:54.256Z"
   },
   {
    "duration": 15,
    "start_time": "2023-10-26T20:42:54.273Z"
   },
   {
    "duration": 18,
    "start_time": "2023-10-26T20:52:11.558Z"
   },
   {
    "duration": 2163,
    "start_time": "2023-10-26T20:59:33.720Z"
   },
   {
    "duration": 1125,
    "start_time": "2023-10-26T20:59:35.885Z"
   },
   {
    "duration": 67,
    "start_time": "2023-10-26T20:59:37.011Z"
   },
   {
    "duration": 10,
    "start_time": "2023-10-26T20:59:37.080Z"
   },
   {
    "duration": 24,
    "start_time": "2023-10-26T20:59:37.092Z"
   },
   {
    "duration": 29,
    "start_time": "2023-10-26T20:59:37.118Z"
   },
   {
    "duration": 12,
    "start_time": "2023-10-26T20:59:37.149Z"
   },
   {
    "duration": 11,
    "start_time": "2023-10-26T20:59:37.163Z"
   },
   {
    "duration": 31,
    "start_time": "2023-10-26T20:59:37.176Z"
   },
   {
    "duration": 19,
    "start_time": "2023-10-26T20:59:37.210Z"
   },
   {
    "duration": 57,
    "start_time": "2023-10-26T20:59:37.231Z"
   },
   {
    "duration": 58,
    "start_time": "2023-10-26T20:59:37.290Z"
   },
   {
    "duration": 32,
    "start_time": "2023-10-26T20:59:37.350Z"
   },
   {
    "duration": 1851,
    "start_time": "2023-10-26T20:59:37.384Z"
   },
   {
    "duration": 10,
    "start_time": "2023-10-26T20:59:39.243Z"
   },
   {
    "duration": 13,
    "start_time": "2023-10-26T20:59:39.255Z"
   },
   {
    "duration": 9,
    "start_time": "2023-10-26T20:59:39.270Z"
   },
   {
    "duration": 14,
    "start_time": "2023-10-26T20:59:39.281Z"
   },
   {
    "duration": 14,
    "start_time": "2023-10-26T20:59:39.296Z"
   },
   {
    "duration": 18,
    "start_time": "2023-10-26T20:59:39.311Z"
   },
   {
    "duration": 23,
    "start_time": "2023-10-26T20:59:39.331Z"
   },
   {
    "duration": 142,
    "start_time": "2023-10-26T20:59:39.356Z"
   },
   {
    "duration": 90,
    "start_time": "2023-10-26T20:59:39.500Z"
   },
   {
    "duration": 8,
    "start_time": "2023-10-26T20:59:39.591Z"
   },
   {
    "duration": 153,
    "start_time": "2023-10-26T20:59:39.600Z"
   },
   {
    "duration": 10,
    "start_time": "2023-10-26T20:59:39.755Z"
   },
   {
    "duration": 557,
    "start_time": "2023-10-26T20:59:39.766Z"
   },
   {
    "duration": 9,
    "start_time": "2023-10-26T20:59:40.326Z"
   },
   {
    "duration": 591,
    "start_time": "2023-10-26T20:59:40.336Z"
   },
   {
    "duration": 36,
    "start_time": "2023-10-26T20:59:40.929Z"
   },
   {
    "duration": 73,
    "start_time": "2023-10-26T20:59:40.966Z"
   },
   {
    "duration": 307,
    "start_time": "2023-10-26T20:59:41.041Z"
   },
   {
    "duration": 202,
    "start_time": "2023-10-26T20:59:41.350Z"
   },
   {
    "duration": 206,
    "start_time": "2023-10-26T20:59:41.554Z"
   },
   {
    "duration": 212,
    "start_time": "2023-10-26T20:59:41.763Z"
   },
   {
    "duration": 855,
    "start_time": "2023-10-26T20:59:41.977Z"
   },
   {
    "duration": 13,
    "start_time": "2023-10-26T20:59:42.833Z"
   },
   {
    "duration": 160,
    "start_time": "2023-10-26T20:59:42.848Z"
   },
   {
    "duration": 18,
    "start_time": "2023-10-26T20:59:43.009Z"
   },
   {
    "duration": 39,
    "start_time": "2023-10-26T20:59:43.029Z"
   },
   {
    "duration": 4,
    "start_time": "2023-10-26T20:59:43.070Z"
   },
   {
    "duration": 9,
    "start_time": "2023-10-26T20:59:43.077Z"
   },
   {
    "duration": 35,
    "start_time": "2023-10-26T20:59:43.087Z"
   },
   {
    "duration": 18,
    "start_time": "2023-10-26T20:59:43.124Z"
   },
   {
    "duration": 12,
    "start_time": "2023-10-26T20:59:43.144Z"
   },
   {
    "duration": 12,
    "start_time": "2023-10-26T20:59:43.159Z"
   },
   {
    "duration": 11,
    "start_time": "2023-10-26T20:59:43.173Z"
   },
   {
    "duration": 50,
    "start_time": "2023-10-27T09:50:30.584Z"
   },
   {
    "duration": 13,
    "start_time": "2023-10-27T09:50:41.892Z"
   },
   {
    "duration": 6061,
    "start_time": "2023-10-27T09:50:49.408Z"
   },
   {
    "duration": 1603,
    "start_time": "2023-10-27T09:50:55.471Z"
   },
   {
    "duration": 308,
    "start_time": "2023-10-27T09:50:57.076Z"
   },
   {
    "duration": 14,
    "start_time": "2023-10-27T09:50:57.386Z"
   },
   {
    "duration": 25,
    "start_time": "2023-10-27T09:50:57.401Z"
   },
   {
    "duration": 7,
    "start_time": "2023-10-27T09:50:57.428Z"
   },
   {
    "duration": 26,
    "start_time": "2023-10-27T09:50:57.437Z"
   },
   {
    "duration": 14,
    "start_time": "2023-10-27T09:50:57.465Z"
   },
   {
    "duration": 27,
    "start_time": "2023-10-27T09:50:57.480Z"
   },
   {
    "duration": 11,
    "start_time": "2023-10-27T09:50:57.509Z"
   },
   {
    "duration": 19,
    "start_time": "2023-10-27T09:50:57.521Z"
   },
   {
    "duration": 17,
    "start_time": "2023-10-27T09:50:57.542Z"
   },
   {
    "duration": 31,
    "start_time": "2023-10-27T09:50:57.561Z"
   },
   {
    "duration": 2034,
    "start_time": "2023-10-27T09:50:57.594Z"
   },
   {
    "duration": 18,
    "start_time": "2023-10-27T09:50:59.630Z"
   },
   {
    "duration": 8,
    "start_time": "2023-10-27T09:50:59.650Z"
   },
   {
    "duration": 9,
    "start_time": "2023-10-27T09:50:59.659Z"
   },
   {
    "duration": 5,
    "start_time": "2023-10-27T09:50:59.670Z"
   },
   {
    "duration": 15,
    "start_time": "2023-10-27T09:50:59.677Z"
   },
   {
    "duration": 34,
    "start_time": "2023-10-27T09:50:59.694Z"
   },
   {
    "duration": 24,
    "start_time": "2023-10-27T09:50:59.729Z"
   },
   {
    "duration": 172,
    "start_time": "2023-10-27T09:50:59.755Z"
   },
   {
    "duration": 96,
    "start_time": "2023-10-27T09:50:59.929Z"
   },
   {
    "duration": 21,
    "start_time": "2023-10-27T09:51:00.026Z"
   },
   {
    "duration": 197,
    "start_time": "2023-10-27T09:51:00.049Z"
   },
   {
    "duration": 11,
    "start_time": "2023-10-27T09:51:00.248Z"
   },
   {
    "duration": 701,
    "start_time": "2023-10-27T09:51:00.261Z"
   },
   {
    "duration": 8,
    "start_time": "2023-10-27T09:51:00.965Z"
   },
   {
    "duration": 732,
    "start_time": "2023-10-27T09:51:00.975Z"
   },
   {
    "duration": 43,
    "start_time": "2023-10-27T09:51:01.708Z"
   },
   {
    "duration": 24,
    "start_time": "2023-10-27T09:51:01.753Z"
   },
   {
    "duration": 599,
    "start_time": "2023-10-27T09:51:01.779Z"
   },
   {
    "duration": 225,
    "start_time": "2023-10-27T09:51:02.380Z"
   },
   {
    "duration": 204,
    "start_time": "2023-10-27T09:51:02.606Z"
   },
   {
    "duration": 220,
    "start_time": "2023-10-27T09:51:02.812Z"
   },
   {
    "duration": 890,
    "start_time": "2023-10-27T09:51:03.034Z"
   },
   {
    "duration": 27,
    "start_time": "2023-10-27T09:51:03.926Z"
   },
   {
    "duration": 181,
    "start_time": "2023-10-27T09:51:03.955Z"
   },
   {
    "duration": 21,
    "start_time": "2023-10-27T09:51:04.137Z"
   },
   {
    "duration": 46,
    "start_time": "2023-10-27T09:51:04.159Z"
   },
   {
    "duration": 4,
    "start_time": "2023-10-27T09:51:04.207Z"
   },
   {
    "duration": 55,
    "start_time": "2023-10-27T09:51:04.212Z"
   },
   {
    "duration": 27,
    "start_time": "2023-10-27T09:51:04.269Z"
   },
   {
    "duration": 42,
    "start_time": "2023-10-27T09:51:04.298Z"
   },
   {
    "duration": 46,
    "start_time": "2023-10-27T09:51:04.341Z"
   },
   {
    "duration": 54,
    "start_time": "2023-10-27T09:51:04.389Z"
   },
   {
    "duration": 23,
    "start_time": "2023-10-27T09:51:04.444Z"
   },
   {
    "duration": 561,
    "start_time": "2023-10-27T09:53:10.595Z"
   },
   {
    "duration": 233,
    "start_time": "2023-10-27T09:57:15.936Z"
   },
   {
    "duration": 48,
    "start_time": "2023-10-30T07:03:06.213Z"
   },
   {
    "duration": 3027,
    "start_time": "2023-10-30T07:03:22.583Z"
   },
   {
    "duration": 1325,
    "start_time": "2023-10-30T07:03:25.612Z"
   },
   {
    "duration": 313,
    "start_time": "2023-10-30T07:03:26.939Z"
   },
   {
    "duration": 10,
    "start_time": "2023-10-30T07:03:27.253Z"
   },
   {
    "duration": 16,
    "start_time": "2023-10-30T07:03:27.265Z"
   },
   {
    "duration": 4,
    "start_time": "2023-10-30T07:03:27.283Z"
   },
   {
    "duration": 11,
    "start_time": "2023-10-30T07:03:27.289Z"
   },
   {
    "duration": 6,
    "start_time": "2023-10-30T07:03:27.302Z"
   },
   {
    "duration": 17,
    "start_time": "2023-10-30T07:03:27.309Z"
   },
   {
    "duration": 18,
    "start_time": "2023-10-30T07:03:27.327Z"
   },
   {
    "duration": 11,
    "start_time": "2023-10-30T07:03:27.346Z"
   },
   {
    "duration": 9,
    "start_time": "2023-10-30T07:03:27.358Z"
   },
   {
    "duration": 6,
    "start_time": "2023-10-30T07:03:27.369Z"
   },
   {
    "duration": 1843,
    "start_time": "2023-10-30T07:03:27.377Z"
   },
   {
    "duration": 24,
    "start_time": "2023-10-30T07:03:29.221Z"
   },
   {
    "duration": 5,
    "start_time": "2023-10-30T07:03:29.246Z"
   },
   {
    "duration": 9,
    "start_time": "2023-10-30T07:03:29.252Z"
   },
   {
    "duration": 20,
    "start_time": "2023-10-30T07:03:29.262Z"
   },
   {
    "duration": 10,
    "start_time": "2023-10-30T07:03:29.283Z"
   },
   {
    "duration": 18,
    "start_time": "2023-10-30T07:03:29.294Z"
   },
   {
    "duration": 8,
    "start_time": "2023-10-30T07:03:29.314Z"
   },
   {
    "duration": 146,
    "start_time": "2023-10-30T07:03:29.325Z"
   },
   {
    "duration": 83,
    "start_time": "2023-10-30T07:03:29.473Z"
   },
   {
    "duration": 7,
    "start_time": "2023-10-30T07:03:29.558Z"
   },
   {
    "duration": 144,
    "start_time": "2023-10-30T07:03:29.566Z"
   },
   {
    "duration": 8,
    "start_time": "2023-10-30T07:03:29.711Z"
   },
   {
    "duration": 588,
    "start_time": "2023-10-30T07:03:29.721Z"
   },
   {
    "duration": 8,
    "start_time": "2023-10-30T07:03:30.310Z"
   },
   {
    "duration": 624,
    "start_time": "2023-10-30T07:03:30.320Z"
   },
   {
    "duration": 28,
    "start_time": "2023-10-30T07:03:30.946Z"
   },
   {
    "duration": 124,
    "start_time": "2023-10-30T07:03:30.976Z"
   },
   {
    "duration": 213,
    "start_time": "2023-10-30T07:03:31.102Z"
   },
   {
    "duration": 192,
    "start_time": "2023-10-30T07:03:31.317Z"
   },
   {
    "duration": 194,
    "start_time": "2023-10-30T07:03:31.510Z"
   },
   {
    "duration": 202,
    "start_time": "2023-10-30T07:03:31.705Z"
   },
   {
    "duration": 793,
    "start_time": "2023-10-30T07:03:31.909Z"
   },
   {
    "duration": 10,
    "start_time": "2023-10-30T07:03:32.703Z"
   },
   {
    "duration": 149,
    "start_time": "2023-10-30T07:03:32.715Z"
   },
   {
    "duration": 18,
    "start_time": "2023-10-30T07:03:32.866Z"
   },
   {
    "duration": 20,
    "start_time": "2023-10-30T07:03:32.886Z"
   },
   {
    "duration": 4,
    "start_time": "2023-10-30T07:03:32.910Z"
   },
   {
    "duration": 33,
    "start_time": "2023-10-30T07:03:32.916Z"
   },
   {
    "duration": 5,
    "start_time": "2023-10-30T07:03:32.951Z"
   },
   {
    "duration": 6,
    "start_time": "2023-10-30T07:03:32.958Z"
   },
   {
    "duration": 6,
    "start_time": "2023-10-30T07:03:32.965Z"
   },
   {
    "duration": 9,
    "start_time": "2023-10-30T07:03:32.972Z"
   },
   {
    "duration": 7,
    "start_time": "2023-10-30T07:03:32.982Z"
   },
   {
    "duration": 11,
    "start_time": "2023-10-30T07:04:14.289Z"
   },
   {
    "duration": 5,
    "start_time": "2023-10-30T07:20:12.903Z"
   },
   {
    "duration": 7,
    "start_time": "2023-10-30T07:20:38.707Z"
   },
   {
    "duration": 5,
    "start_time": "2023-10-30T07:20:41.585Z"
   },
   {
    "duration": 2263,
    "start_time": "2023-10-30T07:21:03.159Z"
   },
   {
    "duration": 1128,
    "start_time": "2023-10-30T07:21:05.424Z"
   },
   {
    "duration": 72,
    "start_time": "2023-10-30T07:21:06.554Z"
   },
   {
    "duration": 10,
    "start_time": "2023-10-30T07:21:06.628Z"
   },
   {
    "duration": 39,
    "start_time": "2023-10-30T07:21:06.640Z"
   },
   {
    "duration": 24,
    "start_time": "2023-10-30T07:21:06.681Z"
   },
   {
    "duration": 18,
    "start_time": "2023-10-30T07:21:06.706Z"
   },
   {
    "duration": 30,
    "start_time": "2023-10-30T07:21:06.726Z"
   },
   {
    "duration": 31,
    "start_time": "2023-10-30T07:21:06.758Z"
   },
   {
    "duration": 10,
    "start_time": "2023-10-30T07:21:06.790Z"
   },
   {
    "duration": 10,
    "start_time": "2023-10-30T07:21:06.801Z"
   },
   {
    "duration": 15,
    "start_time": "2023-10-30T07:21:06.813Z"
   },
   {
    "duration": 23,
    "start_time": "2023-10-30T07:21:06.830Z"
   },
   {
    "duration": 23,
    "start_time": "2023-10-30T07:21:06.856Z"
   },
   {
    "duration": 1857,
    "start_time": "2023-10-30T07:21:06.881Z"
   },
   {
    "duration": 7,
    "start_time": "2023-10-30T07:21:08.744Z"
   },
   {
    "duration": 9,
    "start_time": "2023-10-30T07:21:08.753Z"
   },
   {
    "duration": 16,
    "start_time": "2023-10-30T07:21:08.764Z"
   },
   {
    "duration": 31,
    "start_time": "2023-10-30T07:21:08.782Z"
   },
   {
    "duration": 17,
    "start_time": "2023-10-30T07:21:08.815Z"
   },
   {
    "duration": 6,
    "start_time": "2023-10-30T07:21:08.834Z"
   },
   {
    "duration": 142,
    "start_time": "2023-10-30T07:21:08.841Z"
   },
   {
    "duration": 98,
    "start_time": "2023-10-30T07:21:08.985Z"
   },
   {
    "duration": 8,
    "start_time": "2023-10-30T07:21:09.086Z"
   },
   {
    "duration": 245,
    "start_time": "2023-10-30T07:21:09.096Z"
   },
   {
    "duration": 9,
    "start_time": "2023-10-30T07:21:09.344Z"
   },
   {
    "duration": 568,
    "start_time": "2023-10-30T07:21:09.354Z"
   },
   {
    "duration": 8,
    "start_time": "2023-10-30T07:21:09.925Z"
   },
   {
    "duration": 576,
    "start_time": "2023-10-30T07:21:09.945Z"
   },
   {
    "duration": 38,
    "start_time": "2023-10-30T07:21:10.522Z"
   },
   {
    "duration": 21,
    "start_time": "2023-10-30T07:21:10.562Z"
   },
   {
    "duration": 280,
    "start_time": "2023-10-30T07:21:10.584Z"
   },
   {
    "duration": 221,
    "start_time": "2023-10-30T07:21:10.866Z"
   },
   {
    "duration": 202,
    "start_time": "2023-10-30T07:21:11.089Z"
   },
   {
    "duration": 221,
    "start_time": "2023-10-30T07:21:11.293Z"
   },
   {
    "duration": 898,
    "start_time": "2023-10-30T07:21:11.515Z"
   },
   {
    "duration": 13,
    "start_time": "2023-10-30T07:21:12.414Z"
   },
   {
    "duration": 159,
    "start_time": "2023-10-30T07:21:12.429Z"
   },
   {
    "duration": 20,
    "start_time": "2023-10-30T07:21:12.591Z"
   },
   {
    "duration": 42,
    "start_time": "2023-10-30T07:21:12.613Z"
   },
   {
    "duration": 4,
    "start_time": "2023-10-30T07:21:12.659Z"
   },
   {
    "duration": 9,
    "start_time": "2023-10-30T07:21:12.664Z"
   },
   {
    "duration": 7,
    "start_time": "2023-10-30T07:21:12.675Z"
   },
   {
    "duration": 6,
    "start_time": "2023-10-30T07:21:12.683Z"
   },
   {
    "duration": 26,
    "start_time": "2023-10-30T07:21:12.690Z"
   },
   {
    "duration": 23,
    "start_time": "2023-10-30T07:21:12.718Z"
   },
   {
    "duration": 9,
    "start_time": "2023-10-30T07:21:12.742Z"
   },
   {
    "duration": 6,
    "start_time": "2023-10-30T07:22:52.882Z"
   },
   {
    "duration": 207,
    "start_time": "2023-10-30T07:26:46.941Z"
   },
   {
    "duration": 147,
    "start_time": "2023-10-30T07:27:15.590Z"
   },
   {
    "duration": 135,
    "start_time": "2023-10-30T07:30:36.781Z"
   },
   {
    "duration": 67,
    "start_time": "2023-10-30T07:33:49.468Z"
   },
   {
    "duration": 81,
    "start_time": "2023-10-30T07:34:05.397Z"
   },
   {
    "duration": 84,
    "start_time": "2023-10-30T07:34:14.231Z"
   },
   {
    "duration": 88,
    "start_time": "2023-10-30T07:34:18.079Z"
   },
   {
    "duration": 106,
    "start_time": "2023-10-30T07:34:23.275Z"
   },
   {
    "duration": 74,
    "start_time": "2023-10-30T07:34:26.730Z"
   },
   {
    "duration": 81,
    "start_time": "2023-10-30T07:35:00.415Z"
   },
   {
    "duration": 90,
    "start_time": "2023-10-30T07:35:07.985Z"
   },
   {
    "duration": 84,
    "start_time": "2023-10-30T07:35:15.561Z"
   },
   {
    "duration": 230,
    "start_time": "2023-10-30T07:35:19.231Z"
   },
   {
    "duration": 147,
    "start_time": "2023-10-30T07:35:30.531Z"
   },
   {
    "duration": 520,
    "start_time": "2023-10-30T07:36:09.832Z"
   },
   {
    "duration": 411,
    "start_time": "2023-10-30T07:36:17.677Z"
   },
   {
    "duration": 98,
    "start_time": "2023-10-30T07:36:27.924Z"
   },
   {
    "duration": 85,
    "start_time": "2023-10-30T07:36:38.594Z"
   },
   {
    "duration": 151,
    "start_time": "2023-10-30T07:36:45.408Z"
   },
   {
    "duration": 156,
    "start_time": "2023-10-30T07:39:20.173Z"
   },
   {
    "duration": 158,
    "start_time": "2023-10-30T07:39:47.637Z"
   },
   {
    "duration": 149,
    "start_time": "2023-10-30T07:39:58.007Z"
   },
   {
    "duration": 164,
    "start_time": "2023-10-30T07:40:04.811Z"
   },
   {
    "duration": 162,
    "start_time": "2023-10-30T07:40:12.141Z"
   },
   {
    "duration": 154,
    "start_time": "2023-10-30T07:40:17.484Z"
   },
   {
    "duration": 153,
    "start_time": "2023-10-30T07:40:34.605Z"
   },
   {
    "duration": 133,
    "start_time": "2023-10-30T07:41:35.361Z"
   },
   {
    "duration": 91,
    "start_time": "2023-10-30T07:48:58.184Z"
   },
   {
    "duration": 85,
    "start_time": "2023-10-30T07:49:06.711Z"
   },
   {
    "duration": 215,
    "start_time": "2023-10-30T07:49:22.164Z"
   },
   {
    "duration": 130,
    "start_time": "2023-10-30T07:50:34.987Z"
   },
   {
    "duration": 161,
    "start_time": "2023-10-30T07:50:44.719Z"
   },
   {
    "duration": 174,
    "start_time": "2023-10-30T07:54:31.529Z"
   },
   {
    "duration": 182,
    "start_time": "2023-10-30T07:54:45.206Z"
   },
   {
    "duration": 176,
    "start_time": "2023-10-30T07:54:54.386Z"
   },
   {
    "duration": 182,
    "start_time": "2023-10-30T07:56:03.426Z"
   },
   {
    "duration": 171,
    "start_time": "2023-10-30T07:56:20.836Z"
   },
   {
    "duration": 165,
    "start_time": "2023-10-30T07:56:29.494Z"
   },
   {
    "duration": 182,
    "start_time": "2023-10-30T07:57:31.037Z"
   },
   {
    "duration": 161,
    "start_time": "2023-10-30T07:58:51.603Z"
   },
   {
    "duration": 277,
    "start_time": "2023-10-30T07:59:03.428Z"
   },
   {
    "duration": 4,
    "start_time": "2023-10-30T08:00:04.409Z"
   },
   {
    "duration": 6,
    "start_time": "2023-10-30T08:00:14.567Z"
   },
   {
    "duration": 6,
    "start_time": "2023-10-30T08:00:19.986Z"
   },
   {
    "duration": 9,
    "start_time": "2023-10-30T08:00:58.715Z"
   },
   {
    "duration": 5,
    "start_time": "2023-10-30T08:01:05.227Z"
   },
   {
    "duration": 5,
    "start_time": "2023-10-30T08:01:22.524Z"
   },
   {
    "duration": 7,
    "start_time": "2023-10-30T08:01:25.439Z"
   },
   {
    "duration": 87,
    "start_time": "2023-10-30T08:08:37.472Z"
   },
   {
    "duration": 68,
    "start_time": "2023-10-30T08:11:44.336Z"
   },
   {
    "duration": 2224,
    "start_time": "2023-10-30T08:11:49.493Z"
   },
   {
    "duration": 1242,
    "start_time": "2023-10-30T08:11:51.720Z"
   },
   {
    "duration": 75,
    "start_time": "2023-10-30T08:11:52.963Z"
   },
   {
    "duration": 11,
    "start_time": "2023-10-30T08:11:53.040Z"
   },
   {
    "duration": 11,
    "start_time": "2023-10-30T08:11:53.053Z"
   },
   {
    "duration": 22,
    "start_time": "2023-10-30T08:11:53.066Z"
   },
   {
    "duration": 10,
    "start_time": "2023-10-30T08:11:53.090Z"
   },
   {
    "duration": 9,
    "start_time": "2023-10-30T08:11:53.102Z"
   },
   {
    "duration": 33,
    "start_time": "2023-10-30T08:11:53.113Z"
   },
   {
    "duration": 26,
    "start_time": "2023-10-30T08:11:53.148Z"
   },
   {
    "duration": 14,
    "start_time": "2023-10-30T08:11:53.176Z"
   },
   {
    "duration": 7,
    "start_time": "2023-10-30T08:11:53.192Z"
   },
   {
    "duration": 10,
    "start_time": "2023-10-30T08:11:53.200Z"
   },
   {
    "duration": 36,
    "start_time": "2023-10-30T08:11:53.214Z"
   },
   {
    "duration": 1803,
    "start_time": "2023-10-30T08:11:53.252Z"
   },
   {
    "duration": 6,
    "start_time": "2023-10-30T08:11:55.056Z"
   },
   {
    "duration": 38,
    "start_time": "2023-10-30T08:11:55.064Z"
   },
   {
    "duration": 131,
    "start_time": "2023-10-30T08:11:55.104Z"
   },
   {
    "duration": 9,
    "start_time": "2023-10-30T08:11:55.237Z"
   },
   {
    "duration": 6,
    "start_time": "2023-10-30T08:11:55.248Z"
   },
   {
    "duration": 16,
    "start_time": "2023-10-30T08:11:55.256Z"
   },
   {
    "duration": 7,
    "start_time": "2023-10-30T08:11:55.273Z"
   },
   {
    "duration": 172,
    "start_time": "2023-10-30T08:11:55.282Z"
   },
   {
    "duration": 4,
    "start_time": "2023-10-30T08:11:55.456Z"
   },
   {
    "duration": 8,
    "start_time": "2023-10-30T08:11:55.462Z"
   },
   {
    "duration": 100,
    "start_time": "2023-10-30T08:11:55.471Z"
   },
   {
    "duration": 8,
    "start_time": "2023-10-30T08:11:55.573Z"
   },
   {
    "duration": 152,
    "start_time": "2023-10-30T08:11:55.582Z"
   },
   {
    "duration": 12,
    "start_time": "2023-10-30T08:11:55.735Z"
   },
   {
    "duration": 591,
    "start_time": "2023-10-30T08:11:55.748Z"
   },
   {
    "duration": 9,
    "start_time": "2023-10-30T08:11:56.343Z"
   },
   {
    "duration": 572,
    "start_time": "2023-10-30T08:11:56.354Z"
   },
   {
    "duration": 37,
    "start_time": "2023-10-30T08:11:56.927Z"
   },
   {
    "duration": 20,
    "start_time": "2023-10-30T08:11:56.966Z"
   },
   {
    "duration": 280,
    "start_time": "2023-10-30T08:11:56.987Z"
   },
   {
    "duration": 195,
    "start_time": "2023-10-30T08:11:57.268Z"
   },
   {
    "duration": 212,
    "start_time": "2023-10-30T08:11:57.464Z"
   },
   {
    "duration": 212,
    "start_time": "2023-10-30T08:11:57.677Z"
   },
   {
    "duration": 834,
    "start_time": "2023-10-30T08:11:57.891Z"
   },
   {
    "duration": 19,
    "start_time": "2023-10-30T08:11:58.726Z"
   },
   {
    "duration": 149,
    "start_time": "2023-10-30T08:11:58.749Z"
   },
   {
    "duration": 19,
    "start_time": "2023-10-30T08:11:58.899Z"
   },
   {
    "duration": 37,
    "start_time": "2023-10-30T08:11:58.919Z"
   },
   {
    "duration": 5,
    "start_time": "2023-10-30T08:11:58.957Z"
   },
   {
    "duration": 16,
    "start_time": "2023-10-30T08:11:58.963Z"
   },
   {
    "duration": 15,
    "start_time": "2023-10-30T08:11:58.981Z"
   },
   {
    "duration": 21,
    "start_time": "2023-10-30T08:11:58.997Z"
   },
   {
    "duration": 13,
    "start_time": "2023-10-30T08:11:59.020Z"
   },
   {
    "duration": 13,
    "start_time": "2023-10-30T08:11:59.034Z"
   },
   {
    "duration": 34,
    "start_time": "2023-10-30T08:11:59.048Z"
   },
   {
    "duration": 89,
    "start_time": "2023-10-30T08:16:22.170Z"
   },
   {
    "duration": 277,
    "start_time": "2023-10-30T08:17:04.027Z"
   },
   {
    "duration": 119,
    "start_time": "2023-10-30T08:17:36.671Z"
   },
   {
    "duration": 111,
    "start_time": "2023-10-30T08:17:44.528Z"
   },
   {
    "duration": 109,
    "start_time": "2023-10-30T08:18:14.402Z"
   },
   {
    "duration": 185,
    "start_time": "2023-10-30T08:18:36.118Z"
   },
   {
    "duration": 84,
    "start_time": "2023-10-30T08:18:46.665Z"
   },
   {
    "duration": 82,
    "start_time": "2023-10-30T08:18:57.469Z"
   },
   {
    "duration": 87,
    "start_time": "2023-10-30T08:20:05.494Z"
   },
   {
    "duration": 87,
    "start_time": "2023-10-30T08:20:22.144Z"
   },
   {
    "duration": 92,
    "start_time": "2023-10-30T08:22:02.657Z"
   },
   {
    "duration": 142,
    "start_time": "2023-10-30T08:22:08.392Z"
   },
   {
    "duration": 92,
    "start_time": "2023-10-30T08:23:34.842Z"
   },
   {
    "duration": 142,
    "start_time": "2023-10-30T08:23:40.007Z"
   },
   {
    "duration": 11,
    "start_time": "2023-10-30T08:24:37.181Z"
   },
   {
    "duration": 11,
    "start_time": "2023-10-30T08:24:49.205Z"
   },
   {
    "duration": 139,
    "start_time": "2023-10-30T08:24:55.075Z"
   },
   {
    "duration": 99,
    "start_time": "2023-10-30T08:26:02.261Z"
   },
   {
    "duration": 93,
    "start_time": "2023-10-30T08:26:54.723Z"
   },
   {
    "duration": 89,
    "start_time": "2023-10-30T08:27:21.087Z"
   },
   {
    "duration": 90,
    "start_time": "2023-10-30T08:27:37.711Z"
   },
   {
    "duration": 105,
    "start_time": "2023-10-30T08:30:52.494Z"
   },
   {
    "duration": 150,
    "start_time": "2023-10-30T08:31:10.436Z"
   },
   {
    "duration": 114,
    "start_time": "2023-10-30T08:31:19.661Z"
   },
   {
    "duration": 12,
    "start_time": "2023-10-30T08:32:26.705Z"
   },
   {
    "duration": 12,
    "start_time": "2023-10-30T08:33:11.502Z"
   },
   {
    "duration": 177,
    "start_time": "2023-10-30T08:33:57.181Z"
   },
   {
    "duration": 11,
    "start_time": "2023-10-30T08:34:08.427Z"
   },
   {
    "duration": 88,
    "start_time": "2023-10-30T08:34:18.007Z"
   },
   {
    "duration": 10,
    "start_time": "2023-10-30T08:35:14.859Z"
   },
   {
    "duration": 11,
    "start_time": "2023-10-30T08:36:12.710Z"
   },
   {
    "duration": 11,
    "start_time": "2023-10-30T08:36:19.775Z"
   },
   {
    "duration": 265,
    "start_time": "2023-10-30T08:36:25.501Z"
   },
   {
    "duration": 288,
    "start_time": "2023-10-30T08:36:33.038Z"
   },
   {
    "duration": 100,
    "start_time": "2023-10-30T08:37:43.599Z"
   },
   {
    "duration": 97,
    "start_time": "2023-10-30T08:38:00.910Z"
   },
   {
    "duration": 104,
    "start_time": "2023-10-30T08:38:11.646Z"
   },
   {
    "duration": 15,
    "start_time": "2023-10-30T08:56:41.606Z"
   },
   {
    "duration": 15,
    "start_time": "2023-10-30T08:56:57.341Z"
   },
   {
    "duration": 12,
    "start_time": "2023-10-30T08:57:21.589Z"
   },
   {
    "duration": 19,
    "start_time": "2023-10-30T08:57:39.661Z"
   },
   {
    "duration": 8,
    "start_time": "2023-10-30T08:58:52.092Z"
   },
   {
    "duration": 4,
    "start_time": "2023-10-30T08:58:56.834Z"
   },
   {
    "duration": 4,
    "start_time": "2023-10-30T08:59:08.034Z"
   },
   {
    "duration": 5,
    "start_time": "2023-10-30T08:59:24.202Z"
   },
   {
    "duration": 4,
    "start_time": "2023-10-30T09:00:16.596Z"
   },
   {
    "duration": 25,
    "start_time": "2023-10-30T09:00:55.337Z"
   },
   {
    "duration": 10,
    "start_time": "2023-10-30T09:01:30.510Z"
   },
   {
    "duration": 9,
    "start_time": "2023-10-30T09:01:47.334Z"
   },
   {
    "duration": 4,
    "start_time": "2023-10-30T09:03:50.810Z"
   },
   {
    "duration": 4,
    "start_time": "2023-10-30T09:04:02.365Z"
   },
   {
    "duration": 4,
    "start_time": "2023-10-30T09:04:17.564Z"
   },
   {
    "duration": 4,
    "start_time": "2023-10-30T09:04:26.995Z"
   },
   {
    "duration": 9,
    "start_time": "2023-10-30T09:05:29.157Z"
   },
   {
    "duration": 8,
    "start_time": "2023-10-30T09:05:41.179Z"
   },
   {
    "duration": 268,
    "start_time": "2023-10-30T09:10:03.755Z"
   },
   {
    "duration": 269,
    "start_time": "2023-10-30T09:10:46.976Z"
   },
   {
    "duration": 431,
    "start_time": "2023-10-30T09:10:52.518Z"
   },
   {
    "duration": 566,
    "start_time": "2023-10-30T09:11:56.530Z"
   },
   {
    "duration": 275,
    "start_time": "2023-10-30T09:12:06.343Z"
   },
   {
    "duration": 413,
    "start_time": "2023-10-30T09:12:18.963Z"
   },
   {
    "duration": 427,
    "start_time": "2023-10-30T09:14:20.894Z"
   },
   {
    "duration": 401,
    "start_time": "2023-10-30T09:14:33.651Z"
   },
   {
    "duration": 392,
    "start_time": "2023-10-30T09:14:44.397Z"
   },
   {
    "duration": 108,
    "start_time": "2023-10-30T09:15:17.644Z"
   },
   {
    "duration": 93,
    "start_time": "2023-10-30T09:15:26.955Z"
   },
   {
    "duration": 570,
    "start_time": "2023-10-30T09:15:34.011Z"
   },
   {
    "duration": 373,
    "start_time": "2023-10-30T09:19:44.533Z"
   },
   {
    "duration": 363,
    "start_time": "2023-10-30T09:20:06.660Z"
   },
   {
    "duration": 372,
    "start_time": "2023-10-30T09:20:18.715Z"
   },
   {
    "duration": 362,
    "start_time": "2023-10-30T09:21:16.469Z"
   },
   {
    "duration": 531,
    "start_time": "2023-10-30T09:21:39.191Z"
   },
   {
    "duration": 2436,
    "start_time": "2023-10-30T09:21:46.285Z"
   },
   {
    "duration": 1280,
    "start_time": "2023-10-30T09:21:48.723Z"
   },
   {
    "duration": 72,
    "start_time": "2023-10-30T09:21:50.005Z"
   },
   {
    "duration": 12,
    "start_time": "2023-10-30T09:21:50.079Z"
   },
   {
    "duration": 47,
    "start_time": "2023-10-30T09:21:50.094Z"
   },
   {
    "duration": 22,
    "start_time": "2023-10-30T09:21:50.143Z"
   },
   {
    "duration": 24,
    "start_time": "2023-10-30T09:21:50.167Z"
   },
   {
    "duration": 17,
    "start_time": "2023-10-30T09:21:50.192Z"
   },
   {
    "duration": 24,
    "start_time": "2023-10-30T09:21:50.211Z"
   },
   {
    "duration": 13,
    "start_time": "2023-10-30T09:21:50.237Z"
   },
   {
    "duration": 10,
    "start_time": "2023-10-30T09:21:50.252Z"
   },
   {
    "duration": 8,
    "start_time": "2023-10-30T09:21:50.265Z"
   },
   {
    "duration": 11,
    "start_time": "2023-10-30T09:21:50.275Z"
   },
   {
    "duration": 2185,
    "start_time": "2023-10-30T09:21:50.291Z"
   },
   {
    "duration": 9,
    "start_time": "2023-10-30T09:21:52.478Z"
   },
   {
    "duration": 10,
    "start_time": "2023-10-30T09:21:52.488Z"
   },
   {
    "duration": 13,
    "start_time": "2023-10-30T09:21:52.499Z"
   },
   {
    "duration": 37,
    "start_time": "2023-10-30T09:21:52.514Z"
   },
   {
    "duration": 11,
    "start_time": "2023-10-30T09:21:52.553Z"
   },
   {
    "duration": 10,
    "start_time": "2023-10-30T09:21:52.566Z"
   },
   {
    "duration": 6,
    "start_time": "2023-10-30T09:21:52.578Z"
   },
   {
    "duration": 220,
    "start_time": "2023-10-30T09:21:52.586Z"
   },
   {
    "duration": 5,
    "start_time": "2023-10-30T09:21:52.808Z"
   },
   {
    "duration": 17,
    "start_time": "2023-10-30T09:21:52.815Z"
   },
   {
    "duration": 144,
    "start_time": "2023-10-30T09:21:52.833Z"
   },
   {
    "duration": 10,
    "start_time": "2023-10-30T09:21:52.979Z"
   },
   {
    "duration": 169,
    "start_time": "2023-10-30T09:21:52.991Z"
   },
   {
    "duration": 9,
    "start_time": "2023-10-30T09:21:53.162Z"
   },
   {
    "duration": 653,
    "start_time": "2023-10-30T09:21:53.173Z"
   },
   {
    "duration": 23,
    "start_time": "2023-10-30T09:21:53.827Z"
   },
   {
    "duration": 635,
    "start_time": "2023-10-30T09:21:53.852Z"
   },
   {
    "duration": 4,
    "start_time": "2023-10-30T09:21:54.488Z"
   },
   {
    "duration": 16,
    "start_time": "2023-10-30T09:21:54.494Z"
   },
   {
    "duration": 43,
    "start_time": "2023-10-30T09:21:54.511Z"
   },
   {
    "duration": 4,
    "start_time": "2023-10-30T09:21:54.556Z"
   },
   {
    "duration": 26,
    "start_time": "2023-10-30T09:21:54.562Z"
   },
   {
    "duration": 23,
    "start_time": "2023-10-30T09:21:54.590Z"
   },
   {
    "duration": 4,
    "start_time": "2023-10-30T09:21:54.615Z"
   },
   {
    "duration": 23,
    "start_time": "2023-10-30T09:21:54.621Z"
   },
   {
    "duration": 16,
    "start_time": "2023-10-30T09:21:54.647Z"
   },
   {
    "duration": 10,
    "start_time": "2023-10-30T09:21:54.667Z"
   },
   {
    "duration": 524,
    "start_time": "2023-10-30T09:21:54.678Z"
   },
   {
    "duration": 219,
    "start_time": "2023-10-30T09:21:55.204Z"
   },
   {
    "duration": 224,
    "start_time": "2023-10-30T09:21:55.424Z"
   },
   {
    "duration": 899,
    "start_time": "2023-10-30T09:21:55.650Z"
   },
   {
    "duration": 15,
    "start_time": "2023-10-30T09:21:56.552Z"
   },
   {
    "duration": 182,
    "start_time": "2023-10-30T09:21:56.569Z"
   },
   {
    "duration": 29,
    "start_time": "2023-10-30T09:21:56.753Z"
   },
   {
    "duration": 20,
    "start_time": "2023-10-30T09:21:56.783Z"
   },
   {
    "duration": 32,
    "start_time": "2023-10-30T09:21:56.805Z"
   },
   {
    "duration": 35,
    "start_time": "2023-10-30T09:21:56.839Z"
   },
   {
    "duration": 27,
    "start_time": "2023-10-30T09:21:56.877Z"
   },
   {
    "duration": 21,
    "start_time": "2023-10-30T09:21:56.906Z"
   },
   {
    "duration": 45,
    "start_time": "2023-10-30T09:21:56.929Z"
   },
   {
    "duration": 31,
    "start_time": "2023-10-30T09:21:56.976Z"
   },
   {
    "duration": 15,
    "start_time": "2023-10-30T09:21:57.009Z"
   },
   {
    "duration": 254,
    "start_time": "2023-10-30T09:22:39.366Z"
   },
   {
    "duration": 391,
    "start_time": "2023-10-30T09:22:50.065Z"
   },
   {
    "duration": 395,
    "start_time": "2023-10-30T09:22:59.185Z"
   },
   {
    "duration": 303,
    "start_time": "2023-10-30T09:23:16.492Z"
   },
   {
    "duration": 277,
    "start_time": "2023-10-30T09:24:35.887Z"
   },
   {
    "duration": 8,
    "start_time": "2023-10-30T09:25:50.063Z"
   },
   {
    "duration": 8,
    "start_time": "2023-10-30T09:26:23.530Z"
   },
   {
    "duration": 9,
    "start_time": "2023-10-30T09:26:51.742Z"
   },
   {
    "duration": 7,
    "start_time": "2023-10-30T09:27:04.873Z"
   },
   {
    "duration": 4,
    "start_time": "2023-10-30T09:37:40.074Z"
   },
   {
    "duration": 12,
    "start_time": "2023-10-30T09:38:23.050Z"
   },
   {
    "duration": 14,
    "start_time": "2023-10-30T09:38:32.119Z"
   },
   {
    "duration": 903,
    "start_time": "2023-10-30T09:39:51.324Z"
   },
   {
    "duration": 7,
    "start_time": "2023-10-30T09:40:18.309Z"
   },
   {
    "duration": 10,
    "start_time": "2023-10-30T09:40:34.008Z"
   },
   {
    "duration": 3,
    "start_time": "2023-10-30T09:47:14.046Z"
   },
   {
    "duration": 4,
    "start_time": "2023-10-30T09:47:19.675Z"
   },
   {
    "duration": 3,
    "start_time": "2023-10-30T09:47:29.149Z"
   },
   {
    "duration": 8,
    "start_time": "2023-10-30T09:48:21.646Z"
   },
   {
    "duration": 4,
    "start_time": "2023-10-30T09:49:37.739Z"
   },
   {
    "duration": 134,
    "start_time": "2023-10-30T09:50:27.047Z"
   },
   {
    "duration": 9,
    "start_time": "2023-10-30T09:51:08.723Z"
   },
   {
    "duration": 10,
    "start_time": "2023-10-30T09:51:25.804Z"
   },
   {
    "duration": 6,
    "start_time": "2023-10-30T09:51:50.202Z"
   },
   {
    "duration": 12,
    "start_time": "2023-10-30T09:52:05.030Z"
   },
   {
    "duration": 10,
    "start_time": "2023-10-30T09:53:17.189Z"
   },
   {
    "duration": 4,
    "start_time": "2023-10-30T09:53:56.788Z"
   },
   {
    "duration": 12,
    "start_time": "2023-10-30T09:54:04.154Z"
   },
   {
    "duration": 10,
    "start_time": "2023-10-30T09:54:32.899Z"
   },
   {
    "duration": 14,
    "start_time": "2023-10-30T09:54:53.950Z"
   },
   {
    "duration": 18,
    "start_time": "2023-10-30T09:56:23.639Z"
   },
   {
    "duration": 11,
    "start_time": "2023-10-30T09:56:35.081Z"
   },
   {
    "duration": 18,
    "start_time": "2023-10-30T09:56:39.350Z"
   },
   {
    "duration": 24,
    "start_time": "2023-10-30T09:56:56.369Z"
   },
   {
    "duration": 2334,
    "start_time": "2023-10-30T10:00:41.724Z"
   },
   {
    "duration": 1224,
    "start_time": "2023-10-30T10:00:44.061Z"
   },
   {
    "duration": 73,
    "start_time": "2023-10-30T10:00:45.287Z"
   },
   {
    "duration": 11,
    "start_time": "2023-10-30T10:00:45.362Z"
   },
   {
    "duration": 43,
    "start_time": "2023-10-30T10:00:45.375Z"
   },
   {
    "duration": 25,
    "start_time": "2023-10-30T10:00:45.420Z"
   },
   {
    "duration": 29,
    "start_time": "2023-10-30T10:00:45.447Z"
   },
   {
    "duration": 25,
    "start_time": "2023-10-30T10:00:45.478Z"
   },
   {
    "duration": 39,
    "start_time": "2023-10-30T10:00:45.504Z"
   },
   {
    "duration": 77,
    "start_time": "2023-10-30T10:00:45.546Z"
   },
   {
    "duration": 68,
    "start_time": "2023-10-30T10:00:45.625Z"
   },
   {
    "duration": 38,
    "start_time": "2023-10-30T10:00:45.695Z"
   },
   {
    "duration": 25,
    "start_time": "2023-10-30T10:00:45.735Z"
   },
   {
    "duration": 1973,
    "start_time": "2023-10-30T10:00:45.762Z"
   },
   {
    "duration": 11,
    "start_time": "2023-10-30T10:00:47.737Z"
   },
   {
    "duration": 21,
    "start_time": "2023-10-30T10:00:47.750Z"
   },
   {
    "duration": 6,
    "start_time": "2023-10-30T10:00:47.773Z"
   },
   {
    "duration": 9,
    "start_time": "2023-10-30T10:00:47.781Z"
   },
   {
    "duration": 6,
    "start_time": "2023-10-30T10:00:47.791Z"
   },
   {
    "duration": 12,
    "start_time": "2023-10-30T10:00:47.799Z"
   },
   {
    "duration": 4,
    "start_time": "2023-10-30T10:00:47.813Z"
   },
   {
    "duration": 212,
    "start_time": "2023-10-30T10:00:47.819Z"
   },
   {
    "duration": 13,
    "start_time": "2023-10-30T10:00:48.033Z"
   },
   {
    "duration": 7,
    "start_time": "2023-10-30T10:00:48.048Z"
   },
   {
    "duration": 116,
    "start_time": "2023-10-30T10:00:48.057Z"
   },
   {
    "duration": 8,
    "start_time": "2023-10-30T10:00:48.175Z"
   },
   {
    "duration": 162,
    "start_time": "2023-10-30T10:00:48.185Z"
   },
   {
    "duration": 10,
    "start_time": "2023-10-30T10:00:48.353Z"
   },
   {
    "duration": 573,
    "start_time": "2023-10-30T10:00:48.365Z"
   },
   {
    "duration": 9,
    "start_time": "2023-10-30T10:00:48.943Z"
   },
   {
    "duration": 580,
    "start_time": "2023-10-30T10:00:48.954Z"
   },
   {
    "duration": 14,
    "start_time": "2023-10-30T10:00:49.535Z"
   },
   {
    "duration": 11,
    "start_time": "2023-10-30T10:00:49.551Z"
   },
   {
    "duration": 38,
    "start_time": "2023-10-30T10:00:49.564Z"
   },
   {
    "duration": 4,
    "start_time": "2023-10-30T10:00:49.603Z"
   },
   {
    "duration": 19,
    "start_time": "2023-10-30T10:00:49.609Z"
   },
   {
    "duration": 31,
    "start_time": "2023-10-30T10:00:49.630Z"
   },
   {
    "duration": 4,
    "start_time": "2023-10-30T10:00:49.663Z"
   },
   {
    "duration": 13,
    "start_time": "2023-10-30T10:00:49.669Z"
   },
   {
    "duration": 16,
    "start_time": "2023-10-30T10:00:49.683Z"
   },
   {
    "duration": 11,
    "start_time": "2023-10-30T10:00:49.700Z"
   },
   {
    "duration": 413,
    "start_time": "2023-10-30T10:00:49.712Z"
   },
   {
    "duration": 300,
    "start_time": "2023-10-30T10:00:50.126Z"
   },
   {
    "duration": 18,
    "start_time": "2023-10-30T10:00:50.427Z"
   },
   {
    "duration": 8,
    "start_time": "2023-10-30T10:00:50.446Z"
   },
   {
    "duration": 12,
    "start_time": "2023-10-30T10:00:50.456Z"
   },
   {
    "duration": 7,
    "start_time": "2023-10-30T10:00:50.470Z"
   },
   {
    "duration": 13,
    "start_time": "2023-10-30T10:00:50.478Z"
   },
   {
    "duration": 924,
    "start_time": "2023-10-30T10:00:50.493Z"
   },
   {
    "duration": 11,
    "start_time": "2023-10-30T10:00:51.420Z"
   },
   {
    "duration": 9,
    "start_time": "2023-10-30T10:00:51.444Z"
   },
   {
    "duration": 41,
    "start_time": "2023-10-30T10:00:51.455Z"
   },
   {
    "duration": 31,
    "start_time": "2023-10-30T10:01:06.070Z"
   },
   {
    "duration": 16,
    "start_time": "2023-10-30T10:01:06.103Z"
   },
   {
    "duration": 4067,
    "start_time": "2023-10-30T10:01:06.121Z"
   },
   {
    "duration": 5,
    "start_time": "2023-10-30T10:01:10.190Z"
   },
   {
    "duration": 15,
    "start_time": "2023-10-30T10:01:10.197Z"
   },
   {
    "duration": 18,
    "start_time": "2023-10-30T10:01:10.213Z"
   },
   {
    "duration": 6,
    "start_time": "2023-10-30T10:01:10.233Z"
   },
   {
    "duration": 973,
    "start_time": "2023-10-30T10:01:10.243Z"
   },
   {
    "duration": 0,
    "start_time": "2023-10-30T10:01:11.218Z"
   },
   {
    "duration": 0,
    "start_time": "2023-10-30T10:01:11.220Z"
   },
   {
    "duration": 2763,
    "start_time": "2023-10-30T10:01:11.868Z"
   },
   {
    "duration": 2241,
    "start_time": "2023-10-30T10:01:24.662Z"
   },
   {
    "duration": 2393,
    "start_time": "2023-10-30T10:02:09.816Z"
   },
   {
    "duration": 21,
    "start_time": "2023-10-30T10:03:40.193Z"
   },
   {
    "duration": 135,
    "start_time": "2023-10-30T10:03:58.975Z"
   },
   {
    "duration": 2665,
    "start_time": "2023-10-30T10:04:06.307Z"
   },
   {
    "duration": 1826,
    "start_time": "2023-10-30T10:07:53.136Z"
   },
   {
    "duration": 1815,
    "start_time": "2023-10-30T10:08:36.025Z"
   },
   {
    "duration": 2096,
    "start_time": "2023-10-30T10:09:24.513Z"
   },
   {
    "duration": 5,
    "start_time": "2023-10-30T10:10:01.135Z"
   },
   {
    "duration": 49,
    "start_time": "2023-10-30T10:10:35.547Z"
   },
   {
    "duration": 3303,
    "start_time": "2023-10-30T10:10:59.307Z"
   },
   {
    "duration": 1338,
    "start_time": "2023-10-30T10:11:02.613Z"
   },
   {
    "duration": 350,
    "start_time": "2023-10-30T10:11:03.955Z"
   },
   {
    "duration": 17,
    "start_time": "2023-10-30T10:11:04.307Z"
   },
   {
    "duration": 41,
    "start_time": "2023-10-30T10:11:04.326Z"
   },
   {
    "duration": 42,
    "start_time": "2023-10-30T10:11:04.370Z"
   },
   {
    "duration": 33,
    "start_time": "2023-10-30T10:11:04.416Z"
   },
   {
    "duration": 35,
    "start_time": "2023-10-30T10:11:04.451Z"
   },
   {
    "duration": 60,
    "start_time": "2023-10-30T10:11:04.488Z"
   },
   {
    "duration": 17,
    "start_time": "2023-10-30T10:11:04.550Z"
   },
   {
    "duration": 35,
    "start_time": "2023-10-30T10:11:04.569Z"
   },
   {
    "duration": 32,
    "start_time": "2023-10-30T10:11:04.606Z"
   },
   {
    "duration": 33,
    "start_time": "2023-10-30T10:11:04.640Z"
   },
   {
    "duration": 2151,
    "start_time": "2023-10-30T10:11:04.675Z"
   },
   {
    "duration": 6,
    "start_time": "2023-10-30T10:11:06.828Z"
   },
   {
    "duration": 22,
    "start_time": "2023-10-30T10:11:06.845Z"
   },
   {
    "duration": 34,
    "start_time": "2023-10-30T10:11:06.869Z"
   },
   {
    "duration": 27,
    "start_time": "2023-10-30T10:11:06.904Z"
   },
   {
    "duration": 29,
    "start_time": "2023-10-30T10:11:06.933Z"
   },
   {
    "duration": 22,
    "start_time": "2023-10-30T10:11:06.963Z"
   },
   {
    "duration": 36,
    "start_time": "2023-10-30T10:11:06.988Z"
   },
   {
    "duration": 192,
    "start_time": "2023-10-30T10:11:07.026Z"
   },
   {
    "duration": 6,
    "start_time": "2023-10-30T10:11:07.220Z"
   },
   {
    "duration": 40,
    "start_time": "2023-10-30T10:11:07.228Z"
   },
   {
    "duration": 124,
    "start_time": "2023-10-30T10:11:07.269Z"
   },
   {
    "duration": 9,
    "start_time": "2023-10-30T10:11:07.395Z"
   },
   {
    "duration": 178,
    "start_time": "2023-10-30T10:11:07.406Z"
   },
   {
    "duration": 9,
    "start_time": "2023-10-30T10:11:07.588Z"
   },
   {
    "duration": 645,
    "start_time": "2023-10-30T10:11:07.599Z"
   },
   {
    "duration": 11,
    "start_time": "2023-10-30T10:11:08.249Z"
   },
   {
    "duration": 602,
    "start_time": "2023-10-30T10:11:08.262Z"
   },
   {
    "duration": 5,
    "start_time": "2023-10-30T10:11:08.866Z"
   },
   {
    "duration": 18,
    "start_time": "2023-10-30T10:11:08.873Z"
   },
   {
    "duration": 35,
    "start_time": "2023-10-30T10:11:08.893Z"
   },
   {
    "duration": 14,
    "start_time": "2023-10-30T10:11:08.930Z"
   },
   {
    "duration": 9,
    "start_time": "2023-10-30T10:11:08.946Z"
   },
   {
    "duration": 24,
    "start_time": "2023-10-30T10:11:08.957Z"
   },
   {
    "duration": 4,
    "start_time": "2023-10-30T10:11:08.983Z"
   },
   {
    "duration": 25,
    "start_time": "2023-10-30T10:11:08.988Z"
   },
   {
    "duration": 41,
    "start_time": "2023-10-30T10:11:09.014Z"
   },
   {
    "duration": 18,
    "start_time": "2023-10-30T10:11:09.058Z"
   },
   {
    "duration": 428,
    "start_time": "2023-10-30T10:11:09.078Z"
   },
   {
    "duration": 362,
    "start_time": "2023-10-30T10:11:09.508Z"
   },
   {
    "duration": 8,
    "start_time": "2023-10-30T10:11:09.872Z"
   },
   {
    "duration": 12,
    "start_time": "2023-10-30T10:11:09.882Z"
   },
   {
    "duration": 19,
    "start_time": "2023-10-30T10:11:09.896Z"
   },
   {
    "duration": 29,
    "start_time": "2023-10-30T10:11:09.917Z"
   },
   {
    "duration": 15,
    "start_time": "2023-10-30T10:11:09.947Z"
   },
   {
    "duration": 907,
    "start_time": "2023-10-30T10:11:09.964Z"
   },
   {
    "duration": 10,
    "start_time": "2023-10-30T10:11:10.872Z"
   },
   {
    "duration": 17,
    "start_time": "2023-10-30T10:11:10.884Z"
   },
   {
    "duration": 7,
    "start_time": "2023-10-30T10:11:10.903Z"
   },
   {
    "duration": 49,
    "start_time": "2023-10-30T10:11:52.664Z"
   },
   {
    "duration": 8,
    "start_time": "2023-10-30T10:12:03.972Z"
   },
   {
    "duration": 9,
    "start_time": "2023-10-30T10:12:08.591Z"
   },
   {
    "duration": 7,
    "start_time": "2023-10-30T10:14:48.705Z"
   },
   {
    "duration": 2812,
    "start_time": "2023-10-30T10:15:03.973Z"
   },
   {
    "duration": 1342,
    "start_time": "2023-10-30T10:15:06.788Z"
   },
   {
    "duration": 306,
    "start_time": "2023-10-30T10:15:08.132Z"
   },
   {
    "duration": 12,
    "start_time": "2023-10-30T10:15:08.441Z"
   },
   {
    "duration": 24,
    "start_time": "2023-10-30T10:15:08.455Z"
   },
   {
    "duration": 37,
    "start_time": "2023-10-30T10:15:08.481Z"
   },
   {
    "duration": 30,
    "start_time": "2023-10-30T10:15:08.520Z"
   },
   {
    "duration": 19,
    "start_time": "2023-10-30T10:15:08.552Z"
   },
   {
    "duration": 8,
    "start_time": "2023-10-30T10:15:08.573Z"
   },
   {
    "duration": 11,
    "start_time": "2023-10-30T10:15:08.584Z"
   },
   {
    "duration": 7,
    "start_time": "2023-10-30T10:15:08.597Z"
   },
   {
    "duration": 10,
    "start_time": "2023-10-30T10:15:08.605Z"
   },
   {
    "duration": 27,
    "start_time": "2023-10-30T10:15:08.617Z"
   },
   {
    "duration": 2004,
    "start_time": "2023-10-30T10:15:08.646Z"
   },
   {
    "duration": 8,
    "start_time": "2023-10-30T10:15:10.652Z"
   },
   {
    "duration": 32,
    "start_time": "2023-10-30T10:15:10.662Z"
   },
   {
    "duration": 17,
    "start_time": "2023-10-30T10:15:10.697Z"
   },
   {
    "duration": 42,
    "start_time": "2023-10-30T10:15:10.716Z"
   },
   {
    "duration": 23,
    "start_time": "2023-10-30T10:15:10.760Z"
   },
   {
    "duration": 16,
    "start_time": "2023-10-30T10:15:10.786Z"
   },
   {
    "duration": 19,
    "start_time": "2023-10-30T10:15:10.803Z"
   },
   {
    "duration": 176,
    "start_time": "2023-10-30T10:15:10.824Z"
   },
   {
    "duration": 6,
    "start_time": "2023-10-30T10:15:11.002Z"
   },
   {
    "duration": 33,
    "start_time": "2023-10-30T10:15:11.010Z"
   },
   {
    "duration": 141,
    "start_time": "2023-10-30T10:15:11.045Z"
   },
   {
    "duration": 9,
    "start_time": "2023-10-30T10:15:11.188Z"
   },
   {
    "duration": 167,
    "start_time": "2023-10-30T10:15:11.199Z"
   },
   {
    "duration": 9,
    "start_time": "2023-10-30T10:15:11.370Z"
   },
   {
    "duration": 608,
    "start_time": "2023-10-30T10:15:11.381Z"
   },
   {
    "duration": 10,
    "start_time": "2023-10-30T10:15:11.991Z"
   },
   {
    "duration": 630,
    "start_time": "2023-10-30T10:15:12.003Z"
   },
   {
    "duration": 11,
    "start_time": "2023-10-30T10:15:12.635Z"
   },
   {
    "duration": 16,
    "start_time": "2023-10-30T10:15:12.647Z"
   },
   {
    "duration": 70,
    "start_time": "2023-10-30T10:15:12.665Z"
   },
   {
    "duration": 4,
    "start_time": "2023-10-30T10:15:12.737Z"
   },
   {
    "duration": 27,
    "start_time": "2023-10-30T10:15:12.743Z"
   },
   {
    "duration": 50,
    "start_time": "2023-10-30T10:15:12.772Z"
   },
   {
    "duration": 4,
    "start_time": "2023-10-30T10:15:12.823Z"
   },
   {
    "duration": 15,
    "start_time": "2023-10-30T10:15:12.829Z"
   },
   {
    "duration": 20,
    "start_time": "2023-10-30T10:15:12.846Z"
   },
   {
    "duration": 14,
    "start_time": "2023-10-30T10:15:12.869Z"
   },
   {
    "duration": 433,
    "start_time": "2023-10-30T10:15:12.885Z"
   },
   {
    "duration": 305,
    "start_time": "2023-10-30T10:15:13.320Z"
   },
   {
    "duration": 8,
    "start_time": "2023-10-30T10:15:13.627Z"
   },
   {
    "duration": 14,
    "start_time": "2023-10-30T10:15:13.644Z"
   },
   {
    "duration": 14,
    "start_time": "2023-10-30T10:15:13.659Z"
   },
   {
    "duration": 16,
    "start_time": "2023-10-30T10:15:13.674Z"
   },
   {
    "duration": 29,
    "start_time": "2023-10-30T10:15:13.692Z"
   },
   {
    "duration": 1064,
    "start_time": "2023-10-30T10:15:13.723Z"
   },
   {
    "duration": 11,
    "start_time": "2023-10-30T10:15:14.788Z"
   },
   {
    "duration": 31,
    "start_time": "2023-10-30T10:15:14.801Z"
   },
   {
    "duration": 11,
    "start_time": "2023-10-30T10:15:14.834Z"
   },
   {
    "duration": 923,
    "start_time": "2023-10-30T10:15:14.847Z"
   },
   {
    "duration": 121,
    "start_time": "2023-10-30T10:15:15.772Z"
   },
   {
    "duration": 0,
    "start_time": "2023-10-30T10:15:15.894Z"
   },
   {
    "duration": 0,
    "start_time": "2023-10-30T10:15:15.896Z"
   },
   {
    "duration": 0,
    "start_time": "2023-10-30T10:15:15.897Z"
   },
   {
    "duration": 0,
    "start_time": "2023-10-30T10:15:15.899Z"
   },
   {
    "duration": 0,
    "start_time": "2023-10-30T10:15:15.900Z"
   },
   {
    "duration": 0,
    "start_time": "2023-10-30T10:15:15.901Z"
   },
   {
    "duration": 0,
    "start_time": "2023-10-30T10:15:15.902Z"
   },
   {
    "duration": 0,
    "start_time": "2023-10-30T10:15:15.903Z"
   },
   {
    "duration": 931,
    "start_time": "2023-10-30T10:15:24.136Z"
   },
   {
    "duration": 946,
    "start_time": "2023-10-30T10:19:32.871Z"
   },
   {
    "duration": 917,
    "start_time": "2023-10-30T10:19:50.849Z"
   },
   {
    "duration": 15,
    "start_time": "2023-10-30T10:20:32.065Z"
   },
   {
    "duration": 1724,
    "start_time": "2023-10-30T10:20:45.886Z"
   },
   {
    "duration": 2015,
    "start_time": "2023-10-30T10:21:23.440Z"
   },
   {
    "duration": 99,
    "start_time": "2023-10-30T10:33:29.434Z"
   },
   {
    "duration": 139,
    "start_time": "2023-10-30T10:33:49.524Z"
   },
   {
    "duration": 4,
    "start_time": "2023-10-30T10:34:53.836Z"
   },
   {
    "duration": 2412,
    "start_time": "2023-10-30T10:47:22.222Z"
   },
   {
    "duration": 1210,
    "start_time": "2023-10-30T10:47:24.636Z"
   },
   {
    "duration": 73,
    "start_time": "2023-10-30T10:47:25.848Z"
   },
   {
    "duration": 12,
    "start_time": "2023-10-30T10:47:25.923Z"
   },
   {
    "duration": 21,
    "start_time": "2023-10-30T10:47:25.937Z"
   },
   {
    "duration": 33,
    "start_time": "2023-10-30T10:47:25.960Z"
   },
   {
    "duration": 32,
    "start_time": "2023-10-30T10:47:25.995Z"
   },
   {
    "duration": 29,
    "start_time": "2023-10-30T10:47:26.030Z"
   },
   {
    "duration": 16,
    "start_time": "2023-10-30T10:47:26.061Z"
   },
   {
    "duration": 16,
    "start_time": "2023-10-30T10:47:26.079Z"
   },
   {
    "duration": 16,
    "start_time": "2023-10-30T10:47:26.096Z"
   },
   {
    "duration": 17,
    "start_time": "2023-10-30T10:47:26.114Z"
   },
   {
    "duration": 38,
    "start_time": "2023-10-30T10:47:26.133Z"
   },
   {
    "duration": 2683,
    "start_time": "2023-10-30T10:47:26.172Z"
   },
   {
    "duration": 5,
    "start_time": "2023-10-30T10:47:28.857Z"
   },
   {
    "duration": 19,
    "start_time": "2023-10-30T10:47:28.864Z"
   },
   {
    "duration": 6,
    "start_time": "2023-10-30T10:47:28.885Z"
   },
   {
    "duration": 59,
    "start_time": "2023-10-30T10:47:28.893Z"
   },
   {
    "duration": 22,
    "start_time": "2023-10-30T10:47:28.954Z"
   },
   {
    "duration": 72,
    "start_time": "2023-10-30T10:47:28.978Z"
   },
   {
    "duration": 58,
    "start_time": "2023-10-30T10:47:29.051Z"
   },
   {
    "duration": 201,
    "start_time": "2023-10-30T10:47:29.110Z"
   },
   {
    "duration": 5,
    "start_time": "2023-10-30T10:47:29.313Z"
   },
   {
    "duration": 47,
    "start_time": "2023-10-30T10:47:29.320Z"
   },
   {
    "duration": 113,
    "start_time": "2023-10-30T10:47:29.370Z"
   },
   {
    "duration": 8,
    "start_time": "2023-10-30T10:47:29.485Z"
   },
   {
    "duration": 155,
    "start_time": "2023-10-30T10:47:29.495Z"
   },
   {
    "duration": 8,
    "start_time": "2023-10-30T10:47:29.655Z"
   },
   {
    "duration": 663,
    "start_time": "2023-10-30T10:47:29.664Z"
   },
   {
    "duration": 19,
    "start_time": "2023-10-30T10:47:30.329Z"
   },
   {
    "duration": 656,
    "start_time": "2023-10-30T10:47:30.350Z"
   },
   {
    "duration": 7,
    "start_time": "2023-10-30T10:47:31.007Z"
   },
   {
    "duration": 88,
    "start_time": "2023-10-30T10:47:31.015Z"
   },
   {
    "duration": 117,
    "start_time": "2023-10-30T10:47:31.105Z"
   },
   {
    "duration": 73,
    "start_time": "2023-10-30T10:47:31.223Z"
   },
   {
    "duration": 71,
    "start_time": "2023-10-30T10:47:31.298Z"
   },
   {
    "duration": 81,
    "start_time": "2023-10-30T10:47:31.370Z"
   },
   {
    "duration": 38,
    "start_time": "2023-10-30T10:47:31.453Z"
   },
   {
    "duration": 43,
    "start_time": "2023-10-30T10:47:31.493Z"
   },
   {
    "duration": 96,
    "start_time": "2023-10-30T10:47:31.538Z"
   },
   {
    "duration": 85,
    "start_time": "2023-10-30T10:47:31.636Z"
   },
   {
    "duration": 443,
    "start_time": "2023-10-30T10:47:31.723Z"
   },
   {
    "duration": 327,
    "start_time": "2023-10-30T10:47:32.168Z"
   },
   {
    "duration": 9,
    "start_time": "2023-10-30T10:47:32.497Z"
   },
   {
    "duration": 40,
    "start_time": "2023-10-30T10:47:32.507Z"
   },
   {
    "duration": 49,
    "start_time": "2023-10-30T10:47:32.549Z"
   },
   {
    "duration": 47,
    "start_time": "2023-10-30T10:47:32.600Z"
   },
   {
    "duration": 39,
    "start_time": "2023-10-30T10:47:32.649Z"
   },
   {
    "duration": 938,
    "start_time": "2023-10-30T10:47:32.689Z"
   },
   {
    "duration": 18,
    "start_time": "2023-10-30T10:47:33.629Z"
   },
   {
    "duration": 132,
    "start_time": "2023-10-30T10:47:33.648Z"
   },
   {
    "duration": 128,
    "start_time": "2023-10-30T10:47:33.781Z"
   },
   {
    "duration": 212,
    "start_time": "2023-10-30T10:47:33.911Z"
   },
   {
    "duration": 10,
    "start_time": "2023-10-30T10:47:34.125Z"
   },
   {
    "duration": 28,
    "start_time": "2023-10-30T10:47:34.145Z"
   },
   {
    "duration": 37,
    "start_time": "2023-10-30T10:47:34.175Z"
   },
   {
    "duration": 38,
    "start_time": "2023-10-30T10:47:34.214Z"
   },
   {
    "duration": 36,
    "start_time": "2023-10-30T10:47:34.254Z"
   },
   {
    "duration": 28,
    "start_time": "2023-10-30T10:47:34.293Z"
   },
   {
    "duration": 37,
    "start_time": "2023-10-30T10:47:34.323Z"
   },
   {
    "duration": 45,
    "start_time": "2023-10-30T10:47:34.362Z"
   },
   {
    "duration": 237,
    "start_time": "2023-10-30T10:55:21.195Z"
   },
   {
    "duration": 96,
    "start_time": "2023-10-30T10:55:25.339Z"
   },
   {
    "duration": 89,
    "start_time": "2023-10-30T10:55:55.020Z"
   },
   {
    "duration": 212,
    "start_time": "2023-10-30T10:56:03.685Z"
   },
   {
    "duration": 7,
    "start_time": "2023-10-30T10:56:23.620Z"
   },
   {
    "duration": 4,
    "start_time": "2023-10-30T10:56:27.639Z"
   },
   {
    "duration": 5,
    "start_time": "2023-10-30T10:56:33.352Z"
   },
   {
    "duration": 5,
    "start_time": "2023-10-30T11:01:58.423Z"
   },
   {
    "duration": 5,
    "start_time": "2023-10-30T11:49:36.608Z"
   },
   {
    "duration": 2287,
    "start_time": "2023-10-30T13:18:10.597Z"
   },
   {
    "duration": 1128,
    "start_time": "2023-10-30T13:18:12.886Z"
   },
   {
    "duration": 90,
    "start_time": "2023-10-30T13:18:14.016Z"
   },
   {
    "duration": 13,
    "start_time": "2023-10-30T13:18:14.110Z"
   },
   {
    "duration": 26,
    "start_time": "2023-10-30T13:18:14.125Z"
   },
   {
    "duration": 25,
    "start_time": "2023-10-30T13:18:14.153Z"
   },
   {
    "duration": 11,
    "start_time": "2023-10-30T13:18:14.180Z"
   },
   {
    "duration": 22,
    "start_time": "2023-10-30T13:18:14.193Z"
   },
   {
    "duration": 15,
    "start_time": "2023-10-30T13:18:14.217Z"
   },
   {
    "duration": 22,
    "start_time": "2023-10-30T13:18:14.243Z"
   },
   {
    "duration": 41,
    "start_time": "2023-10-30T13:18:14.266Z"
   },
   {
    "duration": 43,
    "start_time": "2023-10-30T13:18:14.309Z"
   },
   {
    "duration": 28,
    "start_time": "2023-10-30T13:18:14.354Z"
   },
   {
    "duration": 1826,
    "start_time": "2023-10-30T13:18:14.384Z"
   },
   {
    "duration": 7,
    "start_time": "2023-10-30T13:18:16.212Z"
   },
   {
    "duration": 25,
    "start_time": "2023-10-30T13:18:16.220Z"
   },
   {
    "duration": 5,
    "start_time": "2023-10-30T13:18:16.246Z"
   },
   {
    "duration": 14,
    "start_time": "2023-10-30T13:18:16.253Z"
   },
   {
    "duration": 8,
    "start_time": "2023-10-30T13:18:16.269Z"
   },
   {
    "duration": 10,
    "start_time": "2023-10-30T13:18:16.279Z"
   },
   {
    "duration": 5,
    "start_time": "2023-10-30T13:18:16.291Z"
   },
   {
    "duration": 195,
    "start_time": "2023-10-30T13:18:16.298Z"
   },
   {
    "duration": 5,
    "start_time": "2023-10-30T13:18:16.494Z"
   },
   {
    "duration": 21,
    "start_time": "2023-10-30T13:18:16.500Z"
   },
   {
    "duration": 118,
    "start_time": "2023-10-30T13:18:16.523Z"
   },
   {
    "duration": 8,
    "start_time": "2023-10-30T13:18:16.642Z"
   },
   {
    "duration": 147,
    "start_time": "2023-10-30T13:18:16.652Z"
   },
   {
    "duration": 7,
    "start_time": "2023-10-30T13:18:16.803Z"
   },
   {
    "duration": 590,
    "start_time": "2023-10-30T13:18:16.812Z"
   },
   {
    "duration": 9,
    "start_time": "2023-10-30T13:18:17.403Z"
   },
   {
    "duration": 590,
    "start_time": "2023-10-30T13:18:17.414Z"
   },
   {
    "duration": 3,
    "start_time": "2023-10-30T13:18:18.006Z"
   },
   {
    "duration": 49,
    "start_time": "2023-10-30T13:18:18.011Z"
   },
   {
    "duration": 74,
    "start_time": "2023-10-30T13:18:18.061Z"
   },
   {
    "duration": 4,
    "start_time": "2023-10-30T13:18:18.137Z"
   },
   {
    "duration": 67,
    "start_time": "2023-10-30T13:18:18.143Z"
   },
   {
    "duration": 42,
    "start_time": "2023-10-30T13:18:18.212Z"
   },
   {
    "duration": 29,
    "start_time": "2023-10-30T13:18:18.256Z"
   },
   {
    "duration": 21,
    "start_time": "2023-10-30T13:18:18.287Z"
   },
   {
    "duration": 37,
    "start_time": "2023-10-30T13:18:18.309Z"
   },
   {
    "duration": 30,
    "start_time": "2023-10-30T13:18:18.348Z"
   },
   {
    "duration": 791,
    "start_time": "2023-10-30T13:18:18.379Z"
   },
   {
    "duration": 600,
    "start_time": "2023-10-30T13:18:19.172Z"
   },
   {
    "duration": 8,
    "start_time": "2023-10-30T13:18:19.773Z"
   },
   {
    "duration": 68,
    "start_time": "2023-10-30T13:18:19.783Z"
   },
   {
    "duration": 40,
    "start_time": "2023-10-30T13:18:19.853Z"
   },
   {
    "duration": 55,
    "start_time": "2023-10-30T13:18:19.895Z"
   },
   {
    "duration": 13,
    "start_time": "2023-10-30T13:18:19.952Z"
   },
   {
    "duration": 872,
    "start_time": "2023-10-30T13:18:19.967Z"
   },
   {
    "duration": 9,
    "start_time": "2023-10-30T13:18:20.844Z"
   },
   {
    "duration": 30,
    "start_time": "2023-10-30T13:18:20.855Z"
   },
   {
    "duration": 8,
    "start_time": "2023-10-30T13:18:20.887Z"
   },
   {
    "duration": 163,
    "start_time": "2023-10-30T13:18:20.897Z"
   },
   {
    "duration": 10,
    "start_time": "2023-10-30T13:18:21.062Z"
   },
   {
    "duration": 35,
    "start_time": "2023-10-30T13:18:21.074Z"
   },
   {
    "duration": 37,
    "start_time": "2023-10-30T13:18:21.110Z"
   },
   {
    "duration": 95,
    "start_time": "2023-10-30T13:18:21.149Z"
   },
   {
    "duration": 136,
    "start_time": "2023-10-30T13:18:21.246Z"
   },
   {
    "duration": 61,
    "start_time": "2023-10-30T13:18:21.384Z"
   },
   {
    "duration": 30,
    "start_time": "2023-10-30T13:18:21.446Z"
   },
   {
    "duration": 8,
    "start_time": "2023-10-30T13:18:21.478Z"
   },
   {
    "duration": 97,
    "start_time": "2023-10-30T13:21:36.390Z"
   },
   {
    "duration": 10,
    "start_time": "2023-10-30T13:22:06.049Z"
   },
   {
    "duration": 96,
    "start_time": "2023-10-30T13:40:48.841Z"
   },
   {
    "duration": 87,
    "start_time": "2023-10-30T13:48:45.086Z"
   },
   {
    "duration": 120,
    "start_time": "2023-10-30T13:49:15.066Z"
   },
   {
    "duration": 106,
    "start_time": "2023-10-30T13:49:35.381Z"
   },
   {
    "duration": 111,
    "start_time": "2023-10-30T13:49:43.821Z"
   },
   {
    "duration": 129,
    "start_time": "2023-10-30T13:49:52.846Z"
   },
   {
    "duration": 2443,
    "start_time": "2023-10-30T13:50:41.268Z"
   },
   {
    "duration": 1241,
    "start_time": "2023-10-30T13:50:43.713Z"
   },
   {
    "duration": 71,
    "start_time": "2023-10-30T13:50:44.956Z"
   },
   {
    "duration": 13,
    "start_time": "2023-10-30T13:50:45.029Z"
   },
   {
    "duration": 48,
    "start_time": "2023-10-30T13:50:45.043Z"
   },
   {
    "duration": 29,
    "start_time": "2023-10-30T13:50:45.093Z"
   },
   {
    "duration": 37,
    "start_time": "2023-10-30T13:50:45.124Z"
   },
   {
    "duration": 35,
    "start_time": "2023-10-30T13:50:45.162Z"
   },
   {
    "duration": 20,
    "start_time": "2023-10-30T13:50:45.199Z"
   },
   {
    "duration": 10,
    "start_time": "2023-10-30T13:50:45.222Z"
   },
   {
    "duration": 31,
    "start_time": "2023-10-30T13:50:45.233Z"
   },
   {
    "duration": 35,
    "start_time": "2023-10-30T13:50:45.265Z"
   },
   {
    "duration": 24,
    "start_time": "2023-10-30T13:50:45.301Z"
   },
   {
    "duration": 1793,
    "start_time": "2023-10-30T13:50:45.326Z"
   },
   {
    "duration": 5,
    "start_time": "2023-10-30T13:50:47.121Z"
   },
   {
    "duration": 31,
    "start_time": "2023-10-30T13:50:47.128Z"
   },
   {
    "duration": 27,
    "start_time": "2023-10-30T13:50:47.160Z"
   },
   {
    "duration": 41,
    "start_time": "2023-10-30T13:50:47.189Z"
   },
   {
    "duration": 16,
    "start_time": "2023-10-30T13:50:47.232Z"
   },
   {
    "duration": 12,
    "start_time": "2023-10-30T13:50:47.249Z"
   },
   {
    "duration": 8,
    "start_time": "2023-10-30T13:50:47.262Z"
   },
   {
    "duration": 119,
    "start_time": "2023-10-30T13:50:47.271Z"
   },
   {
    "duration": 4,
    "start_time": "2023-10-30T13:50:47.392Z"
   },
   {
    "duration": 170,
    "start_time": "2023-10-30T13:50:47.398Z"
   },
   {
    "duration": 6,
    "start_time": "2023-10-30T13:50:47.569Z"
   },
   {
    "duration": 28,
    "start_time": "2023-10-30T13:50:47.576Z"
   },
   {
    "duration": 114,
    "start_time": "2023-10-30T13:50:47.606Z"
   },
   {
    "duration": 7,
    "start_time": "2023-10-30T13:50:47.724Z"
   },
   {
    "duration": 154,
    "start_time": "2023-10-30T13:50:47.744Z"
   },
   {
    "duration": 8,
    "start_time": "2023-10-30T13:50:47.900Z"
   },
   {
    "duration": 602,
    "start_time": "2023-10-30T13:50:47.909Z"
   },
   {
    "duration": 9,
    "start_time": "2023-10-30T13:50:48.512Z"
   },
   {
    "duration": 597,
    "start_time": "2023-10-30T13:50:48.522Z"
   },
   {
    "duration": 198,
    "start_time": "2023-10-30T13:50:49.121Z"
   },
   {
    "duration": 118,
    "start_time": "2023-10-30T13:50:49.321Z"
   },
   {
    "duration": 125,
    "start_time": "2023-10-30T13:50:49.440Z"
   },
   {
    "duration": 4,
    "start_time": "2023-10-30T13:50:49.566Z"
   },
   {
    "duration": 54,
    "start_time": "2023-10-30T13:50:49.572Z"
   },
   {
    "duration": 50,
    "start_time": "2023-10-30T13:50:49.627Z"
   },
   {
    "duration": 3,
    "start_time": "2023-10-30T13:50:49.679Z"
   },
   {
    "duration": 22,
    "start_time": "2023-10-30T13:50:49.684Z"
   },
   {
    "duration": 26,
    "start_time": "2023-10-30T13:50:49.707Z"
   },
   {
    "duration": 3,
    "start_time": "2023-10-30T13:50:49.735Z"
   },
   {
    "duration": 35,
    "start_time": "2023-10-30T13:50:49.739Z"
   },
   {
    "duration": 16,
    "start_time": "2023-10-30T13:50:49.776Z"
   },
   {
    "duration": 8,
    "start_time": "2023-10-30T13:50:49.794Z"
   },
   {
    "duration": 319,
    "start_time": "2023-10-30T13:50:49.803Z"
   },
   {
    "duration": 311,
    "start_time": "2023-10-30T13:50:50.123Z"
   },
   {
    "duration": 10,
    "start_time": "2023-10-30T13:50:50.435Z"
   },
   {
    "duration": 14,
    "start_time": "2023-10-30T13:50:50.446Z"
   },
   {
    "duration": 20,
    "start_time": "2023-10-30T13:50:50.462Z"
   },
   {
    "duration": 8,
    "start_time": "2023-10-30T13:50:50.484Z"
   },
   {
    "duration": 31,
    "start_time": "2023-10-30T13:50:50.494Z"
   },
   {
    "duration": 882,
    "start_time": "2023-10-30T13:50:50.544Z"
   },
   {
    "duration": 22,
    "start_time": "2023-10-30T13:50:51.429Z"
   },
   {
    "duration": 42,
    "start_time": "2023-10-30T13:50:51.453Z"
   },
   {
    "duration": 29,
    "start_time": "2023-10-30T13:50:51.497Z"
   },
   {
    "duration": 148,
    "start_time": "2023-10-30T13:50:51.528Z"
   },
   {
    "duration": 8,
    "start_time": "2023-10-30T13:50:51.677Z"
   },
   {
    "duration": 18,
    "start_time": "2023-10-30T13:50:51.687Z"
   },
   {
    "duration": 12,
    "start_time": "2023-10-30T13:50:51.706Z"
   },
   {
    "duration": 26,
    "start_time": "2023-10-30T13:50:51.720Z"
   },
   {
    "duration": 24,
    "start_time": "2023-10-30T13:50:51.748Z"
   },
   {
    "duration": 16,
    "start_time": "2023-10-30T13:50:51.774Z"
   },
   {
    "duration": 19,
    "start_time": "2023-10-30T13:50:51.793Z"
   },
   {
    "duration": 10,
    "start_time": "2023-10-30T13:50:51.814Z"
   },
   {
    "duration": 8,
    "start_time": "2023-10-30T14:00:43.929Z"
   },
   {
    "duration": 8,
    "start_time": "2023-10-30T14:05:40.544Z"
   },
   {
    "duration": 9,
    "start_time": "2023-10-30T14:06:08.698Z"
   },
   {
    "duration": 9,
    "start_time": "2023-10-30T14:06:27.552Z"
   },
   {
    "duration": 2237,
    "start_time": "2023-10-30T14:12:17.616Z"
   },
   {
    "duration": 1216,
    "start_time": "2023-10-30T14:12:19.856Z"
   },
   {
    "duration": 72,
    "start_time": "2023-10-30T14:12:21.074Z"
   },
   {
    "duration": 13,
    "start_time": "2023-10-30T14:12:21.147Z"
   },
   {
    "duration": 66,
    "start_time": "2023-10-30T14:12:21.162Z"
   },
   {
    "duration": 45,
    "start_time": "2023-10-30T14:12:21.230Z"
   },
   {
    "duration": 16,
    "start_time": "2023-10-30T14:12:21.277Z"
   },
   {
    "duration": 21,
    "start_time": "2023-10-30T14:12:21.295Z"
   },
   {
    "duration": 15,
    "start_time": "2023-10-30T14:12:21.318Z"
   },
   {
    "duration": 23,
    "start_time": "2023-10-30T14:12:21.335Z"
   },
   {
    "duration": 25,
    "start_time": "2023-10-30T14:12:21.359Z"
   },
   {
    "duration": 18,
    "start_time": "2023-10-30T14:12:21.386Z"
   },
   {
    "duration": 17,
    "start_time": "2023-10-30T14:12:21.406Z"
   },
   {
    "duration": 2000,
    "start_time": "2023-10-30T14:12:21.427Z"
   },
   {
    "duration": 16,
    "start_time": "2023-10-30T14:12:23.429Z"
   },
   {
    "duration": 12,
    "start_time": "2023-10-30T14:12:23.447Z"
   },
   {
    "duration": 24,
    "start_time": "2023-10-30T14:12:23.460Z"
   },
   {
    "duration": 30,
    "start_time": "2023-10-30T14:12:23.485Z"
   },
   {
    "duration": 6,
    "start_time": "2023-10-30T14:12:23.517Z"
   },
   {
    "duration": 7,
    "start_time": "2023-10-30T14:12:23.524Z"
   },
   {
    "duration": 15,
    "start_time": "2023-10-30T14:12:23.533Z"
   },
   {
    "duration": 112,
    "start_time": "2023-10-30T14:12:23.550Z"
   },
   {
    "duration": 4,
    "start_time": "2023-10-30T14:12:23.664Z"
   },
   {
    "duration": 169,
    "start_time": "2023-10-30T14:12:23.670Z"
   },
   {
    "duration": 6,
    "start_time": "2023-10-30T14:12:23.844Z"
   },
   {
    "duration": 16,
    "start_time": "2023-10-30T14:12:23.851Z"
   },
   {
    "duration": 123,
    "start_time": "2023-10-30T14:12:23.869Z"
   },
   {
    "duration": 7,
    "start_time": "2023-10-30T14:12:23.994Z"
   },
   {
    "duration": 203,
    "start_time": "2023-10-30T14:12:24.003Z"
   },
   {
    "duration": 12,
    "start_time": "2023-10-30T14:12:24.208Z"
   },
   {
    "duration": 590,
    "start_time": "2023-10-30T14:12:24.222Z"
   },
   {
    "duration": 9,
    "start_time": "2023-10-30T14:12:24.813Z"
   },
   {
    "duration": 607,
    "start_time": "2023-10-30T14:12:24.823Z"
   },
   {
    "duration": 201,
    "start_time": "2023-10-30T14:12:25.432Z"
   },
   {
    "duration": 118,
    "start_time": "2023-10-30T14:12:25.635Z"
   },
   {
    "duration": 125,
    "start_time": "2023-10-30T14:12:25.755Z"
   },
   {
    "duration": 4,
    "start_time": "2023-10-30T14:12:25.882Z"
   },
   {
    "duration": 46,
    "start_time": "2023-10-30T14:12:25.888Z"
   },
   {
    "duration": 67,
    "start_time": "2023-10-30T14:12:25.936Z"
   },
   {
    "duration": 10,
    "start_time": "2023-10-30T14:12:26.005Z"
   },
   {
    "duration": 46,
    "start_time": "2023-10-30T14:12:26.019Z"
   },
   {
    "duration": 52,
    "start_time": "2023-10-30T14:12:26.067Z"
   },
   {
    "duration": 3,
    "start_time": "2023-10-30T14:12:26.121Z"
   },
   {
    "duration": 27,
    "start_time": "2023-10-30T14:12:26.125Z"
   },
   {
    "duration": 52,
    "start_time": "2023-10-30T14:12:26.155Z"
   },
   {
    "duration": 69,
    "start_time": "2023-10-30T14:12:26.210Z"
   },
   {
    "duration": 340,
    "start_time": "2023-10-30T14:12:26.281Z"
   },
   {
    "duration": 320,
    "start_time": "2023-10-30T14:12:26.622Z"
   },
   {
    "duration": 8,
    "start_time": "2023-10-30T14:12:26.944Z"
   },
   {
    "duration": 40,
    "start_time": "2023-10-30T14:12:26.954Z"
   },
   {
    "duration": 18,
    "start_time": "2023-10-30T14:12:26.996Z"
   },
   {
    "duration": 36,
    "start_time": "2023-10-30T14:12:27.016Z"
   },
   {
    "duration": 46,
    "start_time": "2023-10-30T14:12:27.055Z"
   },
   {
    "duration": 892,
    "start_time": "2023-10-30T14:12:27.103Z"
   },
   {
    "duration": 13,
    "start_time": "2023-10-30T14:12:27.998Z"
   },
   {
    "duration": 43,
    "start_time": "2023-10-30T14:12:28.014Z"
   },
   {
    "duration": 7,
    "start_time": "2023-10-30T14:12:28.058Z"
   },
   {
    "duration": 153,
    "start_time": "2023-10-30T14:12:28.066Z"
   },
   {
    "duration": 8,
    "start_time": "2023-10-30T14:12:28.221Z"
   },
   {
    "duration": 24,
    "start_time": "2023-10-30T14:12:28.231Z"
   },
   {
    "duration": 22,
    "start_time": "2023-10-30T14:12:28.257Z"
   },
   {
    "duration": 22,
    "start_time": "2023-10-30T14:12:28.281Z"
   },
   {
    "duration": 8,
    "start_time": "2023-10-30T14:12:28.305Z"
   },
   {
    "duration": 21,
    "start_time": "2023-10-30T14:12:28.315Z"
   },
   {
    "duration": 9,
    "start_time": "2023-10-30T14:12:28.338Z"
   },
   {
    "duration": 25,
    "start_time": "2023-10-30T14:12:28.348Z"
   },
   {
    "duration": 15,
    "start_time": "2023-10-30T14:12:28.375Z"
   },
   {
    "duration": 2918,
    "start_time": "2023-10-30T15:23:14.390Z"
   },
   {
    "duration": 1111,
    "start_time": "2023-10-30T15:23:17.311Z"
   },
   {
    "duration": 201,
    "start_time": "2023-10-30T15:23:18.423Z"
   },
   {
    "duration": 10,
    "start_time": "2023-10-30T15:23:18.626Z"
   },
   {
    "duration": 76,
    "start_time": "2023-10-30T15:23:18.637Z"
   },
   {
    "duration": 13,
    "start_time": "2023-10-30T15:23:18.715Z"
   },
   {
    "duration": 20,
    "start_time": "2023-10-30T15:23:18.729Z"
   },
   {
    "duration": 28,
    "start_time": "2023-10-30T15:23:18.750Z"
   },
   {
    "duration": 20,
    "start_time": "2023-10-30T15:23:18.779Z"
   },
   {
    "duration": 27,
    "start_time": "2023-10-30T15:23:18.802Z"
   },
   {
    "duration": 23,
    "start_time": "2023-10-30T15:23:18.831Z"
   },
   {
    "duration": 10,
    "start_time": "2023-10-30T15:23:18.856Z"
   },
   {
    "duration": 29,
    "start_time": "2023-10-30T15:23:18.868Z"
   },
   {
    "duration": 1865,
    "start_time": "2023-10-30T15:23:18.899Z"
   },
   {
    "duration": 5,
    "start_time": "2023-10-30T15:23:20.765Z"
   },
   {
    "duration": 11,
    "start_time": "2023-10-30T15:23:20.771Z"
   },
   {
    "duration": 9,
    "start_time": "2023-10-30T15:23:20.783Z"
   },
   {
    "duration": 12,
    "start_time": "2023-10-30T15:23:20.794Z"
   },
   {
    "duration": 28,
    "start_time": "2023-10-30T15:23:20.807Z"
   },
   {
    "duration": 21,
    "start_time": "2023-10-30T15:23:20.837Z"
   },
   {
    "duration": 25,
    "start_time": "2023-10-30T15:23:20.859Z"
   },
   {
    "duration": 116,
    "start_time": "2023-10-30T15:23:20.885Z"
   },
   {
    "duration": 4,
    "start_time": "2023-10-30T15:23:21.003Z"
   },
   {
    "duration": 191,
    "start_time": "2023-10-30T15:23:21.008Z"
   },
   {
    "duration": 4,
    "start_time": "2023-10-30T15:23:21.201Z"
   },
   {
    "duration": 43,
    "start_time": "2023-10-30T15:23:21.207Z"
   },
   {
    "duration": 133,
    "start_time": "2023-10-30T15:23:21.252Z"
   },
   {
    "duration": 7,
    "start_time": "2023-10-30T15:23:21.390Z"
   },
   {
    "duration": 144,
    "start_time": "2023-10-30T15:23:21.399Z"
   },
   {
    "duration": 7,
    "start_time": "2023-10-30T15:23:21.545Z"
   },
   {
    "duration": 682,
    "start_time": "2023-10-30T15:23:21.553Z"
   },
   {
    "duration": 9,
    "start_time": "2023-10-30T15:23:22.244Z"
   },
   {
    "duration": 664,
    "start_time": "2023-10-30T15:23:22.254Z"
   },
   {
    "duration": 207,
    "start_time": "2023-10-30T15:23:22.920Z"
   },
   {
    "duration": 144,
    "start_time": "2023-10-30T15:23:23.128Z"
   },
   {
    "duration": 138,
    "start_time": "2023-10-30T15:23:23.274Z"
   },
   {
    "duration": 4,
    "start_time": "2023-10-30T15:23:23.413Z"
   },
   {
    "duration": 6,
    "start_time": "2023-10-30T15:23:23.418Z"
   },
   {
    "duration": 44,
    "start_time": "2023-10-30T15:23:23.425Z"
   },
   {
    "duration": 19,
    "start_time": "2023-10-30T15:23:23.470Z"
   },
   {
    "duration": 15,
    "start_time": "2023-10-30T15:23:23.490Z"
   },
   {
    "duration": 30,
    "start_time": "2023-10-30T15:23:23.506Z"
   },
   {
    "duration": 14,
    "start_time": "2023-10-30T15:23:23.537Z"
   },
   {
    "duration": 3,
    "start_time": "2023-10-30T15:23:23.553Z"
   },
   {
    "duration": 21,
    "start_time": "2023-10-30T15:23:23.558Z"
   },
   {
    "duration": 14,
    "start_time": "2023-10-30T15:23:23.580Z"
   },
   {
    "duration": 314,
    "start_time": "2023-10-30T15:23:23.596Z"
   },
   {
    "duration": 287,
    "start_time": "2023-10-30T15:23:23.911Z"
   },
   {
    "duration": 7,
    "start_time": "2023-10-30T15:23:24.199Z"
   },
   {
    "duration": 25,
    "start_time": "2023-10-30T15:23:24.207Z"
   },
   {
    "duration": 20,
    "start_time": "2023-10-30T15:23:24.234Z"
   },
   {
    "duration": 22,
    "start_time": "2023-10-30T15:23:24.256Z"
   },
   {
    "duration": 18,
    "start_time": "2023-10-30T15:23:24.280Z"
   },
   {
    "duration": 965,
    "start_time": "2023-10-30T15:23:24.300Z"
   },
   {
    "duration": 8,
    "start_time": "2023-10-30T15:23:25.266Z"
   },
   {
    "duration": 17,
    "start_time": "2023-10-30T15:23:25.276Z"
   },
   {
    "duration": 5,
    "start_time": "2023-10-30T15:23:25.295Z"
   },
   {
    "duration": 198,
    "start_time": "2023-10-30T15:23:25.301Z"
   },
   {
    "duration": 7,
    "start_time": "2023-10-30T15:23:25.500Z"
   },
   {
    "duration": 22,
    "start_time": "2023-10-30T15:23:25.508Z"
   },
   {
    "duration": 15,
    "start_time": "2023-10-30T15:23:25.531Z"
   },
   {
    "duration": 13,
    "start_time": "2023-10-30T15:23:25.548Z"
   },
   {
    "duration": 20,
    "start_time": "2023-10-30T15:23:25.563Z"
   },
   {
    "duration": 29,
    "start_time": "2023-10-30T15:23:25.585Z"
   },
   {
    "duration": 18,
    "start_time": "2023-10-30T15:23:25.616Z"
   },
   {
    "duration": 13,
    "start_time": "2023-10-30T15:23:25.636Z"
   },
   {
    "duration": 19,
    "start_time": "2023-10-30T15:23:25.651Z"
   },
   {
    "duration": 116,
    "start_time": "2023-10-30T15:57:22.859Z"
   },
   {
    "duration": 112,
    "start_time": "2023-10-30T15:57:30.380Z"
   },
   {
    "duration": 7,
    "start_time": "2023-10-30T15:59:26.760Z"
   },
   {
    "duration": 2058,
    "start_time": "2023-10-30T16:04:58.151Z"
   },
   {
    "duration": 1101,
    "start_time": "2023-10-30T16:05:00.211Z"
   },
   {
    "duration": 71,
    "start_time": "2023-10-30T16:05:01.313Z"
   },
   {
    "duration": 10,
    "start_time": "2023-10-30T16:05:01.386Z"
   },
   {
    "duration": 40,
    "start_time": "2023-10-30T16:05:01.397Z"
   },
   {
    "duration": 33,
    "start_time": "2023-10-30T16:05:01.439Z"
   },
   {
    "duration": 45,
    "start_time": "2023-10-30T16:05:01.473Z"
   },
   {
    "duration": 96,
    "start_time": "2023-10-30T16:05:01.519Z"
   },
   {
    "duration": 180,
    "start_time": "2023-10-30T16:05:01.617Z"
   },
   {
    "duration": 60,
    "start_time": "2023-10-30T16:05:01.800Z"
   },
   {
    "duration": 154,
    "start_time": "2023-10-30T16:05:01.862Z"
   },
   {
    "duration": 61,
    "start_time": "2023-10-30T16:05:02.017Z"
   },
   {
    "duration": 80,
    "start_time": "2023-10-30T16:05:02.079Z"
   },
   {
    "duration": 1799,
    "start_time": "2023-10-30T16:05:02.160Z"
   },
   {
    "duration": 6,
    "start_time": "2023-10-30T16:05:03.961Z"
   },
   {
    "duration": 12,
    "start_time": "2023-10-30T16:05:03.968Z"
   },
   {
    "duration": 5,
    "start_time": "2023-10-30T16:05:03.982Z"
   },
   {
    "duration": 11,
    "start_time": "2023-10-30T16:05:03.988Z"
   },
   {
    "duration": 6,
    "start_time": "2023-10-30T16:05:04.000Z"
   },
   {
    "duration": 33,
    "start_time": "2023-10-30T16:05:04.008Z"
   },
   {
    "duration": 9,
    "start_time": "2023-10-30T16:05:04.042Z"
   },
   {
    "duration": 109,
    "start_time": "2023-10-30T16:05:04.053Z"
   },
   {
    "duration": 4,
    "start_time": "2023-10-30T16:05:04.163Z"
   },
   {
    "duration": 164,
    "start_time": "2023-10-30T16:05:04.169Z"
   },
   {
    "duration": 8,
    "start_time": "2023-10-30T16:05:04.334Z"
   },
   {
    "duration": 16,
    "start_time": "2023-10-30T16:05:04.343Z"
   },
   {
    "duration": 103,
    "start_time": "2023-10-30T16:05:04.360Z"
   },
   {
    "duration": 7,
    "start_time": "2023-10-30T16:05:04.467Z"
   },
   {
    "duration": 143,
    "start_time": "2023-10-30T16:05:04.475Z"
   },
   {
    "duration": 7,
    "start_time": "2023-10-30T16:05:04.620Z"
   },
   {
    "duration": 619,
    "start_time": "2023-10-30T16:05:04.629Z"
   },
   {
    "duration": 7,
    "start_time": "2023-10-30T16:05:05.249Z"
   },
   {
    "duration": 647,
    "start_time": "2023-10-30T16:05:05.257Z"
   },
   {
    "duration": 178,
    "start_time": "2023-10-30T16:05:05.906Z"
   },
   {
    "duration": 119,
    "start_time": "2023-10-30T16:05:06.086Z"
   },
   {
    "duration": 138,
    "start_time": "2023-10-30T16:05:06.206Z"
   },
   {
    "duration": 134,
    "start_time": "2023-10-30T16:05:06.345Z"
   },
   {
    "duration": 3,
    "start_time": "2023-10-30T16:05:06.481Z"
   },
   {
    "duration": 10,
    "start_time": "2023-10-30T16:05:06.485Z"
   },
   {
    "duration": 29,
    "start_time": "2023-10-30T16:05:06.496Z"
   },
   {
    "duration": 3,
    "start_time": "2023-10-30T16:05:06.526Z"
   },
   {
    "duration": 10,
    "start_time": "2023-10-30T16:05:06.540Z"
   },
   {
    "duration": 23,
    "start_time": "2023-10-30T16:05:06.551Z"
   },
   {
    "duration": 4,
    "start_time": "2023-10-30T16:05:06.576Z"
   },
   {
    "duration": 5,
    "start_time": "2023-10-30T16:05:06.581Z"
   },
   {
    "duration": 13,
    "start_time": "2023-10-30T16:05:06.588Z"
   },
   {
    "duration": 7,
    "start_time": "2023-10-30T16:05:06.602Z"
   },
   {
    "duration": 278,
    "start_time": "2023-10-30T16:05:06.639Z"
   },
   {
    "duration": 294,
    "start_time": "2023-10-30T16:05:06.918Z"
   },
   {
    "duration": 10,
    "start_time": "2023-10-30T16:05:07.213Z"
   },
   {
    "duration": 19,
    "start_time": "2023-10-30T16:05:07.224Z"
   },
   {
    "duration": 9,
    "start_time": "2023-10-30T16:05:07.244Z"
   },
   {
    "duration": 8,
    "start_time": "2023-10-30T16:05:07.254Z"
   },
   {
    "duration": 17,
    "start_time": "2023-10-30T16:05:07.264Z"
   },
   {
    "duration": 978,
    "start_time": "2023-10-30T16:05:07.283Z"
   },
   {
    "duration": 9,
    "start_time": "2023-10-30T16:05:08.262Z"
   },
   {
    "duration": 16,
    "start_time": "2023-10-30T16:05:08.272Z"
   },
   {
    "duration": 5,
    "start_time": "2023-10-30T16:05:08.289Z"
   },
   {
    "duration": 191,
    "start_time": "2023-10-30T16:05:08.296Z"
   },
   {
    "duration": 8,
    "start_time": "2023-10-30T16:05:08.489Z"
   },
   {
    "duration": 8,
    "start_time": "2023-10-30T16:05:08.498Z"
   },
   {
    "duration": 19,
    "start_time": "2023-10-30T16:05:08.508Z"
   },
   {
    "duration": 15,
    "start_time": "2023-10-30T16:05:08.530Z"
   },
   {
    "duration": 9,
    "start_time": "2023-10-30T16:05:08.548Z"
   },
   {
    "duration": 7,
    "start_time": "2023-10-30T16:05:08.559Z"
   },
   {
    "duration": 6,
    "start_time": "2023-10-30T16:05:08.567Z"
   },
   {
    "duration": 5,
    "start_time": "2023-10-30T16:05:08.574Z"
   },
   {
    "duration": 17,
    "start_time": "2023-10-30T16:05:08.582Z"
   },
   {
    "duration": 38,
    "start_time": "2023-10-30T16:05:08.601Z"
   },
   {
    "duration": 8,
    "start_time": "2023-10-30T16:05:08.641Z"
   },
   {
    "duration": 18,
    "start_time": "2023-10-30T16:05:08.651Z"
   },
   {
    "duration": 16,
    "start_time": "2023-10-30T16:05:08.670Z"
   },
   {
    "duration": 17,
    "start_time": "2023-10-30T16:05:08.687Z"
   },
   {
    "duration": 39,
    "start_time": "2023-10-30T16:05:08.706Z"
   },
   {
    "duration": 12,
    "start_time": "2023-10-30T16:05:08.747Z"
   },
   {
    "duration": 53,
    "start_time": "2024-01-18T10:36:47.563Z"
   },
   {
    "duration": 4067,
    "start_time": "2024-01-18T10:36:54.400Z"
   },
   {
    "duration": 1280,
    "start_time": "2024-01-18T10:36:58.471Z"
   },
   {
    "duration": 205,
    "start_time": "2024-01-18T10:36:59.753Z"
   },
   {
    "duration": 117,
    "start_time": "2024-01-18T10:36:59.960Z"
   },
   {
    "duration": 0,
    "start_time": "2024-01-18T10:37:00.081Z"
   },
   {
    "duration": 0,
    "start_time": "2024-01-18T10:37:00.083Z"
   },
   {
    "duration": 0,
    "start_time": "2024-01-18T10:37:00.085Z"
   },
   {
    "duration": 0,
    "start_time": "2024-01-18T10:37:00.086Z"
   },
   {
    "duration": 0,
    "start_time": "2024-01-18T10:37:00.088Z"
   },
   {
    "duration": 0,
    "start_time": "2024-01-18T10:37:00.089Z"
   },
   {
    "duration": 0,
    "start_time": "2024-01-18T10:37:00.091Z"
   },
   {
    "duration": 0,
    "start_time": "2024-01-18T10:37:00.093Z"
   },
   {
    "duration": 0,
    "start_time": "2024-01-18T10:37:00.094Z"
   },
   {
    "duration": 0,
    "start_time": "2024-01-18T10:37:00.096Z"
   },
   {
    "duration": 0,
    "start_time": "2024-01-18T10:37:00.097Z"
   },
   {
    "duration": 0,
    "start_time": "2024-01-18T10:37:00.099Z"
   },
   {
    "duration": 0,
    "start_time": "2024-01-18T10:37:00.100Z"
   },
   {
    "duration": 0,
    "start_time": "2024-01-18T10:37:00.102Z"
   },
   {
    "duration": 0,
    "start_time": "2024-01-18T10:37:00.103Z"
   },
   {
    "duration": 0,
    "start_time": "2024-01-18T10:37:00.105Z"
   },
   {
    "duration": 1,
    "start_time": "2024-01-18T10:37:00.106Z"
   },
   {
    "duration": 0,
    "start_time": "2024-01-18T10:37:00.108Z"
   },
   {
    "duration": 0,
    "start_time": "2024-01-18T10:37:00.110Z"
   },
   {
    "duration": 0,
    "start_time": "2024-01-18T10:37:00.111Z"
   },
   {
    "duration": 0,
    "start_time": "2024-01-18T10:37:00.112Z"
   },
   {
    "duration": 0,
    "start_time": "2024-01-18T10:37:00.114Z"
   },
   {
    "duration": 0,
    "start_time": "2024-01-18T10:37:00.159Z"
   },
   {
    "duration": 0,
    "start_time": "2024-01-18T10:37:00.161Z"
   },
   {
    "duration": 0,
    "start_time": "2024-01-18T10:37:00.162Z"
   },
   {
    "duration": 0,
    "start_time": "2024-01-18T10:37:00.163Z"
   },
   {
    "duration": 0,
    "start_time": "2024-01-18T10:37:00.165Z"
   },
   {
    "duration": 0,
    "start_time": "2024-01-18T10:37:00.166Z"
   },
   {
    "duration": 0,
    "start_time": "2024-01-18T10:37:00.168Z"
   },
   {
    "duration": 0,
    "start_time": "2024-01-18T10:37:00.169Z"
   },
   {
    "duration": 0,
    "start_time": "2024-01-18T10:37:00.170Z"
   },
   {
    "duration": 0,
    "start_time": "2024-01-18T10:37:00.171Z"
   },
   {
    "duration": 0,
    "start_time": "2024-01-18T10:37:00.172Z"
   },
   {
    "duration": 0,
    "start_time": "2024-01-18T10:37:00.173Z"
   },
   {
    "duration": 0,
    "start_time": "2024-01-18T10:37:00.174Z"
   },
   {
    "duration": 0,
    "start_time": "2024-01-18T10:37:00.176Z"
   },
   {
    "duration": 0,
    "start_time": "2024-01-18T10:37:00.177Z"
   },
   {
    "duration": 0,
    "start_time": "2024-01-18T10:37:00.178Z"
   },
   {
    "duration": 0,
    "start_time": "2024-01-18T10:37:00.179Z"
   },
   {
    "duration": 0,
    "start_time": "2024-01-18T10:37:00.180Z"
   },
   {
    "duration": 0,
    "start_time": "2024-01-18T10:37:00.181Z"
   },
   {
    "duration": 0,
    "start_time": "2024-01-18T10:37:00.183Z"
   },
   {
    "duration": 0,
    "start_time": "2024-01-18T10:37:00.185Z"
   },
   {
    "duration": 0,
    "start_time": "2024-01-18T10:37:00.186Z"
   },
   {
    "duration": 0,
    "start_time": "2024-01-18T10:37:00.187Z"
   },
   {
    "duration": 0,
    "start_time": "2024-01-18T10:37:00.188Z"
   },
   {
    "duration": 0,
    "start_time": "2024-01-18T10:37:00.189Z"
   },
   {
    "duration": 0,
    "start_time": "2024-01-18T10:37:00.189Z"
   },
   {
    "duration": 0,
    "start_time": "2024-01-18T10:37:00.191Z"
   },
   {
    "duration": 1,
    "start_time": "2024-01-18T10:37:00.191Z"
   },
   {
    "duration": 0,
    "start_time": "2024-01-18T10:37:00.193Z"
   },
   {
    "duration": 0,
    "start_time": "2024-01-18T10:37:00.194Z"
   },
   {
    "duration": 0,
    "start_time": "2024-01-18T10:37:00.195Z"
   },
   {
    "duration": 0,
    "start_time": "2024-01-18T10:37:00.196Z"
   },
   {
    "duration": 0,
    "start_time": "2024-01-18T10:37:00.197Z"
   },
   {
    "duration": 0,
    "start_time": "2024-01-18T10:37:00.259Z"
   },
   {
    "duration": 0,
    "start_time": "2024-01-18T10:37:00.261Z"
   },
   {
    "duration": 0,
    "start_time": "2024-01-18T10:37:00.263Z"
   },
   {
    "duration": 0,
    "start_time": "2024-01-18T10:37:00.265Z"
   },
   {
    "duration": 0,
    "start_time": "2024-01-18T10:37:00.267Z"
   },
   {
    "duration": 0,
    "start_time": "2024-01-18T10:37:00.269Z"
   },
   {
    "duration": 0,
    "start_time": "2024-01-18T10:37:00.272Z"
   },
   {
    "duration": 0,
    "start_time": "2024-01-18T10:37:00.273Z"
   },
   {
    "duration": 0,
    "start_time": "2024-01-18T10:37:00.275Z"
   },
   {
    "duration": 0,
    "start_time": "2024-01-18T10:37:00.277Z"
   },
   {
    "duration": 0,
    "start_time": "2024-01-18T10:37:00.279Z"
   },
   {
    "duration": 0,
    "start_time": "2024-01-18T10:37:00.280Z"
   },
   {
    "duration": 0,
    "start_time": "2024-01-18T10:37:00.281Z"
   },
   {
    "duration": 0,
    "start_time": "2024-01-18T10:37:00.282Z"
   },
   {
    "duration": 0,
    "start_time": "2024-01-18T10:37:00.283Z"
   },
   {
    "duration": 0,
    "start_time": "2024-01-18T10:37:00.284Z"
   },
   {
    "duration": 0,
    "start_time": "2024-01-18T10:37:00.286Z"
   },
   {
    "duration": 20,
    "start_time": "2024-01-18T10:37:32.780Z"
   },
   {
    "duration": 43,
    "start_time": "2024-01-18T10:37:43.812Z"
   },
   {
    "duration": 43,
    "start_time": "2024-01-18T10:38:10.657Z"
   },
   {
    "duration": 42,
    "start_time": "2024-01-18T10:38:25.413Z"
   },
   {
    "duration": 65,
    "start_time": "2024-01-18T10:38:31.122Z"
   },
   {
    "duration": 41,
    "start_time": "2024-01-18T10:38:41.914Z"
   },
   {
    "duration": 48,
    "start_time": "2024-01-18T10:39:04.264Z"
   },
   {
    "duration": 42,
    "start_time": "2024-01-18T10:39:12.888Z"
   },
   {
    "duration": 60,
    "start_time": "2024-01-18T10:39:41.355Z"
   },
   {
    "duration": 64,
    "start_time": "2024-01-18T10:40:44.919Z"
   },
   {
    "duration": 31,
    "start_time": "2024-01-18T10:42:39.798Z"
   },
   {
    "duration": 28,
    "start_time": "2024-01-18T10:43:57.715Z"
   },
   {
    "duration": 55,
    "start_time": "2024-01-18T10:44:53.473Z"
   },
   {
    "duration": 57,
    "start_time": "2024-01-18T10:45:18.016Z"
   },
   {
    "duration": 2638,
    "start_time": "2024-01-18T10:45:51.887Z"
   },
   {
    "duration": 1249,
    "start_time": "2024-01-18T10:45:54.527Z"
   },
   {
    "duration": 79,
    "start_time": "2024-01-18T10:45:55.778Z"
   },
   {
    "duration": 60,
    "start_time": "2024-01-18T10:45:55.860Z"
   },
   {
    "duration": 6,
    "start_time": "2024-01-18T10:45:55.921Z"
   },
   {
    "duration": 32,
    "start_time": "2024-01-18T10:45:55.928Z"
   },
   {
    "duration": 7,
    "start_time": "2024-01-18T10:45:55.962Z"
   },
   {
    "duration": 19,
    "start_time": "2024-01-18T10:45:55.972Z"
   },
   {
    "duration": 2111,
    "start_time": "2024-01-18T10:45:55.992Z"
   },
   {
    "duration": 6,
    "start_time": "2024-01-18T10:45:58.105Z"
   },
   {
    "duration": 17,
    "start_time": "2024-01-18T10:45:58.113Z"
   },
   {
    "duration": 5,
    "start_time": "2024-01-18T10:45:58.131Z"
   },
   {
    "duration": 23,
    "start_time": "2024-01-18T10:45:58.137Z"
   },
   {
    "duration": 9,
    "start_time": "2024-01-18T10:45:58.162Z"
   },
   {
    "duration": 26,
    "start_time": "2024-01-18T10:45:58.173Z"
   },
   {
    "duration": 8,
    "start_time": "2024-01-18T10:45:58.201Z"
   },
   {
    "duration": 147,
    "start_time": "2024-01-18T10:45:58.211Z"
   },
   {
    "duration": 8,
    "start_time": "2024-01-18T10:45:58.360Z"
   },
   {
    "duration": 202,
    "start_time": "2024-01-18T10:45:58.370Z"
   },
   {
    "duration": 8,
    "start_time": "2024-01-18T10:45:58.574Z"
   },
   {
    "duration": 13,
    "start_time": "2024-01-18T10:45:58.584Z"
   },
   {
    "duration": 137,
    "start_time": "2024-01-18T10:45:58.598Z"
   },
   {
    "duration": 7,
    "start_time": "2024-01-18T10:45:58.737Z"
   },
   {
    "duration": 159,
    "start_time": "2024-01-18T10:45:58.758Z"
   },
   {
    "duration": 9,
    "start_time": "2024-01-18T10:45:58.919Z"
   },
   {
    "duration": 650,
    "start_time": "2024-01-18T10:45:58.929Z"
   },
   {
    "duration": 10,
    "start_time": "2024-01-18T10:45:59.581Z"
   },
   {
    "duration": 579,
    "start_time": "2024-01-18T10:45:59.595Z"
   },
   {
    "duration": 238,
    "start_time": "2024-01-18T10:46:00.176Z"
   },
   {
    "duration": 133,
    "start_time": "2024-01-18T10:46:00.416Z"
   },
   {
    "duration": 163,
    "start_time": "2024-01-18T10:46:00.550Z"
   },
   {
    "duration": 154,
    "start_time": "2024-01-18T10:46:00.715Z"
   },
   {
    "duration": 4,
    "start_time": "2024-01-18T10:46:00.871Z"
   },
   {
    "duration": 18,
    "start_time": "2024-01-18T10:46:00.877Z"
   },
   {
    "duration": 52,
    "start_time": "2024-01-18T10:46:00.896Z"
   },
   {
    "duration": 5,
    "start_time": "2024-01-18T10:46:00.950Z"
   },
   {
    "duration": 48,
    "start_time": "2024-01-18T10:46:00.957Z"
   },
   {
    "duration": 55,
    "start_time": "2024-01-18T10:46:01.007Z"
   },
   {
    "duration": 24,
    "start_time": "2024-01-18T10:46:01.064Z"
   },
   {
    "duration": 23,
    "start_time": "2024-01-18T10:46:01.090Z"
   },
   {
    "duration": 66,
    "start_time": "2024-01-18T10:46:01.115Z"
   },
   {
    "duration": 57,
    "start_time": "2024-01-18T10:46:01.183Z"
   },
   {
    "duration": 390,
    "start_time": "2024-01-18T10:46:01.242Z"
   },
   {
    "duration": 356,
    "start_time": "2024-01-18T10:46:01.634Z"
   },
   {
    "duration": 9,
    "start_time": "2024-01-18T10:46:01.991Z"
   },
   {
    "duration": 38,
    "start_time": "2024-01-18T10:46:02.002Z"
   },
   {
    "duration": 33,
    "start_time": "2024-01-18T10:46:02.041Z"
   },
   {
    "duration": 23,
    "start_time": "2024-01-18T10:46:02.076Z"
   },
   {
    "duration": 19,
    "start_time": "2024-01-18T10:46:02.101Z"
   },
   {
    "duration": 971,
    "start_time": "2024-01-18T10:46:02.122Z"
   },
   {
    "duration": 11,
    "start_time": "2024-01-18T10:46:03.095Z"
   },
   {
    "duration": 143,
    "start_time": "2024-01-18T10:46:03.107Z"
   },
   {
    "duration": 77,
    "start_time": "2024-01-18T10:46:03.252Z"
   },
   {
    "duration": 227,
    "start_time": "2024-01-18T10:46:03.331Z"
   },
   {
    "duration": 11,
    "start_time": "2024-01-18T10:46:03.560Z"
   },
   {
    "duration": 30,
    "start_time": "2024-01-18T10:46:03.573Z"
   },
   {
    "duration": 44,
    "start_time": "2024-01-18T10:46:03.605Z"
   },
   {
    "duration": 65,
    "start_time": "2024-01-18T10:46:03.651Z"
   },
   {
    "duration": 126,
    "start_time": "2024-01-18T10:46:03.718Z"
   },
   {
    "duration": 70,
    "start_time": "2024-01-18T10:46:03.846Z"
   },
   {
    "duration": 31,
    "start_time": "2024-01-18T10:46:03.918Z"
   },
   {
    "duration": 33,
    "start_time": "2024-01-18T10:46:03.951Z"
   },
   {
    "duration": 37,
    "start_time": "2024-01-18T10:46:03.986Z"
   },
   {
    "duration": 46,
    "start_time": "2024-01-18T10:46:04.024Z"
   },
   {
    "duration": 18,
    "start_time": "2024-01-18T10:46:04.072Z"
   },
   {
    "duration": 41,
    "start_time": "2024-01-18T10:46:04.091Z"
   },
   {
    "duration": 18,
    "start_time": "2024-01-18T10:46:04.134Z"
   },
   {
    "duration": 33,
    "start_time": "2024-01-18T10:46:04.154Z"
   },
   {
    "duration": 36,
    "start_time": "2024-01-18T10:46:04.189Z"
   },
   {
    "duration": 63,
    "start_time": "2024-01-18T10:46:04.226Z"
   },
   {
    "duration": 26,
    "start_time": "2024-01-18T10:46:04.291Z"
   },
   {
    "duration": 62,
    "start_time": "2024-01-18T10:47:15.547Z"
   },
   {
    "duration": 33,
    "start_time": "2024-01-18T10:48:34.912Z"
   },
   {
    "duration": 37,
    "start_time": "2024-01-18T10:48:57.902Z"
   },
   {
    "duration": 38,
    "start_time": "2024-01-18T10:49:24.968Z"
   },
   {
    "duration": 34,
    "start_time": "2024-01-18T10:49:57.934Z"
   },
   {
    "duration": 41,
    "start_time": "2024-01-18T10:50:23.267Z"
   },
   {
    "duration": 35,
    "start_time": "2024-01-18T10:51:24.213Z"
   },
   {
    "duration": 35,
    "start_time": "2024-01-18T10:51:45.940Z"
   },
   {
    "duration": 33,
    "start_time": "2024-01-18T10:52:14.290Z"
   },
   {
    "duration": 40,
    "start_time": "2024-01-18T10:54:04.059Z"
   },
   {
    "duration": 36,
    "start_time": "2024-01-18T10:54:21.377Z"
   },
   {
    "duration": 24,
    "start_time": "2024-01-18T10:56:52.867Z"
   },
   {
    "duration": 18,
    "start_time": "2024-01-18T10:57:15.992Z"
   },
   {
    "duration": 19,
    "start_time": "2024-01-18T10:57:34.294Z"
   },
   {
    "duration": 2853,
    "start_time": "2024-01-18T10:58:21.789Z"
   },
   {
    "duration": 1305,
    "start_time": "2024-01-18T10:58:24.645Z"
   },
   {
    "duration": 82,
    "start_time": "2024-01-18T10:58:25.952Z"
   },
   {
    "duration": 81,
    "start_time": "2024-01-18T10:58:26.036Z"
   },
   {
    "duration": 54,
    "start_time": "2024-01-18T10:58:26.119Z"
   },
   {
    "duration": 34,
    "start_time": "2024-01-18T10:58:26.176Z"
   },
   {
    "duration": 24,
    "start_time": "2024-01-18T10:58:26.212Z"
   },
   {
    "duration": 44,
    "start_time": "2024-01-18T10:58:26.238Z"
   },
   {
    "duration": 59,
    "start_time": "2024-01-18T10:58:26.284Z"
   },
   {
    "duration": 175,
    "start_time": "2024-01-18T10:58:26.347Z"
   },
   {
    "duration": 7,
    "start_time": "2024-01-18T10:58:26.524Z"
   },
   {
    "duration": 305,
    "start_time": "2024-01-18T10:58:26.533Z"
   },
   {
    "duration": 5,
    "start_time": "2024-01-18T10:58:26.840Z"
   },
   {
    "duration": 29,
    "start_time": "2024-01-18T10:58:26.847Z"
   },
   {
    "duration": 128,
    "start_time": "2024-01-18T10:58:26.877Z"
   },
   {
    "duration": 9,
    "start_time": "2024-01-18T10:58:27.007Z"
   },
   {
    "duration": 180,
    "start_time": "2024-01-18T10:58:27.017Z"
   },
   {
    "duration": 9,
    "start_time": "2024-01-18T10:58:27.199Z"
   },
   {
    "duration": 1078,
    "start_time": "2024-01-18T10:58:27.210Z"
   },
   {
    "duration": 9,
    "start_time": "2024-01-18T10:58:28.290Z"
   },
   {
    "duration": 1293,
    "start_time": "2024-01-18T10:58:28.300Z"
   },
   {
    "duration": 235,
    "start_time": "2024-01-18T10:58:29.595Z"
   },
   {
    "duration": 158,
    "start_time": "2024-01-18T10:58:29.832Z"
   },
   {
    "duration": 229,
    "start_time": "2024-01-18T10:58:29.992Z"
   },
   {
    "duration": 173,
    "start_time": "2024-01-18T10:58:30.223Z"
   },
   {
    "duration": 4,
    "start_time": "2024-01-18T10:58:30.397Z"
   },
   {
    "duration": 73,
    "start_time": "2024-01-18T10:58:30.403Z"
   },
   {
    "duration": 93,
    "start_time": "2024-01-18T10:58:30.481Z"
   },
   {
    "duration": 51,
    "start_time": "2024-01-18T10:58:30.576Z"
   },
   {
    "duration": 34,
    "start_time": "2024-01-18T10:58:30.629Z"
   },
   {
    "duration": 51,
    "start_time": "2024-01-18T10:58:30.665Z"
   },
   {
    "duration": 8,
    "start_time": "2024-01-18T10:58:30.718Z"
   },
   {
    "duration": 24,
    "start_time": "2024-01-18T10:58:30.727Z"
   },
   {
    "duration": 27,
    "start_time": "2024-01-18T10:58:30.753Z"
   },
   {
    "duration": 22,
    "start_time": "2024-01-18T10:58:30.782Z"
   },
   {
    "duration": 401,
    "start_time": "2024-01-18T10:58:30.805Z"
   },
   {
    "duration": 357,
    "start_time": "2024-01-18T10:58:31.208Z"
   },
   {
    "duration": 9,
    "start_time": "2024-01-18T10:58:31.567Z"
   },
   {
    "duration": 36,
    "start_time": "2024-01-18T10:58:31.578Z"
   },
   {
    "duration": 23,
    "start_time": "2024-01-18T10:58:31.616Z"
   },
   {
    "duration": 36,
    "start_time": "2024-01-18T10:58:31.641Z"
   },
   {
    "duration": 34,
    "start_time": "2024-01-18T10:58:31.679Z"
   },
   {
    "duration": 1111,
    "start_time": "2024-01-18T10:58:31.714Z"
   },
   {
    "duration": 10,
    "start_time": "2024-01-18T10:58:32.827Z"
   },
   {
    "duration": 75,
    "start_time": "2024-01-18T10:58:32.839Z"
   },
   {
    "duration": 25,
    "start_time": "2024-01-18T10:58:32.916Z"
   },
   {
    "duration": 191,
    "start_time": "2024-01-18T10:58:32.942Z"
   },
   {
    "duration": 9,
    "start_time": "2024-01-18T10:58:33.135Z"
   },
   {
    "duration": 19,
    "start_time": "2024-01-18T10:58:33.158Z"
   },
   {
    "duration": 11,
    "start_time": "2024-01-18T10:58:33.179Z"
   },
   {
    "duration": 19,
    "start_time": "2024-01-18T10:58:33.191Z"
   },
   {
    "duration": 18,
    "start_time": "2024-01-18T10:58:33.211Z"
   },
   {
    "duration": 17,
    "start_time": "2024-01-18T10:58:33.231Z"
   },
   {
    "duration": 8,
    "start_time": "2024-01-18T10:58:33.250Z"
   },
   {
    "duration": 20,
    "start_time": "2024-01-18T10:58:33.260Z"
   },
   {
    "duration": 41,
    "start_time": "2024-01-18T10:58:33.282Z"
   },
   {
    "duration": 9,
    "start_time": "2024-01-18T10:58:33.325Z"
   },
   {
    "duration": 11,
    "start_time": "2024-01-18T10:58:33.336Z"
   },
   {
    "duration": 37,
    "start_time": "2024-01-18T10:58:33.348Z"
   },
   {
    "duration": 16,
    "start_time": "2024-01-18T10:58:33.386Z"
   },
   {
    "duration": 42,
    "start_time": "2024-01-18T10:58:33.403Z"
   },
   {
    "duration": 17,
    "start_time": "2024-01-18T10:58:33.447Z"
   },
   {
    "duration": 15,
    "start_time": "2024-01-18T10:58:33.466Z"
   },
   {
    "duration": 5,
    "start_time": "2024-01-18T10:58:33.484Z"
   },
   {
    "duration": 182,
    "start_time": "2024-01-18T10:59:55.553Z"
   },
   {
    "duration": 230,
    "start_time": "2024-01-18T11:03:05.844Z"
   },
   {
    "duration": 226,
    "start_time": "2024-01-18T11:04:30.803Z"
   },
   {
    "duration": 310,
    "start_time": "2024-01-18T11:05:32.610Z"
   },
   {
    "duration": 227,
    "start_time": "2024-01-18T11:05:42.694Z"
   },
   {
    "duration": 5,
    "start_time": "2024-01-18T11:06:29.468Z"
   },
   {
    "duration": 148,
    "start_time": "2024-01-18T11:07:47.557Z"
   },
   {
    "duration": 136,
    "start_time": "2024-01-18T11:08:03.628Z"
   },
   {
    "duration": 143,
    "start_time": "2024-01-18T11:08:13.591Z"
   },
   {
    "duration": 139,
    "start_time": "2024-01-18T11:08:19.447Z"
   },
   {
    "duration": 137,
    "start_time": "2024-01-18T11:08:43.514Z"
   },
   {
    "duration": 126,
    "start_time": "2024-01-18T11:09:43.480Z"
   },
   {
    "duration": 128,
    "start_time": "2024-01-18T11:09:48.771Z"
   },
   {
    "duration": 133,
    "start_time": "2024-01-18T11:10:00.586Z"
   },
   {
    "duration": 196,
    "start_time": "2024-01-18T11:11:01.130Z"
   },
   {
    "duration": 220,
    "start_time": "2024-01-18T11:11:17.001Z"
   },
   {
    "duration": 310,
    "start_time": "2024-01-18T11:11:35.491Z"
   },
   {
    "duration": 196,
    "start_time": "2024-01-18T11:11:45.420Z"
   },
   {
    "duration": 198,
    "start_time": "2024-01-18T11:11:51.535Z"
   },
   {
    "duration": 208,
    "start_time": "2024-01-18T11:11:56.029Z"
   },
   {
    "duration": 209,
    "start_time": "2024-01-18T11:12:05.754Z"
   },
   {
    "duration": 201,
    "start_time": "2024-01-18T11:12:16.414Z"
   },
   {
    "duration": 198,
    "start_time": "2024-01-18T11:12:33.828Z"
   },
   {
    "duration": 441,
    "start_time": "2024-01-18T11:13:56.129Z"
   },
   {
    "duration": 379,
    "start_time": "2024-01-18T11:14:25.684Z"
   },
   {
    "duration": 382,
    "start_time": "2024-01-18T11:14:51.685Z"
   },
   {
    "duration": 398,
    "start_time": "2024-01-18T11:14:58.680Z"
   },
   {
    "duration": 504,
    "start_time": "2024-01-18T11:16:22.368Z"
   },
   {
    "duration": 413,
    "start_time": "2024-01-18T11:16:40.161Z"
   },
   {
    "duration": 411,
    "start_time": "2024-01-18T11:16:52.973Z"
   },
   {
    "duration": 439,
    "start_time": "2024-01-18T11:16:59.239Z"
   },
   {
    "duration": 420,
    "start_time": "2024-01-18T11:17:10.706Z"
   },
   {
    "duration": 9,
    "start_time": "2024-01-18T11:18:37.576Z"
   },
   {
    "duration": 432,
    "start_time": "2024-01-18T11:18:55.034Z"
   },
   {
    "duration": 169,
    "start_time": "2024-01-18T11:20:24.349Z"
   },
   {
    "duration": 144,
    "start_time": "2024-01-18T11:20:33.756Z"
   },
   {
    "duration": 157,
    "start_time": "2024-01-18T11:20:43.935Z"
   },
   {
    "duration": 649,
    "start_time": "2024-01-18T11:21:42.660Z"
   },
   {
    "duration": 755,
    "start_time": "2024-01-18T11:21:54.204Z"
   },
   {
    "duration": 720,
    "start_time": "2024-01-18T11:22:03.719Z"
   },
   {
    "duration": 252,
    "start_time": "2024-01-18T11:23:25.865Z"
   },
   {
    "duration": 151,
    "start_time": "2024-01-18T11:23:33.134Z"
   },
   {
    "duration": 149,
    "start_time": "2024-01-18T11:23:40.695Z"
   },
   {
    "duration": 168,
    "start_time": "2024-01-18T11:23:52.178Z"
   },
   {
    "duration": 73,
    "start_time": "2024-01-18T11:24:12.885Z"
   },
   {
    "duration": 162,
    "start_time": "2024-01-18T11:24:57.178Z"
   },
   {
    "duration": 172,
    "start_time": "2024-01-18T11:25:01.905Z"
   },
   {
    "duration": 159,
    "start_time": "2024-01-18T11:25:32.965Z"
   },
   {
    "duration": 157,
    "start_time": "2024-01-18T11:25:37.980Z"
   },
   {
    "duration": 183,
    "start_time": "2024-01-18T11:26:02.972Z"
   },
   {
    "duration": 155,
    "start_time": "2024-01-18T11:26:13.489Z"
   },
   {
    "duration": 161,
    "start_time": "2024-01-18T11:26:23.592Z"
   },
   {
    "duration": 684,
    "start_time": "2024-01-18T11:26:44.155Z"
   },
   {
    "duration": 851,
    "start_time": "2024-01-18T11:26:50.324Z"
   },
   {
    "duration": 378,
    "start_time": "2024-01-18T11:26:57.895Z"
   },
   {
    "duration": 207,
    "start_time": "2024-01-18T11:27:03.411Z"
   },
   {
    "duration": 162,
    "start_time": "2024-01-18T11:27:13.589Z"
   },
   {
    "duration": 145,
    "start_time": "2024-01-18T11:28:28.027Z"
   },
   {
    "duration": 155,
    "start_time": "2024-01-18T11:28:46.948Z"
   },
   {
    "duration": 160,
    "start_time": "2024-01-18T11:29:26.547Z"
   },
   {
    "duration": 204,
    "start_time": "2024-01-18T11:30:56.924Z"
   },
   {
    "duration": 170,
    "start_time": "2024-01-18T11:31:08.055Z"
   },
   {
    "duration": 164,
    "start_time": "2024-01-18T11:31:27.932Z"
   },
   {
    "duration": 27,
    "start_time": "2024-01-18T11:32:29.184Z"
   },
   {
    "duration": 26,
    "start_time": "2024-01-18T11:32:55.116Z"
   },
   {
    "duration": 9,
    "start_time": "2024-01-18T11:34:46.883Z"
   },
   {
    "duration": 10,
    "start_time": "2024-01-18T11:34:58.045Z"
   },
   {
    "duration": 67,
    "start_time": "2024-01-18T11:38:39.769Z"
   },
   {
    "duration": 118,
    "start_time": "2024-01-18T11:38:48.179Z"
   },
   {
    "duration": 8,
    "start_time": "2024-01-18T11:38:59.947Z"
   },
   {
    "duration": 8,
    "start_time": "2024-01-18T11:40:19.840Z"
   },
   {
    "duration": 7,
    "start_time": "2024-01-18T11:40:48.491Z"
   },
   {
    "duration": 12,
    "start_time": "2024-01-18T11:41:13.541Z"
   },
   {
    "duration": 12,
    "start_time": "2024-01-18T11:41:55.343Z"
   },
   {
    "duration": 208,
    "start_time": "2024-01-18T11:42:54.136Z"
   },
   {
    "duration": 2882,
    "start_time": "2024-01-18T11:43:21.039Z"
   },
   {
    "duration": 1270,
    "start_time": "2024-01-18T11:43:23.923Z"
   },
   {
    "duration": 87,
    "start_time": "2024-01-18T11:43:25.195Z"
   },
   {
    "duration": 65,
    "start_time": "2024-01-18T11:43:25.284Z"
   },
   {
    "duration": 46,
    "start_time": "2024-01-18T11:43:25.350Z"
   },
   {
    "duration": 19,
    "start_time": "2024-01-18T11:43:25.398Z"
   },
   {
    "duration": 8,
    "start_time": "2024-01-18T11:43:25.419Z"
   },
   {
    "duration": 34,
    "start_time": "2024-01-18T11:43:25.429Z"
   },
   {
    "duration": 16,
    "start_time": "2024-01-18T11:43:25.472Z"
   },
   {
    "duration": 205,
    "start_time": "2024-01-18T11:43:25.492Z"
   },
   {
    "duration": 6,
    "start_time": "2024-01-18T11:43:25.699Z"
   },
   {
    "duration": 293,
    "start_time": "2024-01-18T11:43:25.707Z"
   },
   {
    "duration": 5,
    "start_time": "2024-01-18T11:43:26.001Z"
   },
   {
    "duration": 193,
    "start_time": "2024-01-18T11:43:26.008Z"
   },
   {
    "duration": 8,
    "start_time": "2024-01-18T11:43:26.203Z"
   },
   {
    "duration": 234,
    "start_time": "2024-01-18T11:43:26.212Z"
   },
   {
    "duration": 18,
    "start_time": "2024-01-18T11:43:26.448Z"
   },
   {
    "duration": 432,
    "start_time": "2024-01-18T11:43:26.467Z"
   },
   {
    "duration": 9,
    "start_time": "2024-01-18T11:43:26.901Z"
   },
   {
    "duration": 782,
    "start_time": "2024-01-18T11:43:26.912Z"
   },
   {
    "duration": 195,
    "start_time": "2024-01-18T11:43:27.696Z"
   },
   {
    "duration": 154,
    "start_time": "2024-01-18T11:43:27.892Z"
   },
   {
    "duration": 248,
    "start_time": "2024-01-18T11:43:28.048Z"
   },
   {
    "duration": 4,
    "start_time": "2024-01-18T11:43:28.297Z"
   },
   {
    "duration": 16,
    "start_time": "2024-01-18T11:43:28.303Z"
   },
   {
    "duration": 37,
    "start_time": "2024-01-18T11:43:28.321Z"
   },
   {
    "duration": 16,
    "start_time": "2024-01-18T11:43:28.364Z"
   },
   {
    "duration": 13,
    "start_time": "2024-01-18T11:43:28.384Z"
   },
   {
    "duration": 23,
    "start_time": "2024-01-18T11:43:28.399Z"
   },
   {
    "duration": 4,
    "start_time": "2024-01-18T11:43:28.423Z"
   },
   {
    "duration": 49,
    "start_time": "2024-01-18T11:43:28.429Z"
   },
   {
    "duration": 14,
    "start_time": "2024-01-18T11:43:28.482Z"
   },
   {
    "duration": 335,
    "start_time": "2024-01-18T11:43:28.498Z"
   },
   {
    "duration": 0,
    "start_time": "2024-01-18T11:43:28.835Z"
   },
   {
    "duration": 0,
    "start_time": "2024-01-18T11:43:28.836Z"
   },
   {
    "duration": 0,
    "start_time": "2024-01-18T11:43:28.837Z"
   },
   {
    "duration": 0,
    "start_time": "2024-01-18T11:43:28.838Z"
   },
   {
    "duration": 0,
    "start_time": "2024-01-18T11:43:28.839Z"
   },
   {
    "duration": 0,
    "start_time": "2024-01-18T11:43:28.840Z"
   },
   {
    "duration": 0,
    "start_time": "2024-01-18T11:43:28.841Z"
   },
   {
    "duration": 0,
    "start_time": "2024-01-18T11:43:28.842Z"
   },
   {
    "duration": 0,
    "start_time": "2024-01-18T11:43:28.843Z"
   },
   {
    "duration": 0,
    "start_time": "2024-01-18T11:43:28.844Z"
   },
   {
    "duration": 0,
    "start_time": "2024-01-18T11:43:28.845Z"
   },
   {
    "duration": 0,
    "start_time": "2024-01-18T11:43:28.860Z"
   },
   {
    "duration": 0,
    "start_time": "2024-01-18T11:43:28.861Z"
   },
   {
    "duration": 0,
    "start_time": "2024-01-18T11:43:28.862Z"
   },
   {
    "duration": 0,
    "start_time": "2024-01-18T11:43:28.863Z"
   },
   {
    "duration": 0,
    "start_time": "2024-01-18T11:43:28.864Z"
   },
   {
    "duration": 0,
    "start_time": "2024-01-18T11:43:28.865Z"
   },
   {
    "duration": 0,
    "start_time": "2024-01-18T11:43:28.866Z"
   },
   {
    "duration": 0,
    "start_time": "2024-01-18T11:43:28.867Z"
   },
   {
    "duration": 0,
    "start_time": "2024-01-18T11:43:28.868Z"
   },
   {
    "duration": 0,
    "start_time": "2024-01-18T11:43:28.869Z"
   },
   {
    "duration": 0,
    "start_time": "2024-01-18T11:43:28.873Z"
   },
   {
    "duration": 0,
    "start_time": "2024-01-18T11:43:28.874Z"
   },
   {
    "duration": 0,
    "start_time": "2024-01-18T11:43:28.875Z"
   },
   {
    "duration": 0,
    "start_time": "2024-01-18T11:43:28.876Z"
   },
   {
    "duration": 0,
    "start_time": "2024-01-18T11:43:28.877Z"
   },
   {
    "duration": 0,
    "start_time": "2024-01-18T11:43:28.882Z"
   },
   {
    "duration": 0,
    "start_time": "2024-01-18T11:43:28.886Z"
   },
   {
    "duration": 467,
    "start_time": "2024-01-18T11:44:02.526Z"
   },
   {
    "duration": 470,
    "start_time": "2024-01-18T11:44:33.259Z"
   },
   {
    "duration": 443,
    "start_time": "2024-01-18T11:44:41.679Z"
   },
   {
    "duration": 472,
    "start_time": "2024-01-18T11:45:50.302Z"
   },
   {
    "duration": 2933,
    "start_time": "2024-01-18T11:46:03.912Z"
   },
   {
    "duration": 1343,
    "start_time": "2024-01-18T11:46:06.847Z"
   },
   {
    "duration": 89,
    "start_time": "2024-01-18T11:46:08.191Z"
   },
   {
    "duration": 64,
    "start_time": "2024-01-18T11:46:08.283Z"
   },
   {
    "duration": 61,
    "start_time": "2024-01-18T11:46:08.349Z"
   },
   {
    "duration": 21,
    "start_time": "2024-01-18T11:46:08.412Z"
   },
   {
    "duration": 8,
    "start_time": "2024-01-18T11:46:08.435Z"
   },
   {
    "duration": 26,
    "start_time": "2024-01-18T11:46:08.444Z"
   },
   {
    "duration": 37,
    "start_time": "2024-01-18T11:46:08.479Z"
   },
   {
    "duration": 208,
    "start_time": "2024-01-18T11:46:08.517Z"
   },
   {
    "duration": 6,
    "start_time": "2024-01-18T11:46:08.726Z"
   },
   {
    "duration": 277,
    "start_time": "2024-01-18T11:46:08.733Z"
   },
   {
    "duration": 6,
    "start_time": "2024-01-18T11:46:09.012Z"
   },
   {
    "duration": 183,
    "start_time": "2024-01-18T11:46:09.022Z"
   },
   {
    "duration": 9,
    "start_time": "2024-01-18T11:46:09.207Z"
   },
   {
    "duration": 261,
    "start_time": "2024-01-18T11:46:09.218Z"
   },
   {
    "duration": 11,
    "start_time": "2024-01-18T11:46:09.481Z"
   },
   {
    "duration": 504,
    "start_time": "2024-01-18T11:46:09.494Z"
   },
   {
    "duration": 9,
    "start_time": "2024-01-18T11:46:09.999Z"
   },
   {
    "duration": 779,
    "start_time": "2024-01-18T11:46:10.010Z"
   },
   {
    "duration": 192,
    "start_time": "2024-01-18T11:46:10.791Z"
   },
   {
    "duration": 143,
    "start_time": "2024-01-18T11:46:10.986Z"
   },
   {
    "duration": 252,
    "start_time": "2024-01-18T11:46:11.131Z"
   },
   {
    "duration": 5,
    "start_time": "2024-01-18T11:46:11.387Z"
   },
   {
    "duration": 5,
    "start_time": "2024-01-18T11:46:11.393Z"
   },
   {
    "duration": 26,
    "start_time": "2024-01-18T11:46:11.400Z"
   },
   {
    "duration": 3,
    "start_time": "2024-01-18T11:46:11.428Z"
   },
   {
    "duration": 44,
    "start_time": "2024-01-18T11:46:11.433Z"
   },
   {
    "duration": 29,
    "start_time": "2024-01-18T11:46:11.478Z"
   },
   {
    "duration": 3,
    "start_time": "2024-01-18T11:46:11.509Z"
   },
   {
    "duration": 4,
    "start_time": "2024-01-18T11:46:11.515Z"
   },
   {
    "duration": 24,
    "start_time": "2024-01-18T11:46:11.521Z"
   },
   {
    "duration": 491,
    "start_time": "2024-01-18T11:46:11.546Z"
   },
   {
    "duration": 496,
    "start_time": "2024-01-18T11:46:12.038Z"
   },
   {
    "duration": 9,
    "start_time": "2024-01-18T11:46:12.536Z"
   },
   {
    "duration": 32,
    "start_time": "2024-01-18T11:46:12.547Z"
   },
   {
    "duration": 14,
    "start_time": "2024-01-18T11:46:12.581Z"
   },
   {
    "duration": 8,
    "start_time": "2024-01-18T11:46:12.597Z"
   },
   {
    "duration": 27,
    "start_time": "2024-01-18T11:46:12.607Z"
   },
   {
    "duration": 1057,
    "start_time": "2024-01-18T11:46:12.636Z"
   },
   {
    "duration": 12,
    "start_time": "2024-01-18T11:46:13.697Z"
   },
   {
    "duration": 19,
    "start_time": "2024-01-18T11:46:13.710Z"
   },
   {
    "duration": 45,
    "start_time": "2024-01-18T11:46:13.730Z"
   },
   {
    "duration": 173,
    "start_time": "2024-01-18T11:46:13.777Z"
   },
   {
    "duration": 24,
    "start_time": "2024-01-18T11:46:13.951Z"
   },
   {
    "duration": 11,
    "start_time": "2024-01-18T11:46:13.978Z"
   },
   {
    "duration": 4,
    "start_time": "2024-01-18T11:46:13.991Z"
   },
   {
    "duration": 6,
    "start_time": "2024-01-18T11:46:13.997Z"
   },
   {
    "duration": 7,
    "start_time": "2024-01-18T11:46:14.005Z"
   },
   {
    "duration": 7,
    "start_time": "2024-01-18T11:46:14.014Z"
   },
   {
    "duration": 45,
    "start_time": "2024-01-18T11:46:14.023Z"
   },
   {
    "duration": 5,
    "start_time": "2024-01-18T11:46:14.071Z"
   },
   {
    "duration": 40,
    "start_time": "2024-01-18T11:46:14.078Z"
   },
   {
    "duration": 11,
    "start_time": "2024-01-18T11:46:14.120Z"
   },
   {
    "duration": 9,
    "start_time": "2024-01-18T11:46:14.133Z"
   },
   {
    "duration": 30,
    "start_time": "2024-01-18T11:46:14.143Z"
   },
   {
    "duration": 26,
    "start_time": "2024-01-18T11:46:14.175Z"
   },
   {
    "duration": 15,
    "start_time": "2024-01-18T11:46:14.203Z"
   },
   {
    "duration": 18,
    "start_time": "2024-01-18T11:46:14.220Z"
   },
   {
    "duration": 35,
    "start_time": "2024-01-18T11:46:14.241Z"
   },
   {
    "duration": 9,
    "start_time": "2024-01-18T11:46:14.279Z"
   },
   {
    "duration": 14,
    "start_time": "2024-01-18T11:47:42.637Z"
   },
   {
    "duration": 19,
    "start_time": "2024-01-18T11:47:48.058Z"
   },
   {
    "duration": 1090,
    "start_time": "2024-01-18T11:48:02.548Z"
   },
   {
    "duration": 1060,
    "start_time": "2024-01-18T11:48:29.028Z"
   },
   {
    "duration": 1088,
    "start_time": "2024-01-18T11:48:40.495Z"
   },
   {
    "duration": 1367,
    "start_time": "2024-01-18T11:49:16.548Z"
   },
   {
    "duration": 2903,
    "start_time": "2024-01-18T11:49:32.320Z"
   },
   {
    "duration": 1259,
    "start_time": "2024-01-18T11:49:35.226Z"
   },
   {
    "duration": 77,
    "start_time": "2024-01-18T11:49:36.487Z"
   },
   {
    "duration": 66,
    "start_time": "2024-01-18T11:49:36.573Z"
   },
   {
    "duration": 59,
    "start_time": "2024-01-18T11:49:36.640Z"
   },
   {
    "duration": 20,
    "start_time": "2024-01-18T11:49:36.700Z"
   },
   {
    "duration": 7,
    "start_time": "2024-01-18T11:49:36.722Z"
   },
   {
    "duration": 42,
    "start_time": "2024-01-18T11:49:36.730Z"
   },
   {
    "duration": 12,
    "start_time": "2024-01-18T11:49:36.775Z"
   },
   {
    "duration": 221,
    "start_time": "2024-01-18T11:49:36.792Z"
   },
   {
    "duration": 5,
    "start_time": "2024-01-18T11:49:37.015Z"
   },
   {
    "duration": 285,
    "start_time": "2024-01-18T11:49:37.023Z"
   },
   {
    "duration": 5,
    "start_time": "2024-01-18T11:49:37.310Z"
   },
   {
    "duration": 172,
    "start_time": "2024-01-18T11:49:37.317Z"
   },
   {
    "duration": 8,
    "start_time": "2024-01-18T11:49:37.490Z"
   },
   {
    "duration": 235,
    "start_time": "2024-01-18T11:49:37.500Z"
   },
   {
    "duration": 8,
    "start_time": "2024-01-18T11:49:37.737Z"
   },
   {
    "duration": 464,
    "start_time": "2024-01-18T11:49:37.747Z"
   },
   {
    "duration": 9,
    "start_time": "2024-01-18T11:49:38.213Z"
   },
   {
    "duration": 756,
    "start_time": "2024-01-18T11:49:38.224Z"
   },
   {
    "duration": 193,
    "start_time": "2024-01-18T11:49:38.981Z"
   },
   {
    "duration": 147,
    "start_time": "2024-01-18T11:49:39.184Z"
   },
   {
    "duration": 266,
    "start_time": "2024-01-18T11:49:39.333Z"
   },
   {
    "duration": 4,
    "start_time": "2024-01-18T11:49:39.601Z"
   },
   {
    "duration": 5,
    "start_time": "2024-01-18T11:49:39.607Z"
   },
   {
    "duration": 54,
    "start_time": "2024-01-18T11:49:39.614Z"
   },
   {
    "duration": 6,
    "start_time": "2024-01-18T11:49:39.676Z"
   },
   {
    "duration": 10,
    "start_time": "2024-01-18T11:49:39.688Z"
   },
   {
    "duration": 27,
    "start_time": "2024-01-18T11:49:39.699Z"
   },
   {
    "duration": 4,
    "start_time": "2024-01-18T11:49:39.728Z"
   },
   {
    "duration": 17,
    "start_time": "2024-01-18T11:49:39.733Z"
   },
   {
    "duration": 32,
    "start_time": "2024-01-18T11:49:39.751Z"
   },
   {
    "duration": 477,
    "start_time": "2024-01-18T11:49:39.786Z"
   },
   {
    "duration": 476,
    "start_time": "2024-01-18T11:49:40.265Z"
   },
   {
    "duration": 19,
    "start_time": "2024-01-18T11:49:40.743Z"
   },
   {
    "duration": 20,
    "start_time": "2024-01-18T11:49:40.763Z"
   },
   {
    "duration": 31,
    "start_time": "2024-01-18T11:49:40.785Z"
   },
   {
    "duration": 17,
    "start_time": "2024-01-18T11:49:40.818Z"
   },
   {
    "duration": 35,
    "start_time": "2024-01-18T11:49:40.837Z"
   },
   {
    "duration": 1090,
    "start_time": "2024-01-18T11:49:40.874Z"
   },
   {
    "duration": 21,
    "start_time": "2024-01-18T11:49:41.970Z"
   },
   {
    "duration": 30,
    "start_time": "2024-01-18T11:49:41.993Z"
   },
   {
    "duration": 216,
    "start_time": "2024-01-18T11:49:42.025Z"
   },
   {
    "duration": 20,
    "start_time": "2024-01-18T11:49:42.243Z"
   },
   {
    "duration": 23,
    "start_time": "2024-01-18T11:49:42.264Z"
   },
   {
    "duration": 6,
    "start_time": "2024-01-18T11:49:42.290Z"
   },
   {
    "duration": 14,
    "start_time": "2024-01-18T11:49:42.298Z"
   },
   {
    "duration": 30,
    "start_time": "2024-01-18T11:49:42.314Z"
   },
   {
    "duration": 43,
    "start_time": "2024-01-18T11:49:42.345Z"
   },
   {
    "duration": 9,
    "start_time": "2024-01-18T11:49:42.390Z"
   },
   {
    "duration": 42,
    "start_time": "2024-01-18T11:49:42.401Z"
   },
   {
    "duration": 50,
    "start_time": "2024-01-18T11:49:42.445Z"
   },
   {
    "duration": 21,
    "start_time": "2024-01-18T11:49:42.497Z"
   },
   {
    "duration": 28,
    "start_time": "2024-01-18T11:49:42.519Z"
   },
   {
    "duration": 39,
    "start_time": "2024-01-18T11:49:42.548Z"
   },
   {
    "duration": 28,
    "start_time": "2024-01-18T11:49:42.588Z"
   },
   {
    "duration": 20,
    "start_time": "2024-01-18T11:49:42.618Z"
   },
   {
    "duration": 51,
    "start_time": "2024-01-18T11:49:42.640Z"
   },
   {
    "duration": 19,
    "start_time": "2024-01-18T11:49:42.693Z"
   },
   {
    "duration": 24,
    "start_time": "2024-01-18T11:49:42.714Z"
   },
   {
    "duration": 70,
    "start_time": "2024-01-18T11:52:49.420Z"
   },
   {
    "duration": 5,
    "start_time": "2024-01-18T11:52:53.224Z"
   },
   {
    "duration": 4,
    "start_time": "2024-01-18T11:52:56.435Z"
   },
   {
    "duration": 6,
    "start_time": "2024-01-18T11:53:09.079Z"
   },
   {
    "duration": 211,
    "start_time": "2024-01-18T11:53:14.746Z"
   },
   {
    "duration": 5,
    "start_time": "2024-01-18T11:53:17.906Z"
   },
   {
    "duration": 5,
    "start_time": "2024-01-18T11:53:36.722Z"
   },
   {
    "duration": 5,
    "start_time": "2024-01-18T11:54:40.824Z"
   },
   {
    "duration": 13,
    "start_time": "2024-01-18T11:54:45.764Z"
   },
   {
    "duration": 4,
    "start_time": "2024-01-18T11:54:50.286Z"
   },
   {
    "duration": 2846,
    "start_time": "2024-01-18T11:57:34.988Z"
   },
   {
    "duration": 1313,
    "start_time": "2024-01-18T11:57:37.836Z"
   },
   {
    "duration": 76,
    "start_time": "2024-01-18T11:57:39.151Z"
   },
   {
    "duration": 78,
    "start_time": "2024-01-18T11:57:39.229Z"
   },
   {
    "duration": 34,
    "start_time": "2024-01-18T11:57:39.308Z"
   },
   {
    "duration": 46,
    "start_time": "2024-01-18T11:57:39.344Z"
   },
   {
    "duration": 12,
    "start_time": "2024-01-18T11:57:39.391Z"
   },
   {
    "duration": 33,
    "start_time": "2024-01-18T11:57:39.404Z"
   },
   {
    "duration": 52,
    "start_time": "2024-01-18T11:57:39.439Z"
   },
   {
    "duration": 200,
    "start_time": "2024-01-18T11:57:39.493Z"
   },
   {
    "duration": 6,
    "start_time": "2024-01-18T11:57:39.694Z"
   },
   {
    "duration": 281,
    "start_time": "2024-01-18T11:57:39.701Z"
   },
   {
    "duration": 5,
    "start_time": "2024-01-18T11:57:39.984Z"
   },
   {
    "duration": 159,
    "start_time": "2024-01-18T11:57:39.991Z"
   },
   {
    "duration": 18,
    "start_time": "2024-01-18T11:57:40.152Z"
   },
   {
    "duration": 246,
    "start_time": "2024-01-18T11:57:40.172Z"
   },
   {
    "duration": 12,
    "start_time": "2024-01-18T11:57:40.420Z"
   },
   {
    "duration": 464,
    "start_time": "2024-01-18T11:57:40.434Z"
   },
   {
    "duration": 9,
    "start_time": "2024-01-18T11:57:40.900Z"
   },
   {
    "duration": 794,
    "start_time": "2024-01-18T11:57:40.911Z"
   },
   {
    "duration": 183,
    "start_time": "2024-01-18T11:57:41.706Z"
   },
   {
    "duration": 161,
    "start_time": "2024-01-18T11:57:41.891Z"
   },
   {
    "duration": 260,
    "start_time": "2024-01-18T11:57:42.053Z"
   },
   {
    "duration": 4,
    "start_time": "2024-01-18T11:57:42.314Z"
   },
   {
    "duration": 5,
    "start_time": "2024-01-18T11:57:42.320Z"
   },
   {
    "duration": 51,
    "start_time": "2024-01-18T11:57:42.327Z"
   },
   {
    "duration": 5,
    "start_time": "2024-01-18T11:57:42.380Z"
   },
   {
    "duration": 10,
    "start_time": "2024-01-18T11:57:42.389Z"
   },
   {
    "duration": 23,
    "start_time": "2024-01-18T11:57:42.400Z"
   },
   {
    "duration": 4,
    "start_time": "2024-01-18T11:57:42.424Z"
   },
   {
    "duration": 44,
    "start_time": "2024-01-18T11:57:42.429Z"
   },
   {
    "duration": 17,
    "start_time": "2024-01-18T11:57:42.475Z"
   },
   {
    "duration": 487,
    "start_time": "2024-01-18T11:57:42.494Z"
   },
   {
    "duration": 466,
    "start_time": "2024-01-18T11:57:42.984Z"
   },
   {
    "duration": 24,
    "start_time": "2024-01-18T11:57:43.452Z"
   },
   {
    "duration": 11,
    "start_time": "2024-01-18T11:57:43.478Z"
   },
   {
    "duration": 12,
    "start_time": "2024-01-18T11:57:43.491Z"
   },
   {
    "duration": 31,
    "start_time": "2024-01-18T11:57:43.505Z"
   },
   {
    "duration": 35,
    "start_time": "2024-01-18T11:57:43.538Z"
   },
   {
    "duration": 1078,
    "start_time": "2024-01-18T11:57:43.575Z"
   },
   {
    "duration": 32,
    "start_time": "2024-01-18T11:57:44.661Z"
   },
   {
    "duration": 21,
    "start_time": "2024-01-18T11:57:44.695Z"
   },
   {
    "duration": 184,
    "start_time": "2024-01-18T11:57:44.718Z"
   },
   {
    "duration": 9,
    "start_time": "2024-01-18T11:57:44.904Z"
   },
   {
    "duration": 23,
    "start_time": "2024-01-18T11:57:44.915Z"
   },
   {
    "duration": 40,
    "start_time": "2024-01-18T11:57:44.940Z"
   },
   {
    "duration": 28,
    "start_time": "2024-01-18T11:57:44.982Z"
   },
   {
    "duration": 48,
    "start_time": "2024-01-18T11:57:45.011Z"
   },
   {
    "duration": 34,
    "start_time": "2024-01-18T11:57:45.065Z"
   },
   {
    "duration": 36,
    "start_time": "2024-01-18T11:57:45.101Z"
   },
   {
    "duration": 47,
    "start_time": "2024-01-18T11:57:45.139Z"
   },
   {
    "duration": 39,
    "start_time": "2024-01-18T11:57:45.188Z"
   },
   {
    "duration": 54,
    "start_time": "2024-01-18T11:57:45.229Z"
   },
   {
    "duration": 3070,
    "start_time": "2024-01-18T11:58:07.631Z"
   },
   {
    "duration": 1971,
    "start_time": "2024-01-18T11:58:10.703Z"
   },
   {
    "duration": 81,
    "start_time": "2024-01-18T11:58:12.683Z"
   },
   {
    "duration": 62,
    "start_time": "2024-01-18T11:58:12.769Z"
   },
   {
    "duration": 56,
    "start_time": "2024-01-18T11:58:12.833Z"
   },
   {
    "duration": 19,
    "start_time": "2024-01-18T11:58:12.891Z"
   },
   {
    "duration": 6,
    "start_time": "2024-01-18T11:58:12.912Z"
   },
   {
    "duration": 6,
    "start_time": "2024-01-18T11:58:12.919Z"
   },
   {
    "duration": 42,
    "start_time": "2024-01-18T11:58:12.927Z"
   },
   {
    "duration": 192,
    "start_time": "2024-01-18T11:58:12.977Z"
   },
   {
    "duration": 10,
    "start_time": "2024-01-18T11:58:13.170Z"
   },
   {
    "duration": 266,
    "start_time": "2024-01-18T11:58:13.182Z"
   },
   {
    "duration": 30,
    "start_time": "2024-01-18T11:58:13.449Z"
   },
   {
    "duration": 143,
    "start_time": "2024-01-18T11:58:13.481Z"
   },
   {
    "duration": 9,
    "start_time": "2024-01-18T11:58:13.626Z"
   },
   {
    "duration": 249,
    "start_time": "2024-01-18T11:58:13.636Z"
   },
   {
    "duration": 9,
    "start_time": "2024-01-18T11:58:13.886Z"
   },
   {
    "duration": 525,
    "start_time": "2024-01-18T11:58:13.897Z"
   },
   {
    "duration": 10,
    "start_time": "2024-01-18T11:58:14.424Z"
   },
   {
    "duration": 784,
    "start_time": "2024-01-18T11:58:14.436Z"
   },
   {
    "duration": 191,
    "start_time": "2024-01-18T11:58:15.222Z"
   },
   {
    "duration": 170,
    "start_time": "2024-01-18T11:58:15.415Z"
   },
   {
    "duration": 253,
    "start_time": "2024-01-18T11:58:15.587Z"
   },
   {
    "duration": 3,
    "start_time": "2024-01-18T11:58:15.842Z"
   },
   {
    "duration": 33,
    "start_time": "2024-01-18T11:58:15.847Z"
   },
   {
    "duration": 42,
    "start_time": "2024-01-18T11:58:15.883Z"
   },
   {
    "duration": 4,
    "start_time": "2024-01-18T11:58:15.927Z"
   },
   {
    "duration": 9,
    "start_time": "2024-01-18T11:58:15.934Z"
   },
   {
    "duration": 31,
    "start_time": "2024-01-18T11:58:15.945Z"
   },
   {
    "duration": 7,
    "start_time": "2024-01-18T11:58:15.984Z"
   },
   {
    "duration": 20,
    "start_time": "2024-01-18T11:58:15.993Z"
   },
   {
    "duration": 18,
    "start_time": "2024-01-18T11:58:16.015Z"
   },
   {
    "duration": 477,
    "start_time": "2024-01-18T11:58:16.035Z"
   },
   {
    "duration": 484,
    "start_time": "2024-01-18T11:58:16.513Z"
   },
   {
    "duration": 11,
    "start_time": "2024-01-18T11:58:16.999Z"
   },
   {
    "duration": 19,
    "start_time": "2024-01-18T11:58:17.012Z"
   },
   {
    "duration": 26,
    "start_time": "2024-01-18T11:58:17.032Z"
   },
   {
    "duration": 16,
    "start_time": "2024-01-18T11:58:17.062Z"
   },
   {
    "duration": 17,
    "start_time": "2024-01-18T11:58:17.082Z"
   },
   {
    "duration": 1070,
    "start_time": "2024-01-18T11:58:17.100Z"
   },
   {
    "duration": 22,
    "start_time": "2024-01-18T11:58:18.176Z"
   },
   {
    "duration": 37,
    "start_time": "2024-01-18T11:58:18.199Z"
   },
   {
    "duration": 205,
    "start_time": "2024-01-18T11:58:18.237Z"
   },
   {
    "duration": 31,
    "start_time": "2024-01-18T11:58:18.444Z"
   },
   {
    "duration": 11,
    "start_time": "2024-01-18T11:58:18.478Z"
   },
   {
    "duration": 26,
    "start_time": "2024-01-18T11:58:18.490Z"
   },
   {
    "duration": 29,
    "start_time": "2024-01-18T11:58:18.518Z"
   },
   {
    "duration": 41,
    "start_time": "2024-01-18T11:58:18.548Z"
   },
   {
    "duration": 38,
    "start_time": "2024-01-18T11:58:18.591Z"
   },
   {
    "duration": 15,
    "start_time": "2024-01-18T11:58:18.630Z"
   },
   {
    "duration": 10,
    "start_time": "2024-01-18T11:58:18.646Z"
   },
   {
    "duration": 37,
    "start_time": "2024-01-18T11:58:18.657Z"
   },
   {
    "duration": 17,
    "start_time": "2024-01-18T11:58:18.696Z"
   },
   {
    "duration": 46,
    "start_time": "2024-01-19T08:12:37.981Z"
   },
   {
    "duration": 3050,
    "start_time": "2024-01-19T08:13:13.283Z"
   },
   {
    "duration": 1344,
    "start_time": "2024-01-19T08:13:16.335Z"
   },
   {
    "duration": 193,
    "start_time": "2024-01-19T08:13:17.681Z"
   },
   {
    "duration": 52,
    "start_time": "2024-01-19T08:13:17.876Z"
   },
   {
    "duration": 38,
    "start_time": "2024-01-19T08:13:17.930Z"
   },
   {
    "duration": 16,
    "start_time": "2024-01-19T08:13:17.969Z"
   },
   {
    "duration": 5,
    "start_time": "2024-01-19T08:13:17.987Z"
   },
   {
    "duration": 5,
    "start_time": "2024-01-19T08:13:17.993Z"
   },
   {
    "duration": 7,
    "start_time": "2024-01-19T08:13:18.000Z"
   },
   {
    "duration": 186,
    "start_time": "2024-01-19T08:13:18.009Z"
   },
   {
    "duration": 4,
    "start_time": "2024-01-19T08:13:18.197Z"
   },
   {
    "duration": 230,
    "start_time": "2024-01-19T08:13:18.203Z"
   },
   {
    "duration": 4,
    "start_time": "2024-01-19T08:13:18.434Z"
   },
   {
    "duration": 142,
    "start_time": "2024-01-19T08:13:18.440Z"
   },
   {
    "duration": 7,
    "start_time": "2024-01-19T08:13:18.584Z"
   },
   {
    "duration": 199,
    "start_time": "2024-01-19T08:13:18.593Z"
   },
   {
    "duration": 8,
    "start_time": "2024-01-19T08:13:18.794Z"
   },
   {
    "duration": 473,
    "start_time": "2024-01-19T08:13:18.803Z"
   },
   {
    "duration": 11,
    "start_time": "2024-01-19T08:13:19.278Z"
   },
   {
    "duration": 1198,
    "start_time": "2024-01-19T08:13:19.290Z"
   },
   {
    "duration": 300,
    "start_time": "2024-01-19T08:13:20.490Z"
   },
   {
    "duration": 196,
    "start_time": "2024-01-19T08:13:20.791Z"
   },
   {
    "duration": 210,
    "start_time": "2024-01-19T08:13:20.988Z"
   },
   {
    "duration": 4,
    "start_time": "2024-01-19T08:13:21.200Z"
   },
   {
    "duration": 6,
    "start_time": "2024-01-19T08:13:21.205Z"
   },
   {
    "duration": 27,
    "start_time": "2024-01-19T08:13:21.213Z"
   },
   {
    "duration": 3,
    "start_time": "2024-01-19T08:13:21.241Z"
   },
   {
    "duration": 25,
    "start_time": "2024-01-19T08:13:21.247Z"
   },
   {
    "duration": 19,
    "start_time": "2024-01-19T08:13:21.273Z"
   },
   {
    "duration": 3,
    "start_time": "2024-01-19T08:13:21.294Z"
   },
   {
    "duration": 5,
    "start_time": "2024-01-19T08:13:21.299Z"
   },
   {
    "duration": 11,
    "start_time": "2024-01-19T08:13:21.305Z"
   },
   {
    "duration": 391,
    "start_time": "2024-01-19T08:13:21.317Z"
   },
   {
    "duration": 394,
    "start_time": "2024-01-19T08:13:21.710Z"
   },
   {
    "duration": 9,
    "start_time": "2024-01-19T08:13:22.106Z"
   },
   {
    "duration": 10,
    "start_time": "2024-01-19T08:13:22.116Z"
   },
   {
    "duration": 9,
    "start_time": "2024-01-19T08:13:22.128Z"
   },
   {
    "duration": 32,
    "start_time": "2024-01-19T08:13:22.138Z"
   },
   {
    "duration": 12,
    "start_time": "2024-01-19T08:13:22.172Z"
   },
   {
    "duration": 855,
    "start_time": "2024-01-19T08:13:22.186Z"
   },
   {
    "duration": 24,
    "start_time": "2024-01-19T08:13:23.042Z"
   },
   {
    "duration": 6,
    "start_time": "2024-01-19T08:13:23.067Z"
   },
   {
    "duration": 145,
    "start_time": "2024-01-19T08:13:23.075Z"
   },
   {
    "duration": 8,
    "start_time": "2024-01-19T08:13:23.222Z"
   },
   {
    "duration": 10,
    "start_time": "2024-01-19T08:13:23.232Z"
   },
   {
    "duration": 22,
    "start_time": "2024-01-19T08:13:23.244Z"
   },
   {
    "duration": 9,
    "start_time": "2024-01-19T08:13:23.267Z"
   },
   {
    "duration": 8,
    "start_time": "2024-01-19T08:13:23.278Z"
   },
   {
    "duration": 9,
    "start_time": "2024-01-19T08:13:23.287Z"
   },
   {
    "duration": 6,
    "start_time": "2024-01-19T08:13:23.298Z"
   },
   {
    "duration": 6,
    "start_time": "2024-01-19T08:13:23.305Z"
   },
   {
    "duration": 9,
    "start_time": "2024-01-19T08:13:23.313Z"
   },
   {
    "duration": 41,
    "start_time": "2024-01-19T08:13:23.324Z"
   },
   {
    "duration": 95,
    "start_time": "2024-01-19T08:13:54.913Z"
   },
   {
    "duration": 213,
    "start_time": "2024-01-19T08:13:59.784Z"
   },
   {
    "duration": 2422,
    "start_time": "2024-01-19T08:14:14.818Z"
   },
   {
    "duration": 1219,
    "start_time": "2024-01-19T08:14:17.242Z"
   },
   {
    "duration": 72,
    "start_time": "2024-01-19T08:14:18.464Z"
   },
   {
    "duration": 51,
    "start_time": "2024-01-19T08:14:18.538Z"
   },
   {
    "duration": 28,
    "start_time": "2024-01-19T08:14:18.591Z"
   },
   {
    "duration": 18,
    "start_time": "2024-01-19T08:14:18.620Z"
   },
   {
    "duration": 27,
    "start_time": "2024-01-19T08:14:18.639Z"
   },
   {
    "duration": 5,
    "start_time": "2024-01-19T08:14:18.668Z"
   },
   {
    "duration": 7,
    "start_time": "2024-01-19T08:14:18.675Z"
   },
   {
    "duration": 173,
    "start_time": "2024-01-19T08:14:18.684Z"
   },
   {
    "duration": 8,
    "start_time": "2024-01-19T08:14:18.858Z"
   },
   {
    "duration": 245,
    "start_time": "2024-01-19T08:14:18.868Z"
   },
   {
    "duration": 5,
    "start_time": "2024-01-19T08:14:19.114Z"
   },
   {
    "duration": 133,
    "start_time": "2024-01-19T08:14:19.120Z"
   },
   {
    "duration": 15,
    "start_time": "2024-01-19T08:14:19.254Z"
   },
   {
    "duration": 178,
    "start_time": "2024-01-19T08:14:19.270Z"
   },
   {
    "duration": 18,
    "start_time": "2024-01-19T08:14:19.449Z"
   },
   {
    "duration": 397,
    "start_time": "2024-01-19T08:14:19.468Z"
   },
   {
    "duration": 8,
    "start_time": "2024-01-19T08:14:19.867Z"
   },
   {
    "duration": 642,
    "start_time": "2024-01-19T08:14:19.876Z"
   },
   {
    "duration": 141,
    "start_time": "2024-01-19T08:14:20.519Z"
   },
   {
    "duration": 131,
    "start_time": "2024-01-19T08:14:20.661Z"
   },
   {
    "duration": 219,
    "start_time": "2024-01-19T08:14:20.793Z"
   },
   {
    "duration": 4,
    "start_time": "2024-01-19T08:14:21.015Z"
   },
   {
    "duration": 8,
    "start_time": "2024-01-19T08:14:21.020Z"
   },
   {
    "duration": 39,
    "start_time": "2024-01-19T08:14:21.029Z"
   },
   {
    "duration": 3,
    "start_time": "2024-01-19T08:14:21.070Z"
   },
   {
    "duration": 8,
    "start_time": "2024-01-19T08:14:21.077Z"
   },
   {
    "duration": 20,
    "start_time": "2024-01-19T08:14:21.086Z"
   },
   {
    "duration": 3,
    "start_time": "2024-01-19T08:14:21.108Z"
   },
   {
    "duration": 4,
    "start_time": "2024-01-19T08:14:21.112Z"
   },
   {
    "duration": 16,
    "start_time": "2024-01-19T08:14:21.117Z"
   },
   {
    "duration": 411,
    "start_time": "2024-01-19T08:14:21.134Z"
   },
   {
    "duration": 390,
    "start_time": "2024-01-19T08:14:21.547Z"
   },
   {
    "duration": 8,
    "start_time": "2024-01-19T08:14:21.939Z"
   },
   {
    "duration": 21,
    "start_time": "2024-01-19T08:14:21.948Z"
   },
   {
    "duration": 7,
    "start_time": "2024-01-19T08:14:21.971Z"
   },
   {
    "duration": 7,
    "start_time": "2024-01-19T08:14:21.980Z"
   },
   {
    "duration": 13,
    "start_time": "2024-01-19T08:14:21.989Z"
   },
   {
    "duration": 847,
    "start_time": "2024-01-19T08:14:22.003Z"
   },
   {
    "duration": 24,
    "start_time": "2024-01-19T08:14:22.852Z"
   },
   {
    "duration": 7,
    "start_time": "2024-01-19T08:14:22.877Z"
   },
   {
    "duration": 141,
    "start_time": "2024-01-19T08:14:22.885Z"
   },
   {
    "duration": 8,
    "start_time": "2024-01-19T08:14:23.027Z"
   },
   {
    "duration": 7,
    "start_time": "2024-01-19T08:14:23.036Z"
   },
   {
    "duration": 21,
    "start_time": "2024-01-19T08:14:23.044Z"
   },
   {
    "duration": 5,
    "start_time": "2024-01-19T08:14:23.067Z"
   },
   {
    "duration": 6,
    "start_time": "2024-01-19T08:14:23.073Z"
   },
   {
    "duration": 7,
    "start_time": "2024-01-19T08:14:23.080Z"
   },
   {
    "duration": 5,
    "start_time": "2024-01-19T08:14:23.088Z"
   },
   {
    "duration": 5,
    "start_time": "2024-01-19T08:14:23.094Z"
   },
   {
    "duration": 11,
    "start_time": "2024-01-19T08:14:23.100Z"
   },
   {
    "duration": 7,
    "start_time": "2024-01-19T08:14:23.112Z"
   }
  ],
  "kernelspec": {
   "display_name": "Python 3 (ipykernel)",
   "language": "python",
   "name": "python3"
  },
  "language_info": {
   "codemirror_mode": {
    "name": "ipython",
    "version": 3
   },
   "file_extension": ".py",
   "mimetype": "text/x-python",
   "name": "python",
   "nbconvert_exporter": "python",
   "pygments_lexer": "ipython3",
   "version": "3.9.5"
  },
  "toc": {
   "base_numbering": 1,
   "nav_menu": {},
   "number_sections": true,
   "sideBar": true,
   "skip_h1_title": true,
   "title_cell": "Table of Contents",
   "title_sidebar": "Contents",
   "toc_cell": false,
   "toc_position": {
    "height": "calc(100% - 180px)",
    "left": "10px",
    "top": "150px",
    "width": "232.396px"
   },
   "toc_section_display": true,
   "toc_window_display": true
  }
 },
 "nbformat": 4,
 "nbformat_minor": 5
}
